{
 "cells": [
  {
   "cell_type": "code",
   "execution_count": 1,
   "id": "bc6d5c3d",
   "metadata": {},
   "outputs": [
    {
     "data": {
      "text/html": [
       "<link href='https://fonts.googleapis.com/css?family=Alegreya+Sans:100,300,400,500,700,800,900,100italic,300italic,400italic,500italic,700italic,800italic,900italic' rel='stylesheet' type='text/css'>\r\n",
       "<link href='https://fonts.googleapis.com/css?family=Arvo:400,700,400italic' rel='stylesheet' type='text/css'>\r\n",
       "<link href='https://fonts.googleapis.com/css?family=PT+Mono' rel='stylesheet' type='text/css'>\r\n",
       "<link href='https://fonts.googleapis.com/css?family=Shadows+Into+Light' rel='stylesheet' type='text/css'>\r\n",
       "<link href='https://fonts.googleapis.com/css?family=Philosopher:400,700,400italic,700italic' rel='stylesheet' type='text/css'>\r\n",
       "\r\n",
       "<style>\r\n",
       "\r\n",
       "@font-face {\r\n",
       "    font-family: \"Computer Modern\";\r\n",
       "    src: url('https://mirrors.ctan.org/fonts/cm-unicode/fonts/otf/cmunss.otf');\r\n",
       "}\r\n",
       "\r\n",
       ".container { width: 100% }\r\n",
       "\r\n",
       "/* Formatting for header cells */\r\n",
       ".text_cell_render h1 {\r\n",
       "    font-family: 'Philosopher', sans-serif;\r\n",
       "    font-weight: 400;\r\n",
       "    font-size: 2.2em;\r\n",
       "    line-height: 100%;\r\n",
       "    color: rgb(0, 80, 120);\r\n",
       "    margin-bottom: 0.1em;\r\n",
       "    margin-top: 0.1em;\r\n",
       "    display: block;\r\n",
       "}\t\r\n",
       ".text_cell_render h2 {\r\n",
       "    font-family: 'Philosopher', serif;\r\n",
       "    font-weight: 400;\r\n",
       "    font-size: 1.9em;\r\n",
       "    line-height: 100%;\r\n",
       "    color: rgb(200,100,0);\r\n",
       "    margin-bottom: 0.1em;\r\n",
       "    margin-top: 0.1em;\r\n",
       "    display: block;\r\n",
       "}\t\r\n",
       "\r\n",
       ".text_cell_render h3 {\r\n",
       "    font-family: 'Philosopher', serif;\r\n",
       "    margin-top:12px;\r\n",
       "    margin-bottom: 3px;\r\n",
       "    font-style: italic;\r\n",
       "    color: rgb(94,127,192);\r\n",
       "}\r\n",
       "\r\n",
       ".text_cell_render h4 {\r\n",
       "    font-family: 'Philosopher', serif;\r\n",
       "}\r\n",
       "\r\n",
       ".text_cell_render h5 {\r\n",
       "    font-family: 'Alegreya Sans', sans-serif;\r\n",
       "    font-weight: 300;\r\n",
       "    font-size: 16pt;\r\n",
       "    color: grey;\r\n",
       "    font-style: italic;\r\n",
       "    margin-bottom: .1em;\r\n",
       "    margin-top: 0.1em;\r\n",
       "    display: block;\r\n",
       "}\r\n",
       "\r\n",
       ".text_cell_render h6 {\r\n",
       "    font-family: 'PT Mono', sans-serif;\r\n",
       "    font-weight: 300;\r\n",
       "    font-size: 10pt;\r\n",
       "    color: grey;\r\n",
       "    margin-bottom: 1px;\r\n",
       "    margin-top: 1px;\r\n",
       "}\r\n",
       "\r\n",
       ".text_cell_render em {\r\n",
       "    font-family: 'Philosopher', sans-serif;\r\n",
       "    color:        blue;\r\n",
       "    background-color: rgb(255,220,180);\r\n",
       "    font-size:    110%;\r\n",
       "    margin-left:   2px;\r\n",
       "    margin-right:  2px;\r\n",
       "    font-weight:   100;\r\n",
       "}\r\n",
       "\r\n",
       ".text_cell_render b {\r\n",
       "    color:            rgb(255,195,195);\r\n",
       "    background-color: rgb(0,0,0);\r\n",
       "    font-size:    110%;\r\n",
       "    margin-left:   2px;\r\n",
       "    margin-right:  2px;\r\n",
       "    font-weight:   650;\r\n",
       "}\r\n",
       "\r\n",
       ".text_cell_render tt {\r\n",
       "    font-size:    120%;\r\n",
       "    margin-left:   2px;\r\n",
       "    margin-right:  2px;\r\n",
       "    font-weight:   150;\r\n",
       "}\r\n",
       "\r\n",
       ".Codemirror {\r\n",
       "    font-family: \"PT Mono\", sans-serif;\r\n",
       "    font-size: 100%;\r\n",
       "}\r\n",
       "\r\n",
       "</style>"
      ],
      "text/plain": [
       "HTML{String}(\"<link href='https://fonts.googleapis.com/css?family=Alegreya+Sans:100,300,400,500,700,800,900,100italic,300italic,400italic,500italic,700italic,800italic,900italic' rel='stylesheet' type='text/css'>\\r\\n<link href='https://fonts.googleapis.com/css?family=Arvo:400,700,400italic' rel='stylesheet' type='text/css'>\\r\\n<link href='https://fonts.googleapis.com/css?family=PT+Mono' rel='stylesheet' type='text/css'>\\r\\n<link href='https://fonts.googleapis.com/css?family=Shadows+Into+Light' rel='stylesheet' type='text/css'>\\r\\n<link href='https://fonts.googleapis.com/css?family=Philosopher:400,700,400italic,700italic' rel='stylesheet' type='text/css'>\\r\\n\\r\\n<style>\\r\\n\\r\\n@font-face {\\r\\n    font-family: \\\"Computer Modern\\\";\\r\\n    src: url('https://mirrors.ctan.org/fonts/cm-unicode/fonts/otf/cmunss.otf');\\r\\n}\\r\\n\\r\\n.container { width: 100% }\\r\\n\\r\\n/* Formatting for header cells */\\r\\n.text_cell_render h1 {\\r\\n    font-family: 'Philosopher', sans-serif;\\r\\n    font-weight: 400;\\r\\n    font-size: 2.2em;\\r\\n    line-height: 100%;\\r\\n    color: rgb(0, 80, 120);\\r\\n    margin-bottom: 0.1em;\\r\\n    margin-top: 0.1em;\\r\\n    display: block;\\r\\n}\\t\\r\\n.text_cell_render h2 {\\r\\n    font-family: 'Philosopher', serif;\\r\\n    font-weight: 400;\\r\\n    font-size: 1.9em;\\r\\n    line-height: 100%;\\r\\n    color: rgb(200,100,0);\\r\\n    margin-bottom: 0.1em;\\r\\n    margin-top: 0.1em;\\r\\n    display: block;\\r\\n}\\t\\r\\n\\r\\n.text_cell_render h3 {\\r\\n    font-family: 'Philosopher', serif;\\r\\n    margin-top:12px;\\r\\n    margin-bottom: 3px;\\r\\n    font-style: italic;\\r\\n    color: rgb(94,127,192);\\r\\n}\\r\\n\\r\\n.text_cell_render h4 {\\r\\n    font-family: 'Philosopher', serif;\\r\\n}\\r\\n\\r\\n.text_cell_render h5 {\\r\\n    font-family: 'Alegreya Sans', sans-serif;\\r\\n    font-weight: 300;\\r\\n    font-size: 16pt;\\r\\n    color: grey;\\r\\n    font-style: italic;\\r\\n    margin-bottom: .1em;\\r\\n    margin-top: 0.1em;\\r\\n    display: block;\\r\\n}\\r\\n\\r\\n.text_cell_render h6 {\\r\\n    font-family: 'PT Mono', sans-serif;\\r\\n    font-weight: 300;\\r\\n    font-size: 10pt;\\r\\n    color: grey;\\r\\n    margin-bottom: 1px;\\r\\n    margin-top: 1px;\\r\\n}\\r\\n\\r\\n.text_cell_render em {\\r\\n    font-family: 'Philosopher', sans-serif;\\r\\n    color:        blue;\\r\\n    background-color: rgb(255,220,180);\\r\\n    font-size:    110%;\\r\\n    margin-left:   2px;\\r\\n    margin-right:  2px;\\r\\n    font-weight:   100;\\r\\n}\\r\\n\\r\\n.text_cell_render b {\\r\\n    color:            rgb(255,195,195);\\r\\n    background-color: rgb(0,0,0);\\r\\n    font-size:    110%;\\r\\n    margin-left:   2px;\\r\\n    margin-right:  2px;\\r\\n    font-weight:   650;\\r\\n}\\r\\n\\r\\n.text_cell_render tt {\\r\\n    font-size:    120%;\\r\\n    margin-left:   2px;\\r\\n    margin-right:  2px;\\r\\n    font-weight:   150;\\r\\n}\\r\\n\\r\\n.Codemirror {\\r\\n    font-family: \\\"PT Mono\\\", sans-serif;\\r\\n    font-size: 100%;\\r\\n}\\r\\n\\r\\n</style>\")"
      ]
     },
     "execution_count": 1,
     "metadata": {},
     "output_type": "execute_result"
    }
   ],
   "source": [
    "HTML(read(open(\"style.html\"), String))"
   ]
  },
  {
   "cell_type": "code",
   "execution_count": null,
   "id": "9ca13e3c",
   "metadata": {},
   "outputs": [],
   "source": [
    "include(\"silent.jl\")"
   ]
  },
  {
   "cell_type": "code",
   "execution_count": 2,
   "id": "364110fe",
   "metadata": {},
   "outputs": [],
   "source": [
    "using Pkg\n",
    "@silent Pkg.add(\"NBInclude\")\n",
    "using NBInclude"
   ]
  },
  {
   "cell_type": "code",
   "execution_count": 3,
   "id": "e15c4271",
   "metadata": {},
   "outputs": [
    {
     "data": {
      "text/plain": [
       "alphaBetaPruningAll (generic function with 1 method)"
      ]
     },
     "execution_count": 3,
     "metadata": {},
     "output_type": "execute_result"
    }
   ],
   "source": [
    "@nbinclude \"5.0 - Alpha-Beta-Pruning.ipynb\""
   ]
  },
  {
   "cell_type": "markdown",
   "id": "2150c6c4",
   "metadata": {},
   "source": [
    "***"
   ]
  },
  {
   "cell_type": "markdown",
   "id": "df810910",
   "metadata": {},
   "source": [
    "# AB*AI - Generation 4\n",
    "\n",
    "Die vierte Generation der Schach-KI nutzt die implementierte Alpha-Beta-Suche für die Berechnung des bestmöglichen Zuges. Ihr wird die Suchtiefe als Argument übergeben.\n",
    "\n",
    "Die Strukturen `AB*AllAI` wählen aus allen bestmöglichen Zügen zufällig einen Zug aus. Durch die zufällige Auswahl wird ein deterministisches Verhalten verhindert. Die KIs sind jedoch langsamer als ihre Alternativ-Versionen (`AB*OneAI`), da diese für jeden möglichen Zug eine zusätzliche Alpha-Beta-Suche durchführen.\n",
    "\n",
    "Die Struktured `AB*OneAI` wählen den ersten gefundenen bestmöglichen Zug aus. Dadurch wird ein deterministisches Verhalten verursacht. Dieses beruht auf der deterministischen Reihenfolge der Zugliste der `Chess.jl` Bibliothek. Während die KIs somit eine voraussehbare Spielweise aufweisen, ist die Evaluierung des nächsten Zuges deutlich schneller, da im Gegensatz zur `AB*AllAI` die Alpha-Beta-Suche nur einmal durchgeführt werden muss."
   ]
  },
  {
   "cell_type": "code",
   "execution_count": 4,
   "id": "48d9e383",
   "metadata": {},
   "outputs": [],
   "source": [
    "struct ABOneAI \n",
    "    depth::Int64\n",
    "end"
   ]
  },
  {
   "cell_type": "markdown",
   "id": "7fda19b6",
   "metadata": {},
   "source": [
    "Um dieser Anforderung gerecht zu werden, definieren wir die folgende Funktion `getNextMove`:\n",
    "<br>\n",
    "\n",
    "**Input:**\n",
    "+ ai &rarr; die ABOneAI\n",
    "+ extboard &rarr; das Spielbrett\n",
    "+ log &rarr; die zu verwendende Log-Funktion\n",
    "+ _... &rarr; ein Platzhalter, der es ermöglicht weitere Parameter mitzugeben \n",
    "\n",
    "**Output:**\n",
    "+ move &rarr; ein Zug, der erste gefundene bestmögliche Zug\n",
    "+ score &rarr; der Score des Zuges"
   ]
  },
  {
   "cell_type": "code",
   "execution_count": 5,
   "id": "b364be3d",
   "metadata": {},
   "outputs": [
    {
     "data": {
      "text/plain": [
       "getNextMove (generic function with 1 method)"
      ]
     },
     "execution_count": 5,
     "metadata": {},
     "output_type": "execute_result"
    }
   ],
   "source": [
    "function getNextMove(ai::ABOneAI, extboard::ExtendedBoard, log::Function, _...)::Tuple{Chess.Move, Int32}\n",
    "    score, move = alphabetaOne(extboard, ai.depth, log)\n",
    "    return move, score\n",
    "end"
   ]
  },
  {
   "cell_type": "code",
   "execution_count": 6,
   "id": "2dd87d27",
   "metadata": {},
   "outputs": [],
   "source": [
    "struct ABAllAI \n",
    "    depth::Int64\n",
    "end"
   ]
  },
  {
   "cell_type": "markdown",
   "id": "8e90be78",
   "metadata": {},
   "source": [
    "Um dieser Anforderung gerecht zu werden, definieren wir die folgende Funktion `getNextMove`:\n",
    "<br>\n",
    "\n",
    "**Input:**\n",
    "+ ai &rarr; die ABAllAI\n",
    "+ extboard &rarr; das Spielbrett\n",
    "+ log &rarr; die zu verwendende Log-Funktion\n",
    "+ _... &rarr; ein Platzhalter, der es ermöglicht weitere Parameter mitzugeben \n",
    "\n",
    "**Output:**\n",
    "+ move &rarr; ein Zug, zufällig gewählt aus allen bestmöglichen Zügen\n",
    "+ score &rarr; der Score des Zuges"
   ]
  },
  {
   "cell_type": "code",
   "execution_count": 7,
   "id": "37535fa1",
   "metadata": {},
   "outputs": [
    {
     "data": {
      "text/plain": [
       "getNextMove (generic function with 2 methods)"
      ]
     },
     "execution_count": 7,
     "metadata": {},
     "output_type": "execute_result"
    }
   ],
   "source": [
    "function getNextMove(ai::ABAllAI, extboard::ExtendedBoard, log::Function, _...)::Tuple{Chess.Move, Int32}\n",
    "    score, moves = alphabetaAll(extboard, ai.depth, log)\n",
    "    return rand(moves), score\n",
    "end"
   ]
  },
  {
   "cell_type": "code",
   "execution_count": null,
   "id": "492f2f33",
   "metadata": {},
   "outputs": [],
   "source": [
    "struct ABMemoOneAI \n",
    "    depth::Int64\n",
    "end"
   ]
  },
  {
   "cell_type": "markdown",
   "id": "cf63d7ef",
   "metadata": {},
   "source": [
    "Um dieser Anforderung gerecht zu werden, definieren wir die folgende Funktion `getNextMove`:\n",
    "<br>\n",
    "\n",
    "**Input:**\n",
    "+ ai &rarr; die ABMemoOneAI\n",
    "+ extboard &rarr; das Spielbrett\n",
    "+ log &rarr; die zu verwendende Log-Funktion\n",
    "+ _... &rarr; ein Platzhalter, der es ermöglicht weitere Parameter mitzugeben \n",
    "\n",
    "**Output:**\n",
    "+ move &rarr; ein Zug, der erste gefundene bestmögliche Zug\n",
    "+ score &rarr; der Score des Zuges"
   ]
  },
  {
   "cell_type": "code",
   "execution_count": null,
   "id": "54cdf78b",
   "metadata": {},
   "outputs": [],
   "source": [
    "function getNextMove(ai::ABMemoOneAI, extboard::ExtendedBoard, log::Function, _...)::Tuple{Chess.Move, Int32}\n",
    "    score, move = alphabetaMemoOne(extboard, ai.depth, log)\n",
    "    return move, score\n",
    "end"
   ]
  },
  {
   "cell_type": "code",
   "execution_count": null,
   "id": "e80fc1b3",
   "metadata": {},
   "outputs": [],
   "source": [
    "struct ABMemoAllAI \n",
    "    depth::Int64\n",
    "end"
   ]
  },
  {
   "cell_type": "markdown",
   "id": "67856886",
   "metadata": {},
   "source": [
    "Um dieser Anforderung gerecht zu werden, definieren wir die folgende Funktion `getNextMove`:\n",
    "<br>\n",
    "\n",
    "**Input:**\n",
    "+ ai &rarr; die ABMemoAllAI\n",
    "+ extboard &rarr; das Spielbrett\n",
    "+ log &rarr; die zu verwendende Log-Funktion\n",
    "+ _... &rarr; ein Platzhalter, der es ermöglicht weitere Parameter mitzugeben \n",
    "\n",
    "**Output:**\n",
    "+ move &rarr; ein Zug, zufällig gewählt aus allen bestmöglichen Zügen\n",
    "+ score &rarr; der Score des Zuges"
   ]
  },
  {
   "cell_type": "code",
   "execution_count": null,
   "id": "fa004033",
   "metadata": {},
   "outputs": [],
   "source": [
    "function getNextMove(ai::ABMemoAllAI, extboard::ExtendedBoard, log::Function, _...)::Tuple{Chess.Move, Int32}\n",
    "    score, moves = alphabetaMemoAll(extboard, ai.depth, log)\n",
    "    return rand(moves), score\n",
    "end"
   ]
  },
  {
   "cell_type": "markdown",
   "id": "01bd82d0",
   "metadata": {},
   "source": [
    "***"
   ]
  }
 ],
 "metadata": {
  "kernelspec": {
   "display_name": "Julia 1.8.5",
   "language": "julia",
   "name": "julia-1.8"
  },
  "language_info": {
   "file_extension": ".jl",
   "mimetype": "application/julia",
   "name": "julia",
   "version": "1.8.5"
  }
 },
 "nbformat": 4,
 "nbformat_minor": 5
}
