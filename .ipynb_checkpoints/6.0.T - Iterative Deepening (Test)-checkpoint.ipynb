{
 "cells": [
  {
   "cell_type": "code",
   "execution_count": 1,
   "id": "54b60f11",
   "metadata": {},
   "outputs": [
    {
     "data": {
      "text/html": [
       "<link href='https://fonts.googleapis.com/css?family=Alegreya+Sans:100,300,400,500,700,800,900,100italic,300italic,400italic,500italic,700italic,800italic,900italic' rel='stylesheet' type='text/css'>\r\n",
       "<link href='https://fonts.googleapis.com/css?family=Arvo:400,700,400italic' rel='stylesheet' type='text/css'>\r\n",
       "<link href='https://fonts.googleapis.com/css?family=PT+Mono' rel='stylesheet' type='text/css'>\r\n",
       "<link href='https://fonts.googleapis.com/css?family=Shadows+Into+Light' rel='stylesheet' type='text/css'>\r\n",
       "<link href='https://fonts.googleapis.com/css?family=Philosopher:400,700,400italic,700italic' rel='stylesheet' type='text/css'>\r\n",
       "\r\n",
       "<style>\r\n",
       "\r\n",
       "@font-face {\r\n",
       "    font-family: \"Computer Modern\";\r\n",
       "    src: url('https://mirrors.ctan.org/fonts/cm-unicode/fonts/otf/cmunss.otf');\r\n",
       "}\r\n",
       "\r\n",
       ".container { width: 100% }\r\n",
       "\r\n",
       "/* Formatting for header cells */\r\n",
       ".text_cell_render h1 {\r\n",
       "    font-family: 'Philosopher', sans-serif;\r\n",
       "    font-weight: 400;\r\n",
       "    font-size: 2.2em;\r\n",
       "    line-height: 100%;\r\n",
       "    color: rgb(0, 80, 120);\r\n",
       "    margin-bottom: 0.1em;\r\n",
       "    margin-top: 0.1em;\r\n",
       "    display: block;\r\n",
       "}\t\r\n",
       ".text_cell_render h2 {\r\n",
       "    font-family: 'Philosopher', serif;\r\n",
       "    font-weight: 400;\r\n",
       "    font-size: 1.9em;\r\n",
       "    line-height: 100%;\r\n",
       "    color: rgb(200,100,0);\r\n",
       "    margin-bottom: 0.1em;\r\n",
       "    margin-top: 0.1em;\r\n",
       "    display: block;\r\n",
       "}\t\r\n",
       "\r\n",
       ".text_cell_render h3 {\r\n",
       "    font-family: 'Philosopher', serif;\r\n",
       "    margin-top:12px;\r\n",
       "    margin-bottom: 3px;\r\n",
       "    font-style: italic;\r\n",
       "    color: rgb(94,127,192);\r\n",
       "}\r\n",
       "\r\n",
       ".text_cell_render h4 {\r\n",
       "    font-family: 'Philosopher', serif;\r\n",
       "}\r\n",
       "\r\n",
       ".text_cell_render h5 {\r\n",
       "    font-family: 'Alegreya Sans', sans-serif;\r\n",
       "    font-weight: 300;\r\n",
       "    font-size: 16pt;\r\n",
       "    color: grey;\r\n",
       "    font-style: italic;\r\n",
       "    margin-bottom: .1em;\r\n",
       "    margin-top: 0.1em;\r\n",
       "    display: block;\r\n",
       "}\r\n",
       "\r\n",
       ".text_cell_render h6 {\r\n",
       "    font-family: 'PT Mono', sans-serif;\r\n",
       "    font-weight: 300;\r\n",
       "    font-size: 10pt;\r\n",
       "    color: grey;\r\n",
       "    margin-bottom: 1px;\r\n",
       "    margin-top: 1px;\r\n",
       "}\r\n",
       "\r\n",
       ".text_cell_render em {\r\n",
       "    font-family: 'Philosopher', sans-serif;\r\n",
       "    color:        blue;\r\n",
       "    background-color: rgb(255,220,180);\r\n",
       "    font-size:    110%;\r\n",
       "    margin-left:   2px;\r\n",
       "    margin-right:  2px;\r\n",
       "    font-weight:   100;\r\n",
       "}\r\n",
       "\r\n",
       ".text_cell_render b {\r\n",
       "    color:            rgb(255,195,195);\r\n",
       "    background-color: rgb(0,0,0);\r\n",
       "    font-size:    110%;\r\n",
       "    margin-left:   2px;\r\n",
       "    margin-right:  2px;\r\n",
       "    font-weight:   650;\r\n",
       "}\r\n",
       "\r\n",
       ".text_cell_render tt {\r\n",
       "    font-size:    120%;\r\n",
       "    margin-left:   2px;\r\n",
       "    margin-right:  2px;\r\n",
       "    font-weight:   150;\r\n",
       "}\r\n",
       "\r\n",
       ".Codemirror {\r\n",
       "    font-family: \"PT Mono\", sans-serif;\r\n",
       "    font-size: 100%;\r\n",
       "}\r\n",
       "\r\n",
       "</style>"
      ],
      "text/plain": [
       "HTML{String}(\"<link href='https://fonts.googleapis.com/css?family=Alegreya+Sans:100,300,400,500,700,800,900,100italic,300italic,400italic,500italic,700italic,800italic,900italic' rel='stylesheet' type='text/css'>\\r\\n<link href='https://fonts.googleapis.com/css?family=Arvo:400,700,400italic' rel='stylesheet' type='text/css'>\\r\\n<link href='https://fonts.googleapis.com/css?family=PT+Mono' rel='stylesheet' type='text/css'>\\r\\n<link href='https://fonts.googleapis.com/css?family=Shadows+Into+Light' rel='stylesheet' type='text/css'>\\r\\n<link href='https://fonts.googleapis.com/css?family=Philosopher:400,700,400italic,700italic' rel='stylesheet' type='text/css'>\\r\\n\\r\\n<style>\\r\\n\\r\\n@font-face {\\r\\n    font-family: \\\"Computer Modern\\\";\\r\\n    src: url('https://mirrors.ctan.org/fonts/cm-unicode/fonts/otf/cmunss.otf');\\r\\n}\\r\\n\\r\\n.container { width: 100% }\\r\\n\\r\\n/* Formatting for header cells */\\r\\n.text_cell_render h1 {\\r\\n    font-family: 'Philosopher', sans-serif;\\r\\n    font-weight: 400;\\r\\n    font-size: 2.2em;\\r\\n    line-height: 100%;\\r\\n    color: rgb(0, 80, 120);\\r\\n    margin-bottom: 0.1em;\\r\\n    margin-top: 0.1em;\\r\\n    display: block;\\r\\n}\\t\\r\\n.text_cell_render h2 {\\r\\n    font-family: 'Philosopher', serif;\\r\\n    font-weight: 400;\\r\\n    font-size: 1.9em;\\r\\n    line-height: 100%;\\r\\n    color: rgb(200,100,0);\\r\\n    margin-bottom: 0.1em;\\r\\n    margin-top: 0.1em;\\r\\n    display: block;\\r\\n}\\t\\r\\n\\r\\n.text_cell_render h3 {\\r\\n    font-family: 'Philosopher', serif;\\r\\n    margin-top:12px;\\r\\n    margin-bottom: 3px;\\r\\n    font-style: italic;\\r\\n    color: rgb(94,127,192);\\r\\n}\\r\\n\\r\\n.text_cell_render h4 {\\r\\n    font-family: 'Philosopher', serif;\\r\\n}\\r\\n\\r\\n.text_cell_render h5 {\\r\\n    font-family: 'Alegreya Sans', sans-serif;\\r\\n    font-weight: 300;\\r\\n    font-size: 16pt;\\r\\n    color: grey;\\r\\n    font-style: italic;\\r\\n    margin-bottom: .1em;\\r\\n    margin-top: 0.1em;\\r\\n    display: block;\\r\\n}\\r\\n\\r\\n.text_cell_render h6 {\\r\\n    font-family: 'PT Mono', sans-serif;\\r\\n    font-weight: 300;\\r\\n    font-size: 10pt;\\r\\n    color: grey;\\r\\n    margin-bottom: 1px;\\r\\n    margin-top: 1px;\\r\\n}\\r\\n\\r\\n.text_cell_render em {\\r\\n    font-family: 'Philosopher', sans-serif;\\r\\n    color:        blue;\\r\\n    background-color: rgb(255,220,180);\\r\\n    font-size:    110%;\\r\\n    margin-left:   2px;\\r\\n    margin-right:  2px;\\r\\n    font-weight:   100;\\r\\n}\\r\\n\\r\\n.text_cell_render b {\\r\\n    color:            rgb(255,195,195);\\r\\n    background-color: rgb(0,0,0);\\r\\n    font-size:    110%;\\r\\n    margin-left:   2px;\\r\\n    margin-right:  2px;\\r\\n    font-weight:   650;\\r\\n}\\r\\n\\r\\n.text_cell_render tt {\\r\\n    font-size:    120%;\\r\\n    margin-left:   2px;\\r\\n    margin-right:  2px;\\r\\n    font-weight:   150;\\r\\n}\\r\\n\\r\\n.Codemirror {\\r\\n    font-family: \\\"PT Mono\\\", sans-serif;\\r\\n    font-size: 100%;\\r\\n}\\r\\n\\r\\n</style>\")"
      ]
     },
     "execution_count": 1,
     "metadata": {},
     "output_type": "execute_result"
    }
   ],
   "source": [
    "HTML(read(open(\"style.html\"), String))"
   ]
  },
  {
   "cell_type": "code",
   "execution_count": 1,
   "id": "7e5d7261",
   "metadata": {
    "scrolled": true
   },
   "outputs": [
    {
     "data": {
      "text/plain": [
       "@silent (macro with 1 method)"
      ]
     },
     "execution_count": 1,
     "metadata": {},
     "output_type": "execute_result"
    }
   ],
   "source": [
    "include(\"silent.jl\")"
   ]
  },
  {
   "cell_type": "code",
   "execution_count": 2,
   "id": "5ee7b20d",
   "metadata": {},
   "outputs": [],
   "source": [
    "using Pkg\n",
    "@silent Pkg.add(\"NBInclude\")\n",
    "using NBInclude"
   ]
  },
  {
   "cell_type": "code",
   "execution_count": 39,
   "id": "6edb0626",
   "metadata": {},
   "outputs": [
    {
     "data": {
      "text/plain": [
       "getNextMove (generic function with 6 methods)"
      ]
     },
     "execution_count": 39,
     "metadata": {},
     "output_type": "execute_result"
    }
   ],
   "source": [
    "@nbinclude \"2.0 - Gameplay.ipynb\"\n",
    "@nbinclude \"3.1 - Evaluation.ipynb\"\n",
    "@nbinclude \"5.1 - Alpha-Beta-Pruning AI.ipynb\"\n",
    "@nbinclude \"6.0 - Iterative Deepening.ipynb\""
   ]
  },
  {
   "cell_type": "markdown",
   "id": "605a5279",
   "metadata": {},
   "source": [
    "***"
   ]
  },
  {
   "cell_type": "markdown",
   "id": "3a043cf0",
   "metadata": {},
   "source": [
    "Bei [`Chess.com`](https://www.chess.com/) gibt es die Möglichkeit, gegen einen Computer zu spielen. Dieser Computer ist in der Lage, die Spielstärke an die des Spielers anzupassen. Das heißt, dass der Computer nicht immer gleich gut spielt, sondern sich an die Spielstärke des Spielers anpasst. In diesem Fall wurde der Computer auf eine Spielstärke von `1300` bzw. `1500`  eingestellt. Der Spielaufbau sieht aus wie folgt:\n",
    "+ KI:\n",
    "    + Weiß: Der Spieler aka die Chess.com KI der Stärke `1300` bzw. `1500`\n",
    "    + Schwarz: Die Julia KI\n",
    "\n",
    "+ Chess.com:\n",
    "    + Weiß: die Chess.com KI der Stärke `1300` bzw. `1500`\n",
    "    + Schwarz: der Spieler aka die Julia KI\n",
    "\n",
    "Die Züge der beiden KIs werden anschließend von Hand auf der Website / der Julia-KI eingegeben. Jedes Spiel wird bis zum Ende gespielt. Das Ergebnis wird mit allen Zügen in einer PGN-Datei gespeichert. \n",
    "\n",
    "Zur besseren Übersicht wurden die PNGs in diesem Notebook notiert."
   ]
  },
  {
   "cell_type": "markdown",
   "id": "5aeb4c54",
   "metadata": {},
   "source": [
    "## Test-Spiele"
   ]
  },
  {
   "cell_type": "markdown",
   "id": "fb6f3ff2",
   "metadata": {},
   "source": [
    "<table style=\"width: 100%\">\n",
    "    <tr>\n",
    "        <th style=\"width: 100px\">Stärke</th>\n",
    "        <th style=\"width: 100px\">Ergebnis</th>\n",
    "        <th>PGN</th>\n",
    "    </tr>\n",
    "    <tr>\n",
    "        <td>1300</td>\n",
    "        <td>Sieg</td>\n",
    "        <td>1. e4 Nc6 2. Qh5 Nf6 3. Qf3 e5 4. d3 Nd4 5. Qd1 Bd6 6. Qd2 Bb4 7. c3 Ba5 8. b3 Nc6 9. b4 Bb6 10. b5 Ne7 11. Nf3 d6 12. a4 Bg4 13. a5 Bc5 14. c4 h6 15. Nc3 Bxf3 16. gxf3 Bd4 17. Rg1 Kf8 18. Bh3 Kg8 19. Ra4 c6 20. Ra2 cxb5 21. cxb5 Bc5 22. Ke2 Bb4 23. a6 Qc7 24. axb7 Rb8 25. Rxa7 Bxc3 26. Qc2 Qb6 27. Qxc3 Qxa7 28. Qc4 Rxb7 29. Be3 Qa3 30. b6 Qb2+ 31. Ke1 Qb1+ 32. Ke2 Qxg1 33. Qa4 Rb8 34. Qa2 Qxh2 35. Bf1 Qh1 36. Qa7 Re8 37. Qc7 d5 38. Qxe5 dxe4 39. fxe4 Ned5 40. Qf5 g6 41. Qh3 Nc3+ 42. Ke1 Qxh3 43. Bxh3 Ncxe4 44. dxe4 Nxe4 45. f3 Ng5 46. Kf2 Nxh3+ 47. Ke2 f6 48. Kd3 f5 49. f4 g5 50. fxg5 Rh7 51. gxh6 Rd7+ 52. Ke2 f4 53. b7 Rxe3+ 54. Kf1 Rd1+ 55. Kg2 Rd2+ 56. Kh1 Re1# *</td>\n",
    "    </tr>\n",
    "    <tr>\n",
    "        <td>1300</td>\n",
    "        <td>Sieg</td>\n",
    "        <td>1. e4 Nc6 2. Qh5 Nf6 3. Qf3 e5 4. Nh3 Nd4 5. Qd1 Nxe4 6. Bd3 Nc5 7. Be2 Qh4 8. Bg4 h5 9. Be2 Qe4 10. Rg1 Nxe2 11. Qxe2 Nd3+ 12. cxd3 Qd5 13. Nf4 Qc5 14. Kd1 h4 15. Re1 Bd6 16. Nh5 Kf8 17. Nc3 Qb4 18. Qf3 Kg8 19. Nd5 Qa4+ 20. b3 Qd4 21. h3 Qxa1 22. Re4 Qxa2 23. Rg4 Qxb3+ 24. Ke2 g6 25. Qf6 Rxh5 26. Ke1 Qxd5 27. Bb2 Qxd3 28. Bc3 Bc5 29. Bxe5 Qb1+ 30. Ke2 Bf8 31. f3 d6 32. Rg5 Qb5+ 33. Kd1 Qb3+ 34. Ke2 Qc4+ 35. d3 Qc2+ 36. Kf1 Qxd3+ 37. Kf2 Qd2+ 38. Kf1 Qd1+ 39. Kf2 dxe5 40. Qxe5 Qd2+ 41. Kf1 Rxg5 42. Qh2 Qd1+ 43. Kf2 Bc5# *</td>\n",
    "    </tr>\n",
    "</table>"
   ]
  },
  {
   "cell_type": "markdown",
   "id": "d8dc01d8",
   "metadata": {},
   "source": [
    "***"
   ]
  }
 ],
 "metadata": {
  "kernelspec": {
   "display_name": "Julia 1.8.5",
   "language": "julia",
   "name": "julia-1.8"
  },
  "language_info": {
   "file_extension": ".jl",
   "mimetype": "application/julia",
   "name": "julia",
   "version": "1.8.5"
  }
 },
 "nbformat": 4,
 "nbformat_minor": 5
}
