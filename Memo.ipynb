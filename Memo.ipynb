{
 "cells": [
  {
   "cell_type": "code",
   "execution_count": 1,
   "id": "7bbdf745",
   "metadata": {},
   "outputs": [],
   "source": [
    "import Chess\n",
    "using NBInclude"
   ]
  },
  {
   "cell_type": "code",
   "execution_count": 2,
   "id": "4f3cc16a",
   "metadata": {},
   "outputs": [
    {
     "data": {
      "text/plain": [
       "getNextMove (generic function with 4 methods)"
      ]
     },
     "execution_count": 2,
     "metadata": {},
     "output_type": "execute_result"
    }
   ],
   "source": [
    "@nbinclude \"Values.ipynb\"\n",
    "@nbinclude \"Chess.ipynb\""
   ]
  },
  {
   "cell_type": "code",
   "execution_count": 3,
   "id": "e52c35a5",
   "metadata": {},
   "outputs": [
    {
     "data": {
      "text/plain": [
       "Tuple{Int64, Int32}"
      ]
     },
     "execution_count": 3,
     "metadata": {},
     "output_type": "execute_result"
    }
   ],
   "source": [
    "if !@isdefined(Transposition)\n",
    "    const Transposition = Tuple{Int64, Int32}\n",
    "end"
   ]
  },
  {
   "cell_type": "code",
   "execution_count": 4,
   "id": "9aa9f289",
   "metadata": {},
   "outputs": [
    {
     "data": {
      "text/plain": [
       "getPositionScoreMemo (generic function with 1 method)"
      ]
     },
     "execution_count": 4,
     "metadata": {},
     "output_type": "execute_result"
    }
   ],
   "source": [
    "function getPositionScoreMemo(extboard::ExtendedBoard, func::Function, depth::Int64, transpositions::Dict{UInt64, Transposition})\n",
    "    transposition = get(transpositions, extboard.zobrist.hash, nothing)\n",
    "    if transposition != nothing\n",
    "        tDepth, tScore = transposition\n",
    "        if tDepth >= depth\n",
    "            #global hits += 1\n",
    "            return tScore\n",
    "        end\n",
    "    end\n",
    "    #global misses += 1\n",
    "    tScore = func(extboard, depth - 1, transpositions)\n",
    "    transpositions[extboard.zobrist.hash] = (depth, tScore)\n",
    "    return tScore\n",
    "end"
   ]
  },
  {
   "cell_type": "code",
   "execution_count": 5,
   "id": "89bb7fa7",
   "metadata": {},
   "outputs": [
    {
     "data": {
      "text/plain": [
       "maxMemo (generic function with 1 method)"
      ]
     },
     "execution_count": 5,
     "metadata": {},
     "output_type": "execute_result"
    }
   ],
   "source": [
    "function maxMemo(extboard::ExtendedBoard, depth::Int64, transpositions::Dict{UInt64, Transposition})::Int32\n",
    "    legalMoves = Chess.moves(extboard.board)\n",
    "    if length(legalMoves) == 0 || extboard.repetionRuleDraw\n",
    "        return evaluateTerminalPositionScore(extboard.board) - depth\n",
    "    elseif depth == 0\n",
    "        return extboard.score\n",
    "    end\n",
    "    maxValue = typemin(Int32)\n",
    "    for move ∈ legalMoves\n",
    "        undo = domove!(extboard, move)\n",
    "        value = getPositionScoreMemo(extboard, minMemo, depth, transpositions)\n",
    "        undomove!(extboard, undo)\n",
    "        maxValue = max(value, maxValue)\n",
    "    end\n",
    "    Chess.recycle!(legalMoves)\n",
    "    return maxValue\n",
    "end"
   ]
  },
  {
   "cell_type": "code",
   "execution_count": 6,
   "id": "937e15f8",
   "metadata": {},
   "outputs": [
    {
     "data": {
      "text/plain": [
       "minMemo (generic function with 1 method)"
      ]
     },
     "execution_count": 6,
     "metadata": {},
     "output_type": "execute_result"
    }
   ],
   "source": [
    "function minMemo(extboard::ExtendedBoard, depth::Int64, transpositions::Dict{UInt64, Transposition})::Int32\n",
    "    legalMoves = Chess.moves(extboard.board)\n",
    "    if length(legalMoves) == 0 || extboard.repetionRuleDraw\n",
    "        return evaluateTerminalPositionScore(extboard.board) - depth\n",
    "    elseif depth == 0\n",
    "        return extboard.score\n",
    "    end\n",
    "    minValue = typemax(Int32)\n",
    "    for move ∈ legalMoves\n",
    "        undo = domove!(extboard, move)\n",
    "        value = getPositionScoreMemo(extboard, maxMemo, depth, transpositions)\n",
    "        undomove!(extboard, undo)\n",
    "        minValue = min(value, minValue)\n",
    "    end\n",
    "    Chess.recycle!(legalMoves)\n",
    "    return minValue\n",
    "end"
   ]
  },
  {
   "cell_type": "code",
   "execution_count": 7,
   "id": "1320419d",
   "metadata": {},
   "outputs": [
    {
     "data": {
      "text/plain": [
       "minimaxMemoOne (generic function with 1 method)"
      ]
     },
     "execution_count": 7,
     "metadata": {},
     "output_type": "execute_result"
    }
   ],
   "source": [
    "function minimaxMemoOne(extboard::ExtendedBoard, depth::Int64)::Tuple{Int32, Chess.Move}\n",
    "    legalMoves = Chess.moves(extboard.board)\n",
    "    transpositions = Dict{UInt64, Transposition}()\n",
    "    sideIsWhite = Chess.sidetomove(extboard.board) == Chess.WHITE\n",
    "    bestMove = legalMoves[1]\n",
    "    minmaxValue = sideIsWhite ? typemin(Int32) : typemax(Int32)\n",
    "    for move ∈ legalMoves\n",
    "        undo = domove!(extboard, move)\n",
    "        if sideIsWhite\n",
    "            value = minMemo(extboard, depth - 1, transpositions)\n",
    "            if value > minmaxValue\n",
    "                bestMove = move\n",
    "                println(\"$(value) $(bestMove)\")\n",
    "                minmaxValue = value\n",
    "            end\n",
    "        else\n",
    "            value = maxMemo(extboard, depth - 1, transpositions)\n",
    "            if value < minmaxValue\n",
    "                bestMove = move\n",
    "                println(\"$(value) $(bestMove)\")\n",
    "                minmaxValue = value\n",
    "            end\n",
    "        end\n",
    "        undomove!(extboard, undo)\n",
    "    end\n",
    "    return minmaxValue, bestMove\n",
    "end"
   ]
  },
  {
   "cell_type": "code",
   "execution_count": 8,
   "id": "718ed8f2",
   "metadata": {},
   "outputs": [
    {
     "data": {
      "text/plain": [
       "minimaxMemoAll (generic function with 1 method)"
      ]
     },
     "execution_count": 8,
     "metadata": {},
     "output_type": "execute_result"
    }
   ],
   "source": [
    "function minimaxMemoAll(extboard::ExtendedBoard, depth::Int64)::Tuple{Int32, Vector{Chess.Move}}\n",
    "    legalMoves = Chess.moves(extboard.board)\n",
    "    transpositions = Dict{UInt64, Transposition}()\n",
    "    sideIsWhite = Chess.sidetomove(extboard.board) == Chess.WHITE\n",
    "    scoredMoves = Dict{Int32, Vector{Chess.Move}}()\n",
    "    minmaxValue = sideIsWhite ? typemin(Int32) : typemax(Int32)\n",
    "    for move ∈ legalMoves\n",
    "        undo = domove!(extboard, move)\n",
    "        if sideIsWhite\n",
    "            value = minMemo(extboard, depth - 1, transpositions)\n",
    "            minmaxValue = max(value, minmaxValue)\n",
    "        else\n",
    "            value = maxMemo(extboard, depth - 1, transpositions)\n",
    "            minmaxValue = min(value, minmaxValue)\n",
    "        end\n",
    "        movesWithSameScore = get(scoredMoves, value, Chess.Move[])\n",
    "        push!(movesWithSameScore, move)\n",
    "        scoredMoves[value] = movesWithSameScore\n",
    "        println(\"$(value) $(move)\")\n",
    "        undomove!(extboard, undo)\n",
    "    end\n",
    "    return minmaxValue, scoredMoves[minmaxValue]\n",
    "end"
   ]
  },
  {
   "cell_type": "code",
   "execution_count": 9,
   "id": "ea73469c",
   "metadata": {},
   "outputs": [
    {
     "name": "stdout",
     "output_type": "stream",
     "text": [
      "0 Move(a2a3)\n",
      "15 Move(b2b3)\n",
      "-5 Move(c2c3)\n",
      "40 Move(d2d3)\n",
      "60 Move(e2e3)\n",
      "-30 Move(f2f3)\n",
      "15 Move(g2g3)\n",
      "0 Move(h2h3)\n",
      "-5 Move(a2a4)\n",
      "-25 Move(b2b4)\n",
      "5 Move(c2c4)\n",
      "60 Move(d2d4)\n",
      "70 Move(e2e4)\n",
      "-10 Move(f2f4)\n",
      "-15 Move(g2g4)\n",
      "-5 Move(h2h4)\n",
      "50 Move(b1a3)\n",
      "50 Move(b1c3)\n",
      "50 Move(g1f3)\n",
      "20 Move(g1h3)\n"
     ]
    },
    {
     "data": {
      "text/plain": [
       "(70, Chess.Move[Move(e2e4)])"
      ]
     },
     "execution_count": 9,
     "metadata": {},
     "output_type": "execute_result"
    }
   ],
   "source": [
    "minimaxMemoAll(ExtendedBoard(Chess.startboard()), 5)"
   ]
  }
 ],
 "metadata": {
  "kernelspec": {
   "display_name": "Julia 1.8.5",
   "language": "julia",
   "name": "julia-1.8"
  },
  "language_info": {
   "file_extension": ".jl",
   "mimetype": "application/julia",
   "name": "julia",
   "version": "1.8.5"
  }
 },
 "nbformat": 4,
 "nbformat_minor": 5
}
