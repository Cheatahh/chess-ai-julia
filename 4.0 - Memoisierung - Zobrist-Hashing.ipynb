{
 "cells": [
  {
   "cell_type": "code",
   "execution_count": 1,
   "id": "e937327c",
   "metadata": {},
   "outputs": [
    {
     "data": {
      "text/html": [
       "<link href='https://fonts.googleapis.com/css?family=Alegreya+Sans:100,300,400,500,700,800,900,100italic,300italic,400italic,500italic,700italic,800italic,900italic' rel='stylesheet' type='text/css'>\r\n",
       "<link href='https://fonts.googleapis.com/css?family=Arvo:400,700,400italic' rel='stylesheet' type='text/css'>\r\n",
       "<link href='https://fonts.googleapis.com/css?family=PT+Mono' rel='stylesheet' type='text/css'>\r\n",
       "<link href='https://fonts.googleapis.com/css?family=Shadows+Into+Light' rel='stylesheet' type='text/css'>\r\n",
       "<link href='https://fonts.googleapis.com/css?family=Philosopher:400,700,400italic,700italic' rel='stylesheet' type='text/css'>\r\n",
       "\r\n",
       "<style>\r\n",
       "\r\n",
       "@font-face {\r\n",
       "    font-family: \"Computer Modern\";\r\n",
       "    src: url('https://mirrors.ctan.org/fonts/cm-unicode/fonts/otf/cmunss.otf');\r\n",
       "}\r\n",
       "\r\n",
       ".container { width: 100% }\r\n",
       "\r\n",
       "/* Formatting for header cells */\r\n",
       ".text_cell_render h1 {\r\n",
       "    font-family: 'Philosopher', sans-serif;\r\n",
       "    font-weight: 400;\r\n",
       "    font-size: 2.2em;\r\n",
       "    line-height: 100%;\r\n",
       "    color: rgb(0, 80, 120);\r\n",
       "    margin-bottom: 0.1em;\r\n",
       "    margin-top: 0.1em;\r\n",
       "    display: block;\r\n",
       "}\t\r\n",
       ".text_cell_render h2 {\r\n",
       "    font-family: 'Philosopher', serif;\r\n",
       "    font-weight: 400;\r\n",
       "    font-size: 1.9em;\r\n",
       "    line-height: 100%;\r\n",
       "    color: rgb(200,100,0);\r\n",
       "    margin-bottom: 0.1em;\r\n",
       "    margin-top: 0.1em;\r\n",
       "    display: block;\r\n",
       "}\t\r\n",
       "\r\n",
       ".text_cell_render h3 {\r\n",
       "    font-family: 'Philosopher', serif;\r\n",
       "    margin-top:12px;\r\n",
       "    margin-bottom: 3px;\r\n",
       "    font-style: italic;\r\n",
       "    color: rgb(94,127,192);\r\n",
       "}\r\n",
       "\r\n",
       ".text_cell_render h4 {\r\n",
       "    font-family: 'Philosopher', serif;\r\n",
       "}\r\n",
       "\r\n",
       ".text_cell_render h5 {\r\n",
       "    font-family: 'Alegreya Sans', sans-serif;\r\n",
       "    font-weight: 300;\r\n",
       "    font-size: 16pt;\r\n",
       "    color: grey;\r\n",
       "    font-style: italic;\r\n",
       "    margin-bottom: .1em;\r\n",
       "    margin-top: 0.1em;\r\n",
       "    display: block;\r\n",
       "}\r\n",
       "\r\n",
       ".text_cell_render h6 {\r\n",
       "    font-family: 'PT Mono', sans-serif;\r\n",
       "    font-weight: 300;\r\n",
       "    font-size: 10pt;\r\n",
       "    color: grey;\r\n",
       "    margin-bottom: 1px;\r\n",
       "    margin-top: 1px;\r\n",
       "}\r\n",
       "\r\n",
       ".text_cell_render em {\r\n",
       "    font-family: 'Philosopher', sans-serif;\r\n",
       "    color:        blue;\r\n",
       "    background-color: rgb(255,220,180);\r\n",
       "    font-size:    110%;\r\n",
       "    margin-left:   2px;\r\n",
       "    margin-right:  2px;\r\n",
       "    font-weight:   100;\r\n",
       "}\r\n",
       "\r\n",
       ".text_cell_render b {\r\n",
       "    color:            rgb(255,195,195);\r\n",
       "    background-color: rgb(0,0,0);\r\n",
       "    font-size:    110%;\r\n",
       "    margin-left:   2px;\r\n",
       "    margin-right:  2px;\r\n",
       "    font-weight:   650;\r\n",
       "}\r\n",
       "\r\n",
       ".text_cell_render tt {\r\n",
       "    font-size:    120%;\r\n",
       "    margin-left:   2px;\r\n",
       "    margin-right:  2px;\r\n",
       "    font-weight:   150;\r\n",
       "}\r\n",
       "\r\n",
       ".Codemirror {\r\n",
       "    font-family: \"PT Mono\", sans-serif;\r\n",
       "    font-size: 100%;\r\n",
       "}\r\n",
       "\r\n",
       "</style>"
      ],
      "text/plain": [
       "HTML{String}(\"<link href='https://fonts.googleapis.com/css?family=Alegreya+Sans:100,300,400,500,700,800,900,100italic,300italic,400italic,500italic,700italic,800italic,900italic' rel='stylesheet' type='text/css'>\\r\\n<link href='https://fonts.googleapis.com/css?family=Arvo:400,700,400italic' rel='stylesheet' type='text/css'>\\r\\n<link href='https://fonts.googleapis.com/css?family=PT+Mono' rel='stylesheet' type='text/css'>\\r\\n<link href='https://fonts.googleapis.com/css?family=Shadows+Into+Light' rel='stylesheet' type='text/css'>\\r\\n<link href='https://fonts.googleapis.com/css?family=Philosopher:400,700,400italic,700italic' rel='stylesheet' type='text/css'>\\r\\n\\r\\n<style>\\r\\n\\r\\n@font-face {\\r\\n    font-family: \\\"Computer Modern\\\";\\r\\n    src: url('https://mirrors.ctan.org/fonts/cm-unicode/fonts/otf/cmunss.otf');\\r\\n}\\r\\n\\r\\n.container { width: 100% }\\r\\n\\r\\n/* Formatting for header cells */\\r\\n.text_cell_render h1 {\\r\\n    font-family: 'Philosopher', sans-serif;\\r\\n    font-weight: 400;\\r\\n    font-size: 2.2em;\\r\\n    line-height: 100%;\\r\\n    color: rgb(0, 80, 120);\\r\\n    margin-bottom: 0.1em;\\r\\n    margin-top: 0.1em;\\r\\n    display: block;\\r\\n}\\t\\r\\n.text_cell_render h2 {\\r\\n    font-family: 'Philosopher', serif;\\r\\n    font-weight: 400;\\r\\n    font-size: 1.9em;\\r\\n    line-height: 100%;\\r\\n    color: rgb(200,100,0);\\r\\n    margin-bottom: 0.1em;\\r\\n    margin-top: 0.1em;\\r\\n    display: block;\\r\\n}\\t\\r\\n\\r\\n.text_cell_render h3 {\\r\\n    font-family: 'Philosopher', serif;\\r\\n    margin-top:12px;\\r\\n    margin-bottom: 3px;\\r\\n    font-style: italic;\\r\\n    color: rgb(94,127,192);\\r\\n}\\r\\n\\r\\n.text_cell_render h4 {\\r\\n    font-family: 'Philosopher', serif;\\r\\n}\\r\\n\\r\\n.text_cell_render h5 {\\r\\n    font-family: 'Alegreya Sans', sans-serif;\\r\\n    font-weight: 300;\\r\\n    font-size: 16pt;\\r\\n    color: grey;\\r\\n    font-style: italic;\\r\\n    margin-bottom: .1em;\\r\\n    margin-top: 0.1em;\\r\\n    display: block;\\r\\n}\\r\\n\\r\\n.text_cell_render h6 {\\r\\n    font-family: 'PT Mono', sans-serif;\\r\\n    font-weight: 300;\\r\\n    font-size: 10pt;\\r\\n    color: grey;\\r\\n    margin-bottom: 1px;\\r\\n    margin-top: 1px;\\r\\n}\\r\\n\\r\\n.text_cell_render em {\\r\\n    font-family: 'Philosopher', sans-serif;\\r\\n    color:        blue;\\r\\n    background-color: rgb(255,220,180);\\r\\n    font-size:    110%;\\r\\n    margin-left:   2px;\\r\\n    margin-right:  2px;\\r\\n    font-weight:   100;\\r\\n}\\r\\n\\r\\n.text_cell_render b {\\r\\n    color:            rgb(255,195,195);\\r\\n    background-color: rgb(0,0,0);\\r\\n    font-size:    110%;\\r\\n    margin-left:   2px;\\r\\n    margin-right:  2px;\\r\\n    font-weight:   650;\\r\\n}\\r\\n\\r\\n.text_cell_render tt {\\r\\n    font-size:    120%;\\r\\n    margin-left:   2px;\\r\\n    margin-right:  2px;\\r\\n    font-weight:   150;\\r\\n}\\r\\n\\r\\n.Codemirror {\\r\\n    font-family: \\\"PT Mono\\\", sans-serif;\\r\\n    font-size: 100%;\\r\\n}\\r\\n\\r\\n</style>\")"
      ]
     },
     "execution_count": 1,
     "metadata": {},
     "output_type": "execute_result"
    }
   ],
   "source": [
    "HTML(read(open(\"style.html\"), String))"
   ]
  },
  {
   "cell_type": "code",
   "execution_count": 2,
   "id": "d52f5238",
   "metadata": {},
   "outputs": [
    {
     "data": {
      "text/plain": [
       "@silent (macro with 1 method)"
      ]
     },
     "execution_count": 2,
     "metadata": {},
     "output_type": "execute_result"
    }
   ],
   "source": [
    "include(\"silent.jl\")"
   ]
  },
  {
   "cell_type": "code",
   "execution_count": 3,
   "id": "f548ac27",
   "metadata": {},
   "outputs": [],
   "source": [
    "using Pkg\n",
    "@silent Pkg.add(\"Chess\")\n",
    "import Chess"
   ]
  },
  {
   "cell_type": "markdown",
   "id": "52aabdfc",
   "metadata": {},
   "source": [
    "***"
   ]
  },
  {
   "cell_type": "markdown",
   "id": "bd7592e5",
   "metadata": {},
   "source": [
    "# Memoisierung\n",
    "\n",
    "Memoisierung beschreibt die Methodik, bereits berechnete Informationen für eine spätere Verwendung zu speichern.\n",
    "\n",
    "Im Zusammenhang mit Schach bietet es sich an, neue Züge oder Stellungen und deren Bewertung zu berechnen und anschließend zu speichern. Dies ermöglicht es verschiedenen Algorithmen, bsp. MiniMax oder der Alpha-Beta-Suche, neue Stellungen schneller zu berechnen. Stoßen die Algorithmen auf bekannte Stellungen, so muss nur der bereits berechnete Wert abgerufen werden. Dies spart sowohl Ressourcen als auch Zeit.\n",
    "Wird eine inkrementelle Suche verwendet, so ermöglicht die ersparte Zeit eine tiefere Suche. Beispielsweise kann die Alpha-Beta-Suche bis zu einer Tiefe von 4 statt 3 in 5 Sekunden rechnen (Annahme).\n",
    "\n",
    "Die berechneten Stellungen mit Bewertung müssen gespeichert werden. In diesem Notebook wird der [`Zobrist-Hash`](https://www.chessprogramming.org/Zobrist_Hashing) dazu verwendet.\n",
    "\n",
    "Beim Zobrist-Hashing wird das Schachbrett auf einen `Integer`-Hash abgebildet. Dieser setzt sich aus folgenden Komponenten (Sub-Hashes) zusammen:\n",
    "+ pieceHashes &rarr; ein Int für jede Figur auf jedem Feld (12 * 64)\n",
    "+ colorBlackHash &rarr; ein Int der anzeigt, dass Schwarz am zug ist (1)\n",
    "+ enPassantHashes &rarr; ein Int für jedes mögliche En-Passant-Feld (8)\n",
    "+ castleHashes &rarr; ein Int für jedes Rochade-Recht (4)\n",
    "\n",
    "Der Hash wird mit einem Wert von `0` initialisiert. Bei der weiteren Berechnung wird der erste Integer, aka die gespeicherte Information, mit dem Hash gexort. Der nächste Integer wird mit dem neuen Hash gexort. Das Prinzip wiederholt sich so lange bis alle Integer verxort wurden. Die Methodik des `XOR` wird verwendet, da es sehr einfach umkehrbar ist, indem nochmal mit dem gleichen Wert die `XOR`-Operation durchgeführt wird.\n",
    "\n",
    "$ ((x \\oplus  y) \\oplus  y) = y $\n",
    "\n",
    "Somit können iterative Änderungen leicht gespeichert werden, da nur der geänderte Wert auf den alten Hashwert gerechnet werden muss.\n",
    "\n",
    "Die Anzahl aller möglichen Hashes bei einer Abbildung auf einen x-Bit Integer wird durch $2^{x}$  beschrieben. Bei einem 64-Bit Integer gibt es somit 18.446.744.073.709.551.616 Kombinationen. Während dies zunächst als genügend groß erscheint, ist bei einer Menge von $\\sqrt(2^{x})$ bereits mit einer Hash-Kollision zu rechnen (Quelle: [chessprogramming.org/Zobrist_Hashing](https://www.chessprogramming.org/Zobrist_Hashing#Theory)).\n",
    "\n",
    "Dies kann behoben werden, indem der Integer von 32-Bit auf 64-Bit, bzw. auf 128-Bit erweitert wird. Die folgende Implementation des Zobrist-Hash Verfahrens wird mit einem 64-Bit Hash durchgeführt."
   ]
  },
  {
   "cell_type": "markdown",
   "id": "ef912472",
   "metadata": {},
   "source": [
    "Der Zobrist-Hash wird als `mutable struct` eingeführt, da die inkrementelle Berechnung den Hash verändern können muss. Die weiteren Bestandteile werden als `const` definiert, da sie nicht verändert werden sollen."
   ]
  },
  {
   "cell_type": "code",
   "execution_count": 4,
   "id": "0541b19e",
   "metadata": {},
   "outputs": [],
   "source": [
    "mutable struct ZobristHash\n",
    "    const pieceHashes::Array{UInt64,2}\n",
    "    const colorBlackHash::UInt64\n",
    "    const enPassantHashes::Array{UInt64}\n",
    "    const castleHashes::Array{UInt64}\n",
    "    hash::UInt64\n",
    "    \n",
    "    function ZobristHash(board::Chess.Board)\n",
    "        # assume all keys are unique for simplicity\n",
    "        this = new(\n",
    "            [rand(UInt64) for _ ∈ 1:14, __ ∈ 1:64], \n",
    "            rand(UInt64), \n",
    "            [rand(UInt64) for _ ∈ 1:64], \n",
    "            [rand(UInt64) for _ ∈ 1:4],\n",
    "            0\n",
    "        )\n",
    "        rehash!(this, board)\n",
    "        return this\n",
    "    end\n",
    "end"
   ]
  },
  {
   "cell_type": "markdown",
   "id": "f84cb07d",
   "metadata": {},
   "source": [
    "Der Transpositionstabllen-Datentyp wird als Alias `Transposition` definiert."
   ]
  },
  {
   "cell_type": "code",
   "execution_count": 5,
   "id": "5263f9be",
   "metadata": {},
   "outputs": [
    {
     "data": {
      "text/plain": [
       "Tuple{Int64, Int32}"
      ]
     },
     "execution_count": 5,
     "metadata": {},
     "output_type": "execute_result"
    }
   ],
   "source": [
    "if !@isdefined(Transposition)\n",
    "    const Transposition = Tuple{Int64, Int32}\n",
    "end"
   ]
  },
  {
   "cell_type": "markdown",
   "id": "f8842a30",
   "metadata": {},
   "source": [
    "Die Funktion `rehash!` berechnet und setzt den Hash neu, bzw. initial. Dabei werden alle Werte der Spielfiguren, Rochade-Rechte, En-Passant-Felder und Zugrechte iteriert.\n",
    "\n",
    "**Input**:\n",
    "+ zobrist &rarr; der Zobrist-Hash-Kontext\n",
    "+ board &rarr; das Spielbrett"
   ]
  },
  {
   "cell_type": "code",
   "execution_count": 6,
   "id": "8f4e6f4f",
   "metadata": {},
   "outputs": [
    {
     "data": {
      "text/plain": [
       "rehash! (generic function with 1 method)"
      ]
     },
     "execution_count": 6,
     "metadata": {},
     "output_type": "execute_result"
    }
   ],
   "source": [
    "function rehash!(zobrist::ZobristHash, board::Chess.Board)\n",
    "    zobrist.hash = 0\n",
    "    for file ∈ 1:8\n",
    "        for rank ∈ 1:8\n",
    "            square = Chess.Square(Chess.SquareFile(file), Chess.SquareRank(rank))\n",
    "            piece = Chess.pieceon(board, square)\n",
    "            if piece !== Chess.EMPTY\n",
    "                togglePiece!(zobrist, piece, square)\n",
    "            end\n",
    "        end\n",
    "    end\n",
    "    if Chess.sidetomove(board) === Chess.BLACK\n",
    "        toggleColor!(zobrist)\n",
    "    end\n",
    "    toggleEnPassant!(zobrist, Chess.epsquare(board))\n",
    "    if Chess.cancastlekingside(board, Chess.WHITE)\n",
    "        toggleCastle!(zobrist, 1)\n",
    "    end\n",
    "    if Chess.cancastlequeenside(board, Chess.WHITE)\n",
    "        toggleCastle!(zobrist, 2)\n",
    "    end\n",
    "    if Chess.cancastlekingside(board, Chess.BLACK)\n",
    "        toggleCastle!(zobrist, 3)\n",
    "    end\n",
    "    if Chess.cancastlequeenside(board, Chess.BLACK)\n",
    "        toggleCastle!(zobrist, 4)\n",
    "    end\n",
    "end"
   ]
  },
  {
   "cell_type": "markdown",
   "id": "5003471c",
   "metadata": {},
   "source": [
    "Die Funktion `togglePiece!` verändert den Hashwert inkrementell, wenn eine Aktion einer Spielfigur durchgeführt wurde.\n",
    "\n",
    "**Input**:\n",
    "+ zobrist &rarr; der Zobrist-Hash-Kontext\n",
    "+ piece &rarr; die Spielfigur die verändert wird\n",
    "+ square &rarr; das Spielfeld der Spielfigur\n",
    "\n",
    "**Output**\n",
    "+ der neue Hash"
   ]
  },
  {
   "cell_type": "code",
   "execution_count": 7,
   "id": "ac42f63d",
   "metadata": {},
   "outputs": [
    {
     "data": {
      "text/plain": [
       "togglePiece! (generic function with 1 method)"
      ]
     },
     "execution_count": 7,
     "metadata": {},
     "output_type": "execute_result"
    }
   ],
   "source": [
    "function togglePiece!(zobrist::ZobristHash, piece::Chess.Piece, square::Chess.Square)\n",
    "    zobrist.hash ⊻= zobrist.pieceHashes[piece.val, square.val]\n",
    "end"
   ]
  },
  {
   "cell_type": "markdown",
   "id": "184cdea8",
   "metadata": {},
   "source": [
    "Die Funktion `toggleEnPassant!` verändert den Hashwert inkrementell, wenn eine Aktion ein En-Passant verursacht.\n",
    "\n",
    "**Input**:\n",
    "+ zobrist &rarr; der Zobrist-Hash-Kontext\n",
    "+ square &rarr; das En-Passant-Feld\n",
    "\n",
    "**Output**\n",
    "+ der neue Hash"
   ]
  },
  {
   "cell_type": "code",
   "execution_count": 8,
   "id": "52db338c",
   "metadata": {},
   "outputs": [
    {
     "data": {
      "text/plain": [
       "toggleEnPassant! (generic function with 1 method)"
      ]
     },
     "execution_count": 8,
     "metadata": {},
     "output_type": "execute_result"
    }
   ],
   "source": [
    "function toggleEnPassant!(zobrist::ZobristHash, square::Chess.Square)\n",
    "    if square === Chess.SQ_NONE\n",
    "        return\n",
    "    end\n",
    "    zobrist.hash ⊻= zobrist.enPassantHashes[square.val]\n",
    "end"
   ]
  },
  {
   "cell_type": "markdown",
   "id": "6682dd68",
   "metadata": {},
   "source": [
    "Die Funktion `toggleCastle!` verändert den Hashwert inkrementell, wenn eine Änderung der Rochade-Rechte durchgeführt wurde."
   ]
  },
  {
   "cell_type": "markdown",
   "id": "5e42bda5",
   "metadata": {},
   "source": [
    "**Input**:\n",
    "+ zobrist &rarr; der Zobrist-Hash-Kontext\n",
    "+ index &rarr; der Index der Rochade (~könnte als Enum gelöst werden)\n",
    "    + 1 &rarr; kurze Rochade (König-Seite, Weiß)\n",
    "    + 2 &rarr; kurze Rochade (Königin-Seite, Weiß)\n",
    "    + 3 &rarr; kurze Rochade (König-Seite, Schwarz)\n",
    "    + 4 &rarr; kurze Rochade (Königin-Seite, Schwarz)\n",
    "\n",
    "**Output**\n",
    "+ der neue Hash"
   ]
  },
  {
   "cell_type": "code",
   "execution_count": 9,
   "id": "7e8e532d",
   "metadata": {},
   "outputs": [
    {
     "data": {
      "text/plain": [
       "toggleCastle! (generic function with 1 method)"
      ]
     },
     "execution_count": 9,
     "metadata": {},
     "output_type": "execute_result"
    }
   ],
   "source": [
    "function toggleCastle!(zobrist::ZobristHash, index::Int)\n",
    "    zobrist.hash ⊻= zobrist.castleHashes[index]\n",
    "end"
   ]
  },
  {
   "cell_type": "markdown",
   "id": "b0f75b28",
   "metadata": {},
   "source": [
    "Die Funktion `togglePiece!` verändert den Hashwert inkrementell, wenn die aktive Spielfarbe sich ändert.\n",
    "\n",
    "**Input**:\n",
    "+ zobrist &rarr; der Zobrist-Hash-Kontext\n",
    "\n",
    "**Output**\n",
    "+ der neue Hash"
   ]
  },
  {
   "cell_type": "code",
   "execution_count": 10,
   "id": "06c7b5e0",
   "metadata": {},
   "outputs": [
    {
     "data": {
      "text/plain": [
       "toggleColor! (generic function with 1 method)"
      ]
     },
     "execution_count": 10,
     "metadata": {},
     "output_type": "execute_result"
    }
   ],
   "source": [
    "function toggleColor!(zobrist::ZobristHash)\n",
    "     zobrist.hash ⊻= zobrist.colorBlackHash\n",
    "end"
   ]
  },
  {
   "cell_type": "markdown",
   "id": "0e9a61c4",
   "metadata": {},
   "source": [
    "***"
   ]
  }
 ],
 "metadata": {
  "kernelspec": {
   "display_name": "Julia 1.8.5",
   "language": "julia",
   "name": "julia-1.8"
  },
  "language_info": {
   "file_extension": ".jl",
   "mimetype": "application/julia",
   "name": "julia",
   "version": "1.8.5"
  }
 },
 "nbformat": 4,
 "nbformat_minor": 5
}
