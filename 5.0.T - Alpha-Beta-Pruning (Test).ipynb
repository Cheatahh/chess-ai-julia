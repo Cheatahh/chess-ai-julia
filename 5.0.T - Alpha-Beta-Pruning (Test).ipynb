{
 "cells": [
  {
   "cell_type": "code",
   "execution_count": null,
   "id": "b7d07ab6",
   "metadata": {},
   "outputs": [],
   "source": [
    "HTML(read(open(\"style.html\"), String))"
   ]
  },
  {
   "cell_type": "code",
   "execution_count": null,
   "id": "713ce732",
   "metadata": {},
   "outputs": [],
   "source": [
    "include(\"silent.jl\")"
   ]
  },
  {
   "cell_type": "code",
   "execution_count": 1,
   "id": "3a47b60c",
   "metadata": {},
   "outputs": [],
   "source": [
    "using Pkg\n",
    "@silent Pkg.add(\"NBInclude\")\n",
    "using NBInclude"
   ]
  },
  {
   "cell_type": "code",
   "execution_count": 2,
   "id": "f176814e",
   "metadata": {},
   "outputs": [
    {
     "data": {
      "text/plain": [
       "getNextMove (generic function with 6 methods)"
      ]
     },
     "execution_count": 2,
     "metadata": {},
     "output_type": "execute_result"
    }
   ],
   "source": [
    "@nbinclude \"2.0 - Gameplay.ipynb\"\n",
    "@nbinclude \"3.3 - Minimax AI.ipynb\"\n",
    "@nbinclude \"5.1 - Alpha-Beta-Pruning AI.ipynb\""
   ]
  },
  {
   "cell_type": "code",
   "execution_count": 4,
   "id": "30508c6a",
   "metadata": {},
   "outputs": [
    {
     "data": {
      "text/plain": [
       "noLog (generic function with 1 method)"
      ]
     },
     "execution_count": 4,
     "metadata": {},
     "output_type": "execute_result"
    }
   ],
   "source": [
    "function noLog(any) end"
   ]
  },
  {
   "cell_type": "markdown",
   "id": "ece9ef98",
   "metadata": {},
   "source": [
    "***"
   ]
  },
  {
   "cell_type": "markdown",
   "id": "ce0182a7",
   "metadata": {},
   "source": [
    "In den folgenden Tests wird die AlphaBeta KI in verschiedene Ausgangssitationen versetzt, aus welchen sie die besten Züge berechnen soll.  "
   ]
  },
  {
   "cell_type": "code",
   "execution_count": null,
   "id": "4890a403",
   "metadata": {},
   "outputs": [],
   "source": [
    "extboard = ExtendedBoard(Chess.startboard())\n",
    "\n",
    "score, moves = alphabetaAll(extboard, 1, noLog)\n",
    "@assert score == 50\n",
    "@assert moves == [Chess.movefromstring(\"b1c3\"), Chess.movefromstring(\"g1f3\")]\n",
    "score, moves = alphabetaMemoAll(extboard, 1, noLog)\n",
    "@assert score == 50\n",
    "@assert moves == [Chess.movefromstring(\"b1c3\"), Chess.movefromstring(\"g1f3\")]\n",
    "\n",
    "extboard.board"
   ]
  },
  {
   "cell_type": "markdown",
   "id": "aa8d6b6d",
   "metadata": {},
   "source": [
    "Es wird eine Situation nach 4 Halbzügen / 2 vollen Zügen betrachtet.\n",
    "\n",
    "Weiß beginnt und führt die besten möglichen Züge aus. Schwarz sollte ebenfalls mit den besten möglichen Zügen antworten. Somit ergibt sich ein Endwert von `0`."
   ]
  },
  {
   "cell_type": "code",
   "execution_count": null,
   "id": "16998f0e",
   "metadata": {
    "scrolled": true
   },
   "outputs": [],
   "source": [
    "extboard = ExtendedBoard(Chess.startboard())\n",
    "\n",
    "score, moves = alphabetaAll(extboard, 4, noLog)\n",
    "@assert score == 0\n",
    "@assert moves == [Chess.movefromstring(\"b1c3\"), Chess.movefromstring(\"g1f3\")]\n",
    "score, moves = alphabetaMemoAll(extboard, 4, noLog)\n",
    "@assert score == 0\n",
    "@assert moves == [Chess.movefromstring(\"b1c3\"), Chess.movefromstring(\"g1f3\")]\n",
    "\n",
    "extboard.board"
   ]
  },
  {
   "cell_type": "code",
   "execution_count": null,
   "id": "83588075",
   "metadata": {},
   "outputs": [],
   "source": [
    "extboard = ExtendedBoard(Chess.startboard())\n",
    "\n",
    "score, moves = alphabetaAll(extboard, 5, noLog)\n",
    "@assert score == 70\n",
    "@assert moves == [Chess.movefromstring(\"e2e4\")]\n",
    "score, moves = alphabetaMemoAll(extboard, 5, noLog)\n",
    "@assert score == 70\n",
    "@assert moves == [Chess.movefromstring(\"e2e4\")]\n",
    "\n",
    "extboard.board"
   ]
  },
  {
   "cell_type": "code",
   "execution_count": null,
   "id": "7f3bd447",
   "metadata": {},
   "outputs": [],
   "source": [
    "extboard = ExtendedBoard(Chess.startboard())\n",
    "\n",
    "domove!(extboard, Chess.movefromstring(\"e2e4\"))\n",
    "        \n",
    "score, moves = alphabetaAll(extboard, 5, noLog)\n",
    "@assert score == -90\n",
    "@assert moves == [Chess.movefromstring(\"b8c6\")]\n",
    "score, moves = alphabetaMemoAll(extboard, 5, noLog)\n",
    "@assert score == -90\n",
    "@assert moves == [Chess.movefromstring(\"b8c6\")]\n",
    "\n",
    "extboard.board"
   ]
  },
  {
   "cell_type": "code",
   "execution_count": null,
   "id": "623ffb19",
   "metadata": {},
   "outputs": [],
   "source": [
    "extboard = ExtendedBoard(Chess.startboard())\n",
    "\n",
    "domove!(extboard, Chess.movefromstring(\"e2e4\"))\n",
    "domove!(extboard, Chess.movefromstring(\"b8c6\"))\n",
    "            \n",
    "score, moves = alphabetaAll(extboard, 5, noLog)\n",
    "@assert score == 100\n",
    "@assert moves == [Chess.movefromstring(\"b1c3\")]\n",
    "score, moves = alphabetaMemoAll(extboard, 5, noLog)\n",
    "@assert score == 100\n",
    "@assert moves == [Chess.movefromstring(\"b1c3\")]\n",
    "\n",
    "extboard.board"
   ]
  },
  {
   "cell_type": "markdown",
   "id": "7ab6e1a7",
   "metadata": {},
   "source": [
    "Im folgenden soll die KI (Ohne Memoisierung) ein mögliches Matt in 3 Zügen (Suchtiefe >= 5) finden. Die Test-Fens sind zufällig [wtharvey.com/m8n3.txt](https://wtharvey.com/m8n3.txt) entnommen."
   ]
  },
  {
   "cell_type": "code",
   "execution_count": null,
   "id": "5fa3ae6e",
   "metadata": {},
   "outputs": [],
   "source": [
    "# Joseph Blackburne vs Adolf Schwarz, Vienna, 1873 \n",
    "# 2rrk3/QR3pp1/2n1b2p/1BB1q3/3P4/8/P4PPP/6K1 w - - 1 0\n",
    "# 1. Re7+ Kf8 2. Re8+ Kxe8 3. Qe7# \n",
    "\n",
    "extboard = ExtendedBoard(Chess.fromfen(\"2rrk3/QR3pp1/2n1b2p/1BB1q3/3P4/8/P4PPP/6K1 w - -\"))\n",
    "\n",
    "score, moves = alphabetaAll(extboard, 5, noLog)\n",
    "@assert score == 100000\n",
    "@assert moves == [Chess.movefromstring(\"b7e7\")]\n",
    "score, moves = alphabetaMemoAll(extboard, 5, noLog)\n",
    "@assert score == 100000\n",
    "@assert moves == [Chess.movefromstring(\"b7e7\")]\n",
    "\n",
    "extboard.board"
   ]
  },
  {
   "cell_type": "code",
   "execution_count": null,
   "id": "bf729d3d",
   "metadata": {},
   "outputs": [],
   "source": [
    "# Jan Sorensen vs Panayotis Vlassis, Korinthos, 1998\n",
    "# r1b2rk1/pp2b1pp/q3pn2/3nN1N1/3p4/P2Q4/1P3PPP/RBB1R1K1 w - - 1 0\n",
    "# 1. Qxh7+ Nxh7 2. Bxh7+ Kh8 3. Ng6#\n",
    "\n",
    "extboard = ExtendedBoard(Chess.fromfen(\"r1b2rk1/pp2b1pp/q3pn2/3nN1N1/3p4/P2Q4/1P3PPP/RBB1R1K1 w - -\"))\n",
    "\n",
    "score, moves = alphabetaAll(extboard, 5, noLog)\n",
    "@assert score == 100000\n",
    "@assert moves == [Chess.movefromstring(\"d3h7\")]\n",
    "score, moves = alphabetaMemoAll(extboard, 5, noLog)\n",
    "@assert score == 100000\n",
    "@assert moves == [Chess.movefromstring(\"d3h7\")]\n",
    "\n",
    "extboard.board"
   ]
  },
  {
   "cell_type": "code",
   "execution_count": null,
   "id": "e662ce59",
   "metadata": {},
   "outputs": [],
   "source": [
    "# Nelly Aginian vs Salome Melia, Batumi, 2000 \n",
    "# 8/5kB1/3p4/1p3q1p/7P/KPPn2Q1/P7/8 b - - 0 1\n",
    "# 1... Qc5+ 2. b4 Qa7+ 3. Kb3 Qa4# \n",
    "\n",
    "extboard = ExtendedBoard(Chess.fromfen(\"8/5kB1/3p4/1p3q1p/7P/KPPn2Q1/P7/8 b - -\"))\n",
    "\n",
    "score, moves = alphabetaAll(extboard, 5, noLog)\n",
    "@assert score == -100000\n",
    "@assert moves == [Chess.movefromstring(\"f5c5\")]\n",
    "score, moves = alphabetaMemoAll(extboard, 5, noLog)\n",
    "@assert score == -100000\n",
    "@assert moves == [Chess.movefromstring(\"f5c5\")]\n",
    "\n",
    "extboard.board"
   ]
  },
  {
   "cell_type": "code",
   "execution_count": null,
   "id": "110e3ddc",
   "metadata": {},
   "outputs": [],
   "source": [
    "# Denis Rombaldoni vs Konstantin Landa, Regiio Emilia, 2007\n",
    "# 2Q5/6pk/5b1p/5P2/3p4/1Rr2qNK/7P/8 b - - 0 1\n",
    "# 1... Qf1+ 2. Kg4 h5+ 3. Nxh5 Qf3# \n",
    "\n",
    "extboard = ExtendedBoard(Chess.fromfen(\"2Q5/6pk/5b1p/5P2/3p4/1Rr2qNK/7P/8 b - -\"))\n",
    "\n",
    "score, moves = alphabetaAll(extboard, 5, noLog)\n",
    "@assert score == -100000\n",
    "@assert moves == [Chess.movefromstring(\"f3f1\")]\n",
    "score, moves = alphabetaMemoAll(extboard, 5, noLog)\n",
    "@assert score == -100000\n",
    "@assert moves == [Chess.movefromstring(\"f3f1\")]\n",
    "\n",
    "extboard.board"
   ]
  },
  {
   "cell_type": "code",
   "execution_count": null,
   "id": "fd5dfd63",
   "metadata": {},
   "outputs": [],
   "source": [
    "# Emre Can vs Jorge Baules, Dresden, 2008\n",
    "# 1Q6/1P2pk1p/5ppB/3q4/P5PK/7P/5P2/6r1 b - - 0 1\n",
    "# 1... Qh5+ 2. gxh5 g5+ 3. Bxg5 fxg5# \n",
    "\n",
    "extboard = ExtendedBoard(Chess.fromfen(\"1Q6/1P2pk1p/5ppB/3q4/P5PK/7P/5P2/6r1 b - -\"))\n",
    "\n",
    "score, moves = alphabetaAll(extboard, 5, noLog)\n",
    "@assert score == -100000\n",
    "@assert moves == [Chess.movefromstring(\"d5h5\")]\n",
    "score, moves = alphabetaMemoAll(extboard, 5, noLog)\n",
    "@assert score == -100000\n",
    "@assert moves == [Chess.movefromstring(\"d5h5\")]\n",
    "\n",
    "extboard.board"
   ]
  },
  {
   "cell_type": "markdown",
   "id": "e6dcb931",
   "metadata": {},
   "source": [
    "Der folgende Test validiert, dass die KI die Möglichkeit eines Wiederholungs-Unentschiedens erkennt und ausnutzt. Bei der Stellung `k7/8/1P6/3N4/8/8/8/7K w - -` handelt es sich um eine aussichtslose Position für den schwarzen König. Dieser kann lediglich auf ein Unentschieden spielen."
   ]
  },
  {
   "cell_type": "code",
   "execution_count": null,
   "id": "3329343d",
   "metadata": {},
   "outputs": [],
   "source": [
    "extboard = ExtendedBoard(Chess.fromfen(\"k7/8/1P6/3N4/8/8/8/7K w - -\"))\n",
    "\n",
    "IJulia.display(HTML(IJulia.html(extboard.board)))\n",
    "\n",
    "domove!(extboard, Chess.movefromstring(\"d5c7\"))\n",
    "domove!(extboard, Chess.movefromstring(\"a8b8\"))\n",
    "domove!(extboard, Chess.movefromstring(\"c7d5\"))\n",
    "domove!(extboard, Chess.movefromstring(\"b8a8\"))\n",
    "                \n",
    "domove!(extboard, Chess.movefromstring(\"d5c7\"))\n",
    "domove!(extboard, Chess.movefromstring(\"a8b8\"))\n",
    "domove!(extboard, Chess.movefromstring(\"c7d5\"))            \n",
    "\n",
    "@assert evaluatePositionScore(extboard.board, isEndGame(extboard.board) ? PIECE_SQUARE_TABLES_ENDGAME : PIECE_SQUARE_TABLES_MIDGAME) > 0\n",
    "\n",
    "@assert alphabetaAll(extboard, 1, noLog)[2][1] == Chess.movefromstring(\"b8a8\")\n",
    "@assert alphabetaAll(extboard, 9, noLog)[2][1] == Chess.movefromstring(\"b8a8\")\n",
    "@assert alphabetaMemoAll(extboard, 1, noLog)[2][1] == Chess.movefromstring(\"b8a8\")\n",
    "@assert alphabetaMemoAll(extboard, 11, noLog)[2][1] == Chess.movefromstring(\"b8a8\")"
   ]
  },
  {
   "cell_type": "markdown",
   "id": "ac4e9d05",
   "metadata": {},
   "source": [
    "Der folgende Test validiert, dass die KI die Möglichkeit eines Wiederholungs-Unentschiedens erkennt und diese umgeht. Würde Weiß bei der Stellung den Zug `d5c7` durchführen, so entsteht ein Unentschieden, durch welches Weiß seine dominierende Position aufgeben würde."
   ]
  },
  {
   "cell_type": "code",
   "execution_count": null,
   "id": "24712fbe",
   "metadata": {
    "scrolled": true
   },
   "outputs": [],
   "source": [
    "extboard = ExtendedBoard(Chess.fromfen(\"k7/2N5/1P6/8/8/8/8/7K b - -\"))\n",
    "    \n",
    "IJulia.display(HTML(IJulia.html(extboard.board)))\n",
    "\n",
    "domove!(extboard, Chess.movefromstring(\"a8b8\"))\n",
    "domove!(extboard, Chess.movefromstring(\"c7d5\"))\n",
    "domove!(extboard, Chess.movefromstring(\"b8a8\"))\n",
    "domove!(extboard, Chess.movefromstring(\"d5c7\"))\n",
    "                \n",
    "domove!(extboard, Chess.movefromstring(\"a8b8\"))\n",
    "domove!(extboard, Chess.movefromstring(\"c7d5\"))\n",
    "domove!(extboard, Chess.movefromstring(\"b8a8\"))\n",
    "\n",
    "@assert evaluatePositionScore(extboard.board, isEndGame(extboard.board) ? PIECE_SQUARE_TABLES_ENDGAME : PIECE_SQUARE_TABLES_MIDGAME) > 0\n",
    "\n",
    "@assert alphabetaAll(extboard, 1, noLog)[2][1] != Chess.movefromstring(\"d5c7\")\n",
    "@assert alphabetaAll(extboard, 9, noLog)[2][1] != Chess.movefromstring(\"d5c7\")\n",
    "@assert alphabetaMemoAll(extboard, 1, noLog)[2][1] != Chess.movefromstring(\"d5c7\")\n",
    "@assert alphabetaMemoAll(extboard, 11, noLog)[2][1] != Chess.movefromstring(\"d5c7\")"
   ]
  },
  {
   "cell_type": "markdown",
   "id": "7d52a746",
   "metadata": {},
   "source": [
    "Die folgenden Tests lassen die AlphaBeta KIs mit verschiedenen Suchtiefen (= Stärken) gegen sich selbst spielen. Bei gleicher Stärke sollte hierbei eine gleichmäßige Siegrate entstehen. Eine stärkere KI sollte mit einer hohen Rate gewinnen. Da es sich bei der Zugauswahl um einen zufälligen Zug aus der Liste aller besten Zügen handelt, kann eine KI zufällig einen deutlich stärkeren/schwächeren Zug auswählen, als mit der aktuellen Suchtiefe bestimmbar ist. Somit gilt: Je größer `repetitions` gewählt wird, desto genauer sollten sich die Ergebnisse dem Erwartungswert annähern. Des Weiteren sollte es keinen Unterschied machen, ob beispielsweise eine `AB*AI` oder die `MiniMaxAI` verwendet wird, da es sich hierbei lediglich um Geschwindigkeitsoptimierungen handelt."
   ]
  },
  {
   "cell_type": "code",
   "execution_count": 6,
   "id": "d6f4efa9",
   "metadata": {},
   "outputs": [
    {
     "name": "stdout",
     "output_type": "stream",
     "text": [
      "10\n",
      "20\n",
      "30\n",
      "40\n",
      "50\n",
      "60\n",
      "70\n",
      "80\n",
      "90\n",
      "100\n",
      " 78.537982 seconds (364.49 M allocations: 305.316 GiB, 13.92% gc time)\n",
      "Draws     : 6.0%\n",
      "Black Wins: 59.0%\n",
      "White Wins: 35.0%\n"
     ]
    }
   ],
   "source": [
    "results = Dict(BlackWin => 0, WhiteWin => 0, Draw => 0)\n",
    "repetitions = 100\n",
    "\n",
    "@time for x in 1:repetitions\n",
    "    result = play(white = ABAllAI(3), black = ABAllAI(3), log = nothing)\n",
    "    results[result] += 1\n",
    "    \n",
    "    if x % 10 == 0\n",
    "        println(x)\n",
    "    end\n",
    "end\n",
    "\n",
    "println(\"Draws     : $((results[Draw] / repetitions) * 100)%\")\n",
    "println(\"Black Wins: $((results[BlackWin] / repetitions) * 100)%\")\n",
    "println(\"White Wins: $((results[WhiteWin] / repetitions) * 100)%\")"
   ]
  },
  {
   "cell_type": "code",
   "execution_count": 7,
   "id": "1d289e59",
   "metadata": {},
   "outputs": [
    {
     "name": "stdout",
     "output_type": "stream",
     "text": [
      "10\n",
      "20\n",
      "30\n",
      "40\n",
      "50\n",
      "60\n",
      "70\n",
      "80\n",
      "90\n",
      "100\n",
      " 49.807347 seconds (185.46 M allocations: 161.970 GiB, 14.61% gc time)\n",
      "Draws     : 12.0%\n",
      "Black Wins: 54.0%\n",
      "White Wins: 34.0%\n"
     ]
    }
   ],
   "source": [
    "results = Dict(BlackWin => 0, WhiteWin => 0, Draw => 0)\n",
    "repetitions = 100\n",
    "\n",
    "@time for x in 1:repetitions\n",
    "    result = play(white = ABMemoAllAI(3), black = ABMemoAllAI(3), log = nothing)\n",
    "    results[result] += 1\n",
    "    \n",
    "    if x % 10 == 0\n",
    "        println(x)\n",
    "    end\n",
    "end\n",
    "\n",
    "println(\"Draws     : $((results[Draw] / repetitions) * 100)%\")\n",
    "println(\"Black Wins: $((results[BlackWin] / repetitions) * 100)%\")\n",
    "println(\"White Wins: $((results[WhiteWin] / repetitions) * 100)%\")"
   ]
  },
  {
   "cell_type": "code",
   "execution_count": null,
   "id": "734c3aea",
   "metadata": {},
   "outputs": [],
   "source": [
    "results = Dict(BlackWin => 0, WhiteWin => 0, Draw => 0)\n",
    "repetitions = 100\n",
    "\n",
    "@time for x in 1:repetitions\n",
    "    result = play(white = ABAllAI(3), black = ABMemoAllAI(3), log = nothing)\n",
    "    results[result] += 1\n",
    "    \n",
    "    if x % 10 == 0\n",
    "        println(x)\n",
    "    end\n",
    "end\n",
    "\n",
    "println(\"Draws     : $((results[Draw] / repetitions) * 100)%\")\n",
    "println(\"Black Wins: $((results[BlackWin] / repetitions) * 100)%\")\n",
    "println(\"White Wins: $((results[WhiteWin] / repetitions) * 100)%\")"
   ]
  },
  {
   "cell_type": "code",
   "execution_count": 10,
   "id": "53a4b144",
   "metadata": {},
   "outputs": [
    {
     "name": "stdout",
     "output_type": "stream",
     "text": [
      "2\n",
      "4\n",
      "6\n",
      "8\n",
      "10\n",
      "12\n",
      "14\n",
      "16\n",
      "18\n",
      "20\n",
      " 17.798187 seconds (71.85 M allocations: 60.651 GiB, 14.91% gc time)\n",
      "Draws     : 15.0%\n",
      "Black Wins: 45.0%\n",
      "White Wins: 40.0%\n"
     ]
    }
   ],
   "source": [
    "results = Dict(BlackWin => 0, WhiteWin => 0, Draw => 0)\n",
    "repetitions = 20\n",
    "\n",
    "@time for x in 1:repetitions\n",
    "    result = play(white = ABMemoAllAI(3), black = MiniMaxAI(3), log = nothing)\n",
    "    results[result] += 1\n",
    "    \n",
    "    if x % 2 == 0\n",
    "        println(x)\n",
    "    end\n",
    "end\n",
    "\n",
    "println(\"Draws     : $((results[Draw] / repetitions) * 100)%\")\n",
    "println(\"Black Wins: $((results[BlackWin] / repetitions) * 100)%\")\n",
    "println(\"White Wins: $((results[WhiteWin] / repetitions) * 100)%\")"
   ]
  },
  {
   "cell_type": "code",
   "execution_count": 11,
   "id": "6b24ccee",
   "metadata": {},
   "outputs": [
    {
     "name": "stdout",
     "output_type": "stream",
     "text": [
      "2\n",
      "4\n",
      "6\n",
      "8\n",
      "10\n",
      "12\n",
      "14\n",
      "16\n",
      "18\n",
      "20\n",
      "  6.898704 seconds (34.65 M allocations: 27.873 GiB, 13.21% gc time)\n",
      "Draws     : 0.0%\n",
      "Black Wins: 100.0%\n",
      "White Wins: 0.0%\n"
     ]
    }
   ],
   "source": [
    "results = Dict(BlackWin => 0, WhiteWin => 0, Draw => 0)\n",
    "repetitions = 20\n",
    "\n",
    "@time for x in 1:repetitions\n",
    "    result = play(white = ABMemoAllAI(1), black = MiniMaxAI(3), log = nothing)\n",
    "    results[result] += 1\n",
    "    \n",
    "    if x % 2 == 0\n",
    "        println(x)\n",
    "    end\n",
    "end\n",
    "\n",
    "println(\"Draws     : $((results[Draw] / repetitions) * 100)%\")\n",
    "println(\"Black Wins: $((results[BlackWin] / repetitions) * 100)%\")\n",
    "println(\"White Wins: $((results[WhiteWin] / repetitions) * 100)%\")"
   ]
  },
  {
   "cell_type": "code",
   "execution_count": 12,
   "id": "d44ca9ba",
   "metadata": {
    "scrolled": true
   },
   "outputs": [
    {
     "name": "stdout",
     "output_type": "stream",
     "text": [
      "2\n",
      "4\n",
      "6\n",
      "8\n",
      "10\n",
      "12\n",
      "14\n",
      "16\n",
      "18\n",
      "20\n",
      "  3.264541 seconds (12.72 M allocations: 11.025 GiB, 15.52% gc time)\n",
      "Draws     : 0.0%\n",
      "Black Wins: 0.0%\n",
      "White Wins: 100.0%\n"
     ]
    }
   ],
   "source": [
    "results = Dict(BlackWin => 0, WhiteWin => 0, Draw => 0)\n",
    "repetitions = 20\n",
    "\n",
    "@time for x in 1:repetitions\n",
    "    result = play(white = ABMemoAllAI(3), black = MiniMaxAI(1), log = nothing)\n",
    "    results[result] += 1\n",
    "    \n",
    "    if x % 2 == 0\n",
    "        println(x)\n",
    "    end\n",
    "end\n",
    "\n",
    "println(\"Draws     : $((results[Draw] / repetitions) * 100)%\")\n",
    "println(\"Black Wins: $((results[BlackWin] / repetitions) * 100)%\")\n",
    "println(\"White Wins: $((results[WhiteWin] / repetitions) * 100)%\")"
   ]
  },
  {
   "cell_type": "markdown",
   "id": "f615cf06",
   "metadata": {},
   "source": [
    "***"
   ]
  }
 ],
 "metadata": {
  "kernelspec": {
   "display_name": "Julia 1.8.5",
   "language": "julia",
   "name": "julia-1.8"
  },
  "language_info": {
   "file_extension": ".jl",
   "mimetype": "application/julia",
   "name": "julia",
   "version": "1.8.5"
  }
 },
 "nbformat": 4,
 "nbformat_minor": 5
}
