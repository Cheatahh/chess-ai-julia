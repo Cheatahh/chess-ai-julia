{
 "cells": [
  {
   "cell_type": "code",
   "execution_count": 15,
   "id": "6ba89b59",
   "metadata": {},
   "outputs": [
    {
     "data": {
      "text/html": [
       "<link href='https://fonts.googleapis.com/css?family=Alegreya+Sans:100,300,400,500,700,800,900,100italic,300italic,400italic,500italic,700italic,800italic,900italic' rel='stylesheet' type='text/css'>\r\n",
       "<link href='https://fonts.googleapis.com/css?family=Arvo:400,700,400italic' rel='stylesheet' type='text/css'>\r\n",
       "<link href='https://fonts.googleapis.com/css?family=PT+Mono' rel='stylesheet' type='text/css'>\r\n",
       "<link href='https://fonts.googleapis.com/css?family=Shadows+Into+Light' rel='stylesheet' type='text/css'>\r\n",
       "<link href='https://fonts.googleapis.com/css?family=Philosopher:400,700,400italic,700italic' rel='stylesheet' type='text/css'>\r\n",
       "\r\n",
       "<style>\r\n",
       "\r\n",
       "@font-face {\r\n",
       "    font-family: \"Computer Modern\";\r\n",
       "    src: url('https://mirrors.ctan.org/fonts/cm-unicode/fonts/otf/cmunss.otf');\r\n",
       "}\r\n",
       "\r\n",
       ".container { width: 100% }\r\n",
       "\r\n",
       "/* Formatting for header cells */\r\n",
       ".text_cell_render h1 {\r\n",
       "    font-family: 'Philosopher', sans-serif;\r\n",
       "    font-weight: 400;\r\n",
       "    font-size: 2.2em;\r\n",
       "    line-height: 100%;\r\n",
       "    color: rgb(0, 80, 120);\r\n",
       "    margin-bottom: 0.1em;\r\n",
       "    margin-top: 0.1em;\r\n",
       "    display: block;\r\n",
       "}\t\r\n",
       ".text_cell_render h2 {\r\n",
       "    font-family: 'Philosopher', serif;\r\n",
       "    font-weight: 400;\r\n",
       "    font-size: 1.9em;\r\n",
       "    line-height: 100%;\r\n",
       "    color: rgb(200,100,0);\r\n",
       "    margin-bottom: 0.1em;\r\n",
       "    margin-top: 0.1em;\r\n",
       "    display: block;\r\n",
       "}\t\r\n",
       "\r\n",
       ".text_cell_render h3 {\r\n",
       "    font-family: 'Philosopher', serif;\r\n",
       "    margin-top:12px;\r\n",
       "    margin-bottom: 3px;\r\n",
       "    font-style: italic;\r\n",
       "    color: rgb(94,127,192);\r\n",
       "}\r\n",
       "\r\n",
       ".text_cell_render h4 {\r\n",
       "    font-family: 'Philosopher', serif;\r\n",
       "}\r\n",
       "\r\n",
       ".text_cell_render h5 {\r\n",
       "    font-family: 'Alegreya Sans', sans-serif;\r\n",
       "    font-weight: 300;\r\n",
       "    font-size: 16pt;\r\n",
       "    color: grey;\r\n",
       "    font-style: italic;\r\n",
       "    margin-bottom: .1em;\r\n",
       "    margin-top: 0.1em;\r\n",
       "    display: block;\r\n",
       "}\r\n",
       "\r\n",
       ".text_cell_render h6 {\r\n",
       "    font-family: 'PT Mono', sans-serif;\r\n",
       "    font-weight: 300;\r\n",
       "    font-size: 10pt;\r\n",
       "    color: grey;\r\n",
       "    margin-bottom: 1px;\r\n",
       "    margin-top: 1px;\r\n",
       "}\r\n",
       "\r\n",
       ".text_cell_render em {\r\n",
       "    font-family: 'Philosopher', sans-serif;\r\n",
       "    color:        blue;\r\n",
       "    background-color: rgb(255,220,180);\r\n",
       "    font-size:    110%;\r\n",
       "    margin-left:   2px;\r\n",
       "    margin-right:  2px;\r\n",
       "    font-weight:   100;\r\n",
       "}\r\n",
       "\r\n",
       ".text_cell_render b {\r\n",
       "    color:            rgb(255,195,195);\r\n",
       "    background-color: rgb(0,0,0);\r\n",
       "    font-size:    110%;\r\n",
       "    margin-left:   2px;\r\n",
       "    margin-right:  2px;\r\n",
       "    font-weight:   650;\r\n",
       "}\r\n",
       "\r\n",
       ".text_cell_render tt {\r\n",
       "    font-size:    120%;\r\n",
       "    margin-left:   2px;\r\n",
       "    margin-right:  2px;\r\n",
       "    font-weight:   150;\r\n",
       "}\r\n",
       "\r\n",
       ".Codemirror {\r\n",
       "    font-family: \"PT Mono\", sans-serif;\r\n",
       "    font-size: 100%;\r\n",
       "}\r\n",
       "\r\n",
       "</style>"
      ],
      "text/plain": [
       "HTML{String}(\"<link href='https://fonts.googleapis.com/css?family=Alegreya+Sans:100,300,400,500,700,800,900,100italic,300italic,400italic,500italic,700italic,800italic,900italic' rel='stylesheet' type='text/css'>\\r\\n<link href='https://fonts.googleapis.com/css?family=Arvo:400,700,400italic' rel='stylesheet' type='text/css'>\\r\\n<link href='https://fonts.googleapis.com/css?family=PT+Mono' rel='stylesheet' type='text/css'>\\r\\n<link href='https://fonts.googleapis.com/css?family=Shadows+Into+Light' rel='stylesheet' type='text/css'>\\r\\n<link href='https://fonts.googleapis.com/css?family=Philosopher:400,700,400italic,700italic' rel='stylesheet' type='text/css'>\\r\\n\\r\\n<style>\\r\\n\\r\\n@font-face {\\r\\n    font-family: \\\"Computer Modern\\\";\\r\\n    src: url('https://mirrors.ctan.org/fonts/cm-unicode/fonts/otf/cmunss.otf');\\r\\n}\\r\\n\\r\\n.container { width: 100% }\\r\\n\\r\\n/* Formatting for header cells */\\r\\n.text_cell_render h1 {\\r\\n    font-family: 'Philosopher', sans-serif;\\r\\n    font-weight: 400;\\r\\n    font-size: 2.2em;\\r\\n    line-height: 100%;\\r\\n    color: rgb(0, 80, 120);\\r\\n    margin-bottom: 0.1em;\\r\\n    margin-top: 0.1em;\\r\\n    display: block;\\r\\n}\\t\\r\\n.text_cell_render h2 {\\r\\n    font-family: 'Philosopher', serif;\\r\\n    font-weight: 400;\\r\\n    font-size: 1.9em;\\r\\n    line-height: 100%;\\r\\n    color: rgb(200,100,0);\\r\\n    margin-bottom: 0.1em;\\r\\n    margin-top: 0.1em;\\r\\n    display: block;\\r\\n}\\t\\r\\n\\r\\n.text_cell_render h3 {\\r\\n    font-family: 'Philosopher', serif;\\r\\n    margin-top:12px;\\r\\n    margin-bottom: 3px;\\r\\n    font-style: italic;\\r\\n    color: rgb(94,127,192);\\r\\n}\\r\\n\\r\\n.text_cell_render h4 {\\r\\n    font-family: 'Philosopher', serif;\\r\\n}\\r\\n\\r\\n.text_cell_render h5 {\\r\\n    font-family: 'Alegreya Sans', sans-serif;\\r\\n    font-weight: 300;\\r\\n    font-size: 16pt;\\r\\n    color: grey;\\r\\n    font-style: italic;\\r\\n    margin-bottom: .1em;\\r\\n    margin-top: 0.1em;\\r\\n    display: block;\\r\\n}\\r\\n\\r\\n.text_cell_render h6 {\\r\\n    font-family: 'PT Mono', sans-serif;\\r\\n    font-weight: 300;\\r\\n    font-size: 10pt;\\r\\n    color: grey;\\r\\n    margin-bottom: 1px;\\r\\n    margin-top: 1px;\\r\\n}\\r\\n\\r\\n.text_cell_render em {\\r\\n    font-family: 'Philosopher', sans-serif;\\r\\n    color:        blue;\\r\\n    background-color: rgb(255,220,180);\\r\\n    font-size:    110%;\\r\\n    margin-left:   2px;\\r\\n    margin-right:  2px;\\r\\n    font-weight:   100;\\r\\n}\\r\\n\\r\\n.text_cell_render b {\\r\\n    color:            rgb(255,195,195);\\r\\n    background-color: rgb(0,0,0);\\r\\n    font-size:    110%;\\r\\n    margin-left:   2px;\\r\\n    margin-right:  2px;\\r\\n    font-weight:   650;\\r\\n}\\r\\n\\r\\n.text_cell_render tt {\\r\\n    font-size:    120%;\\r\\n    margin-left:   2px;\\r\\n    margin-right:  2px;\\r\\n    font-weight:   150;\\r\\n}\\r\\n\\r\\n.Codemirror {\\r\\n    font-family: \\\"PT Mono\\\", sans-serif;\\r\\n    font-size: 100%;\\r\\n}\\r\\n\\r\\n</style>\")"
      ]
     },
     "execution_count": 15,
     "metadata": {},
     "output_type": "execute_result"
    }
   ],
   "source": [
    "HTML(read(open(\"style.html\"), String))"
   ]
  },
  {
   "cell_type": "code",
   "execution_count": 16,
   "id": "31f544fd",
   "metadata": {},
   "outputs": [],
   "source": [
    "import Dates\n",
    "using NBInclude"
   ]
  },
  {
   "cell_type": "code",
   "execution_count": 17,
   "id": "f9424cb8",
   "metadata": {},
   "outputs": [
    {
     "data": {
      "text/plain": [
       "undomove! (generic function with 1 method)"
      ]
     },
     "execution_count": 17,
     "metadata": {},
     "output_type": "execute_result"
    }
   ],
   "source": [
    "@nbinclude \"2.1 - Board.ipynb\""
   ]
  },
  {
   "cell_type": "markdown",
   "id": "cdf3a69d",
   "metadata": {},
   "source": [
    "***"
   ]
  },
  {
   "cell_type": "markdown",
   "id": "6a820f0d",
   "metadata": {},
   "source": [
    "# Gameplay\n",
    "\n",
    "Während die `Chess.jl` Bibliothek eine grundlegende Implementation des Schachspiels bereitstellt, \n",
    "\n",
    "Zu Beginn werden mögliche `GameAction`s und `GameResult`s definiert. Es wurde ein `enum` gewählt, da die Verwendung Fehler präventiert und zukünftige Änderungen erleichtert."
   ]
  },
  {
   "cell_type": "code",
   "execution_count": 18,
   "id": "8ea19c2b",
   "metadata": {},
   "outputs": [],
   "source": [
    "@enum GameAction begin\n",
    "    Resign\n",
    "    Undo\n",
    "end"
   ]
  },
  {
   "cell_type": "code",
   "execution_count": 19,
   "id": "5c1c0fd1",
   "metadata": {},
   "outputs": [],
   "source": [
    "@enum GameResult begin\n",
    "    WhiteWin\n",
    "    BlackWin\n",
    "    Draw\n",
    "end"
   ]
  },
  {
   "cell_type": "markdown",
   "id": "0a4cabbb",
   "metadata": {},
   "source": [
    "# Gameplay\n",
    "\n",
    "Die Funktion `play` initialisert das Schachspiel. Sie ermöglicht es, die Kontrahenten frei zu definieren. Als **Input** benötigt sie Informationen über die Spieler \"Schwarz\" und \"Weiß\", sowie das Schachbrett das verwendet werden soll. Valide Spieler für \"Schwarz\" und \"Weiß\" sind sowohl `Player()`, als auch die verschiedenen KIs, bspw. `MemoAI(...)`. Sobald das Spiel initiert wurde, werden die normalen Schachregeln befolgt."
   ]
  },
  {
   "cell_type": "markdown",
   "id": "5cfe284b",
   "metadata": {},
   "source": [
    "Hierbei folgt das Spielen eines Schachspiels stets der folgenden Logik:\n",
    "```\n",
    "while !isterminal(game)\n",
    "\n",
    "    move = nextMove(game, whiteTurn ? whitePlayer : blackPlayer)\n",
    "    domove!(game, move)\n",
    "    \n",
    "end\n",
    "```"
   ]
  },
  {
   "cell_type": "markdown",
   "id": "fbaab7c6",
   "metadata": {},
   "source": [
    "**Input**:\n",
    "+ white &rarr; der weiße Spieler\n",
    "+ black &rarr; der schwarze Spieler\n",
    "+ fen &rarr; das zu verwendene Spielbrett im FEN-String-Format (hier wird die Standardstart-Situation verwendet)\n",
    "\n",
    "**Output**:\n",
    "+ das Schachbrett auf dem gespielt wird"
   ]
  },
  {
   "cell_type": "code",
   "execution_count": 20,
   "id": "03ea3080",
   "metadata": {},
   "outputs": [
    {
     "data": {
      "text/plain": [
       "play (generic function with 1 method)"
      ]
     },
     "execution_count": 20,
     "metadata": {},
     "output_type": "execute_result"
    }
   ],
   "source": [
    "function play(; white, black, fen::String = \"rnbqkbnr/pppppppp/8/8/8/8/PPPPPPPP/RNBQKBNR w KQkq -\")::GameResult\n",
    "    game = Chess.SimpleGame(Chess.fromfen(fen))\n",
    "    printBoard(Chess.board(game))\n",
    "    extboard = ExtendedBoard(Chess.fromfen(fen))\n",
    "    extundo = ExtendedUndoInfo[]\n",
    "    while !Chess.isterminal(game)\n",
    "        answer = getNextMove(Chess.sidetomove(Chess.board(game)) === Chess.WHITE ? white : black, extboard)\n",
    "        if(answer == Resign)\n",
    "            break\n",
    "        end\n",
    "        if(answer == Undo)\n",
    "            if game.ply >= 3\n",
    "                Chess.back!(game)\n",
    "                Chess.back!(game)\n",
    "                undomove!(extboard, pop!(extundo))\n",
    "                undomove!(extboard, pop!(extundo))\n",
    "            end\n",
    "            printBoard(Chess.board(game))\n",
    "            continue\n",
    "        end\n",
    "        answer::Chess.Move\n",
    "        Chess.domove!(game, answer)\n",
    "        push!(extundo, domove!(extboard, answer))\n",
    "        printBoard(Chess.board(game))\n",
    "        println(\"Last Move: $(answer)\")\n",
    "    end\n",
    "    saveGame(game)\n",
    "    return rateGame(game, extboard.repetionRuleDraw)\n",
    "end"
   ]
  },
  {
   "cell_type": "markdown",
   "id": "179aa474",
   "metadata": {},
   "source": [
    "Die Funktion `getNextMove(entity, board, ...)` bildet auf den nächsten durchzuführenden Zug, bzw. ein `GameAction` ab. Hierbei wird die tatsächliche Implementation der Funktion über Multiple-Dispatch mit dem `entity` Attribut bestimmt. Dieses wechselt mit der Partei am Zug.\n",
    "\n",
    "Diese Herangehensweise ermöglicht es uns, dynamisch mehrere AI Generationen hinzuzufügen, ohne die Hauptfunktion der Spieldurchführung zu ändern. Eine Spielseite (Schwarz oder Weiß) ist somit nicht an eine Spieler-Partei (AI oder \"echter\" Spieler) gebunden. Falls gewünscht, können zwei AIs ohne jegliche Interaktion gegeneinander getestet werden.\n",
    "\n",
    "Jede Spieler-Partei definiert folgende Komponenten:\n",
    "\n",
    "- Ein Struct als eigener Datentyp\n",
    "- Die Funktion `getNextMove` mit der Signatur `getNextMove(<TYPE>, ExtendedBoard, ...) -> Move ∪ GameAction`"
   ]
  },
  {
   "cell_type": "markdown",
   "id": "afd2bdac",
   "metadata": {},
   "source": [
    "Damit nicht nur KIs gegeneinander spielen, sondern auch menschliche Spieler ihr Geschick testen können, wird das `struct Player` und die Funktion `getNextMove` definiert. Die Funktion hat folgenden **Input** und **Output**:\n",
    "\n",
    "**Input**:\n",
    "+ _::Player &rarr; der Spieler\n",
    "+ extboard &rarr; das Spielbrett\n",
    "+ _... &rarr; ein Platzhalter, der es ermöglicht weitere Parameter zu übergeben\n",
    "\n",
    "**Output**:\n",
    "+ es wird ein Zug und / oder eine `GameAction` ausgegeben.\n",
    "\n",
    "Die Züge selbst werden als `String` eingegeben. Dabei ist zu beachten, dass sowohl die Start- als auch die Endposition der bewegten Figur angegeben werden muss. Der Zug eines Bauerns von `e2` nach `e4` wird mit `e2e4` beschrieben."
   ]
  },
  {
   "cell_type": "code",
   "execution_count": 21,
   "id": "74fcef72",
   "metadata": {
    "scrolled": true
   },
   "outputs": [
    {
     "data": {
      "text/plain": [
       "getNextMove (generic function with 1 method)"
      ]
     },
     "execution_count": 21,
     "metadata": {},
     "output_type": "execute_result"
    }
   ],
   "source": [
    "struct Player end\n",
    "\n",
    "function getNextMove(_::Player, extboard::ExtendedBoard, _...)::Union{Chess.Move, GameAction}\n",
    "    legalMoves::Chess.MoveList = Chess.moves(extboard.board)\n",
    "    @assert length(legalMoves) > 0\n",
    "    while true\n",
    "        enteredString = readline()\n",
    "        if enteredString == \"resign\" || enteredString == \"exit\"\n",
    "            return Resign\n",
    "        end\n",
    "        if enteredString == \"undo\"\n",
    "            return Undo\n",
    "        end\n",
    "        enteredMove = Chess.movefromstring(enteredString)\n",
    "        if enteredMove ∈ legalMoves\n",
    "            return enteredMove\n",
    "        end\n",
    "        println(\"Illegal input '$(enteredString)'\")\n",
    "        println(\"Available actions: resign | exit, undo\")\n",
    "        println(\"Available moves: $(map(move -> Chess.tostring(move), legalMoves))\")\n",
    "    end\n",
    "end"
   ]
  },
  {
   "cell_type": "markdown",
   "id": "ea072377",
   "metadata": {},
   "source": [
    "## Weitere Funktionen\n",
    "\n",
    "Dieser Abschnitt beschreibt Helferfunktinen, welche die Hauptfunktion in ihrer Arbeit unterstützen.\n",
    "\n",
    "Die `printBoard` Funktion wird verwendet um das Spielbrett visuell im HTML-Format darzustellen.\n",
    "\n",
    "**Input**:\n",
    "+ board &rarr; das darzustellende Spielbrett\n",
    "\n",
    "\n",
    "**Output**:\n",
    "+ das Spielbrett im HTML-Format"
   ]
  },
  {
   "cell_type": "code",
   "execution_count": 22,
   "id": "ad900fae",
   "metadata": {},
   "outputs": [
    {
     "data": {
      "text/plain": [
       "printBoard (generic function with 1 method)"
      ]
     },
     "execution_count": 22,
     "metadata": {},
     "output_type": "execute_result"
    }
   ],
   "source": [
    "function printBoard(board::Chess.Board)\n",
    "    IJulia.clear_output()\n",
    "    println(Chess.fen(board))\n",
    "    html = HTML(IJulia.html(board))\n",
    "    IJulia.display(html)\n",
    "end"
   ]
  },
  {
   "cell_type": "markdown",
   "id": "2ee8c196",
   "metadata": {},
   "source": [
    "Um das Schachspiel in der Gesamtheit zu bewerten nutzen wir die Funktion `rateGame`. Sie bekommt als **Input** das komplette Spiel, sowie Informationen über ein Unentschieden nach Wiederholungen, übergeben und gibt als **Output** eine Bewertung aus. Dabei wird zuerst überprüft, ob das Spiel überhaupt beendet ist. Ist das Spiel vorbei, so wird die Endsituation hinischtlich des Ausgangs des Spiels bewertet. Hier müssen alle möglichen Ausgangsszenarien beachtet werden, d.h. es muss exakt überprüft werden, ob und wenn ja wer gewonnen hat und / oder ob ein Unentschieden vorliegt und wenn ja, welche Regel dies verursacht. Ist das Spiel noch nicht vorbei, so wird lediglich eine `0` wiedergegeben.\n",
    "\n",
    "**Input**:\n",
    "+ game &rarr; das Spiel\n",
    "+ drawByRepetitionRule &rarr; Kontext der Regel für ein Unentschieden nach Wiederholungen\n",
    "\n",
    "**Output**:\n",
    "+ ein String bzw. Integer, abhängig von der Spiel-Situation"
   ]
  },
  {
   "cell_type": "code",
   "execution_count": 2,
   "id": "9267bf33",
   "metadata": {},
   "outputs": [
    {
     "ename": "LoadError",
     "evalue": "UndefVarError: Chess not defined",
     "output_type": "error",
     "traceback": [
      "UndefVarError: Chess not defined",
      "",
      "Stacktrace:",
      " [1] top-level scope",
      "   @ In[2]:1"
     ]
    }
   ],
   "source": [
    "function rateGame(game::Chess.SimpleGame, drawByRepetitionRule::Bool)::GameResult\n",
    "    currentBoard = Chess.board(game)\n",
    "    currentSide = Chess.sidetomove(currentBoard)\n",
    "    if Chess.isterminal(currentBoard) || drawByRepetitionRule\n",
    "        if Chess.ischeckmate(currentBoard)\n",
    "            println(\"Checkmate, $(Chess.coloropp(currentSide)) wins\")\n",
    "            return currentSide == Chess.WHITE ? BlackWin : WhiteWin\n",
    "        elseif Chess.isstalemate(currentBoard)\n",
    "            println(\"Draw (Stalemate)\")\n",
    "        elseif Chess.ismaterialdraw(currentBoard)\n",
    "            println(\"Draw (Material Draw)\")\n",
    "        elseif Chess.isrule50draw(currentBoard)\n",
    "            println(\"Draw (50 Moves Rule)\")\n",
    "        else\n",
    "            println(\"Draw\")\n",
    "        end\n",
    "    else\n",
    "        println(\"$(currentSide) resigned, $(Chess.coloropp(currentSide)) wins\")\n",
    "        return currentSide == Chess.WHITE ? BlackWin : WhiteWin\n",
    "    end\n",
    "    return Draw\n",
    "end"
   ]
  },
  {
   "cell_type": "markdown",
   "id": "2cf7dbd0",
   "metadata": {},
   "source": [
    "Für Testzwecke und Fehlerfindung, aber auch die spätere Analyse von beendeten Spielen, muss das gesammte Spiel mit allen Zügen gespeichert werden. \n",
    "Die Funktion `saveGame` wandelt ein Spiel mit sämtlichen Informationen, bspw. den Zügen, in eine PGN-Datei um. `PGN` steht dabei für `Portable Game Notation` und ist Dateiformat für Schachspiele, welches die Partien als lesbaren Text abspeichert.\n",
    "\n",
    "**Input**:\n",
    "+ game &rarr; das Spiel\n",
    "\n",
    "**Output**:\n",
    "+ eine PGN-Datei mit allen Infomrationen der Partie."
   ]
  },
  {
   "cell_type": "code",
   "execution_count": 24,
   "id": "6993161e",
   "metadata": {},
   "outputs": [
    {
     "data": {
      "text/plain": [
       "saveGame (generic function with 1 method)"
      ]
     },
     "execution_count": 24,
     "metadata": {},
     "output_type": "execute_result"
    }
   ],
   "source": [
    "function saveGame(game::Chess.SimpleGame)\n",
    "    try\n",
    "        mkdir(\"games\")\n",
    "    catch _ end\n",
    "    try\n",
    "        pgnFile = \"games/$(replace(string(Dates.now()), \":\" => \"-\")).pgn\"\n",
    "        open(pgnFile, \"w\") do file\n",
    "            write(file, Chess.PGN.gametopgn(game))\n",
    "        end\n",
    "        println(\"Saved game to $(pgnFile)\")\n",
    "    catch e \n",
    "        println(\"Could not save game.\")\n",
    "        println(e)\n",
    "    end\n",
    "end"
   ]
  },
  {
   "cell_type": "markdown",
   "id": "6b20ef4b",
   "metadata": {},
   "source": [
    "***"
   ]
  }
 ],
 "metadata": {
  "kernelspec": {
   "display_name": "Julia 1.8.5",
   "language": "julia",
   "name": "julia-1.8"
  },
  "language_info": {
   "file_extension": ".jl",
   "mimetype": "application/julia",
   "name": "julia",
   "version": "1.8.5"
  }
 },
 "nbformat": 4,
 "nbformat_minor": 5
}
