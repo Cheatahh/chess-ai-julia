{
 "cells": [
  {
   "cell_type": "code",
   "execution_count": null,
   "id": "6f975410",
   "metadata": {},
   "outputs": [],
   "source": [
    "HTML(read(open(\"style.html\"), String))"
   ]
  },
  {
   "cell_type": "code",
   "execution_count": 1,
   "id": "f5bdf35d",
   "metadata": {
    "scrolled": true
   },
   "outputs": [
    {
     "data": {
      "text/plain": [
       "@silent (macro with 1 method)"
      ]
     },
     "execution_count": 1,
     "metadata": {},
     "output_type": "execute_result"
    }
   ],
   "source": [
    "include(\"silent.jl\")"
   ]
  },
  {
   "cell_type": "code",
   "execution_count": 2,
   "id": "a48804fd",
   "metadata": {},
   "outputs": [],
   "source": [
    "using Pkg\n",
    "@silent Pkg.add(\"NBInclude\")\n",
    "using NBInclude\n",
    "import Chess\n",
    "import Chess.UCI\n",
    "import Chess.PGN\n",
    "@silent Pkg.add(\"Plots\")\n",
    "import Plots"
   ]
  },
  {
   "cell_type": "code",
   "execution_count": 3,
   "id": "b0fc9aee",
   "metadata": {},
   "outputs": [
    {
     "data": {
      "text/plain": [
       "getNextMove (generic function with 6 methods)"
      ]
     },
     "execution_count": 3,
     "metadata": {},
     "output_type": "execute_result"
    }
   ],
   "source": [
    "@nbinclude \"2.1 - Board.ipynb\"\n",
    "@nbinclude \"2.0 - Gameplay.ipynb\"\n",
    "@nbinclude \"3.1 - Evaluation.ipynb\"\n",
    "@nbinclude \"5.1 - Alpha-Beta-Pruning AI.ipynb\"\n",
    "@nbinclude \"6.0 - Iterative Deepening.ipynb\""
   ]
  },
  {
   "cell_type": "markdown",
   "id": "bd11ff07",
   "metadata": {},
   "source": [
    "***"
   ]
  },
  {
   "cell_type": "markdown",
   "id": "5dff9ecc",
   "metadata": {},
   "source": [
    "# Testing - Stockfish\n",
    "\n",
    "Dieses Notebook umfasst Tests gegen die Schach-Engine [`Stockfish 15.1`](https://stockfishchess.org/).\n",
    "\n",
    "Stockfish ist mit dem [Universal Chess Interface (UCI)](https://www.chessprogramming.org/UCI) Kommunikationsprotokoll kompatibel. Dies ermöglicht es uns, Stockfish über das UCI-Modul der `Chess.jl` Bibliothek einzubinden.\n",
    "\n",
    "Da es sich bei Stockfish um eine hochgradig optimierte Schach-KI mit einer geschätzten Elo von über 3500 handelt, muss Stockfish für unsere Testzwecke geschwächt werden, um einen gleichwertigen Gegner darstellen zu können.\n",
    "\n",
    "Die Spielstärke von Stockfish wird unter anderem durch zwei Einstellungen bestimmt:\n",
    "\n",
    "### Skill Level\n",
    "\n",
    "Mit der UCI-Option `Skill Level` lässt sich eine Spielstärke `0 - 19` angeben. Bei einem Skill-Level von 19 erreicht Stockfish seine höchste Spielleistung.\n",
    "\n",
    "### UCI Elo Rating\n",
    "    \n",
    "Mit den UCI-Optionen `UCI_LimitStrength` und `UCI_Elo` lässt sich eine ungefähre Spielstärke in Elo-Punkten angeben. Diese Limitierung wird [intern](https://github.com/official-stockfish/Stockfish/blob/d99942f25449789de78c9d36e3dcb67d4eb04e98/src/search.cpp#L93) wie folgt in ein passendes Skill Level konvertiert:\n",
    "\n",
    "```c++\n",
    "    double e = double(uci_elo - 1320) / (3190 - 1320);\n",
    "    level = std::clamp((((37.2473 * e - 40.8525) * e + 22.2943) * e - 0.311438), 0.0, 19.0);\n",
    "```\n",
    "\n",
    "Quelle: [github.com/official-stockfish/Stockfish](https://github.com/official-stockfish/Stockfish/blob/d99942f25449789de78c9d36e3dcb67d4eb04e98/src/search.cpp#L101), Abruf am 04.06.2023.\n",
    "\n",
    "Eine Anzahl von 1500 Elo-Punkten entspricht somit einem Skill-Level von 1,48924. Wie im Source-Code beschrieben, handelt es sich hierbei jedoch lediglich um Annäherungen.\n",
    "\n",
    "Aus der beschriebenen Formel ergibt sich die folgende Skill-Level-Interpretation:\n",
    "\n",
    "<table style=\"width: 70%\">\n",
    "    <tr>\n",
    "        <th>Skill-Level</th>\n",
    "        <th>~Elo</th>\n",
    "    </tr>\n",
    "    <tr><td>0</td><td>≥ 1320</td></tr>\n",
    "    <tr><td>1</td><td>≥ 1445</td></tr>\n",
    "    <tr><td>2</td><td>≥ 1567</td></tr>\n",
    "    <tr><td>3</td><td>≥ 1729</td></tr>\n",
    "    <tr><td>4</td><td>≥ 1954</td></tr>\n",
    "    <tr><td>5</td><td>≥ 2197</td></tr>\n",
    "    <tr><td>6</td><td>≥ 2383</td></tr>\n",
    "    <tr><td>7</td><td>≥ 2519</td></tr>\n",
    "    <tr><td>8</td><td>≥ 2625</td></tr>\n",
    "    <tr><td>9</td><td>≥ 2712</td></tr>\n",
    "    <tr><td>10</td><td>≥ 2786</td></tr>\n",
    "    <tr><td>11</td><td>≥ 2852</td></tr>\n",
    "    <tr><td>12</td><td>≥ 2910</td></tr>\n",
    "    <tr><td>13</td><td>≥ 2963</td></tr>\n",
    "    <tr><td>14</td><td>≥ 3012</td></tr>\n",
    "    <tr><td>15</td><td>≥ 3057</td></tr>\n",
    "    <tr><td>16</td><td>≥ 3100</td></tr>\n",
    "    <tr><td>17</td><td>≥ 3139</td></tr>\n",
    "    <tr><td>18</td><td>≥ 3177</td></tr>\n",
    "    <tr><td>19</td><td>≥ 3212</td></tr>\n",
    "</table>\n",
    "\n",
    "Um die gewünschte Mindeststärke von 1300 zu erreichen, muss unsere KI Stockfish mit Level 0 bei gleicher Suchtiefe in mindestens 50% der Fälle schlagen (ausgenommen Unentschieden)."
   ]
  },
  {
   "cell_type": "markdown",
   "id": "0f2b2d58",
   "metadata": {},
   "source": [
    "# Stockfish KI\n",
    "\n",
    "Um Stockfish als Spieler einbinden zu können, wird ein eigener KI-Typ definiert, welcher über das `Chess.UCI` Modul auf Stockfish zugreift.\n",
    "\n",
    "Der Konstruktor `Stockfish(skill::Int, depth::Int = 20)` erstellt eine neue Instanz des Stockfish-Spielers mit einer Skill-Level- und Suchtiefen-Limitierungen (optional).\n",
    "\n",
    "Der Konstruktor `Stockfish(elo::Int)` erstellt eine neue Instanz des Stockfish-Spielers mit einer Elo-Limitierung. Hierbei wird Stockfish auf eine feste Suchtiefe von 20 (Halbzügen) gesetzt. Dies ermöglicht es Stockfish, gute Zugentscheidungen zu treffen, ohne einen unfairen Vorteil zu erlangen."
   ]
  },
  {
   "cell_type": "code",
   "execution_count": 4,
   "id": "66233b22",
   "metadata": {},
   "outputs": [],
   "source": [
    "struct Stockfish\n",
    "    engine::Chess.UCI.Engine\n",
    "    depth::Int\n",
    "    \n",
    "    function Stockfish(skill::Int, depth::Int = 20)\n",
    "        # requires the stockfish executable (f.e. stockfish.exe) to be in PATH\n",
    "        sf = Chess.UCI.runengine(\"stockfish\")\n",
    "        Chess.UCI.setoption(sf, \"Skill Level\", skill)\n",
    "        return new(sf, depth) \n",
    "    end\n",
    "    \n",
    "    function Stockfish(elo::Int)\n",
    "        # requires the stockfish executable (f.e. stockfish.exe) to be in PATH\n",
    "        sf = Chess.UCI.runengine(\"stockfish\")\n",
    "        Chess.UCI.setoption(sf, \"UCI_LimitStrength\", true)\n",
    "        Chess.UCI.setoption(sf, \"UCI_Elo\", elo)\n",
    "        return new(sf, 20) \n",
    "    end\n",
    "end"
   ]
  },
  {
   "cell_type": "markdown",
   "id": "d21c519b",
   "metadata": {},
   "source": [
    "**Input:**\n",
    "+ ai &rarr; die Stockfish-KI\n",
    "+ extboard &rarr; das Spielbrett\n",
    "+ log &rarr; die zu verwendende Log-Funktion\n",
    "+ _... &rarr; ein Platzhalter, der es ermöglicht weitere Parameter mitzugeben \n",
    "\n",
    "**Output:**\n",
    "+ move &rarr; der von Stockfish gefundene Zug"
   ]
  },
  {
   "cell_type": "code",
   "execution_count": 5,
   "id": "aed07e6f",
   "metadata": {},
   "outputs": [
    {
     "data": {
      "text/plain": [
       "getNextMove (generic function with 7 methods)"
      ]
     },
     "execution_count": 5,
     "metadata": {},
     "output_type": "execute_result"
    }
   ],
   "source": [
    "function getNextMove(ai::Stockfish, extboard::ExtendedBoard, log::Function, _...)::Chess.Move\n",
    "    Chess.UCI.setboard(ai.engine, extboard.board)\n",
    "    return Chess.UCI.search(ai.engine, \"go depth $(ai.depth)\", infoaction = log).bestmove\n",
    "end"
   ]
  },
  {
   "cell_type": "markdown",
   "id": "da2027ee",
   "metadata": {},
   "source": [
    "# Aufstellung der Tests\n",
    "\n",
    "Tests gegen Stockfish werden mit dem folgenden Code durchgeführt. Hierbei tritt die beste Version unserer KI (ABMemoAllAI) mit einer maximalen Suchzeit von 10 Sekunden gegen Stockfish an.\n",
    "\n",
    "Während diese Zeitlimitierung die Spielstärke unserer KI negativ beeinflusst, ermöglicht sie uns, möglichst viele Spiele zu spielen.\n",
    "\n",
    "Alle Tests werden mehrfach wiederholt, nach jedem Spiel werden die Farben getauscht.\n",
    "\n",
    "Gespielte Spiele werden anschließend in entsprechenden Ordnern `./games-$(elo)`, bzw. `./games-$(level)-$(depth)` gespeichert.\n",
    "\n",
    "Hierbei betrachten wir verschiedene Kombinationen aus Skill-Leveln und Suchtiefen."
   ]
  },
  {
   "cell_type": "markdown",
   "id": "3b9635e2",
   "metadata": {},
   "source": [
    "**Tests mit Stockfish Elo Limitierung**"
   ]
  },
  {
   "cell_type": "code",
   "execution_count": null,
   "id": "1cef0f22",
   "metadata": {
    "scrolled": false
   },
   "outputs": [
    {
     "name": "stdout",
     "output_type": "stream",
     "text": [
      "r2q1rk1/ppp1bppp/2n5/4p3/7P/1NP3P1/PP2QP2/R1B1KBNb b Q -\n"
     ]
    },
    {
     "data": {
      "text/html": [
       "Board:<div class=\"chessboard\"><style soped=\"true\">.dark-square {\n",
       "    fill: #c3936a;\n",
       "    stroke-width: 0;\n",
       "}\n",
       ".light-square {\n",
       "    fill: #ffd7a6;\n",
       "    stroke-width: 0;\n",
       "}\n",
       ".highlight {\n",
       "    fill: #47d18b;\n",
       "}\n",
       "@media (prefers-color-scheme: dark) {\n",
       "    .dark-square {\n",
       "        fill: #00796b;\n",
       "    }\n",
       "    .light-square {\n",
       "        fill: #3ca59b;\n",
       "    }\n",
       "    .highlight {\n",
       "        fill: #d23600;\n",
       "    }\n",
       "}\n",
       "</style><svg style=\"float: left; margin-right: 20px\" viewBox=\"0 0 8 8\" height=\"280\" width=\"280\"><g><g><rect x=\"0\" y=\"0\" class=\"light-square\" height=\"1\" width=\"1\"></rect><image x=\"0\" xlink:href=\"https://raw.githubusercontent.com/romstad/Chess.jl/master/img/br.svg\" y=\"0\" height=\"1\" width=\"1\"></image></g><g><rect x=\"0\" y=\"1\" class=\"dark-square\" height=\"1\" width=\"1\"></rect><image x=\"0\" xlink:href=\"https://raw.githubusercontent.com/romstad/Chess.jl/master/img/bp.svg\" y=\"1\" height=\"1\" width=\"1\"></image></g><g><rect x=\"0\" y=\"2\" class=\"light-square\" height=\"1\" width=\"1\"></rect><g></g></g><g><rect x=\"0\" y=\"3\" class=\"dark-square\" height=\"1\" width=\"1\"></rect><g></g></g><g><rect x=\"0\" y=\"4\" class=\"light-square\" height=\"1\" width=\"1\"></rect><g></g></g><g><rect x=\"0\" y=\"5\" class=\"dark-square\" height=\"1\" width=\"1\"></rect><g></g></g><g><rect x=\"0\" y=\"6\" class=\"light-square\" height=\"1\" width=\"1\"></rect><image x=\"0\" xlink:href=\"https://raw.githubusercontent.com/romstad/Chess.jl/master/img/wp.svg\" y=\"6\" height=\"1\" width=\"1\"></image></g><g><rect x=\"0\" y=\"7\" class=\"dark-square\" height=\"1\" width=\"1\"></rect><image x=\"0\" xlink:href=\"https://raw.githubusercontent.com/romstad/Chess.jl/master/img/wr.svg\" y=\"7\" height=\"1\" width=\"1\"></image></g><g><rect x=\"1\" y=\"0\" class=\"dark-square\" height=\"1\" width=\"1\"></rect><g></g></g><g><rect x=\"1\" y=\"1\" class=\"light-square\" height=\"1\" width=\"1\"></rect><image x=\"1\" xlink:href=\"https://raw.githubusercontent.com/romstad/Chess.jl/master/img/bp.svg\" y=\"1\" height=\"1\" width=\"1\"></image></g><g><rect x=\"1\" y=\"2\" class=\"dark-square\" height=\"1\" width=\"1\"></rect><g></g></g><g><rect x=\"1\" y=\"3\" class=\"light-square\" height=\"1\" width=\"1\"></rect><g></g></g><g><rect x=\"1\" y=\"4\" class=\"dark-square\" height=\"1\" width=\"1\"></rect><g></g></g><g><rect x=\"1\" y=\"5\" class=\"light-square\" height=\"1\" width=\"1\"></rect><image x=\"1\" xlink:href=\"https://raw.githubusercontent.com/romstad/Chess.jl/master/img/wn.svg\" y=\"5\" height=\"1\" width=\"1\"></image></g><g><rect x=\"1\" y=\"6\" class=\"dark-square\" height=\"1\" width=\"1\"></rect><image x=\"1\" xlink:href=\"https://raw.githubusercontent.com/romstad/Chess.jl/master/img/wp.svg\" y=\"6\" height=\"1\" width=\"1\"></image></g><g><rect x=\"1\" y=\"7\" class=\"light-square\" height=\"1\" width=\"1\"></rect><g></g></g><g><rect x=\"2\" y=\"0\" class=\"light-square\" height=\"1\" width=\"1\"></rect><g></g></g><g><rect x=\"2\" y=\"1\" class=\"dark-square\" height=\"1\" width=\"1\"></rect><image x=\"2\" xlink:href=\"https://raw.githubusercontent.com/romstad/Chess.jl/master/img/bp.svg\" y=\"1\" height=\"1\" width=\"1\"></image></g><g><rect x=\"2\" y=\"2\" class=\"light-square\" height=\"1\" width=\"1\"></rect><image x=\"2\" xlink:href=\"https://raw.githubusercontent.com/romstad/Chess.jl/master/img/bn.svg\" y=\"2\" height=\"1\" width=\"1\"></image></g><g><rect x=\"2\" y=\"3\" class=\"dark-square\" height=\"1\" width=\"1\"></rect><g></g></g><g><rect x=\"2\" y=\"4\" class=\"light-square\" height=\"1\" width=\"1\"></rect><g></g></g><g><rect x=\"2\" y=\"5\" class=\"dark-square\" height=\"1\" width=\"1\"></rect><image x=\"2\" xlink:href=\"https://raw.githubusercontent.com/romstad/Chess.jl/master/img/wp.svg\" y=\"5\" height=\"1\" width=\"1\"></image></g><g><rect x=\"2\" y=\"6\" class=\"light-square\" height=\"1\" width=\"1\"></rect><g></g></g><g><rect x=\"2\" y=\"7\" class=\"dark-square\" height=\"1\" width=\"1\"></rect><image x=\"2\" xlink:href=\"https://raw.githubusercontent.com/romstad/Chess.jl/master/img/wb.svg\" y=\"7\" height=\"1\" width=\"1\"></image></g><g><rect x=\"3\" y=\"0\" class=\"dark-square\" height=\"1\" width=\"1\"></rect><image x=\"3\" xlink:href=\"https://raw.githubusercontent.com/romstad/Chess.jl/master/img/bq.svg\" y=\"0\" height=\"1\" width=\"1\"></image></g><g><rect x=\"3\" y=\"1\" class=\"light-square\" height=\"1\" width=\"1\"></rect><g></g></g><g><rect x=\"3\" y=\"2\" class=\"dark-square\" height=\"1\" width=\"1\"></rect><g></g></g><g><rect x=\"3\" y=\"3\" class=\"light-square\" height=\"1\" width=\"1\"></rect><g></g></g><g><rect x=\"3\" y=\"4\" class=\"dark-square\" height=\"1\" width=\"1\"></rect><g></g></g><g><rect x=\"3\" y=\"5\" class=\"light-square\" height=\"1\" width=\"1\"></rect><g></g></g><g><rect x=\"3\" y=\"6\" class=\"dark-square\" height=\"1\" width=\"1\"></rect><g></g></g><g><rect x=\"3\" y=\"7\" class=\"light-square\" height=\"1\" width=\"1\"></rect><g></g></g><g><rect x=\"4\" y=\"0\" class=\"light-square\" height=\"1\" width=\"1\"></rect><g></g></g><g><rect x=\"4\" y=\"1\" class=\"dark-square\" height=\"1\" width=\"1\"></rect><image x=\"4\" xlink:href=\"https://raw.githubusercontent.com/romstad/Chess.jl/master/img/bb.svg\" y=\"1\" height=\"1\" width=\"1\"></image></g><g><rect x=\"4\" y=\"2\" class=\"light-square\" height=\"1\" width=\"1\"></rect><g></g></g><g><rect x=\"4\" y=\"3\" class=\"dark-square\" height=\"1\" width=\"1\"></rect><image x=\"4\" xlink:href=\"https://raw.githubusercontent.com/romstad/Chess.jl/master/img/bp.svg\" y=\"3\" height=\"1\" width=\"1\"></image></g><g><rect x=\"4\" y=\"4\" class=\"light-square\" height=\"1\" width=\"1\"></rect><g></g></g><g><rect x=\"4\" y=\"5\" class=\"dark-square\" height=\"1\" width=\"1\"></rect><g></g></g><g><rect x=\"4\" y=\"6\" class=\"light-square\" height=\"1\" width=\"1\"></rect><image x=\"4\" xlink:href=\"https://raw.githubusercontent.com/romstad/Chess.jl/master/img/wq.svg\" y=\"6\" height=\"1\" width=\"1\"></image></g><g><rect x=\"4\" y=\"7\" class=\"dark-square\" height=\"1\" width=\"1\"></rect><image x=\"4\" xlink:href=\"https://raw.githubusercontent.com/romstad/Chess.jl/master/img/wk.svg\" y=\"7\" height=\"1\" width=\"1\"></image></g><g><rect x=\"5\" y=\"0\" class=\"dark-square\" height=\"1\" width=\"1\"></rect><image x=\"5\" xlink:href=\"https://raw.githubusercontent.com/romstad/Chess.jl/master/img/br.svg\" y=\"0\" height=\"1\" width=\"1\"></image></g><g><rect x=\"5\" y=\"1\" class=\"light-square\" height=\"1\" width=\"1\"></rect><image x=\"5\" xlink:href=\"https://raw.githubusercontent.com/romstad/Chess.jl/master/img/bp.svg\" y=\"1\" height=\"1\" width=\"1\"></image></g><g><rect x=\"5\" y=\"2\" class=\"dark-square\" height=\"1\" width=\"1\"></rect><g></g></g><g><rect x=\"5\" y=\"3\" class=\"light-square\" height=\"1\" width=\"1\"></rect><g></g></g><g><rect x=\"5\" y=\"4\" class=\"dark-square\" height=\"1\" width=\"1\"></rect><g></g></g><g><rect x=\"5\" y=\"5\" class=\"light-square\" height=\"1\" width=\"1\"></rect><g></g></g><g><rect x=\"5\" y=\"6\" class=\"dark-square\" height=\"1\" width=\"1\"></rect><image x=\"5\" xlink:href=\"https://raw.githubusercontent.com/romstad/Chess.jl/master/img/wp.svg\" y=\"6\" height=\"1\" width=\"1\"></image></g><g><rect x=\"5\" y=\"7\" class=\"light-square\" height=\"1\" width=\"1\"></rect><image x=\"5\" xlink:href=\"https://raw.githubusercontent.com/romstad/Chess.jl/master/img/wb.svg\" y=\"7\" height=\"1\" width=\"1\"></image></g><g><rect x=\"6\" y=\"0\" class=\"light-square\" height=\"1\" width=\"1\"></rect><image x=\"6\" xlink:href=\"https://raw.githubusercontent.com/romstad/Chess.jl/master/img/bk.svg\" y=\"0\" height=\"1\" width=\"1\"></image></g><g><rect x=\"6\" y=\"1\" class=\"dark-square\" height=\"1\" width=\"1\"></rect><image x=\"6\" xlink:href=\"https://raw.githubusercontent.com/romstad/Chess.jl/master/img/bp.svg\" y=\"1\" height=\"1\" width=\"1\"></image></g><g><rect x=\"6\" y=\"2\" class=\"light-square\" height=\"1\" width=\"1\"></rect><g></g></g><g><rect x=\"6\" y=\"3\" class=\"dark-square\" height=\"1\" width=\"1\"></rect><g></g></g><g><rect x=\"6\" y=\"4\" class=\"light-square\" height=\"1\" width=\"1\"></rect><g></g></g><g><rect x=\"6\" y=\"5\" class=\"dark-square\" height=\"1\" width=\"1\"></rect><image x=\"6\" xlink:href=\"https://raw.githubusercontent.com/romstad/Chess.jl/master/img/wp.svg\" y=\"5\" height=\"1\" width=\"1\"></image></g><g><rect x=\"6\" y=\"6\" class=\"light-square\" height=\"1\" width=\"1\"></rect><g></g></g><g><rect x=\"6\" y=\"7\" class=\"dark-square\" height=\"1\" width=\"1\"></rect><image x=\"6\" xlink:href=\"https://raw.githubusercontent.com/romstad/Chess.jl/master/img/wn.svg\" y=\"7\" height=\"1\" width=\"1\"></image></g><g><rect x=\"7\" y=\"0\" class=\"dark-square\" height=\"1\" width=\"1\"></rect><g></g></g><g><rect x=\"7\" y=\"1\" class=\"light-square\" height=\"1\" width=\"1\"></rect><image x=\"7\" xlink:href=\"https://raw.githubusercontent.com/romstad/Chess.jl/master/img/bp.svg\" y=\"1\" height=\"1\" width=\"1\"></image></g><g><rect x=\"7\" y=\"2\" class=\"dark-square\" height=\"1\" width=\"1\"></rect><g></g></g><g><rect x=\"7\" y=\"3\" class=\"light-square\" height=\"1\" width=\"1\"></rect><g></g></g><g><rect x=\"7\" y=\"4\" class=\"dark-square\" height=\"1\" width=\"1\"></rect><image x=\"7\" xlink:href=\"https://raw.githubusercontent.com/romstad/Chess.jl/master/img/wp.svg\" y=\"4\" height=\"1\" width=\"1\"></image></g><g><rect x=\"7\" y=\"5\" class=\"light-square\" height=\"1\" width=\"1\"></rect><g></g></g><g><rect x=\"7\" y=\"6\" class=\"dark-square\" height=\"1\" width=\"1\"></rect><g></g></g><g><rect x=\"7\" y=\"7\" class=\"light-square\" height=\"1\" width=\"1\"></rect><image x=\"7\" xlink:href=\"https://raw.githubusercontent.com/romstad/Chess.jl/master/img/bb.svg\" y=\"7\" height=\"1\" width=\"1\"></image></g></g><g></g></svg><div><p>Black to move</p><p>Castle rights: Q</p><p><a href=\"https://lichess.org/editor/r2q1rk1/ppp1bppp/2n5/4p3/7P/1NP3P1/PP2QP2/R1B1KBNb_b_Q_-\" target=\"_blank\">Open in lichess</a></p></div></div>"
      ],
      "text/plain": [
       "HTML{String}(\"Board:<div class=\\\"chessboard\\\"><style soped=\\\"true\\\">.dark-square {\\n    fill: #c3936a;\\n    stroke-width: 0;\\n}\\n.light-square {\\n    fill: #ffd7a6;\\n    stroke-width: 0;\\n}\\n.highlight {\\n    fill: #47d18b;\\n}\\n@media (prefers-color-scheme: dark) {\\n    .dark-square {\\n        fill: #00796b;\\n    }\\n    .light-square {\\n        fill: #3ca59b;\\n    }\\n    .highlight {\\n        fill: #d23600;\\n    }\\n}\\n</style><svg style=\\\"float: left; margin-right: 20px\\\" viewBox=\\\"0 0 8 8\\\" height=\\\"280\\\" width=\\\"280\\\"><g><g><rect x=\\\"0\\\" y=\\\"0\\\" class=\\\"light-square\\\" height=\\\"1\\\" width=\\\"1\\\"></rect><image x=\\\"0\\\" xlink:href=\\\"https://raw.githubusercontent.com/romstad/Chess.jl/master/img/br.svg\\\" y=\\\"0\\\" height=\\\"1\\\" width=\\\"1\\\"></image></g><g><rect x=\\\"0\\\" y=\\\"1\\\" class=\\\"dark-square\\\" height=\\\"1\\\" width=\\\"1\\\"></rect><image x=\\\"0\\\" xlink:href=\\\"https://raw.githubusercontent.com/romstad/Chess.jl/master/img/bp.svg\\\" y=\\\"1\\\" height=\\\"1\\\" width=\\\"1\\\"></image></g><g><rect x=\\\"0\\\" y=\\\"2\\\" class=\\\"light-square\\\" height=\\\"1\\\" width=\\\"1\\\"></rect><g></g></g><g><rect x=\\\"0\\\" y=\\\"3\\\" class=\\\"dark-square\\\" height=\\\"1\\\" width=\\\"1\\\"></rect><g></g></g><g><rect x=\\\"0\\\" y=\\\"4\\\" class=\\\"light-square\\\" height=\\\"1\\\" width=\\\"1\\\"></rect><g></g></g><g><rect x=\\\"0\\\" y=\\\"5\\\" class=\\\"dark-square\\\" height=\\\"1\\\" width=\\\"1\\\"></rect><g></g></g><g><rect x=\\\"0\\\" y=\\\"6\\\" class=\\\"light-square\\\" height=\\\"1\\\" width=\\\"1\\\"></rect><image x=\\\"0\\\" xlink:href=\\\"https://raw.githubusercontent.com/romstad/Chess.jl/master/img/wp.svg\\\" y=\\\"6\\\" height=\\\"1\\\" width=\\\"1\\\"></image></g><g><rect x=\\\"0\\\" y=\\\"7\\\" class=\\\"dark-square\\\" height=\\\"1\\\" width=\\\"1\\\"></rect><image x=\\\"0\\\" xlink:href=\\\"https://raw.githubusercontent.com/romstad/Chess.jl/master/img/wr.svg\\\" y=\\\"7\\\" height=\\\"1\\\" width=\\\"1\\\"></image></g><g><rect x=\\\"1\\\" y=\\\"0\\\" class=\\\"dark-square\\\" height=\\\"1\\\" width=\\\"1\\\"></rect><g></g></g><g><rect x=\\\"1\\\" y=\\\"1\\\" class=\\\"light-square\\\" height=\\\"1\\\" width=\\\"1\\\"></rect><image x=\\\"1\\\" xlink:href=\\\"https://raw.githubusercontent.com/romstad/Chess.jl/master/img/bp.svg\\\" y=\\\"1\\\" height=\\\"1\\\" width=\\\"1\\\"></image></g><g><rect x=\\\"1\\\" y=\\\"2\\\" class=\\\"dark-square\\\" height=\\\"1\\\" width=\\\"1\\\"></rect><g></g></g><g><rect x=\\\"1\\\" y=\\\"3\\\" class=\\\"light-square\\\" height=\\\"1\\\" width=\\\"1\\\"></rect><g></g></g><g><rect x=\\\"1\\\" y=\\\"4\\\" class=\\\"dark-square\\\" height=\\\"1\\\" width=\\\"1\\\"></rect><g></g></g><g><rect x=\\\"1\\\" y=\\\"5\\\" class=\\\"light-square\\\" height=\\\"1\\\" width=\\\"1\\\"></rect><image x=\\\"1\\\" xlink:href=\\\"https://raw.githubusercontent.com/romstad/Chess.jl/master/img/wn.svg\\\" y=\\\"5\\\" height=\\\"1\\\" width=\\\"1\\\"></image></g><g><rect x=\\\"1\\\" y=\\\"6\\\" class=\\\"dark-square\\\" height=\\\"1\\\" width=\\\"1\\\"></rect><image x=\\\"1\\\" xlink:href=\\\"https://raw.githubusercontent.com/romstad/Chess.jl/master/img/wp.svg\\\" y=\\\"6\\\" height=\\\"1\\\" width=\\\"1\\\"></image></g><g><rect x=\\\"1\\\" y=\\\"7\\\" class=\\\"light-square\\\" height=\\\"1\\\" width=\\\"1\\\"></rect><g></g></g><g><rect x=\\\"2\\\" y=\\\"0\\\" class=\\\"light-square\\\" height=\\\"1\\\" width=\\\"1\\\"></rect><g></g></g><g><rect x=\\\"2\\\" y=\\\"1\\\" class=\\\"dark-square\\\" height=\\\"1\\\" width=\\\"1\\\"></rect><image x=\\\"2\\\" xlink:href=\\\"https://raw.githubusercontent.com/romstad/Chess.jl/master/img/bp.svg\\\" y=\\\"1\\\" height=\\\"1\\\" width=\\\"1\\\"></image></g><g><rect x=\\\"2\\\" y=\\\"2\\\" class=\\\"light-square\\\" height=\\\"1\\\" width=\\\"1\\\"></rect><image x=\\\"2\\\" xlink:href=\\\"https://raw.githubusercontent.com/romstad/Chess.jl/master/img/bn.svg\\\" y=\\\"2\\\" height=\\\"1\\\" width=\\\"1\\\"></image></g><g><rect x=\\\"2\\\" y=\\\"3\\\" class=\\\"dark-square\\\" height=\\\"1\\\" width=\\\"1\\\"></rect><g></g></g><g><rect x=\\\"2\\\" y=\\\"4\\\" class=\\\"light-square\\\" height=\\\"1\\\" width=\\\"1\\\"></rect><g></g></g><g><rect x=\\\"2\\\" y=\\\"5\\\" class=\\\"dark-square\\\" height=\\\"1\\\" width=\\\"1\\\"></rect><image x=\\\"2\\\" xlink:href=\\\"https://raw.githubusercontent.com/romstad/Chess.jl/master/img/wp.svg\\\" y=\\\"5\\\" height=\\\"1\\\" width=\\\"1\\\"></image></g><g><rect x=\\\"2\\\" y=\\\"6\\\" class=\\\"light-square\\\" height=\\\"1\\\" width=\\\"1\\\"></rect><g></g></g><g><rect x=\\\"2\\\" y=\\\"7\\\" class=\\\"dark-square\\\" height=\\\"1\\\" width=\\\"1\\\"></rect><image x=\\\"2\\\" xlink:href=\\\"https://raw.githubusercontent.com/romstad/Chess.jl/master/img/wb.svg\\\" y=\\\"7\\\" height=\\\"1\\\" width=\\\"1\\\"></image></g><g><rect x=\\\"3\\\" y=\\\"0\\\" class=\\\"dark-square\\\" height=\\\"1\\\" width=\\\"1\\\"></rect><image x=\\\"3\\\" xlink:href=\\\"https://raw.githubusercontent.com/romstad/Chess.jl/master/img/bq.svg\\\" y=\\\"0\\\" height=\\\"1\\\" width=\\\"1\\\"></image></g><g><rect x=\\\"3\\\" y=\\\"1\\\" class=\\\"light-square\\\" height=\\\"1\\\" width=\\\"1\\\"></rect><g></g></g><g><rect x=\\\"3\\\" y=\\\"2\\\" class=\\\"dark-square\\\" height=\\\"1\\\" width=\\\"1\\\"></rect><g></g></g><g><rect x=\\\"3\\\" y=\\\"3\\\" class=\\\"light-square\\\" height=\\\"1\\\" width=\\\"1\\\"></rect><g></g></g><g><rect x=\\\"3\\\" y=\\\"4\\\" class=\\\"dark-square\\\" height=\\\"1\\\" width=\\\"1\\\"></rect><g></g></g><g><rect x=\\\"3\\\" y=\\\"5\\\" class=\\\"light-square\\\" height=\\\"1\\\" width=\\\"1\\\"></rect><g></g></g><g><rect x=\\\"3\\\" y=\\\"6\\\" class=\\\"dark-square\\\" height=\\\"1\\\" width=\\\"1\\\"></rect><g></g></g><g><rect x=\\\"3\\\" y=\\\"7\\\" class=\\\"light-square\\\" height=\\\"1\\\" width=\\\"1\\\"></rect><g></g></g><g><rect x=\\\"4\\\" y=\\\"0\\\" class=\\\"light-square\\\" height=\\\"1\\\" width=\\\"1\\\"></rect><g></g></g><g><rect x=\\\"4\\\" y=\\\"1\\\" class=\\\"dark-square\\\" height=\\\"1\\\" width=\\\"1\\\"></rect><image x=\\\"4\\\" xlink:href=\\\"https://raw.githubusercontent.com/romstad/Chess.jl/master/img/bb.svg\\\" y=\\\"1\\\" height=\\\"1\\\" width=\\\"1\\\"></image></g><g><rect x=\\\"4\\\" y=\\\"2\\\" class=\\\"light-square\\\" height=\\\"1\\\" width=\\\"1\\\"></rect><g></g></g><g><rect x=\\\"4\\\" y=\\\"3\\\" class=\\\"dark-square\\\" height=\\\"1\\\" width=\\\"1\\\"></rect><image x=\\\"4\\\" xlink:href=\\\"https://raw.githubusercontent.com/romstad/Chess.jl/master/img/bp.svg\\\" y=\\\"3\\\" height=\\\"1\\\" width=\\\"1\\\"></image></g><g><rect x=\\\"4\\\" y=\\\"4\\\" class=\\\"light-square\\\" height=\\\"1\\\" width=\\\"1\\\"></rect><g></g></g><g><rect x=\\\"4\\\" y=\\\"5\\\" class=\\\"dark-square\\\" height=\\\"1\\\" width=\\\"1\\\"></rect><g></g></g><g><rect x=\\\"4\\\" y=\\\"6\\\" class=\\\"light-square\\\" height=\\\"1\\\" width=\\\"1\\\"></rect><image x=\\\"4\\\" xlink:href=\\\"https://raw.githubusercontent.com/romstad/Chess.jl/master/img/wq.svg\\\" y=\\\"6\\\" height=\\\"1\\\" width=\\\"1\\\"></image></g><g><rect x=\\\"4\\\" y=\\\"7\\\" class=\\\"dark-square\\\" height=\\\"1\\\" width=\\\"1\\\"></rect><image x=\\\"4\\\" xlink:href=\\\"https://raw.githubusercontent.com/romstad/Chess.jl/master/img/wk.svg\\\" y=\\\"7\\\" height=\\\"1\\\" width=\\\"1\\\"></image></g><g><rect x=\\\"5\\\" y=\\\"0\\\" class=\\\"dark-square\\\" height=\\\"1\\\" width=\\\"1\\\"></rect><image x=\\\"5\\\" xlink:href=\\\"https://raw.githubusercontent.com/romstad/Chess.jl/master/img/br.svg\\\" y=\\\"0\\\" height=\\\"1\\\" width=\\\"1\\\"></image></g><g><rect x=\\\"5\\\" y=\\\"1\\\" class=\\\"light-square\\\" height=\\\"1\\\" width=\\\"1\\\"></rect><image x=\\\"5\\\" xlink:href=\\\"https://raw.githubusercontent.com/romstad/Chess.jl/master/img/bp.svg\\\" y=\\\"1\\\" height=\\\"1\\\" width=\\\"1\\\"></image></g><g><rect x=\\\"5\\\" y=\\\"2\\\" class=\\\"dark-square\\\" height=\\\"1\\\" width=\\\"1\\\"></rect><g></g></g><g><rect x=\\\"5\\\" y=\\\"3\\\" class=\\\"light-square\\\" height=\\\"1\\\" width=\\\"1\\\"></rect><g></g></g><g><rect x=\\\"5\\\" y=\\\"4\\\" class=\\\"dark-square\\\" height=\\\"1\\\" width=\\\"1\\\"></rect><g></g></g><g><rect x=\\\"5\\\" y=\\\"5\\\" class=\\\"light-square\\\" height=\\\"1\\\" width=\\\"1\\\"></rect><g></g></g><g><rect x=\\\"5\\\" y=\\\"6\\\" class=\\\"dark-square\\\" height=\\\"1\\\" width=\\\"1\\\"></rect><image x=\\\"5\\\" xlink:href=\\\"https://raw.githubusercontent.com/romstad/Chess.jl/master/img/wp.svg\\\" y=\\\"6\\\" height=\\\"1\\\" width=\\\"1\\\"></image></g><g><rect x=\\\"5\\\" y=\\\"7\\\" class=\\\"light-square\\\" height=\\\"1\\\" width=\\\"1\\\"></rect><image x=\\\"5\\\" xlink:href=\\\"https://raw.githubusercontent.com/romstad/Chess.jl/master/img/wb.svg\\\" y=\\\"7\\\" height=\\\"1\\\" width=\\\"1\\\"></image></g><g><rect x=\\\"6\\\" y=\\\"0\\\" class=\\\"light-square\\\" height=\\\"1\\\" width=\\\"1\\\"></rect><image x=\\\"6\\\" xlink:href=\\\"https://raw.githubusercontent.com/romstad/Chess.jl/master/img/bk.svg\\\" y=\\\"0\\\" height=\\\"1\\\" width=\\\"1\\\"></image></g><g><rect x=\\\"6\\\" y=\\\"1\\\" class=\\\"dark-square\\\" height=\\\"1\\\" width=\\\"1\\\"></rect><image x=\\\"6\\\" xlink:href=\\\"https://raw.githubusercontent.com/romstad/Chess.jl/master/img/bp.svg\\\" y=\\\"1\\\" height=\\\"1\\\" width=\\\"1\\\"></image></g><g><rect x=\\\"6\\\" y=\\\"2\\\" class=\\\"light-square\\\" height=\\\"1\\\" width=\\\"1\\\"></rect><g></g></g><g><rect x=\\\"6\\\" y=\\\"3\\\" class=\\\"dark-square\\\" height=\\\"1\\\" width=\\\"1\\\"></rect><g></g></g><g><rect x=\\\"6\\\" y=\\\"4\\\" class=\\\"light-square\\\" height=\\\"1\\\" width=\\\"1\\\"></rect><g></g></g><g><rect x=\\\"6\\\" y=\\\"5\\\" class=\\\"dark-square\\\" height=\\\"1\\\" width=\\\"1\\\"></rect><image x=\\\"6\\\" xlink:href=\\\"https://raw.githubusercontent.com/romstad/Chess.jl/master/img/wp.svg\\\" y=\\\"5\\\" height=\\\"1\\\" width=\\\"1\\\"></image></g><g><rect x=\\\"6\\\" y=\\\"6\\\" class=\\\"light-square\\\" height=\\\"1\\\" width=\\\"1\\\"></rect><g></g></g><g><rect x=\\\"6\\\" y=\\\"7\\\" class=\\\"dark-square\\\" height=\\\"1\\\" width=\\\"1\\\"></rect><image x=\\\"6\\\" xlink:href=\\\"https://raw.githubusercontent.com/romstad/Chess.jl/master/img/wn.svg\\\" y=\\\"7\\\" height=\\\"1\\\" width=\\\"1\\\"></image></g><g><rect x=\\\"7\\\" y=\\\"0\\\" class=\\\"dark-square\\\" height=\\\"1\\\" width=\\\"1\\\"></rect><g></g></g><g><rect x=\\\"7\\\" y=\\\"1\\\" class=\\\"light-square\\\" height=\\\"1\\\" width=\\\"1\\\"></rect><image x=\\\"7\\\" xlink:href=\\\"https://raw.githubusercontent.com/romstad/Chess.jl/master/img/bp.svg\\\" y=\\\"1\\\" height=\\\"1\\\" width=\\\"1\\\"></image></g><g><rect x=\\\"7\\\" y=\\\"2\\\" class=\\\"dark-square\\\" height=\\\"1\\\" width=\\\"1\\\"></rect><g></g></g><g><rect x=\\\"7\\\" y=\\\"3\\\" class=\\\"light-square\\\" height=\\\"1\\\" width=\\\"1\\\"></rect><g></g></g><g><rect x=\\\"7\\\" y=\\\"4\\\" class=\\\"dark-square\\\" height=\\\"1\\\" width=\\\"1\\\"></rect><image x=\\\"7\\\" xlink:href=\\\"https://raw.githubusercontent.com/romstad/Chess.jl/master/img/wp.svg\\\" y=\\\"4\\\" height=\\\"1\\\" width=\\\"1\\\"></image></g><g><rect x=\\\"7\\\" y=\\\"5\\\" class=\\\"light-square\\\" height=\\\"1\\\" width=\\\"1\\\"></rect><g></g></g><g><rect x=\\\"7\\\" y=\\\"6\\\" class=\\\"dark-square\\\" height=\\\"1\\\" width=\\\"1\\\"></rect><g></g></g><g><rect x=\\\"7\\\" y=\\\"7\\\" class=\\\"light-square\\\" height=\\\"1\\\" width=\\\"1\\\"></rect><image x=\\\"7\\\" xlink:href=\\\"https://raw.githubusercontent.com/romstad/Chess.jl/master/img/bb.svg\\\" y=\\\"7\\\" height=\\\"1\\\" width=\\\"1\\\"></image></g></g><g></g></svg><div><p>Black to move</p><p>Castle rights: Q</p><p><a href=\\\"https://lichess.org/editor/r2q1rk1/ppp1bppp/2n5/4p3/7P/1NP3P1/PP2QP2/R1B1KBNb_b_Q_-\\\" target=\\\"_blank\\\">Open in lichess</a></p></div></div>\")"
      ]
     },
     "metadata": {},
     "output_type": "display_data"
    },
    {
     "name": "stdout",
     "output_type": "stream",
     "text": [
      "Last Move: Move(h3h4)\n",
      "Killed worker 733 after 735.1758259 seconds\n"
     ]
    }
   ],
   "source": [
    "# --- parameter ---\n",
    "n = 100\n",
    "elo = 1500\n",
    "# ---\n",
    "for x in 1:n\n",
    "    sf = Stockfish(elo)\n",
    "    ai = IterativeDeepening(\n",
    "        ABMemoAllAI, # backing AI Type\n",
    "        1000,        # max Depth\n",
    "        10.0,        # max Time in Seconds\n",
    "        \"\"\"          # required dependencies for backing AI Type\n",
    "            using NBInclude\n",
    "            @nbinclude \"3.1 - Evaluation.ipynb\"\n",
    "            @nbinclude \"5.1 - Alpha-Beta-Pruning AI.ipynb\"\n",
    "        \"\"\"\n",
    "    )\n",
    "    if x % 2 == 0\n",
    "        play(white = ai, black = sf, save = \"./games-$(elo)\")\n",
    "    else\n",
    "        play(black = ai, white = sf, save = \"./games-$(elo)\") \n",
    "    end\n",
    "    cleanup!(ai)\n",
    "    Chess.UCI.quit(sf.engine)\n",
    "end"
   ]
  },
  {
   "cell_type": "markdown",
   "id": "ba4089e3",
   "metadata": {},
   "source": [
    "**Tests mit Stockfish Skill-Level Limitierung**"
   ]
  },
  {
   "cell_type": "code",
   "execution_count": null,
   "id": "411877c1",
   "metadata": {},
   "outputs": [],
   "source": [
    "# --- parameter ---\n",
    "n = 100\n",
    "level = 3\n",
    "depth = 5\n",
    "# ---\n",
    "for x in 1:n\n",
    "    sf = Stockfish(level, depth)\n",
    "    ai = IterativeDeepening(\n",
    "        ABMemoAllAI, # backing AI Type\n",
    "        1000,        # max Depth\n",
    "        10.0,        # max Time in Seconds\n",
    "        \"\"\"          # required dependencies for backing AI Type\n",
    "            using NBInclude\n",
    "            @nbinclude \"3.1 - Evaluation.ipynb\"\n",
    "            @nbinclude \"5.1 - Alpha-Beta-Pruning AI.ipynb\"\n",
    "        \"\"\"\n",
    "    )\n",
    "    if x % 2 == 0\n",
    "        play(white = ai, black = sf, save = \"./games-$(level)-$(depth)\")\n",
    "    else\n",
    "        play(black = ai, white = sf, save = \"./games-$(level)-$(depth)\")\n",
    "    end\n",
    "    cleanup!(ai)\n",
    "    Chess.UCI.quit(sf.engine)\n",
    "end"
   ]
  },
  {
   "cell_type": "markdown",
   "id": "7dabeeca",
   "metadata": {},
   "source": [
    "Um zu gewährleisten, dass es sich bei den gespielten Testspielen um einzigartige Spiele handelt, prüfen wir alle Spiele unter einer gegebenen Konfiguration auf Duplikate. Das Vorkommen eines Duplikates invalidiert keinesfalls die erspielten Ergebnisse, dennoch sollte die Anzahl aller Duplikate gering ausfallen, um ein zuverlässiges Ergebnis zu liefern."
   ]
  },
  {
   "cell_type": "code",
   "execution_count": 22,
   "id": "f05f5f79",
   "metadata": {},
   "outputs": [
    {
     "name": "stdout",
     "output_type": "stream",
     "text": [
      "validating games-1-20\n",
      "checked 46 games\n",
      "validating games-1-4\n",
      "checked 10 games\n",
      "validating games-1-5\n",
      "checked 40 games\n",
      "validating games-1-6\n",
      "checked 54 games\n",
      "validating games-1500\n",
      "checked 39 games\n",
      "validating games-2-20\n",
      "checked 20 games\n",
      "validating games-2-4\n",
      "checked 20 games\n",
      "validating games-2-5\n",
      "checked 20 games\n",
      "validating games-3-5\n",
      "checked 22 games\n",
      "validating games-4-5\n",
      "checked 10 games\n"
     ]
    }
   ],
   "source": [
    "for gameSet in readdir()\n",
    "    if !startswith(gameSet, \"games-\")\n",
    "        continue\n",
    "    end\n",
    "    println(\"validating $gameSet\")\n",
    "    knownGames = []\n",
    "    i = 1\n",
    "    for game in readdir(gameSet)\n",
    "        if !endswith(game, \".pgn\")\n",
    "            continue\n",
    "        end\n",
    "        pgn = read(gameSet * \"/\" * game, String)\n",
    "        i += 1\n",
    "        if pgn in knownGames\n",
    "            println(\"found a duplicate: $gameSet/$game\")\n",
    "        else\n",
    "            push!(knownGames, pgn)\n",
    "        end\n",
    "    end\n",
    "    println(\"checked $(length(knownGames)) games\")\n",
    "end"
   ]
  },
  {
   "cell_type": "markdown",
   "id": "9876a157",
   "metadata": {},
   "source": [
    "Unter einer gegebenen Konfiguration bestimmen wir die Siegrate mit der Funktion `getWinRate`.\n",
    "\n",
    "**Input:**\n",
    "+ folder &rarr; der Ordner mit allen Spielen, z.B. \"games-1500\" oder \"games-1-3\"\n",
    "\n",
    "**Output:**\n",
    "+ die Siegrate unserer KI, Wert zwischen 0.0 und 1.0"
   ]
  },
  {
   "cell_type": "code",
   "execution_count": 8,
   "id": "b12a6c1b",
   "metadata": {},
   "outputs": [
    {
     "data": {
      "text/plain": [
       "getWinRate (generic function with 1 method)"
      ]
     },
     "execution_count": 8,
     "metadata": {},
     "output_type": "execute_result"
    }
   ],
   "source": [
    "function getWinRate(folder::String)::Float64\n",
    "    results = Dict(:SF_White => 0, :SF_Black => 0, :AI_White => 0, :AI_Black => 0, :Draw => 0)\n",
    "    for file in readdir(folder, sort = true)\n",
    "        stream = open(\"$(folder)/$(file)\", \"r\")\n",
    "        game = Chess.PGN.readgame(Chess.PGN.PGNReader(stream))\n",
    "        close(stream)\n",
    "        board = last(Chess.boards(game))\n",
    "        if Chess.isdraw(board)\n",
    "            results[:Draw] += 1\n",
    "        elseif Chess.sidetomove(board) == Chess.WHITE\n",
    "            if startswith(Chess.headervalue(game, \"Black\"), \"IterativeDeepening\")\n",
    "                results[:AI_Black] += 1\n",
    "            else\n",
    "                results[:SF_Black] += 1\n",
    "            end\n",
    "        else\n",
    "            if startswith(Chess.headervalue(game, \"Black\"), \"IterativeDeepening\")\n",
    "                results[:SF_White] += 1\n",
    "            else\n",
    "                results[:AI_White] += 1\n",
    "            end\n",
    "        end\n",
    "    end\n",
    "    totalNoDrawsAI = results[:AI_White] + results[:AI_Black]\n",
    "    totalNoDrawsSF = results[:SF_White] + results[:SF_Black]\n",
    "    totalNoDraws = totalNoDrawsAI + totalNoDrawsSF\n",
    "    println(\"$(folder):\")\n",
    "    println(\"\\t$(results)\")\n",
    "    println(\"\\tWins:    $(round(((results[:AI_White] + results[:AI_Black]) / totalNoDraws) * 100, digits = 2)\n",
    "        )% (excluding draws, of which $(round((results[:AI_White] / totalNoDrawsAI) * 100, digits = 2)\n",
    "        )% as White, $(round((results[:AI_Black] / totalNoDrawsAI) * 100, digits = 2))% as Black)\")\n",
    "    println(\"\\tDefeats: $(round(((results[:SF_White] + results[:SF_Black]) / totalNoDraws) * 100, digits = 2)\n",
    "        )% (excluding draws, of which $(round((results[:SF_Black] / totalNoDrawsSF) * 100, digits = 2)\n",
    "        )% as White, $(round((results[:SF_White] / totalNoDrawsSF) * 100, digits = 2))% as Black)\")\n",
    "    println(\"\\tDraws:   $(round((results[:Draw] / (totalNoDraws + results[:Draw])) * 100, digits = 2))% (all games)\")\n",
    "    return (results[:AI_White] + results[:AI_Black]) / totalNoDraws\n",
    "end"
   ]
  },
  {
   "cell_type": "markdown",
   "id": "36b7618c",
   "metadata": {},
   "source": [
    "Aus den Konfigurationen Skill-Level + Suchtiefe ergibt sich der folgende Graph:"
   ]
  },
  {
   "cell_type": "code",
   "execution_count": 16,
   "id": "3f8ba42f",
   "metadata": {},
   "outputs": [
    {
     "name": "stdout",
     "output_type": "stream",
     "text": [
      "games-1-4:\n",
      "\tDict(:AI_Black => 5, :Draw => 0, :SF_Black => 1, :AI_White => 4, :SF_White => 0)\n",
      "\tWins:    90.0% (excluding draws, of which 44.44% as White, 55.56% as Black)\n",
      "\tDefeats: 10.0% (excluding draws, of which 100.0% as White, 0.0% as Black)\n",
      "\tDraws:   0.0% (all games)\n",
      "games-1-5:\n",
      "\tDict(:AI_Black => 17, :Draw => 1, :SF_Black => 2, :AI_White => 17, :SF_White => 3)\n",
      "\tWins:    87.18% (excluding draws, of which 50.0% as White, 50.0% as Black)\n",
      "\tDefeats: 12.82% (excluding draws, of which 40.0% as White, 60.0% as Black)\n",
      "\tDraws:   2.5% (all games)\n",
      "games-1-6:\n",
      "\tDict(:AI_Black => 21, :Draw => 3, :SF_Black => 2, :AI_White => 23, :SF_White => 5)\n",
      "\tWins:    86.27% (excluding draws, of which 52.27% as White, 47.73% as Black)\n",
      "\tDefeats: 13.73% (excluding draws, of which 28.57% as White, 71.43% as Black)\n",
      "\tDraws:   5.56% (all games)\n",
      "games-1-20:\n",
      "\tDict(:AI_Black => 15, :Draw => 2, :SF_Black => 5, :AI_White => 17, :SF_White => 7)\n",
      "\tWins:    72.73% (excluding draws, of which 53.12% as White, 46.88% as Black)\n",
      "\tDefeats: 27.27% (excluding draws, of which 41.67% as White, 58.33% as Black)\n",
      "\tDraws:   4.35% (all games)\n",
      "games-2-4:\n",
      "\tDict(:AI_Black => 5, :Draw => 3, :SF_Black => 1, :AI_White => 8, :SF_White => 3)\n",
      "\tWins:    76.47% (excluding draws, of which 61.54% as White, 38.46% as Black)\n",
      "\tDefeats: 23.53% (excluding draws, of which 25.0% as White, 75.0% as Black)\n",
      "\tDraws:   15.0% (all games)\n",
      "games-2-5:\n",
      "\tDict(:AI_Black => 7, :Draw => 0, :SF_Black => 2, :AI_White => 8, :SF_White => 3)\n",
      "\tWins:    75.0% (excluding draws, of which 53.33% as White, 46.67% as Black)\n",
      "\tDefeats: 25.0% (excluding draws, of which 40.0% as White, 60.0% as Black)\n",
      "\tDraws:   0.0% (all games)\n",
      "games-2-20:\n",
      "\tDict(:AI_Black => 5, :Draw => 1, :SF_Black => 0, :AI_White => 9, :SF_White => 5)\n",
      "\tWins:    73.68% (excluding draws, of which 64.29% as White, 35.71% as Black)\n",
      "\tDefeats: 26.32% (excluding draws, of which 0.0% as White, 100.0% as Black)\n",
      "\tDraws:   5.0% (all games)\n",
      "games-3-5:\n",
      "\tDict(:AI_Black => 9, :Draw => 0, :SF_Black => 6, :AI_White => 5, :SF_White => 2)\n",
      "\tWins:    63.64% (excluding draws, of which 35.71% as White, 64.29% as Black)\n",
      "\tDefeats: 36.36% (excluding draws, of which 75.0% as White, 25.0% as Black)\n",
      "\tDraws:   0.0% (all games)\n",
      "games-4-5:\n",
      "\tDict(:AI_Black => 3, :Draw => 0, :SF_Black => 5, :AI_White => 0, :SF_White => 2)\n",
      "\tWins:    30.0% (excluding draws, of which 0.0% as White, 100.0% as Black)\n",
      "\tDefeats: 70.0% (excluding draws, of which 71.43% as White, 28.57% as Black)\n",
      "\tDraws:   0.0% (all games)\n"
     ]
    },
    {
     "data": {
      "image/svg+xml": [
       "<?xml version=\"1.0\" encoding=\"utf-8\"?>\n",
       "<svg xmlns=\"http://www.w3.org/2000/svg\" xmlns:xlink=\"http://www.w3.org/1999/xlink\" width=\"600\" height=\"400\" viewBox=\"0 0 2400 1600\">\n",
       "<defs>\n",
       "  <clipPath id=\"clip820\">\n",
       "    <rect x=\"0\" y=\"0\" width=\"2400\" height=\"1600\"/>\n",
       "  </clipPath>\n",
       "</defs>\n",
       "<path clip-path=\"url(#clip820)\" d=\"M0 1600 L2400 1600 L2400 0 L0 0  Z\" fill=\"#ffffff\" fill-rule=\"evenodd\" fill-opacity=\"1\"/>\n",
       "<defs>\n",
       "  <clipPath id=\"clip821\">\n",
       "    <rect x=\"480\" y=\"0\" width=\"1681\" height=\"1600\"/>\n",
       "  </clipPath>\n",
       "</defs>\n",
       "<path clip-path=\"url(#clip820)\" d=\"M141.853 1486.45 L2352.76 1486.45 L2352.76 47.2441 L141.853 47.2441  Z\" fill=\"#ffffff\" fill-rule=\"evenodd\" fill-opacity=\"1\"/>\n",
       "<defs>\n",
       "  <clipPath id=\"clip822\">\n",
       "    <rect x=\"141\" y=\"47\" width=\"2212\" height=\"1440\"/>\n",
       "  </clipPath>\n",
       "</defs>\n",
       "<polyline clip-path=\"url(#clip822)\" style=\"stroke:#000000; stroke-linecap:round; stroke-linejoin:round; stroke-width:2; stroke-opacity:0.1; fill:none\" points=\"204.426,1486.45 204.426,47.2441 \"/>\n",
       "<polyline clip-path=\"url(#clip822)\" style=\"stroke:#000000; stroke-linecap:round; stroke-linejoin:round; stroke-width:2; stroke-opacity:0.1; fill:none\" points=\"465.145,1486.45 465.145,47.2441 \"/>\n",
       "<polyline clip-path=\"url(#clip822)\" style=\"stroke:#000000; stroke-linecap:round; stroke-linejoin:round; stroke-width:2; stroke-opacity:0.1; fill:none\" points=\"725.865,1486.45 725.865,47.2441 \"/>\n",
       "<polyline clip-path=\"url(#clip822)\" style=\"stroke:#000000; stroke-linecap:round; stroke-linejoin:round; stroke-width:2; stroke-opacity:0.1; fill:none\" points=\"986.585,1486.45 986.585,47.2441 \"/>\n",
       "<polyline clip-path=\"url(#clip822)\" style=\"stroke:#000000; stroke-linecap:round; stroke-linejoin:round; stroke-width:2; stroke-opacity:0.1; fill:none\" points=\"1247.3,1486.45 1247.3,47.2441 \"/>\n",
       "<polyline clip-path=\"url(#clip822)\" style=\"stroke:#000000; stroke-linecap:round; stroke-linejoin:round; stroke-width:2; stroke-opacity:0.1; fill:none\" points=\"1508.02,1486.45 1508.02,47.2441 \"/>\n",
       "<polyline clip-path=\"url(#clip822)\" style=\"stroke:#000000; stroke-linecap:round; stroke-linejoin:round; stroke-width:2; stroke-opacity:0.1; fill:none\" points=\"1768.74,1486.45 1768.74,47.2441 \"/>\n",
       "<polyline clip-path=\"url(#clip822)\" style=\"stroke:#000000; stroke-linecap:round; stroke-linejoin:round; stroke-width:2; stroke-opacity:0.1; fill:none\" points=\"2029.46,1486.45 2029.46,47.2441 \"/>\n",
       "<polyline clip-path=\"url(#clip822)\" style=\"stroke:#000000; stroke-linecap:round; stroke-linejoin:round; stroke-width:2; stroke-opacity:0.1; fill:none\" points=\"2290.18,1486.45 2290.18,47.2441 \"/>\n",
       "<polyline clip-path=\"url(#clip820)\" style=\"stroke:#000000; stroke-linecap:round; stroke-linejoin:round; stroke-width:4; stroke-opacity:1; fill:none\" points=\"141.853,1486.45 2352.76,1486.45 \"/>\n",
       "<polyline clip-path=\"url(#clip820)\" style=\"stroke:#000000; stroke-linecap:round; stroke-linejoin:round; stroke-width:4; stroke-opacity:1; fill:none\" points=\"204.426,1486.45 204.426,1467.55 \"/>\n",
       "<polyline clip-path=\"url(#clip820)\" style=\"stroke:#000000; stroke-linecap:round; stroke-linejoin:round; stroke-width:4; stroke-opacity:1; fill:none\" points=\"465.145,1486.45 465.145,1467.55 \"/>\n",
       "<polyline clip-path=\"url(#clip820)\" style=\"stroke:#000000; stroke-linecap:round; stroke-linejoin:round; stroke-width:4; stroke-opacity:1; fill:none\" points=\"725.865,1486.45 725.865,1467.55 \"/>\n",
       "<polyline clip-path=\"url(#clip820)\" style=\"stroke:#000000; stroke-linecap:round; stroke-linejoin:round; stroke-width:4; stroke-opacity:1; fill:none\" points=\"986.585,1486.45 986.585,1467.55 \"/>\n",
       "<polyline clip-path=\"url(#clip820)\" style=\"stroke:#000000; stroke-linecap:round; stroke-linejoin:round; stroke-width:4; stroke-opacity:1; fill:none\" points=\"1247.3,1486.45 1247.3,1467.55 \"/>\n",
       "<polyline clip-path=\"url(#clip820)\" style=\"stroke:#000000; stroke-linecap:round; stroke-linejoin:round; stroke-width:4; stroke-opacity:1; fill:none\" points=\"1508.02,1486.45 1508.02,1467.55 \"/>\n",
       "<polyline clip-path=\"url(#clip820)\" style=\"stroke:#000000; stroke-linecap:round; stroke-linejoin:round; stroke-width:4; stroke-opacity:1; fill:none\" points=\"1768.74,1486.45 1768.74,1467.55 \"/>\n",
       "<polyline clip-path=\"url(#clip820)\" style=\"stroke:#000000; stroke-linecap:round; stroke-linejoin:round; stroke-width:4; stroke-opacity:1; fill:none\" points=\"2029.46,1486.45 2029.46,1467.55 \"/>\n",
       "<polyline clip-path=\"url(#clip820)\" style=\"stroke:#000000; stroke-linecap:round; stroke-linejoin:round; stroke-width:4; stroke-opacity:1; fill:none\" points=\"2290.18,1486.45 2290.18,1467.55 \"/>\n",
       "<path clip-path=\"url(#clip820)\" d=\"M170.317 1544.91 L177.956 1544.91 L177.956 1518.55 L169.646 1520.21 L169.646 1515.95 L177.91 1514.29 L182.586 1514.29 L182.586 1544.91 L190.224 1544.91 L190.224 1548.85 L170.317 1548.85 L170.317 1544.91 Z\" fill=\"#000000\" fill-rule=\"nonzero\" fill-opacity=\"1\" /><path clip-path=\"url(#clip820)\" d=\"M196.914 1533.96 L209.391 1533.96 L209.391 1537.76 L196.914 1537.76 L196.914 1533.96 Z\" fill=\"#000000\" fill-rule=\"nonzero\" fill-opacity=\"1\" /><path clip-path=\"url(#clip820)\" d=\"M229.622 1518.36 L217.817 1536.81 L229.622 1536.81 L229.622 1518.36 M228.395 1514.29 L234.275 1514.29 L234.275 1536.81 L239.206 1536.81 L239.206 1540.7 L234.275 1540.7 L234.275 1548.85 L229.622 1548.85 L229.622 1540.7 L214.021 1540.7 L214.021 1536.19 L228.395 1514.29 Z\" fill=\"#000000\" fill-rule=\"nonzero\" fill-opacity=\"1\" /><path clip-path=\"url(#clip820)\" d=\"M431.777 1544.91 L439.416 1544.91 L439.416 1518.55 L431.106 1520.21 L431.106 1515.95 L439.37 1514.29 L444.046 1514.29 L444.046 1544.91 L451.685 1544.91 L451.685 1548.85 L431.777 1548.85 L431.777 1544.91 Z\" fill=\"#000000\" fill-rule=\"nonzero\" fill-opacity=\"1\" /><path clip-path=\"url(#clip820)\" d=\"M458.375 1533.96 L470.851 1533.96 L470.851 1537.76 L458.375 1537.76 L458.375 1533.96 Z\" fill=\"#000000\" fill-rule=\"nonzero\" fill-opacity=\"1\" /><path clip-path=\"url(#clip820)\" d=\"M478.282 1514.29 L496.638 1514.29 L496.638 1518.22 L482.564 1518.22 L482.564 1526.7 Q483.583 1526.35 484.601 1526.19 Q485.62 1526 486.638 1526 Q492.425 1526 495.805 1529.17 Q499.185 1532.34 499.185 1537.76 Q499.185 1543.34 495.712 1546.44 Q492.24 1549.52 485.921 1549.52 Q483.745 1549.52 481.476 1549.15 Q479.231 1548.78 476.824 1548.04 L476.824 1543.34 Q478.907 1544.47 481.129 1545.03 Q483.351 1545.58 485.828 1545.58 Q489.833 1545.58 492.171 1543.48 Q494.509 1541.37 494.509 1537.76 Q494.509 1534.15 492.171 1532.04 Q489.833 1529.94 485.828 1529.94 Q483.953 1529.94 482.078 1530.35 Q480.226 1530.77 478.282 1531.65 L478.282 1514.29 Z\" fill=\"#000000\" fill-rule=\"nonzero\" fill-opacity=\"1\" /><path clip-path=\"url(#clip820)\" d=\"M691.918 1544.91 L699.557 1544.91 L699.557 1518.55 L691.247 1520.21 L691.247 1515.95 L699.511 1514.29 L704.187 1514.29 L704.187 1544.91 L711.826 1544.91 L711.826 1548.85 L691.918 1548.85 L691.918 1544.91 Z\" fill=\"#000000\" fill-rule=\"nonzero\" fill-opacity=\"1\" /><path clip-path=\"url(#clip820)\" d=\"M718.516 1533.96 L730.992 1533.96 L730.992 1537.76 L718.516 1537.76 L718.516 1533.96 Z\" fill=\"#000000\" fill-rule=\"nonzero\" fill-opacity=\"1\" /><path clip-path=\"url(#clip820)\" d=\"M748.955 1529.7 Q745.807 1529.7 743.955 1531.86 Q742.127 1534.01 742.127 1537.76 Q742.127 1541.49 743.955 1543.66 Q745.807 1545.82 748.955 1545.82 Q752.103 1545.82 753.932 1543.66 Q755.784 1541.49 755.784 1537.76 Q755.784 1534.01 753.932 1531.86 Q752.103 1529.7 748.955 1529.7 M758.238 1515.05 L758.238 1519.31 Q756.478 1518.48 754.673 1518.04 Q752.89 1517.6 751.131 1517.6 Q746.502 1517.6 744.048 1520.72 Q741.617 1523.85 741.27 1530.17 Q742.636 1528.15 744.696 1527.09 Q746.756 1526 749.233 1526 Q754.441 1526 757.451 1529.17 Q760.483 1532.32 760.483 1537.76 Q760.483 1543.08 757.335 1546.3 Q754.187 1549.52 748.955 1549.52 Q742.96 1549.52 739.789 1544.94 Q736.617 1540.33 736.617 1531.6 Q736.617 1523.41 740.506 1518.55 Q744.395 1513.66 750.946 1513.66 Q752.705 1513.66 754.488 1514.01 Q756.293 1514.36 758.238 1515.05 Z\" fill=\"#000000\" fill-rule=\"nonzero\" fill-opacity=\"1\" /><path clip-path=\"url(#clip820)\" d=\"M937.638 1544.91 L945.277 1544.91 L945.277 1518.55 L936.967 1520.21 L936.967 1515.95 L945.231 1514.29 L949.907 1514.29 L949.907 1544.91 L957.546 1544.91 L957.546 1548.85 L937.638 1548.85 L937.638 1544.91 Z\" fill=\"#000000\" fill-rule=\"nonzero\" fill-opacity=\"1\" /><path clip-path=\"url(#clip820)\" d=\"M964.235 1533.96 L976.712 1533.96 L976.712 1537.76 L964.235 1537.76 L964.235 1533.96 Z\" fill=\"#000000\" fill-rule=\"nonzero\" fill-opacity=\"1\" /><path clip-path=\"url(#clip820)\" d=\"M988.124 1544.91 L1004.44 1544.91 L1004.44 1548.85 L982.499 1548.85 L982.499 1544.91 Q985.161 1542.16 989.744 1537.53 Q994.351 1532.88 995.531 1531.53 Q997.777 1529.01 998.656 1527.27 Q999.559 1525.51 999.559 1523.82 Q999.559 1521.07 997.615 1519.33 Q995.693 1517.6 992.592 1517.6 Q990.393 1517.6 987.939 1518.36 Q985.508 1519.13 982.731 1520.68 L982.731 1515.95 Q985.555 1514.82 988.008 1514.24 Q990.462 1513.66 992.499 1513.66 Q997.869 1513.66 1001.06 1516.35 Q1004.26 1519.03 1004.26 1523.52 Q1004.26 1525.65 1003.45 1527.57 Q1002.66 1529.47 1000.55 1532.07 Q999.976 1532.74 996.874 1535.95 Q993.772 1539.15 988.124 1544.91 Z\" fill=\"#000000\" fill-rule=\"nonzero\" fill-opacity=\"1\" /><path clip-path=\"url(#clip820)\" d=\"M1024.26 1517.37 Q1020.65 1517.37 1018.82 1520.93 Q1017.01 1524.47 1017.01 1531.6 Q1017.01 1538.71 1018.82 1542.27 Q1020.65 1545.82 1024.26 1545.82 Q1027.89 1545.82 1029.7 1542.27 Q1031.53 1538.71 1031.53 1531.6 Q1031.53 1524.47 1029.7 1520.93 Q1027.89 1517.37 1024.26 1517.37 M1024.26 1513.66 Q1030.07 1513.66 1033.12 1518.27 Q1036.2 1522.85 1036.2 1531.6 Q1036.2 1540.33 1033.12 1544.94 Q1030.07 1549.52 1024.26 1549.52 Q1018.45 1549.52 1015.37 1544.94 Q1012.31 1540.33 1012.31 1531.6 Q1012.31 1522.85 1015.37 1518.27 Q1018.45 1513.66 1024.26 1513.66 Z\" fill=\"#000000\" fill-rule=\"nonzero\" fill-opacity=\"1\" /><path clip-path=\"url(#clip820)\" d=\"M1217.28 1544.91 L1233.6 1544.91 L1233.6 1548.85 L1211.66 1548.85 L1211.66 1544.91 Q1214.32 1542.16 1218.9 1537.53 Q1223.51 1532.88 1224.69 1531.53 Q1226.93 1529.01 1227.81 1527.27 Q1228.72 1525.51 1228.72 1523.82 Q1228.72 1521.07 1226.77 1519.33 Q1224.85 1517.6 1221.75 1517.6 Q1219.55 1517.6 1217.1 1518.36 Q1214.67 1519.13 1211.89 1520.68 L1211.89 1515.95 Q1214.71 1514.82 1217.17 1514.24 Q1219.62 1513.66 1221.66 1513.66 Q1227.03 1513.66 1230.22 1516.35 Q1233.42 1519.03 1233.42 1523.52 Q1233.42 1525.65 1232.61 1527.57 Q1231.82 1529.47 1229.71 1532.07 Q1229.13 1532.74 1226.03 1535.95 Q1222.93 1539.15 1217.28 1544.91 Z\" fill=\"#000000\" fill-rule=\"nonzero\" fill-opacity=\"1\" /><path clip-path=\"url(#clip820)\" d=\"M1240.66 1533.96 L1253.14 1533.96 L1253.14 1537.76 L1240.66 1537.76 L1240.66 1533.96 Z\" fill=\"#000000\" fill-rule=\"nonzero\" fill-opacity=\"1\" /><path clip-path=\"url(#clip820)\" d=\"M1273.37 1518.36 L1261.56 1536.81 L1273.37 1536.81 L1273.37 1518.36 M1272.14 1514.29 L1278.02 1514.29 L1278.02 1536.81 L1282.95 1536.81 L1282.95 1540.7 L1278.02 1540.7 L1278.02 1548.85 L1273.37 1548.85 L1273.37 1540.7 L1257.77 1540.7 L1257.77 1536.19 L1272.14 1514.29 Z\" fill=\"#000000\" fill-rule=\"nonzero\" fill-opacity=\"1\" /><path clip-path=\"url(#clip820)\" d=\"M1478.74 1544.91 L1495.06 1544.91 L1495.06 1548.85 L1473.12 1548.85 L1473.12 1544.91 Q1475.78 1542.16 1480.36 1537.53 Q1484.97 1532.88 1486.15 1531.53 Q1488.39 1529.01 1489.27 1527.27 Q1490.18 1525.51 1490.18 1523.82 Q1490.18 1521.07 1488.23 1519.33 Q1486.31 1517.6 1483.21 1517.6 Q1481.01 1517.6 1478.56 1518.36 Q1476.13 1519.13 1473.35 1520.68 L1473.35 1515.95 Q1476.17 1514.82 1478.63 1514.24 Q1481.08 1513.66 1483.12 1513.66 Q1488.49 1513.66 1491.68 1516.35 Q1494.88 1519.03 1494.88 1523.52 Q1494.88 1525.65 1494.07 1527.57 Q1493.28 1529.47 1491.17 1532.07 Q1490.59 1532.74 1487.49 1535.95 Q1484.39 1539.15 1478.74 1544.91 Z\" fill=\"#000000\" fill-rule=\"nonzero\" fill-opacity=\"1\" /><path clip-path=\"url(#clip820)\" d=\"M1502.12 1533.96 L1514.6 1533.96 L1514.6 1537.76 L1502.12 1537.76 L1502.12 1533.96 Z\" fill=\"#000000\" fill-rule=\"nonzero\" fill-opacity=\"1\" /><path clip-path=\"url(#clip820)\" d=\"M1522.03 1514.29 L1540.39 1514.29 L1540.39 1518.22 L1526.31 1518.22 L1526.31 1526.7 Q1527.33 1526.35 1528.35 1526.19 Q1529.37 1526 1530.39 1526 Q1536.17 1526 1539.55 1529.17 Q1542.93 1532.34 1542.93 1537.76 Q1542.93 1543.34 1539.46 1546.44 Q1535.99 1549.52 1529.67 1549.52 Q1527.49 1549.52 1525.22 1549.15 Q1522.98 1548.78 1520.57 1548.04 L1520.57 1543.34 Q1522.65 1544.47 1524.88 1545.03 Q1527.1 1545.58 1529.57 1545.58 Q1533.58 1545.58 1535.92 1543.48 Q1538.26 1541.37 1538.26 1537.76 Q1538.26 1534.15 1535.92 1532.04 Q1533.58 1529.94 1529.57 1529.94 Q1527.7 1529.94 1525.82 1530.35 Q1523.97 1530.77 1522.03 1531.65 L1522.03 1514.29 Z\" fill=\"#000000\" fill-rule=\"nonzero\" fill-opacity=\"1\" /><path clip-path=\"url(#clip820)\" d=\"M1723.88 1544.91 L1740.2 1544.91 L1740.2 1548.85 L1718.26 1548.85 L1718.26 1544.91 Q1720.92 1542.16 1725.5 1537.53 Q1730.11 1532.88 1731.29 1531.53 Q1733.54 1529.01 1734.42 1527.27 Q1735.32 1525.51 1735.32 1523.82 Q1735.32 1521.07 1733.37 1519.33 Q1731.45 1517.6 1728.35 1517.6 Q1726.15 1517.6 1723.7 1518.36 Q1721.27 1519.13 1718.49 1520.68 L1718.49 1515.95 Q1721.31 1514.82 1723.77 1514.24 Q1726.22 1513.66 1728.26 1513.66 Q1733.63 1513.66 1736.82 1516.35 Q1740.02 1519.03 1740.02 1523.52 Q1740.02 1525.65 1739.21 1527.57 Q1738.42 1529.47 1736.31 1532.07 Q1735.73 1532.74 1732.63 1535.95 Q1729.53 1539.15 1723.88 1544.91 Z\" fill=\"#000000\" fill-rule=\"nonzero\" fill-opacity=\"1\" /><path clip-path=\"url(#clip820)\" d=\"M1747.26 1533.96 L1759.74 1533.96 L1759.74 1537.76 L1747.26 1537.76 L1747.26 1533.96 Z\" fill=\"#000000\" fill-rule=\"nonzero\" fill-opacity=\"1\" /><path clip-path=\"url(#clip820)\" d=\"M1771.15 1544.91 L1787.47 1544.91 L1787.47 1548.85 L1765.53 1548.85 L1765.53 1544.91 Q1768.19 1542.16 1772.77 1537.53 Q1777.38 1532.88 1778.56 1531.53 Q1780.8 1529.01 1781.68 1527.27 Q1782.59 1525.51 1782.59 1523.82 Q1782.59 1521.07 1780.64 1519.33 Q1778.72 1517.6 1775.62 1517.6 Q1773.42 1517.6 1770.97 1518.36 Q1768.54 1519.13 1765.76 1520.68 L1765.76 1515.95 Q1768.58 1514.82 1771.04 1514.24 Q1773.49 1513.66 1775.53 1513.66 Q1780.9 1513.66 1784.09 1516.35 Q1787.29 1519.03 1787.29 1523.52 Q1787.29 1525.65 1786.48 1527.57 Q1785.69 1529.47 1783.58 1532.07 Q1783 1532.74 1779.9 1535.95 Q1776.8 1539.15 1771.15 1544.91 Z\" fill=\"#000000\" fill-rule=\"nonzero\" fill-opacity=\"1\" /><path clip-path=\"url(#clip820)\" d=\"M1807.29 1517.37 Q1803.67 1517.37 1801.85 1520.93 Q1800.04 1524.47 1800.04 1531.6 Q1800.04 1538.71 1801.85 1542.27 Q1803.67 1545.82 1807.29 1545.82 Q1810.92 1545.82 1812.73 1542.27 Q1814.55 1538.71 1814.55 1531.6 Q1814.55 1524.47 1812.73 1520.93 Q1810.92 1517.37 1807.29 1517.37 M1807.29 1513.66 Q1813.1 1513.66 1816.15 1518.27 Q1819.23 1522.85 1819.23 1531.6 Q1819.23 1540.33 1816.15 1544.94 Q1813.1 1549.52 1807.29 1549.52 Q1801.48 1549.52 1798.4 1544.94 Q1795.34 1540.33 1795.34 1531.6 Q1795.34 1522.85 1798.4 1518.27 Q1801.48 1513.66 1807.29 1513.66 Z\" fill=\"#000000\" fill-rule=\"nonzero\" fill-opacity=\"1\" /><path clip-path=\"url(#clip820)\" d=\"M2010.25 1530.21 Q2013.61 1530.93 2015.48 1533.2 Q2017.38 1535.47 2017.38 1538.8 Q2017.38 1543.92 2013.86 1546.72 Q2010.34 1549.52 2003.86 1549.52 Q2001.69 1549.52 1999.37 1549.08 Q1997.08 1548.66 1994.63 1547.81 L1994.63 1543.29 Q1996.57 1544.43 1998.88 1545.01 Q2001.2 1545.58 2003.72 1545.58 Q2008.12 1545.58 2010.41 1543.85 Q2012.73 1542.11 2012.73 1538.8 Q2012.73 1535.75 2010.57 1534.03 Q2008.45 1532.3 2004.63 1532.3 L2000.6 1532.3 L2000.6 1528.45 L2004.81 1528.45 Q2008.26 1528.45 2010.09 1527.09 Q2011.92 1525.7 2011.92 1523.11 Q2011.92 1520.45 2010.02 1519.03 Q2008.14 1517.6 2004.63 1517.6 Q2002.7 1517.6 2000.51 1518.01 Q1998.31 1518.43 1995.67 1519.31 L1995.67 1515.14 Q1998.33 1514.4 2000.64 1514.03 Q2002.98 1513.66 2005.04 1513.66 Q2010.37 1513.66 2013.47 1516.09 Q2016.57 1518.5 2016.57 1522.62 Q2016.57 1525.49 2014.93 1527.48 Q2013.28 1529.45 2010.25 1530.21 Z\" fill=\"#000000\" fill-rule=\"nonzero\" fill-opacity=\"1\" /><path clip-path=\"url(#clip820)\" d=\"M2023.49 1533.96 L2035.97 1533.96 L2035.97 1537.76 L2023.49 1537.76 L2023.49 1533.96 Z\" fill=\"#000000\" fill-rule=\"nonzero\" fill-opacity=\"1\" /><path clip-path=\"url(#clip820)\" d=\"M2043.4 1514.29 L2061.75 1514.29 L2061.75 1518.22 L2047.68 1518.22 L2047.68 1526.7 Q2048.7 1526.35 2049.72 1526.19 Q2050.74 1526 2051.76 1526 Q2057.54 1526 2060.92 1529.17 Q2064.3 1532.34 2064.3 1537.76 Q2064.3 1543.34 2060.83 1546.44 Q2057.36 1549.52 2051.04 1549.52 Q2048.86 1549.52 2046.59 1549.15 Q2044.35 1548.78 2041.94 1548.04 L2041.94 1543.34 Q2044.02 1544.47 2046.25 1545.03 Q2048.47 1545.58 2050.94 1545.58 Q2054.95 1545.58 2057.29 1543.48 Q2059.63 1541.37 2059.63 1537.76 Q2059.63 1534.15 2057.29 1532.04 Q2054.95 1529.94 2050.94 1529.94 Q2049.07 1529.94 2047.19 1530.35 Q2045.34 1530.77 2043.4 1531.65 L2043.4 1514.29 Z\" fill=\"#000000\" fill-rule=\"nonzero\" fill-opacity=\"1\" /><path clip-path=\"url(#clip820)\" d=\"M2270.3 1518.36 L2258.49 1536.81 L2270.3 1536.81 L2270.3 1518.36 M2269.07 1514.29 L2274.95 1514.29 L2274.95 1536.81 L2279.88 1536.81 L2279.88 1540.7 L2274.95 1540.7 L2274.95 1548.85 L2270.3 1548.85 L2270.3 1540.7 L2254.7 1540.7 L2254.7 1536.19 L2269.07 1514.29 Z\" fill=\"#000000\" fill-rule=\"nonzero\" fill-opacity=\"1\" /><path clip-path=\"url(#clip820)\" d=\"M2284.86 1533.96 L2297.34 1533.96 L2297.34 1537.76 L2284.86 1537.76 L2284.86 1533.96 Z\" fill=\"#000000\" fill-rule=\"nonzero\" fill-opacity=\"1\" /><path clip-path=\"url(#clip820)\" d=\"M2304.77 1514.29 L2323.12 1514.29 L2323.12 1518.22 L2309.05 1518.22 L2309.05 1526.7 Q2310.07 1526.35 2311.09 1526.19 Q2312.1 1526 2313.12 1526 Q2318.91 1526 2322.29 1529.17 Q2325.67 1532.34 2325.67 1537.76 Q2325.67 1543.34 2322.2 1546.44 Q2318.72 1549.52 2312.41 1549.52 Q2310.23 1549.52 2307.96 1549.15 Q2305.72 1548.78 2303.31 1548.04 L2303.31 1543.34 Q2305.39 1544.47 2307.61 1545.03 Q2309.84 1545.58 2312.31 1545.58 Q2316.32 1545.58 2318.66 1543.48 Q2320.99 1541.37 2320.99 1537.76 Q2320.99 1534.15 2318.66 1532.04 Q2316.32 1529.94 2312.31 1529.94 Q2310.44 1529.94 2308.56 1530.35 Q2306.71 1530.77 2304.77 1531.65 L2304.77 1514.29 Z\" fill=\"#000000\" fill-rule=\"nonzero\" fill-opacity=\"1\" /><polyline clip-path=\"url(#clip822)\" style=\"stroke:#000000; stroke-linecap:round; stroke-linejoin:round; stroke-width:2; stroke-opacity:0.1; fill:none\" points=\"141.853,1445.72 2352.76,1445.72 \"/>\n",
       "<polyline clip-path=\"url(#clip822)\" style=\"stroke:#000000; stroke-linecap:round; stroke-linejoin:round; stroke-width:2; stroke-opacity:0.1; fill:none\" points=\"141.853,1219.43 2352.76,1219.43 \"/>\n",
       "<polyline clip-path=\"url(#clip822)\" style=\"stroke:#000000; stroke-linecap:round; stroke-linejoin:round; stroke-width:2; stroke-opacity:0.1; fill:none\" points=\"141.853,993.136 2352.76,993.136 \"/>\n",
       "<polyline clip-path=\"url(#clip822)\" style=\"stroke:#000000; stroke-linecap:round; stroke-linejoin:round; stroke-width:2; stroke-opacity:0.1; fill:none\" points=\"141.853,766.846 2352.76,766.846 \"/>\n",
       "<polyline clip-path=\"url(#clip822)\" style=\"stroke:#000000; stroke-linecap:round; stroke-linejoin:round; stroke-width:2; stroke-opacity:0.1; fill:none\" points=\"141.853,540.556 2352.76,540.556 \"/>\n",
       "<polyline clip-path=\"url(#clip822)\" style=\"stroke:#000000; stroke-linecap:round; stroke-linejoin:round; stroke-width:2; stroke-opacity:0.1; fill:none\" points=\"141.853,314.266 2352.76,314.266 \"/>\n",
       "<polyline clip-path=\"url(#clip822)\" style=\"stroke:#000000; stroke-linecap:round; stroke-linejoin:round; stroke-width:2; stroke-opacity:0.1; fill:none\" points=\"141.853,87.9763 2352.76,87.9763 \"/>\n",
       "<polyline clip-path=\"url(#clip820)\" style=\"stroke:#000000; stroke-linecap:round; stroke-linejoin:round; stroke-width:4; stroke-opacity:1; fill:none\" points=\"141.853,1486.45 141.853,47.2441 \"/>\n",
       "<polyline clip-path=\"url(#clip820)\" style=\"stroke:#000000; stroke-linecap:round; stroke-linejoin:round; stroke-width:4; stroke-opacity:1; fill:none\" points=\"141.853,1445.72 160.751,1445.72 \"/>\n",
       "<polyline clip-path=\"url(#clip820)\" style=\"stroke:#000000; stroke-linecap:round; stroke-linejoin:round; stroke-width:4; stroke-opacity:1; fill:none\" points=\"141.853,1219.43 160.751,1219.43 \"/>\n",
       "<polyline clip-path=\"url(#clip820)\" style=\"stroke:#000000; stroke-linecap:round; stroke-linejoin:round; stroke-width:4; stroke-opacity:1; fill:none\" points=\"141.853,993.136 160.751,993.136 \"/>\n",
       "<polyline clip-path=\"url(#clip820)\" style=\"stroke:#000000; stroke-linecap:round; stroke-linejoin:round; stroke-width:4; stroke-opacity:1; fill:none\" points=\"141.853,766.846 160.751,766.846 \"/>\n",
       "<polyline clip-path=\"url(#clip820)\" style=\"stroke:#000000; stroke-linecap:round; stroke-linejoin:round; stroke-width:4; stroke-opacity:1; fill:none\" points=\"141.853,540.556 160.751,540.556 \"/>\n",
       "<polyline clip-path=\"url(#clip820)\" style=\"stroke:#000000; stroke-linecap:round; stroke-linejoin:round; stroke-width:4; stroke-opacity:1; fill:none\" points=\"141.853,314.266 160.751,314.266 \"/>\n",
       "<polyline clip-path=\"url(#clip820)\" style=\"stroke:#000000; stroke-linecap:round; stroke-linejoin:round; stroke-width:4; stroke-opacity:1; fill:none\" points=\"141.853,87.9763 160.751,87.9763 \"/>\n",
       "<path clip-path=\"url(#clip820)\" d=\"M67.9133 1444.36 Q71.2698 1445.08 73.1448 1447.35 Q75.0429 1449.62 75.0429 1452.95 Q75.0429 1458.07 71.5244 1460.87 Q68.0059 1463.67 61.5245 1463.67 Q59.3486 1463.67 57.0338 1463.23 Q54.7421 1462.81 52.2884 1461.95 L52.2884 1457.44 Q54.2328 1458.57 56.5477 1459.15 Q58.8625 1459.73 61.3856 1459.73 Q65.7837 1459.73 68.0754 1458 Q70.3902 1456.26 70.3902 1452.95 Q70.3902 1449.89 68.2374 1448.18 Q66.1078 1446.44 62.2884 1446.44 L58.2606 1446.44 L58.2606 1442.6 L62.4735 1442.6 Q65.9226 1442.6 67.7513 1441.24 Q69.58 1439.85 69.58 1437.26 Q69.58 1434.59 67.6819 1433.18 Q65.8069 1431.75 62.2884 1431.75 Q60.3671 1431.75 58.168 1432.16 Q55.969 1432.58 53.3301 1433.46 L53.3301 1429.29 Q55.9921 1428.55 58.3069 1428.18 Q60.6449 1427.81 62.705 1427.81 Q68.0291 1427.81 71.1309 1430.24 Q74.2327 1432.65 74.2327 1436.77 Q74.2327 1439.64 72.5892 1441.63 Q70.9457 1443.6 67.9133 1444.36 Z\" fill=\"#000000\" fill-rule=\"nonzero\" fill-opacity=\"1\" /><path clip-path=\"url(#clip820)\" d=\"M93.9086 1431.51 Q90.2975 1431.51 88.4688 1435.08 Q86.6632 1438.62 86.6632 1445.75 Q86.6632 1452.86 88.4688 1456.42 Q90.2975 1459.96 93.9086 1459.96 Q97.5428 1459.96 99.3483 1456.42 Q101.177 1452.86 101.177 1445.75 Q101.177 1438.62 99.3483 1435.08 Q97.5428 1431.51 93.9086 1431.51 M93.9086 1427.81 Q99.7187 1427.81 102.774 1432.42 Q105.853 1437 105.853 1445.75 Q105.853 1454.48 102.774 1459.08 Q99.7187 1463.67 93.9086 1463.67 Q88.0984 1463.67 85.0197 1459.08 Q81.9642 1454.48 81.9642 1445.75 Q81.9642 1437 85.0197 1432.42 Q88.0984 1427.81 93.9086 1427.81 Z\" fill=\"#000000\" fill-rule=\"nonzero\" fill-opacity=\"1\" /><path clip-path=\"url(#clip820)\" d=\"M66.5939 1206.22 L54.7884 1224.67 L66.5939 1224.67 L66.5939 1206.22 M65.367 1202.15 L71.2466 1202.15 L71.2466 1224.67 L76.1772 1224.67 L76.1772 1228.56 L71.2466 1228.56 L71.2466 1236.71 L66.5939 1236.71 L66.5939 1228.56 L50.9921 1228.56 L50.9921 1224.04 L65.367 1202.15 Z\" fill=\"#000000\" fill-rule=\"nonzero\" fill-opacity=\"1\" /><path clip-path=\"url(#clip820)\" d=\"M93.9086 1205.22 Q90.2975 1205.22 88.4688 1208.79 Q86.6632 1212.33 86.6632 1219.46 Q86.6632 1226.57 88.4688 1230.13 Q90.2975 1233.67 93.9086 1233.67 Q97.5428 1233.67 99.3483 1230.13 Q101.177 1226.57 101.177 1219.46 Q101.177 1212.33 99.3483 1208.79 Q97.5428 1205.22 93.9086 1205.22 M93.9086 1201.52 Q99.7187 1201.52 102.774 1206.13 Q105.853 1210.71 105.853 1219.46 Q105.853 1228.19 102.774 1232.79 Q99.7187 1237.38 93.9086 1237.38 Q88.0984 1237.38 85.0197 1232.79 Q81.9642 1228.19 81.9642 1219.46 Q81.9642 1210.71 85.0197 1206.13 Q88.0984 1201.52 93.9086 1201.52 Z\" fill=\"#000000\" fill-rule=\"nonzero\" fill-opacity=\"1\" /><path clip-path=\"url(#clip820)\" d=\"M53.793 975.856 L72.1494 975.856 L72.1494 979.791 L58.0754 979.791 L58.0754 988.263 Q59.0939 987.916 60.1124 987.754 Q61.131 987.569 62.1495 987.569 Q67.9365 987.569 71.3161 990.74 Q74.6957 993.911 74.6957 999.328 Q74.6957 1004.91 71.2235 1008.01 Q67.7513 1011.09 61.4319 1011.09 Q59.256 1011.09 56.9875 1010.72 Q54.7421 1010.35 52.3347 1009.61 L52.3347 1004.91 Q54.418 1006.04 56.6402 1006.6 Q58.8625 1007.15 61.3393 1007.15 Q65.3439 1007.15 67.6819 1005.05 Q70.0198 1002.94 70.0198 999.328 Q70.0198 995.717 67.6819 993.61 Q65.3439 991.504 61.3393 991.504 Q59.4643 991.504 57.5893 991.921 Q55.7375 992.337 53.793 993.217 L53.793 975.856 Z\" fill=\"#000000\" fill-rule=\"nonzero\" fill-opacity=\"1\" /><path clip-path=\"url(#clip820)\" d=\"M93.9086 978.935 Q90.2975 978.935 88.4688 982.499 Q86.6632 986.041 86.6632 993.171 Q86.6632 1000.28 88.4688 1003.84 Q90.2975 1007.38 93.9086 1007.38 Q97.5428 1007.38 99.3483 1003.84 Q101.177 1000.28 101.177 993.171 Q101.177 986.041 99.3483 982.499 Q97.5428 978.935 93.9086 978.935 M93.9086 975.231 Q99.7187 975.231 102.774 979.837 Q105.853 984.421 105.853 993.171 Q105.853 1001.9 102.774 1006.5 Q99.7187 1011.09 93.9086 1011.09 Q88.0984 1011.09 85.0197 1006.5 Q81.9642 1001.9 81.9642 993.171 Q81.9642 984.421 85.0197 979.837 Q88.0984 975.231 93.9086 975.231 Z\" fill=\"#000000\" fill-rule=\"nonzero\" fill-opacity=\"1\" /><path clip-path=\"url(#clip820)\" d=\"M64.3254 764.983 Q61.1773 764.983 59.3254 767.135 Q57.4967 769.288 57.4967 773.038 Q57.4967 776.765 59.3254 778.941 Q61.1773 781.094 64.3254 781.094 Q67.4735 781.094 69.3022 778.941 Q71.1541 776.765 71.1541 773.038 Q71.1541 769.288 69.3022 767.135 Q67.4735 764.983 64.3254 764.983 M73.6077 750.33 L73.6077 754.589 Q71.8485 753.756 70.0429 753.316 Q68.2606 752.876 66.5013 752.876 Q61.8717 752.876 59.418 756.001 Q56.9875 759.126 56.6402 765.446 Q58.006 763.432 60.0662 762.367 Q62.1263 761.279 64.6032 761.279 Q69.8115 761.279 72.8207 764.45 Q75.8531 767.598 75.8531 773.038 Q75.8531 778.362 72.705 781.58 Q69.5568 784.797 64.3254 784.797 Q58.33 784.797 55.1588 780.214 Q51.9875 775.608 51.9875 766.881 Q51.9875 758.686 55.8764 753.825 Q59.7652 748.941 66.3161 748.941 Q68.0754 748.941 69.8578 749.288 Q71.6633 749.635 73.6077 750.33 Z\" fill=\"#000000\" fill-rule=\"nonzero\" fill-opacity=\"1\" /><path clip-path=\"url(#clip820)\" d=\"M93.9086 752.645 Q90.2975 752.645 88.4688 756.209 Q86.6632 759.751 86.6632 766.881 Q86.6632 773.987 88.4688 777.552 Q90.2975 781.094 93.9086 781.094 Q97.5428 781.094 99.3483 777.552 Q101.177 773.987 101.177 766.881 Q101.177 759.751 99.3483 756.209 Q97.5428 752.645 93.9086 752.645 M93.9086 748.941 Q99.7187 748.941 102.774 753.547 Q105.853 758.131 105.853 766.881 Q105.853 775.608 102.774 780.214 Q99.7187 784.797 93.9086 784.797 Q88.0984 784.797 85.0197 780.214 Q81.9642 775.608 81.9642 766.881 Q81.9642 758.131 85.0197 753.547 Q88.0984 748.941 93.9086 748.941 Z\" fill=\"#000000\" fill-rule=\"nonzero\" fill-opacity=\"1\" /><path clip-path=\"url(#clip820)\" d=\"M52.5662 523.276 L74.7883 523.276 L74.7883 525.267 L62.2421 557.836 L57.3578 557.836 L69.1633 527.211 L52.5662 527.211 L52.5662 523.276 Z\" fill=\"#000000\" fill-rule=\"nonzero\" fill-opacity=\"1\" /><path clip-path=\"url(#clip820)\" d=\"M93.9086 526.355 Q90.2975 526.355 88.4688 529.92 Q86.6632 533.461 86.6632 540.591 Q86.6632 547.697 88.4688 551.262 Q90.2975 554.804 93.9086 554.804 Q97.5428 554.804 99.3483 551.262 Q101.177 547.697 101.177 540.591 Q101.177 533.461 99.3483 529.92 Q97.5428 526.355 93.9086 526.355 M93.9086 522.651 Q99.7187 522.651 102.774 527.258 Q105.853 531.841 105.853 540.591 Q105.853 549.318 102.774 553.924 Q99.7187 558.507 93.9086 558.507 Q88.0984 558.507 85.0197 553.924 Q81.9642 549.318 81.9642 540.591 Q81.9642 531.841 85.0197 527.258 Q88.0984 522.651 93.9086 522.651 Z\" fill=\"#000000\" fill-rule=\"nonzero\" fill-opacity=\"1\" /><path clip-path=\"url(#clip820)\" d=\"M63.7467 315.134 Q60.4134 315.134 58.4921 316.917 Q56.5939 318.699 56.5939 321.824 Q56.5939 324.949 58.4921 326.731 Q60.4134 328.514 63.7467 328.514 Q67.08 328.514 69.0013 326.731 Q70.9226 324.926 70.9226 321.824 Q70.9226 318.699 69.0013 316.917 Q67.1032 315.134 63.7467 315.134 M59.0708 313.144 Q56.0615 312.403 54.3717 310.343 Q52.7051 308.282 52.7051 305.319 Q52.7051 301.176 55.6449 298.769 Q58.6078 296.361 63.7467 296.361 Q68.9087 296.361 71.8485 298.769 Q74.7883 301.176 74.7883 305.319 Q74.7883 308.282 73.0985 310.343 Q71.4318 312.403 68.4457 313.144 Q71.8253 313.931 73.7003 316.222 Q75.5985 318.514 75.5985 321.824 Q75.5985 326.847 72.5198 329.532 Q69.4642 332.217 63.7467 332.217 Q58.0291 332.217 54.9504 329.532 Q51.8949 326.847 51.8949 321.824 Q51.8949 318.514 53.793 316.222 Q55.6912 313.931 59.0708 313.144 M57.3578 305.759 Q57.3578 308.444 59.0245 309.949 Q60.7143 311.454 63.7467 311.454 Q66.7559 311.454 68.4457 309.949 Q70.1587 308.444 70.1587 305.759 Q70.1587 303.074 68.4457 301.569 Q66.7559 300.065 63.7467 300.065 Q60.7143 300.065 59.0245 301.569 Q57.3578 303.074 57.3578 305.759 Z\" fill=\"#000000\" fill-rule=\"nonzero\" fill-opacity=\"1\" /><path clip-path=\"url(#clip820)\" d=\"M93.9086 300.065 Q90.2975 300.065 88.4688 303.63 Q86.6632 307.171 86.6632 314.301 Q86.6632 321.407 88.4688 324.972 Q90.2975 328.514 93.9086 328.514 Q97.5428 328.514 99.3483 324.972 Q101.177 321.407 101.177 314.301 Q101.177 307.171 99.3483 303.63 Q97.5428 300.065 93.9086 300.065 M93.9086 296.361 Q99.7187 296.361 102.774 300.968 Q105.853 305.551 105.853 314.301 Q105.853 323.028 102.774 327.634 Q99.7187 332.217 93.9086 332.217 Q88.0984 332.217 85.0197 327.634 Q81.9642 323.028 81.9642 314.301 Q81.9642 305.551 85.0197 300.968 Q88.0984 296.361 93.9086 296.361 Z\" fill=\"#000000\" fill-rule=\"nonzero\" fill-opacity=\"1\" /><path clip-path=\"url(#clip820)\" d=\"M53.8856 104.539 L53.8856 100.279 Q55.6449 101.113 57.4504 101.553 Q59.256 101.992 60.9921 101.992 Q65.6217 101.992 68.0522 98.8906 Q70.5059 95.7656 70.8531 89.423 Q69.5105 91.4138 67.4504 92.4786 Q65.3902 93.5434 62.8902 93.5434 Q57.7051 93.5434 54.6727 90.4184 Q51.6634 87.2703 51.6634 81.8305 Q51.6634 76.5064 54.8115 73.2889 Q57.9597 70.0713 63.1911 70.0713 Q69.1865 70.0713 72.3346 74.6777 Q75.5059 79.261 75.5059 88.011 Q75.5059 96.1823 71.617 101.066 Q67.7513 105.928 61.2004 105.928 Q59.4412 105.928 57.6356 105.58 Q55.8301 105.233 53.8856 104.539 M63.1911 89.886 Q66.3393 89.886 68.168 87.7332 Q70.0198 85.5805 70.0198 81.8305 Q70.0198 78.1036 68.168 75.9509 Q66.3393 73.775 63.1911 73.775 Q60.043 73.775 58.1912 75.9509 Q56.3625 78.1036 56.3625 81.8305 Q56.3625 85.5805 58.1912 87.7332 Q60.043 89.886 63.1911 89.886 Z\" fill=\"#000000\" fill-rule=\"nonzero\" fill-opacity=\"1\" /><path clip-path=\"url(#clip820)\" d=\"M93.9086 73.775 Q90.2975 73.775 88.4688 77.3398 Q86.6632 80.8814 86.6632 88.011 Q86.6632 95.1174 88.4688 98.6822 Q90.2975 102.224 93.9086 102.224 Q97.5428 102.224 99.3483 98.6822 Q101.177 95.1174 101.177 88.011 Q101.177 80.8814 99.3483 77.3398 Q97.5428 73.775 93.9086 73.775 M93.9086 70.0713 Q99.7187 70.0713 102.774 74.6777 Q105.853 79.261 105.853 88.011 Q105.853 96.7378 102.774 101.344 Q99.7187 105.928 93.9086 105.928 Q88.0984 105.928 85.0197 101.344 Q81.9642 96.7378 81.9642 88.011 Q81.9642 79.261 85.0197 74.6777 Q88.0984 70.0713 93.9086 70.0713 Z\" fill=\"#000000\" fill-rule=\"nonzero\" fill-opacity=\"1\" /><polyline clip-path=\"url(#clip822)\" style=\"stroke:#009af9; stroke-linecap:round; stroke-linejoin:round; stroke-width:4; stroke-opacity:1; fill:none\" points=\"204.426,87.9763 465.145,151.802 725.865,172.28 986.585,478.841 1247.3,394.133 1508.02,427.411 1768.74,457.186 2029.46,684.559 2290.18,1445.72 \"/>\n",
       "<polyline clip-path=\"url(#clip822)\" style=\"stroke:#e26f46; stroke-linecap:round; stroke-linejoin:round; stroke-width:12; stroke-opacity:1; fill:none\" stroke-dasharray=\"6, 12\" points=\"204.426,993.136 465.145,993.136 725.865,993.136 986.585,993.136 1247.3,993.136 1508.02,993.136 1768.74,993.136 2029.46,993.136 2290.18,993.136 \"/>\n",
       "<path clip-path=\"url(#clip820)\" d=\"M1769.24 250.738 L2279.06 250.738 L2279.06 95.2176 L1769.24 95.2176  Z\" fill=\"#ffffff\" fill-rule=\"evenodd\" fill-opacity=\"1\"/>\n",
       "<polyline clip-path=\"url(#clip820)\" style=\"stroke:#000000; stroke-linecap:round; stroke-linejoin:round; stroke-width:4; stroke-opacity:1; fill:none\" points=\"1769.24,250.738 2279.06,250.738 2279.06,95.2176 1769.24,95.2176 1769.24,250.738 \"/>\n",
       "<polyline clip-path=\"url(#clip820)\" style=\"stroke:#009af9; stroke-linecap:round; stroke-linejoin:round; stroke-width:4; stroke-opacity:1; fill:none\" points=\"1793.81,147.058 1941.2,147.058 \"/>\n",
       "<path clip-path=\"url(#clip820)\" d=\"M1988.01 130.912 L1988.01 135.472 Q1985.35 134.199 1982.99 133.574 Q1980.63 132.949 1978.43 132.949 Q1974.61 132.949 1972.53 134.43 Q1970.47 135.912 1970.47 138.643 Q1970.47 140.935 1971.83 142.115 Q1973.22 143.273 1977.06 143.99 L1979.89 144.569 Q1985.12 145.565 1987.6 148.088 Q1990.1 150.588 1990.1 154.801 Q1990.1 159.824 1986.72 162.416 Q1983.36 165.009 1976.86 165.009 Q1974.4 165.009 1971.62 164.453 Q1968.87 163.898 1965.91 162.81 L1965.91 157.995 Q1968.75 159.592 1971.49 160.402 Q1974.22 161.213 1976.86 161.213 Q1980.86 161.213 1983.04 159.639 Q1985.21 158.064 1985.21 155.148 Q1985.21 152.602 1983.64 151.166 Q1982.09 149.731 1978.52 149.014 L1975.68 148.458 Q1970.44 147.416 1968.11 145.194 Q1965.77 142.972 1965.77 139.014 Q1965.77 134.43 1968.99 131.791 Q1972.23 129.153 1977.9 129.153 Q1980.33 129.153 1982.85 129.592 Q1985.37 130.032 1988.01 130.912 Z\" fill=\"#000000\" fill-rule=\"nonzero\" fill-opacity=\"1\" /><path clip-path=\"url(#clip820)\" d=\"M1997.2 138.412 L2001.46 138.412 L2001.46 164.338 L1997.2 164.338 L1997.2 138.412 M1997.2 128.319 L2001.46 128.319 L2001.46 133.713 L1997.2 133.713 L1997.2 128.319 Z\" fill=\"#000000\" fill-rule=\"nonzero\" fill-opacity=\"1\" /><path clip-path=\"url(#clip820)\" d=\"M2032.55 150.31 L2032.55 152.393 L2012.97 152.393 Q2013.24 156.791 2015.61 159.106 Q2017.99 161.398 2022.23 161.398 Q2024.68 161.398 2026.97 160.796 Q2029.29 160.194 2031.55 158.99 L2031.55 163.018 Q2029.26 163.99 2026.86 164.5 Q2024.45 165.009 2021.97 165.009 Q2015.77 165.009 2012.13 161.398 Q2008.52 157.787 2008.52 151.629 Q2008.52 145.264 2011.95 141.537 Q2015.4 137.787 2021.23 137.787 Q2026.46 137.787 2029.49 141.166 Q2032.55 144.523 2032.55 150.31 M2028.29 149.06 Q2028.24 145.565 2026.32 143.481 Q2024.43 141.398 2021.28 141.398 Q2017.71 141.398 2015.56 143.412 Q2013.43 145.426 2013.11 149.083 L2028.29 149.06 Z\" fill=\"#000000\" fill-rule=\"nonzero\" fill-opacity=\"1\" /><path clip-path=\"url(#clip820)\" d=\"M2056.6 151.074 Q2056.6 146.444 2054.68 143.898 Q2052.78 141.352 2049.33 141.352 Q2045.91 141.352 2043.99 143.898 Q2042.09 146.444 2042.09 151.074 Q2042.09 155.68 2043.99 158.226 Q2045.91 160.773 2049.33 160.773 Q2052.78 160.773 2054.68 158.226 Q2056.6 155.68 2056.6 151.074 M2060.86 161.12 Q2060.86 167.74 2057.92 170.958 Q2054.98 174.199 2048.92 174.199 Q2046.67 174.199 2044.68 173.851 Q2042.69 173.527 2040.81 172.833 L2040.81 168.689 Q2042.69 169.708 2044.52 170.194 Q2046.35 170.68 2048.24 170.68 Q2052.43 170.68 2054.52 168.481 Q2056.6 166.305 2056.6 161.884 L2056.6 159.777 Q2055.28 162.069 2053.22 163.203 Q2051.16 164.338 2048.29 164.338 Q2043.52 164.338 2040.61 160.703 Q2037.69 157.069 2037.69 151.074 Q2037.69 145.055 2040.61 141.421 Q2043.52 137.787 2048.29 137.787 Q2051.16 137.787 2053.22 138.921 Q2055.28 140.055 2056.6 142.347 L2056.6 138.412 L2060.86 138.412 L2060.86 161.12 Z\" fill=\"#000000\" fill-rule=\"nonzero\" fill-opacity=\"1\" /><path clip-path=\"url(#clip820)\" d=\"M2084.66 142.393 Q2083.94 141.977 2083.08 141.791 Q2082.25 141.583 2081.23 141.583 Q2077.62 141.583 2075.68 143.944 Q2073.75 146.282 2073.75 150.68 L2073.75 164.338 L2069.47 164.338 L2069.47 138.412 L2073.75 138.412 L2073.75 142.44 Q2075.1 140.078 2077.25 138.944 Q2079.4 137.787 2082.48 137.787 Q2082.92 137.787 2083.45 137.856 Q2083.99 137.903 2084.63 138.018 L2084.66 142.393 Z\" fill=\"#000000\" fill-rule=\"nonzero\" fill-opacity=\"1\" /><path clip-path=\"url(#clip820)\" d=\"M2100.91 151.305 Q2095.74 151.305 2093.75 152.486 Q2091.76 153.666 2091.76 156.514 Q2091.76 158.782 2093.24 160.125 Q2094.75 161.444 2097.32 161.444 Q2100.86 161.444 2102.99 158.944 Q2105.14 156.421 2105.14 152.254 L2105.14 151.305 L2100.91 151.305 M2109.4 149.546 L2109.4 164.338 L2105.14 164.338 L2105.14 160.402 Q2103.68 162.763 2101.51 163.898 Q2099.33 165.009 2096.18 165.009 Q2092.2 165.009 2089.84 162.787 Q2087.5 160.541 2087.5 156.791 Q2087.5 152.416 2090.42 150.194 Q2093.36 147.972 2099.17 147.972 L2105.14 147.972 L2105.14 147.555 Q2105.14 144.615 2103.2 143.018 Q2101.28 141.398 2097.78 141.398 Q2095.56 141.398 2093.45 141.93 Q2091.35 142.463 2089.4 143.527 L2089.4 139.592 Q2091.74 138.69 2093.94 138.25 Q2096.14 137.787 2098.22 137.787 Q2103.85 137.787 2106.62 140.703 Q2109.4 143.62 2109.4 149.546 Z\" fill=\"#000000\" fill-rule=\"nonzero\" fill-opacity=\"1\" /><path clip-path=\"url(#clip820)\" d=\"M2122.39 131.051 L2122.39 138.412 L2131.16 138.412 L2131.16 141.722 L2122.39 141.722 L2122.39 155.796 Q2122.39 158.967 2123.24 159.87 Q2124.12 160.773 2126.79 160.773 L2131.16 160.773 L2131.16 164.338 L2126.79 164.338 Q2121.86 164.338 2119.98 162.509 Q2118.11 160.657 2118.11 155.796 L2118.11 141.722 L2114.98 141.722 L2114.98 138.412 L2118.11 138.412 L2118.11 131.051 L2122.39 131.051 Z\" fill=\"#000000\" fill-rule=\"nonzero\" fill-opacity=\"1\" /><path clip-path=\"url(#clip820)\" d=\"M2158.94 150.31 L2158.94 152.393 L2139.36 152.393 Q2139.63 156.791 2141.99 159.106 Q2144.38 161.398 2148.61 161.398 Q2151.07 161.398 2153.36 160.796 Q2155.67 160.194 2157.94 158.99 L2157.94 163.018 Q2155.65 163.99 2153.24 164.5 Q2150.84 165.009 2148.36 165.009 Q2142.16 165.009 2138.52 161.398 Q2134.91 157.787 2134.91 151.629 Q2134.91 145.264 2138.34 141.537 Q2141.79 137.787 2147.62 137.787 Q2152.85 137.787 2155.88 141.166 Q2158.94 144.523 2158.94 150.31 M2154.68 149.06 Q2154.63 145.565 2152.71 143.481 Q2150.81 141.398 2147.67 141.398 Q2144.1 141.398 2141.95 143.412 Q2139.82 145.426 2139.49 149.083 L2154.68 149.06 Z\" fill=\"#000000\" fill-rule=\"nonzero\" fill-opacity=\"1\" /><path clip-path=\"url(#clip820)\" d=\"M2191.23 128.366 Q2188.13 133.69 2186.62 138.898 Q2185.12 144.106 2185.12 149.453 Q2185.12 154.801 2186.62 160.055 Q2188.15 165.287 2191.23 170.588 L2187.53 170.588 Q2184.05 165.148 2182.32 159.893 Q2180.61 154.639 2180.61 149.453 Q2180.61 144.291 2182.32 139.06 Q2184.03 133.828 2187.53 128.366 L2191.23 128.366 Z\" fill=\"#000000\" fill-rule=\"nonzero\" fill-opacity=\"1\" /><path clip-path=\"url(#clip820)\" d=\"M2229.49 149.129 Q2227.48 149.129 2226.32 150.842 Q2225.19 152.555 2225.19 155.611 Q2225.19 158.62 2226.32 160.356 Q2227.48 162.069 2229.49 162.069 Q2231.46 162.069 2232.6 160.356 Q2233.75 158.62 2233.75 155.611 Q2233.75 152.578 2232.6 150.865 Q2231.46 149.129 2229.49 149.129 M2229.49 146.19 Q2233.15 146.19 2235.3 148.736 Q2237.46 151.282 2237.46 155.611 Q2237.46 159.939 2235.28 162.486 Q2233.13 165.009 2229.49 165.009 Q2225.79 165.009 2223.64 162.486 Q2221.48 159.939 2221.48 155.611 Q2221.48 151.259 2223.64 148.736 Q2225.81 146.19 2229.49 146.19 M2205.6 132.092 Q2203.61 132.092 2202.46 133.828 Q2201.32 135.541 2201.32 138.551 Q2201.32 141.606 2202.46 143.319 Q2203.59 145.032 2205.6 145.032 Q2207.62 145.032 2208.75 143.319 Q2209.91 141.606 2209.91 138.551 Q2209.91 135.565 2208.75 133.828 Q2207.6 132.092 2205.6 132.092 M2226.51 129.153 L2230.21 129.153 L2208.59 165.009 L2204.89 165.009 L2226.51 129.153 M2205.6 129.153 Q2209.26 129.153 2211.44 131.699 Q2213.61 134.222 2213.61 138.551 Q2213.61 142.926 2211.44 145.449 Q2209.29 147.972 2205.6 147.972 Q2201.92 147.972 2199.77 145.449 Q2197.64 142.902 2197.64 138.551 Q2197.64 134.245 2199.79 131.699 Q2201.95 129.153 2205.6 129.153 Z\" fill=\"#000000\" fill-rule=\"nonzero\" fill-opacity=\"1\" /><path clip-path=\"url(#clip820)\" d=\"M2243.87 128.366 L2247.57 128.366 Q2251.04 133.828 2252.76 139.06 Q2254.49 144.291 2254.49 149.453 Q2254.49 154.639 2252.76 159.893 Q2251.04 165.148 2247.57 170.588 L2243.87 170.588 Q2246.95 165.287 2248.45 160.055 Q2249.98 154.801 2249.98 149.453 Q2249.98 144.106 2248.45 138.898 Q2246.95 133.69 2243.87 128.366 Z\" fill=\"#000000\" fill-rule=\"nonzero\" fill-opacity=\"1\" /><polyline clip-path=\"url(#clip820)\" style=\"stroke:#e26f46; stroke-linecap:round; stroke-linejoin:round; stroke-width:12; stroke-opacity:1; fill:none\" stroke-dasharray=\"6, 12\" points=\"1793.81,198.898 1941.2,198.898 \"/>\n",
       "<path clip-path=\"url(#clip820)\" d=\"M1967.23 181.618 L1985.58 181.618 L1985.58 185.553 L1971.51 185.553 L1971.51 194.025 Q1972.53 193.678 1973.55 193.516 Q1974.56 193.33 1975.58 193.33 Q1981.37 193.33 1984.75 196.502 Q1988.13 199.673 1988.13 205.09 Q1988.13 210.668 1984.66 213.77 Q1981.18 216.849 1974.87 216.849 Q1972.69 216.849 1970.42 216.478 Q1968.18 216.108 1965.77 215.367 L1965.77 210.668 Q1967.85 211.803 1970.07 212.358 Q1972.3 212.914 1974.77 212.914 Q1978.78 212.914 1981.12 210.807 Q1983.45 208.701 1983.45 205.09 Q1983.45 201.479 1981.12 199.372 Q1978.78 197.266 1974.77 197.266 Q1972.9 197.266 1971.02 197.682 Q1969.17 198.099 1967.23 198.979 L1967.23 181.618 Z\" fill=\"#000000\" fill-rule=\"nonzero\" fill-opacity=\"1\" /><path clip-path=\"url(#clip820)\" d=\"M2007.34 184.696 Q2003.73 184.696 2001.9 188.261 Q2000.1 191.803 2000.1 198.932 Q2000.1 206.039 2001.9 209.604 Q2003.73 213.145 2007.34 213.145 Q2010.98 213.145 2012.78 209.604 Q2014.61 206.039 2014.61 198.932 Q2014.61 191.803 2012.78 188.261 Q2010.98 184.696 2007.34 184.696 M2007.34 180.993 Q2013.15 180.993 2016.21 185.599 Q2019.29 190.182 2019.29 198.932 Q2019.29 207.659 2016.21 212.266 Q2013.15 216.849 2007.34 216.849 Q2001.53 216.849 1998.45 212.266 Q1995.4 207.659 1995.4 198.932 Q1995.4 190.182 1998.45 185.599 Q2001.53 180.993 2007.34 180.993 Z\" fill=\"#000000\" fill-rule=\"nonzero\" fill-opacity=\"1\" /><path clip-path=\"url(#clip820)\" d=\"M2056.9 200.969 Q2054.89 200.969 2053.73 202.682 Q2052.6 204.395 2052.6 207.451 Q2052.6 210.46 2053.73 212.196 Q2054.89 213.909 2056.9 213.909 Q2058.87 213.909 2060 212.196 Q2061.16 210.46 2061.16 207.451 Q2061.16 204.418 2060 202.705 Q2058.87 200.969 2056.9 200.969 M2056.9 198.03 Q2060.56 198.03 2062.71 200.576 Q2064.86 203.122 2064.86 207.451 Q2064.86 211.779 2062.69 214.326 Q2060.54 216.849 2056.9 216.849 Q2053.2 216.849 2051.05 214.326 Q2048.89 211.779 2048.89 207.451 Q2048.89 203.099 2051.05 200.576 Q2053.22 198.03 2056.9 198.03 M2033.01 183.932 Q2031.02 183.932 2029.87 185.668 Q2028.73 187.381 2028.73 190.391 Q2028.73 193.446 2029.87 195.159 Q2031 196.872 2033.01 196.872 Q2035.03 196.872 2036.16 195.159 Q2037.32 193.446 2037.32 190.391 Q2037.32 187.405 2036.16 185.668 Q2035 183.932 2033.01 183.932 M2053.92 180.993 L2057.62 180.993 L2036 216.849 L2032.3 216.849 L2053.92 180.993 M2033.01 180.993 Q2036.67 180.993 2038.85 183.539 Q2041.02 186.062 2041.02 190.391 Q2041.02 194.766 2038.85 197.289 Q2036.69 199.812 2033.01 199.812 Q2029.33 199.812 2027.18 197.289 Q2025.05 194.742 2025.05 190.391 Q2025.05 186.085 2027.2 183.539 Q2029.36 180.993 2033.01 180.993 Z\" fill=\"#000000\" fill-rule=\"nonzero\" fill-opacity=\"1\" /><path clip-path=\"url(#clip820)\" d=\"M2110.77 211.247 L2110.77 201.965 L2103.13 201.965 L2103.13 198.122 L2115.4 198.122 L2115.4 212.96 Q2112.69 214.881 2109.42 215.877 Q2106.16 216.849 2102.46 216.849 Q2094.36 216.849 2089.77 212.127 Q2085.21 207.381 2085.21 198.932 Q2085.21 190.46 2089.77 185.738 Q2094.36 180.993 2102.46 180.993 Q2105.84 180.993 2108.87 181.826 Q2111.92 182.659 2114.49 184.28 L2114.49 189.256 Q2111.9 187.057 2108.99 185.946 Q2106.07 184.835 2102.85 184.835 Q2096.51 184.835 2093.31 188.377 Q2090.14 191.918 2090.14 198.932 Q2090.14 205.923 2093.31 209.465 Q2096.51 213.006 2102.85 213.006 Q2105.33 213.006 2107.27 212.59 Q2109.22 212.15 2110.77 211.247 Z\" fill=\"#000000\" fill-rule=\"nonzero\" fill-opacity=\"1\" /><path clip-path=\"url(#clip820)\" d=\"M2138.78 194.233 Q2138.06 193.817 2137.2 193.631 Q2136.37 193.423 2135.35 193.423 Q2131.74 193.423 2129.8 195.784 Q2127.87 198.122 2127.87 202.52 L2127.87 216.178 L2123.59 216.178 L2123.59 190.252 L2127.87 190.252 L2127.87 194.28 Q2129.22 191.918 2131.37 190.784 Q2133.52 189.627 2136.6 189.627 Q2137.04 189.627 2137.57 189.696 Q2138.11 189.743 2138.75 189.858 L2138.78 194.233 Z\" fill=\"#000000\" fill-rule=\"nonzero\" fill-opacity=\"1\" /><path clip-path=\"url(#clip820)\" d=\"M2164.38 202.15 L2164.38 204.233 L2144.8 204.233 Q2145.07 208.631 2147.43 210.946 Q2149.82 213.238 2154.05 213.238 Q2156.51 213.238 2158.8 212.636 Q2161.11 212.034 2163.38 210.83 L2163.38 214.858 Q2161.09 215.83 2158.68 216.34 Q2156.28 216.849 2153.8 216.849 Q2147.6 216.849 2143.96 213.238 Q2140.35 209.627 2140.35 203.469 Q2140.35 197.104 2143.78 193.377 Q2147.23 189.627 2153.06 189.627 Q2158.29 189.627 2161.32 193.006 Q2164.38 196.363 2164.38 202.15 M2160.12 200.9 Q2160.07 197.405 2158.15 195.321 Q2156.25 193.238 2153.11 193.238 Q2149.54 193.238 2147.39 195.252 Q2145.26 197.266 2144.93 200.923 L2160.12 200.9 Z\" fill=\"#000000\" fill-rule=\"nonzero\" fill-opacity=\"1\" /><path clip-path=\"url(#clip820)\" d=\"M2192.92 200.529 L2192.92 216.178 L2188.66 216.178 L2188.66 200.668 Q2188.66 196.988 2187.23 195.159 Q2185.79 193.33 2182.92 193.33 Q2179.47 193.33 2177.48 195.53 Q2175.49 197.729 2175.49 201.525 L2175.49 216.178 L2171.21 216.178 L2171.21 190.252 L2175.49 190.252 L2175.49 194.28 Q2177.02 191.942 2179.08 190.784 Q2181.16 189.627 2183.87 189.627 Q2188.34 189.627 2190.63 192.405 Q2192.92 195.159 2192.92 200.529 Z\" fill=\"#000000\" fill-rule=\"nonzero\" fill-opacity=\"1\" /><path clip-path=\"url(#clip820)\" d=\"M2199.56 190.252 L2219.79 190.252 L2219.79 194.141 L2203.78 212.775 L2219.79 212.775 L2219.79 216.178 L2198.98 216.178 L2198.98 212.289 L2215 193.655 L2199.56 193.655 L2199.56 190.252 Z\" fill=\"#000000\" fill-rule=\"nonzero\" fill-opacity=\"1\" /><path clip-path=\"url(#clip820)\" d=\"M2248.48 202.15 L2248.48 204.233 L2228.89 204.233 Q2229.17 208.631 2231.53 210.946 Q2233.91 213.238 2238.15 213.238 Q2240.6 213.238 2242.9 212.636 Q2245.21 212.034 2247.48 210.83 L2247.48 214.858 Q2245.19 215.83 2242.78 216.34 Q2240.37 216.849 2237.9 216.849 Q2231.69 216.849 2228.06 213.238 Q2224.45 209.627 2224.45 203.469 Q2224.45 197.104 2227.87 193.377 Q2231.32 189.627 2237.16 189.627 Q2242.39 189.627 2245.42 193.006 Q2248.48 196.363 2248.48 202.15 M2244.22 200.9 Q2244.17 197.405 2242.25 195.321 Q2240.35 193.238 2237.2 193.238 Q2233.64 193.238 2231.48 195.252 Q2229.35 197.266 2229.03 200.923 L2244.22 200.9 Z\" fill=\"#000000\" fill-rule=\"nonzero\" fill-opacity=\"1\" /></svg>\n"
      ]
     },
     "execution_count": 16,
     "metadata": {},
     "output_type": "execute_result"
    }
   ],
   "source": [
    "gameSets = []\n",
    "for gameSet in readdir()\n",
    "    if match(r\"games-\\d+-\\d+\", gameSet) == nothing\n",
    "        continue\n",
    "    end\n",
    "    push!(gameSets, gameSet)\n",
    "end\n",
    "gameSets = sort(gameSets, by=name -> parse(Int, split(name, \"-\")[2]) * 100 + parse(Int, split(name, \"-\")[3]))\n",
    "\n",
    "winrates = [getWinRate(gameSet) * 100 for gameSet in gameSets]\n",
    "configs = [gameSet[7:length(gameSet)] for gameSet in gameSets]\n",
    "Plots.plot(configs, winrates, label = \"Siegrate (%)\")\n",
    "Plots.plot!(configs, _ -> 50, label = \"50% Grenze\", lw=3, ls=:dot)"
   ]
  },
  {
   "cell_type": "markdown",
   "id": "0e411a77",
   "metadata": {},
   "source": [
    "Siegrate unserer KI bei gleicher Suchtiefe (5) mit Skill-Leveln 1 bis 4:"
   ]
  },
  {
   "cell_type": "code",
   "execution_count": 17,
   "id": "3b7b832f",
   "metadata": {},
   "outputs": [
    {
     "data": {
      "image/svg+xml": [
       "<?xml version=\"1.0\" encoding=\"utf-8\"?>\n",
       "<svg xmlns=\"http://www.w3.org/2000/svg\" xmlns:xlink=\"http://www.w3.org/1999/xlink\" width=\"600\" height=\"400\" viewBox=\"0 0 2400 1600\">\n",
       "<defs>\n",
       "  <clipPath id=\"clip860\">\n",
       "    <rect x=\"0\" y=\"0\" width=\"2400\" height=\"1600\"/>\n",
       "  </clipPath>\n",
       "</defs>\n",
       "<path clip-path=\"url(#clip860)\" d=\"M0 1600 L2400 1600 L2400 0 L0 0  Z\" fill=\"#ffffff\" fill-rule=\"evenodd\" fill-opacity=\"1\"/>\n",
       "<defs>\n",
       "  <clipPath id=\"clip861\">\n",
       "    <rect x=\"480\" y=\"0\" width=\"1681\" height=\"1600\"/>\n",
       "  </clipPath>\n",
       "</defs>\n",
       "<path clip-path=\"url(#clip860)\" d=\"M141.853 1486.45 L2352.76 1486.45 L2352.76 47.2441 L141.853 47.2441  Z\" fill=\"#ffffff\" fill-rule=\"evenodd\" fill-opacity=\"1\"/>\n",
       "<defs>\n",
       "  <clipPath id=\"clip862\">\n",
       "    <rect x=\"141\" y=\"47\" width=\"2212\" height=\"1440\"/>\n",
       "  </clipPath>\n",
       "</defs>\n",
       "<polyline clip-path=\"url(#clip862)\" style=\"stroke:#000000; stroke-linecap:round; stroke-linejoin:round; stroke-width:2; stroke-opacity:0.1; fill:none\" points=\"204.426,1486.45 204.426,47.2441 \"/>\n",
       "<polyline clip-path=\"url(#clip862)\" style=\"stroke:#000000; stroke-linecap:round; stroke-linejoin:round; stroke-width:2; stroke-opacity:0.1; fill:none\" points=\"899.678,1486.45 899.678,47.2441 \"/>\n",
       "<polyline clip-path=\"url(#clip862)\" style=\"stroke:#000000; stroke-linecap:round; stroke-linejoin:round; stroke-width:2; stroke-opacity:0.1; fill:none\" points=\"1594.93,1486.45 1594.93,47.2441 \"/>\n",
       "<polyline clip-path=\"url(#clip862)\" style=\"stroke:#000000; stroke-linecap:round; stroke-linejoin:round; stroke-width:2; stroke-opacity:0.1; fill:none\" points=\"2290.18,1486.45 2290.18,47.2441 \"/>\n",
       "<polyline clip-path=\"url(#clip860)\" style=\"stroke:#000000; stroke-linecap:round; stroke-linejoin:round; stroke-width:4; stroke-opacity:1; fill:none\" points=\"141.853,1486.45 2352.76,1486.45 \"/>\n",
       "<polyline clip-path=\"url(#clip860)\" style=\"stroke:#000000; stroke-linecap:round; stroke-linejoin:round; stroke-width:4; stroke-opacity:1; fill:none\" points=\"204.426,1486.45 204.426,1467.55 \"/>\n",
       "<polyline clip-path=\"url(#clip860)\" style=\"stroke:#000000; stroke-linecap:round; stroke-linejoin:round; stroke-width:4; stroke-opacity:1; fill:none\" points=\"899.678,1486.45 899.678,1467.55 \"/>\n",
       "<polyline clip-path=\"url(#clip860)\" style=\"stroke:#000000; stroke-linecap:round; stroke-linejoin:round; stroke-width:4; stroke-opacity:1; fill:none\" points=\"1594.93,1486.45 1594.93,1467.55 \"/>\n",
       "<polyline clip-path=\"url(#clip860)\" style=\"stroke:#000000; stroke-linecap:round; stroke-linejoin:round; stroke-width:4; stroke-opacity:1; fill:none\" points=\"2290.18,1486.45 2290.18,1467.55 \"/>\n",
       "<path clip-path=\"url(#clip860)\" d=\"M171.058 1544.91 L178.697 1544.91 L178.697 1518.55 L170.386 1520.21 L170.386 1515.95 L178.65 1514.29 L183.326 1514.29 L183.326 1544.91 L190.965 1544.91 L190.965 1548.85 L171.058 1548.85 L171.058 1544.91 Z\" fill=\"#000000\" fill-rule=\"nonzero\" fill-opacity=\"1\" /><path clip-path=\"url(#clip860)\" d=\"M197.655 1533.96 L210.132 1533.96 L210.132 1537.76 L197.655 1537.76 L197.655 1533.96 Z\" fill=\"#000000\" fill-rule=\"nonzero\" fill-opacity=\"1\" /><path clip-path=\"url(#clip860)\" d=\"M217.562 1514.29 L235.919 1514.29 L235.919 1518.22 L221.845 1518.22 L221.845 1526.7 Q222.863 1526.35 223.882 1526.19 Q224.9 1526 225.919 1526 Q231.706 1526 235.085 1529.17 Q238.465 1532.34 238.465 1537.76 Q238.465 1543.34 234.993 1546.44 Q231.52 1549.52 225.201 1549.52 Q223.025 1549.52 220.757 1549.15 Q218.511 1548.78 216.104 1548.04 L216.104 1543.34 Q218.187 1544.47 220.409 1545.03 Q222.632 1545.58 225.108 1545.58 Q229.113 1545.58 231.451 1543.48 Q233.789 1541.37 233.789 1537.76 Q233.789 1534.15 231.451 1532.04 Q229.113 1529.94 225.108 1529.94 Q223.233 1529.94 221.358 1530.35 Q219.507 1530.77 217.562 1531.65 L217.562 1514.29 Z\" fill=\"#000000\" fill-rule=\"nonzero\" fill-opacity=\"1\" /><path clip-path=\"url(#clip860)\" d=\"M870.396 1544.91 L886.715 1544.91 L886.715 1548.85 L864.771 1548.85 L864.771 1544.91 Q867.433 1542.16 872.016 1537.53 Q876.623 1532.88 877.803 1531.53 Q880.049 1529.01 880.928 1527.27 Q881.831 1525.51 881.831 1523.82 Q881.831 1521.07 879.887 1519.33 Q877.965 1517.6 874.863 1517.6 Q872.664 1517.6 870.211 1518.36 Q867.78 1519.13 865.002 1520.68 L865.002 1515.95 Q867.826 1514.82 870.28 1514.24 Q872.734 1513.66 874.771 1513.66 Q880.141 1513.66 883.336 1516.35 Q886.53 1519.03 886.53 1523.52 Q886.53 1525.65 885.72 1527.57 Q884.933 1529.47 882.826 1532.07 Q882.248 1532.74 879.146 1535.95 Q876.044 1539.15 870.396 1544.91 Z\" fill=\"#000000\" fill-rule=\"nonzero\" fill-opacity=\"1\" /><path clip-path=\"url(#clip860)\" d=\"M893.775 1533.96 L906.252 1533.96 L906.252 1537.76 L893.775 1537.76 L893.775 1533.96 Z\" fill=\"#000000\" fill-rule=\"nonzero\" fill-opacity=\"1\" /><path clip-path=\"url(#clip860)\" d=\"M913.683 1514.29 L932.039 1514.29 L932.039 1518.22 L917.965 1518.22 L917.965 1526.7 Q918.984 1526.35 920.002 1526.19 Q921.021 1526 922.039 1526 Q927.826 1526 931.206 1529.17 Q934.585 1532.34 934.585 1537.76 Q934.585 1543.34 931.113 1546.44 Q927.641 1549.52 921.322 1549.52 Q919.146 1549.52 916.877 1549.15 Q914.632 1548.78 912.224 1548.04 L912.224 1543.34 Q914.308 1544.47 916.53 1545.03 Q918.752 1545.58 921.229 1545.58 Q925.234 1545.58 927.572 1543.48 Q929.909 1541.37 929.909 1537.76 Q929.909 1534.15 927.572 1532.04 Q925.234 1529.94 921.229 1529.94 Q919.354 1529.94 917.479 1530.35 Q915.627 1530.77 913.683 1531.65 L913.683 1514.29 Z\" fill=\"#000000\" fill-rule=\"nonzero\" fill-opacity=\"1\" /><path clip-path=\"url(#clip860)\" d=\"M1575.72 1530.21 Q1579.07 1530.93 1580.95 1533.2 Q1582.85 1535.47 1582.85 1538.8 Q1582.85 1543.92 1579.33 1546.72 Q1575.81 1549.52 1569.33 1549.52 Q1567.15 1549.52 1564.84 1549.08 Q1562.55 1548.66 1560.09 1547.81 L1560.09 1543.29 Q1562.04 1544.43 1564.35 1545.01 Q1566.67 1545.58 1569.19 1545.58 Q1573.59 1545.58 1575.88 1543.85 Q1578.19 1542.11 1578.19 1538.8 Q1578.19 1535.75 1576.04 1534.03 Q1573.91 1532.3 1570.09 1532.3 L1566.07 1532.3 L1566.07 1528.45 L1570.28 1528.45 Q1573.73 1528.45 1575.56 1527.09 Q1577.38 1525.7 1577.38 1523.11 Q1577.38 1520.45 1575.49 1519.03 Q1573.61 1517.6 1570.09 1517.6 Q1568.17 1517.6 1565.97 1518.01 Q1563.77 1518.43 1561.13 1519.31 L1561.13 1515.14 Q1563.8 1514.4 1566.11 1514.03 Q1568.45 1513.66 1570.51 1513.66 Q1575.83 1513.66 1578.94 1516.09 Q1582.04 1518.5 1582.04 1522.62 Q1582.04 1525.49 1580.39 1527.48 Q1578.75 1529.45 1575.72 1530.21 Z\" fill=\"#000000\" fill-rule=\"nonzero\" fill-opacity=\"1\" /><path clip-path=\"url(#clip860)\" d=\"M1588.96 1533.96 L1601.44 1533.96 L1601.44 1537.76 L1588.96 1537.76 L1588.96 1533.96 Z\" fill=\"#000000\" fill-rule=\"nonzero\" fill-opacity=\"1\" /><path clip-path=\"url(#clip860)\" d=\"M1608.87 1514.29 L1627.22 1514.29 L1627.22 1518.22 L1613.15 1518.22 L1613.15 1526.7 Q1614.17 1526.35 1615.19 1526.19 Q1616.2 1526 1617.22 1526 Q1623.01 1526 1626.39 1529.17 Q1629.77 1532.34 1629.77 1537.76 Q1629.77 1543.34 1626.3 1546.44 Q1622.82 1549.52 1616.5 1549.52 Q1614.33 1549.52 1612.06 1549.15 Q1609.81 1548.78 1607.41 1548.04 L1607.41 1543.34 Q1609.49 1544.47 1611.71 1545.03 Q1613.94 1545.58 1616.41 1545.58 Q1620.42 1545.58 1622.75 1543.48 Q1625.09 1541.37 1625.09 1537.76 Q1625.09 1534.15 1622.75 1532.04 Q1620.42 1529.94 1616.41 1529.94 Q1614.54 1529.94 1612.66 1530.35 Q1610.81 1530.77 1608.87 1531.65 L1608.87 1514.29 Z\" fill=\"#000000\" fill-rule=\"nonzero\" fill-opacity=\"1\" /><path clip-path=\"url(#clip860)\" d=\"M2270.3 1518.36 L2258.49 1536.81 L2270.3 1536.81 L2270.3 1518.36 M2269.07 1514.29 L2274.95 1514.29 L2274.95 1536.81 L2279.88 1536.81 L2279.88 1540.7 L2274.95 1540.7 L2274.95 1548.85 L2270.3 1548.85 L2270.3 1540.7 L2254.7 1540.7 L2254.7 1536.19 L2269.07 1514.29 Z\" fill=\"#000000\" fill-rule=\"nonzero\" fill-opacity=\"1\" /><path clip-path=\"url(#clip860)\" d=\"M2284.86 1533.96 L2297.34 1533.96 L2297.34 1537.76 L2284.86 1537.76 L2284.86 1533.96 Z\" fill=\"#000000\" fill-rule=\"nonzero\" fill-opacity=\"1\" /><path clip-path=\"url(#clip860)\" d=\"M2304.77 1514.29 L2323.12 1514.29 L2323.12 1518.22 L2309.05 1518.22 L2309.05 1526.7 Q2310.07 1526.35 2311.09 1526.19 Q2312.1 1526 2313.12 1526 Q2318.91 1526 2322.29 1529.17 Q2325.67 1532.34 2325.67 1537.76 Q2325.67 1543.34 2322.2 1546.44 Q2318.72 1549.52 2312.41 1549.52 Q2310.23 1549.52 2307.96 1549.15 Q2305.72 1548.78 2303.31 1548.04 L2303.31 1543.34 Q2305.39 1544.47 2307.61 1545.03 Q2309.84 1545.58 2312.31 1545.58 Q2316.32 1545.58 2318.66 1543.48 Q2320.99 1541.37 2320.99 1537.76 Q2320.99 1534.15 2318.66 1532.04 Q2316.32 1529.94 2312.31 1529.94 Q2310.44 1529.94 2308.56 1530.35 Q2306.71 1530.77 2304.77 1531.65 L2304.77 1514.29 Z\" fill=\"#000000\" fill-rule=\"nonzero\" fill-opacity=\"1\" /><polyline clip-path=\"url(#clip862)\" style=\"stroke:#000000; stroke-linecap:round; stroke-linejoin:round; stroke-width:2; stroke-opacity:0.1; fill:none\" points=\"141.853,1445.72 2352.76,1445.72 \"/>\n",
       "<polyline clip-path=\"url(#clip862)\" style=\"stroke:#000000; stroke-linecap:round; stroke-linejoin:round; stroke-width:2; stroke-opacity:0.1; fill:none\" points=\"141.853,1208.26 2352.76,1208.26 \"/>\n",
       "<polyline clip-path=\"url(#clip862)\" style=\"stroke:#000000; stroke-linecap:round; stroke-linejoin:round; stroke-width:2; stroke-opacity:0.1; fill:none\" points=\"141.853,970.811 2352.76,970.811 \"/>\n",
       "<polyline clip-path=\"url(#clip862)\" style=\"stroke:#000000; stroke-linecap:round; stroke-linejoin:round; stroke-width:2; stroke-opacity:0.1; fill:none\" points=\"141.853,733.359 2352.76,733.359 \"/>\n",
       "<polyline clip-path=\"url(#clip862)\" style=\"stroke:#000000; stroke-linecap:round; stroke-linejoin:round; stroke-width:2; stroke-opacity:0.1; fill:none\" points=\"141.853,495.907 2352.76,495.907 \"/>\n",
       "<polyline clip-path=\"url(#clip862)\" style=\"stroke:#000000; stroke-linecap:round; stroke-linejoin:round; stroke-width:2; stroke-opacity:0.1; fill:none\" points=\"141.853,258.455 2352.76,258.455 \"/>\n",
       "<polyline clip-path=\"url(#clip860)\" style=\"stroke:#000000; stroke-linecap:round; stroke-linejoin:round; stroke-width:4; stroke-opacity:1; fill:none\" points=\"141.853,1486.45 141.853,47.2441 \"/>\n",
       "<polyline clip-path=\"url(#clip860)\" style=\"stroke:#000000; stroke-linecap:round; stroke-linejoin:round; stroke-width:4; stroke-opacity:1; fill:none\" points=\"141.853,1445.72 160.751,1445.72 \"/>\n",
       "<polyline clip-path=\"url(#clip860)\" style=\"stroke:#000000; stroke-linecap:round; stroke-linejoin:round; stroke-width:4; stroke-opacity:1; fill:none\" points=\"141.853,1208.26 160.751,1208.26 \"/>\n",
       "<polyline clip-path=\"url(#clip860)\" style=\"stroke:#000000; stroke-linecap:round; stroke-linejoin:round; stroke-width:4; stroke-opacity:1; fill:none\" points=\"141.853,970.811 160.751,970.811 \"/>\n",
       "<polyline clip-path=\"url(#clip860)\" style=\"stroke:#000000; stroke-linecap:round; stroke-linejoin:round; stroke-width:4; stroke-opacity:1; fill:none\" points=\"141.853,733.359 160.751,733.359 \"/>\n",
       "<polyline clip-path=\"url(#clip860)\" style=\"stroke:#000000; stroke-linecap:round; stroke-linejoin:round; stroke-width:4; stroke-opacity:1; fill:none\" points=\"141.853,495.907 160.751,495.907 \"/>\n",
       "<polyline clip-path=\"url(#clip860)\" style=\"stroke:#000000; stroke-linecap:round; stroke-linejoin:round; stroke-width:4; stroke-opacity:1; fill:none\" points=\"141.853,258.455 160.751,258.455 \"/>\n",
       "<path clip-path=\"url(#clip860)\" d=\"M67.9133 1444.36 Q71.2698 1445.08 73.1448 1447.35 Q75.0429 1449.62 75.0429 1452.95 Q75.0429 1458.07 71.5244 1460.87 Q68.0059 1463.67 61.5245 1463.67 Q59.3486 1463.67 57.0338 1463.23 Q54.7421 1462.81 52.2884 1461.95 L52.2884 1457.44 Q54.2328 1458.57 56.5477 1459.15 Q58.8625 1459.73 61.3856 1459.73 Q65.7837 1459.73 68.0754 1458 Q70.3902 1456.26 70.3902 1452.95 Q70.3902 1449.89 68.2374 1448.18 Q66.1078 1446.44 62.2884 1446.44 L58.2606 1446.44 L58.2606 1442.6 L62.4735 1442.6 Q65.9226 1442.6 67.7513 1441.24 Q69.58 1439.85 69.58 1437.26 Q69.58 1434.59 67.6819 1433.18 Q65.8069 1431.75 62.2884 1431.75 Q60.3671 1431.75 58.168 1432.16 Q55.969 1432.58 53.3301 1433.46 L53.3301 1429.29 Q55.9921 1428.55 58.3069 1428.18 Q60.6449 1427.81 62.705 1427.81 Q68.0291 1427.81 71.1309 1430.24 Q74.2327 1432.65 74.2327 1436.77 Q74.2327 1439.64 72.5892 1441.63 Q70.9457 1443.6 67.9133 1444.36 Z\" fill=\"#000000\" fill-rule=\"nonzero\" fill-opacity=\"1\" /><path clip-path=\"url(#clip860)\" d=\"M93.9086 1431.51 Q90.2975 1431.51 88.4688 1435.08 Q86.6632 1438.62 86.6632 1445.75 Q86.6632 1452.86 88.4688 1456.42 Q90.2975 1459.96 93.9086 1459.96 Q97.5428 1459.96 99.3483 1456.42 Q101.177 1452.86 101.177 1445.75 Q101.177 1438.62 99.3483 1435.08 Q97.5428 1431.51 93.9086 1431.51 M93.9086 1427.81 Q99.7187 1427.81 102.774 1432.42 Q105.853 1437 105.853 1445.75 Q105.853 1454.48 102.774 1459.08 Q99.7187 1463.67 93.9086 1463.67 Q88.0984 1463.67 85.0197 1459.08 Q81.9642 1454.48 81.9642 1445.75 Q81.9642 1437 85.0197 1432.42 Q88.0984 1427.81 93.9086 1427.81 Z\" fill=\"#000000\" fill-rule=\"nonzero\" fill-opacity=\"1\" /><path clip-path=\"url(#clip860)\" d=\"M66.5939 1195.06 L54.7884 1213.51 L66.5939 1213.51 L66.5939 1195.06 M65.367 1190.98 L71.2466 1190.98 L71.2466 1213.51 L76.1772 1213.51 L76.1772 1217.4 L71.2466 1217.4 L71.2466 1225.54 L66.5939 1225.54 L66.5939 1217.4 L50.9921 1217.4 L50.9921 1212.88 L65.367 1190.98 Z\" fill=\"#000000\" fill-rule=\"nonzero\" fill-opacity=\"1\" /><path clip-path=\"url(#clip860)\" d=\"M93.9086 1194.06 Q90.2975 1194.06 88.4688 1197.63 Q86.6632 1201.17 86.6632 1208.3 Q86.6632 1215.4 88.4688 1218.97 Q90.2975 1222.51 93.9086 1222.51 Q97.5428 1222.51 99.3483 1218.97 Q101.177 1215.4 101.177 1208.3 Q101.177 1201.17 99.3483 1197.63 Q97.5428 1194.06 93.9086 1194.06 M93.9086 1190.36 Q99.7187 1190.36 102.774 1194.96 Q105.853 1199.55 105.853 1208.3 Q105.853 1217.03 102.774 1221.63 Q99.7187 1226.21 93.9086 1226.21 Q88.0984 1226.21 85.0197 1221.63 Q81.9642 1217.03 81.9642 1208.3 Q81.9642 1199.55 85.0197 1194.96 Q88.0984 1190.36 93.9086 1190.36 Z\" fill=\"#000000\" fill-rule=\"nonzero\" fill-opacity=\"1\" /><path clip-path=\"url(#clip860)\" d=\"M53.793 953.531 L72.1494 953.531 L72.1494 957.466 L58.0754 957.466 L58.0754 965.939 Q59.0939 965.591 60.1124 965.429 Q61.131 965.244 62.1495 965.244 Q67.9365 965.244 71.3161 968.416 Q74.6957 971.587 74.6957 977.003 Q74.6957 982.582 71.2235 985.684 Q67.7513 988.763 61.4319 988.763 Q59.256 988.763 56.9875 988.392 Q54.7421 988.022 52.3347 987.281 L52.3347 982.582 Q54.418 983.716 56.6402 984.272 Q58.8625 984.827 61.3393 984.827 Q65.3439 984.827 67.6819 982.721 Q70.0198 980.615 70.0198 977.003 Q70.0198 973.392 67.6819 971.286 Q65.3439 969.179 61.3393 969.179 Q59.4643 969.179 57.5893 969.596 Q55.7375 970.013 53.793 970.892 L53.793 953.531 Z\" fill=\"#000000\" fill-rule=\"nonzero\" fill-opacity=\"1\" /><path clip-path=\"url(#clip860)\" d=\"M93.9086 956.61 Q90.2975 956.61 88.4688 960.175 Q86.6632 963.716 86.6632 970.846 Q86.6632 977.952 88.4688 981.517 Q90.2975 985.059 93.9086 985.059 Q97.5428 985.059 99.3483 981.517 Q101.177 977.952 101.177 970.846 Q101.177 963.716 99.3483 960.175 Q97.5428 956.61 93.9086 956.61 M93.9086 952.906 Q99.7187 952.906 102.774 957.513 Q105.853 962.096 105.853 970.846 Q105.853 979.573 102.774 984.179 Q99.7187 988.763 93.9086 988.763 Q88.0984 988.763 85.0197 984.179 Q81.9642 979.573 81.9642 970.846 Q81.9642 962.096 85.0197 957.513 Q88.0984 952.906 93.9086 952.906 Z\" fill=\"#000000\" fill-rule=\"nonzero\" fill-opacity=\"1\" /><path clip-path=\"url(#clip860)\" d=\"M64.3254 731.496 Q61.1773 731.496 59.3254 733.648 Q57.4967 735.801 57.4967 739.551 Q57.4967 743.278 59.3254 745.454 Q61.1773 747.607 64.3254 747.607 Q67.4735 747.607 69.3022 745.454 Q71.1541 743.278 71.1541 739.551 Q71.1541 735.801 69.3022 733.648 Q67.4735 731.496 64.3254 731.496 M73.6077 716.843 L73.6077 721.102 Q71.8485 720.269 70.0429 719.829 Q68.2606 719.389 66.5013 719.389 Q61.8717 719.389 59.418 722.514 Q56.9875 725.639 56.6402 731.959 Q58.006 729.945 60.0662 728.88 Q62.1263 727.792 64.6032 727.792 Q69.8115 727.792 72.8207 730.963 Q75.8531 734.111 75.8531 739.551 Q75.8531 744.875 72.705 748.093 Q69.5568 751.31 64.3254 751.31 Q58.33 751.31 55.1588 746.727 Q51.9875 742.121 51.9875 733.394 Q51.9875 725.199 55.8764 720.338 Q59.7652 715.454 66.3161 715.454 Q68.0754 715.454 69.8578 715.801 Q71.6633 716.149 73.6077 716.843 Z\" fill=\"#000000\" fill-rule=\"nonzero\" fill-opacity=\"1\" /><path clip-path=\"url(#clip860)\" d=\"M93.9086 719.158 Q90.2975 719.158 88.4688 722.723 Q86.6632 726.264 86.6632 733.394 Q86.6632 740.5 88.4688 744.065 Q90.2975 747.607 93.9086 747.607 Q97.5428 747.607 99.3483 744.065 Q101.177 740.5 101.177 733.394 Q101.177 726.264 99.3483 722.723 Q97.5428 719.158 93.9086 719.158 M93.9086 715.454 Q99.7187 715.454 102.774 720.061 Q105.853 724.644 105.853 733.394 Q105.853 742.121 102.774 746.727 Q99.7187 751.31 93.9086 751.31 Q88.0984 751.31 85.0197 746.727 Q81.9642 742.121 81.9642 733.394 Q81.9642 724.644 85.0197 720.061 Q88.0984 715.454 93.9086 715.454 Z\" fill=\"#000000\" fill-rule=\"nonzero\" fill-opacity=\"1\" /><path clip-path=\"url(#clip860)\" d=\"M52.5662 478.627 L74.7883 478.627 L74.7883 480.618 L62.2421 513.187 L57.3578 513.187 L69.1633 482.562 L52.5662 482.562 L52.5662 478.627 Z\" fill=\"#000000\" fill-rule=\"nonzero\" fill-opacity=\"1\" /><path clip-path=\"url(#clip860)\" d=\"M93.9086 481.706 Q90.2975 481.706 88.4688 485.27 Q86.6632 488.812 86.6632 495.942 Q86.6632 503.048 88.4688 506.613 Q90.2975 510.155 93.9086 510.155 Q97.5428 510.155 99.3483 506.613 Q101.177 503.048 101.177 495.942 Q101.177 488.812 99.3483 485.27 Q97.5428 481.706 93.9086 481.706 M93.9086 478.002 Q99.7187 478.002 102.774 482.608 Q105.853 487.192 105.853 495.942 Q105.853 504.668 102.774 509.275 Q99.7187 513.858 93.9086 513.858 Q88.0984 513.858 85.0197 509.275 Q81.9642 504.668 81.9642 495.942 Q81.9642 487.192 85.0197 482.608 Q88.0984 478.002 93.9086 478.002 Z\" fill=\"#000000\" fill-rule=\"nonzero\" fill-opacity=\"1\" /><path clip-path=\"url(#clip860)\" d=\"M63.7467 259.323 Q60.4134 259.323 58.4921 261.105 Q56.5939 262.888 56.5939 266.013 Q56.5939 269.138 58.4921 270.92 Q60.4134 272.702 63.7467 272.702 Q67.08 272.702 69.0013 270.92 Q70.9226 269.114 70.9226 266.013 Q70.9226 262.888 69.0013 261.105 Q67.1032 259.323 63.7467 259.323 M59.0708 257.332 Q56.0615 256.591 54.3717 254.531 Q52.7051 252.471 52.7051 249.508 Q52.7051 245.365 55.6449 242.957 Q58.6078 240.55 63.7467 240.55 Q68.9087 240.55 71.8485 242.957 Q74.7883 245.365 74.7883 249.508 Q74.7883 252.471 73.0985 254.531 Q71.4318 256.591 68.4457 257.332 Q71.8253 258.119 73.7003 260.411 Q75.5985 262.702 75.5985 266.013 Q75.5985 271.036 72.5198 273.721 Q69.4642 276.406 63.7467 276.406 Q58.0291 276.406 54.9504 273.721 Q51.8949 271.036 51.8949 266.013 Q51.8949 262.702 53.793 260.411 Q55.6912 258.119 59.0708 257.332 M57.3578 249.948 Q57.3578 252.633 59.0245 254.138 Q60.7143 255.642 63.7467 255.642 Q66.7559 255.642 68.4457 254.138 Q70.1587 252.633 70.1587 249.948 Q70.1587 247.263 68.4457 245.758 Q66.7559 244.253 63.7467 244.253 Q60.7143 244.253 59.0245 245.758 Q57.3578 247.263 57.3578 249.948 Z\" fill=\"#000000\" fill-rule=\"nonzero\" fill-opacity=\"1\" /><path clip-path=\"url(#clip860)\" d=\"M93.9086 244.253 Q90.2975 244.253 88.4688 247.818 Q86.6632 251.36 86.6632 258.489 Q86.6632 265.596 88.4688 269.161 Q90.2975 272.702 93.9086 272.702 Q97.5428 272.702 99.3483 269.161 Q101.177 265.596 101.177 258.489 Q101.177 251.36 99.3483 247.818 Q97.5428 244.253 93.9086 244.253 M93.9086 240.55 Q99.7187 240.55 102.774 245.156 Q105.853 249.74 105.853 258.489 Q105.853 267.216 102.774 271.823 Q99.7187 276.406 93.9086 276.406 Q88.0984 276.406 85.0197 271.823 Q81.9642 267.216 81.9642 258.489 Q81.9642 249.74 85.0197 245.156 Q88.0984 240.55 93.9086 240.55 Z\" fill=\"#000000\" fill-rule=\"nonzero\" fill-opacity=\"1\" /><polyline clip-path=\"url(#clip862)\" style=\"stroke:#009af9; stroke-linecap:round; stroke-linejoin:round; stroke-width:4; stroke-opacity:1; fill:none\" points=\"204.426,87.9763 899.678,377.181 1594.93,647.013 2290.18,1445.72 \"/>\n",
       "<polyline clip-path=\"url(#clip862)\" style=\"stroke:#e26f46; stroke-linecap:round; stroke-linejoin:round; stroke-width:12; stroke-opacity:1; fill:none\" stroke-dasharray=\"6, 12\" points=\"204.426,970.811 899.678,970.811 1594.93,970.811 2290.18,970.811 \"/>\n",
       "<path clip-path=\"url(#clip860)\" d=\"M1769.24 250.738 L2279.06 250.738 L2279.06 95.2176 L1769.24 95.2176  Z\" fill=\"#ffffff\" fill-rule=\"evenodd\" fill-opacity=\"1\"/>\n",
       "<polyline clip-path=\"url(#clip860)\" style=\"stroke:#000000; stroke-linecap:round; stroke-linejoin:round; stroke-width:4; stroke-opacity:1; fill:none\" points=\"1769.24,250.738 2279.06,250.738 2279.06,95.2176 1769.24,95.2176 1769.24,250.738 \"/>\n",
       "<polyline clip-path=\"url(#clip860)\" style=\"stroke:#009af9; stroke-linecap:round; stroke-linejoin:round; stroke-width:4; stroke-opacity:1; fill:none\" points=\"1793.81,147.058 1941.2,147.058 \"/>\n",
       "<path clip-path=\"url(#clip860)\" d=\"M1988.01 130.912 L1988.01 135.472 Q1985.35 134.199 1982.99 133.574 Q1980.63 132.949 1978.43 132.949 Q1974.61 132.949 1972.53 134.43 Q1970.47 135.912 1970.47 138.643 Q1970.47 140.935 1971.83 142.115 Q1973.22 143.273 1977.06 143.99 L1979.89 144.569 Q1985.12 145.565 1987.6 148.088 Q1990.1 150.588 1990.1 154.801 Q1990.1 159.824 1986.72 162.416 Q1983.36 165.009 1976.86 165.009 Q1974.4 165.009 1971.62 164.453 Q1968.87 163.898 1965.91 162.81 L1965.91 157.995 Q1968.75 159.592 1971.49 160.402 Q1974.22 161.213 1976.86 161.213 Q1980.86 161.213 1983.04 159.639 Q1985.21 158.064 1985.21 155.148 Q1985.21 152.602 1983.64 151.166 Q1982.09 149.731 1978.52 149.014 L1975.68 148.458 Q1970.44 147.416 1968.11 145.194 Q1965.77 142.972 1965.77 139.014 Q1965.77 134.43 1968.99 131.791 Q1972.23 129.153 1977.9 129.153 Q1980.33 129.153 1982.85 129.592 Q1985.37 130.032 1988.01 130.912 Z\" fill=\"#000000\" fill-rule=\"nonzero\" fill-opacity=\"1\" /><path clip-path=\"url(#clip860)\" d=\"M1997.2 138.412 L2001.46 138.412 L2001.46 164.338 L1997.2 164.338 L1997.2 138.412 M1997.2 128.319 L2001.46 128.319 L2001.46 133.713 L1997.2 133.713 L1997.2 128.319 Z\" fill=\"#000000\" fill-rule=\"nonzero\" fill-opacity=\"1\" /><path clip-path=\"url(#clip860)\" d=\"M2032.55 150.31 L2032.55 152.393 L2012.97 152.393 Q2013.24 156.791 2015.61 159.106 Q2017.99 161.398 2022.23 161.398 Q2024.68 161.398 2026.97 160.796 Q2029.29 160.194 2031.55 158.99 L2031.55 163.018 Q2029.26 163.99 2026.86 164.5 Q2024.45 165.009 2021.97 165.009 Q2015.77 165.009 2012.13 161.398 Q2008.52 157.787 2008.52 151.629 Q2008.52 145.264 2011.95 141.537 Q2015.4 137.787 2021.23 137.787 Q2026.46 137.787 2029.49 141.166 Q2032.55 144.523 2032.55 150.31 M2028.29 149.06 Q2028.24 145.565 2026.32 143.481 Q2024.43 141.398 2021.28 141.398 Q2017.71 141.398 2015.56 143.412 Q2013.43 145.426 2013.11 149.083 L2028.29 149.06 Z\" fill=\"#000000\" fill-rule=\"nonzero\" fill-opacity=\"1\" /><path clip-path=\"url(#clip860)\" d=\"M2056.6 151.074 Q2056.6 146.444 2054.68 143.898 Q2052.78 141.352 2049.33 141.352 Q2045.91 141.352 2043.99 143.898 Q2042.09 146.444 2042.09 151.074 Q2042.09 155.68 2043.99 158.226 Q2045.91 160.773 2049.33 160.773 Q2052.78 160.773 2054.68 158.226 Q2056.6 155.68 2056.6 151.074 M2060.86 161.12 Q2060.86 167.74 2057.92 170.958 Q2054.98 174.199 2048.92 174.199 Q2046.67 174.199 2044.68 173.851 Q2042.69 173.527 2040.81 172.833 L2040.81 168.689 Q2042.69 169.708 2044.52 170.194 Q2046.35 170.68 2048.24 170.68 Q2052.43 170.68 2054.52 168.481 Q2056.6 166.305 2056.6 161.884 L2056.6 159.777 Q2055.28 162.069 2053.22 163.203 Q2051.16 164.338 2048.29 164.338 Q2043.52 164.338 2040.61 160.703 Q2037.69 157.069 2037.69 151.074 Q2037.69 145.055 2040.61 141.421 Q2043.52 137.787 2048.29 137.787 Q2051.16 137.787 2053.22 138.921 Q2055.28 140.055 2056.6 142.347 L2056.6 138.412 L2060.86 138.412 L2060.86 161.12 Z\" fill=\"#000000\" fill-rule=\"nonzero\" fill-opacity=\"1\" /><path clip-path=\"url(#clip860)\" d=\"M2084.66 142.393 Q2083.94 141.977 2083.08 141.791 Q2082.25 141.583 2081.23 141.583 Q2077.62 141.583 2075.68 143.944 Q2073.75 146.282 2073.75 150.68 L2073.75 164.338 L2069.47 164.338 L2069.47 138.412 L2073.75 138.412 L2073.75 142.44 Q2075.1 140.078 2077.25 138.944 Q2079.4 137.787 2082.48 137.787 Q2082.92 137.787 2083.45 137.856 Q2083.99 137.903 2084.63 138.018 L2084.66 142.393 Z\" fill=\"#000000\" fill-rule=\"nonzero\" fill-opacity=\"1\" /><path clip-path=\"url(#clip860)\" d=\"M2100.91 151.305 Q2095.74 151.305 2093.75 152.486 Q2091.76 153.666 2091.76 156.514 Q2091.76 158.782 2093.24 160.125 Q2094.75 161.444 2097.32 161.444 Q2100.86 161.444 2102.99 158.944 Q2105.14 156.421 2105.14 152.254 L2105.14 151.305 L2100.91 151.305 M2109.4 149.546 L2109.4 164.338 L2105.14 164.338 L2105.14 160.402 Q2103.68 162.763 2101.51 163.898 Q2099.33 165.009 2096.18 165.009 Q2092.2 165.009 2089.84 162.787 Q2087.5 160.541 2087.5 156.791 Q2087.5 152.416 2090.42 150.194 Q2093.36 147.972 2099.17 147.972 L2105.14 147.972 L2105.14 147.555 Q2105.14 144.615 2103.2 143.018 Q2101.28 141.398 2097.78 141.398 Q2095.56 141.398 2093.45 141.93 Q2091.35 142.463 2089.4 143.527 L2089.4 139.592 Q2091.74 138.69 2093.94 138.25 Q2096.14 137.787 2098.22 137.787 Q2103.85 137.787 2106.62 140.703 Q2109.4 143.62 2109.4 149.546 Z\" fill=\"#000000\" fill-rule=\"nonzero\" fill-opacity=\"1\" /><path clip-path=\"url(#clip860)\" d=\"M2122.39 131.051 L2122.39 138.412 L2131.16 138.412 L2131.16 141.722 L2122.39 141.722 L2122.39 155.796 Q2122.39 158.967 2123.24 159.87 Q2124.12 160.773 2126.79 160.773 L2131.16 160.773 L2131.16 164.338 L2126.79 164.338 Q2121.86 164.338 2119.98 162.509 Q2118.11 160.657 2118.11 155.796 L2118.11 141.722 L2114.98 141.722 L2114.98 138.412 L2118.11 138.412 L2118.11 131.051 L2122.39 131.051 Z\" fill=\"#000000\" fill-rule=\"nonzero\" fill-opacity=\"1\" /><path clip-path=\"url(#clip860)\" d=\"M2158.94 150.31 L2158.94 152.393 L2139.36 152.393 Q2139.63 156.791 2141.99 159.106 Q2144.38 161.398 2148.61 161.398 Q2151.07 161.398 2153.36 160.796 Q2155.67 160.194 2157.94 158.99 L2157.94 163.018 Q2155.65 163.99 2153.24 164.5 Q2150.84 165.009 2148.36 165.009 Q2142.16 165.009 2138.52 161.398 Q2134.91 157.787 2134.91 151.629 Q2134.91 145.264 2138.34 141.537 Q2141.79 137.787 2147.62 137.787 Q2152.85 137.787 2155.88 141.166 Q2158.94 144.523 2158.94 150.31 M2154.68 149.06 Q2154.63 145.565 2152.71 143.481 Q2150.81 141.398 2147.67 141.398 Q2144.1 141.398 2141.95 143.412 Q2139.82 145.426 2139.49 149.083 L2154.68 149.06 Z\" fill=\"#000000\" fill-rule=\"nonzero\" fill-opacity=\"1\" /><path clip-path=\"url(#clip860)\" d=\"M2191.23 128.366 Q2188.13 133.69 2186.62 138.898 Q2185.12 144.106 2185.12 149.453 Q2185.12 154.801 2186.62 160.055 Q2188.15 165.287 2191.23 170.588 L2187.53 170.588 Q2184.05 165.148 2182.32 159.893 Q2180.61 154.639 2180.61 149.453 Q2180.61 144.291 2182.32 139.06 Q2184.03 133.828 2187.53 128.366 L2191.23 128.366 Z\" fill=\"#000000\" fill-rule=\"nonzero\" fill-opacity=\"1\" /><path clip-path=\"url(#clip860)\" d=\"M2229.49 149.129 Q2227.48 149.129 2226.32 150.842 Q2225.19 152.555 2225.19 155.611 Q2225.19 158.62 2226.32 160.356 Q2227.48 162.069 2229.49 162.069 Q2231.46 162.069 2232.6 160.356 Q2233.75 158.62 2233.75 155.611 Q2233.75 152.578 2232.6 150.865 Q2231.46 149.129 2229.49 149.129 M2229.49 146.19 Q2233.15 146.19 2235.3 148.736 Q2237.46 151.282 2237.46 155.611 Q2237.46 159.939 2235.28 162.486 Q2233.13 165.009 2229.49 165.009 Q2225.79 165.009 2223.64 162.486 Q2221.48 159.939 2221.48 155.611 Q2221.48 151.259 2223.64 148.736 Q2225.81 146.19 2229.49 146.19 M2205.6 132.092 Q2203.61 132.092 2202.46 133.828 Q2201.32 135.541 2201.32 138.551 Q2201.32 141.606 2202.46 143.319 Q2203.59 145.032 2205.6 145.032 Q2207.62 145.032 2208.75 143.319 Q2209.91 141.606 2209.91 138.551 Q2209.91 135.565 2208.75 133.828 Q2207.6 132.092 2205.6 132.092 M2226.51 129.153 L2230.21 129.153 L2208.59 165.009 L2204.89 165.009 L2226.51 129.153 M2205.6 129.153 Q2209.26 129.153 2211.44 131.699 Q2213.61 134.222 2213.61 138.551 Q2213.61 142.926 2211.44 145.449 Q2209.29 147.972 2205.6 147.972 Q2201.92 147.972 2199.77 145.449 Q2197.64 142.902 2197.64 138.551 Q2197.64 134.245 2199.79 131.699 Q2201.95 129.153 2205.6 129.153 Z\" fill=\"#000000\" fill-rule=\"nonzero\" fill-opacity=\"1\" /><path clip-path=\"url(#clip860)\" d=\"M2243.87 128.366 L2247.57 128.366 Q2251.04 133.828 2252.76 139.06 Q2254.49 144.291 2254.49 149.453 Q2254.49 154.639 2252.76 159.893 Q2251.04 165.148 2247.57 170.588 L2243.87 170.588 Q2246.95 165.287 2248.45 160.055 Q2249.98 154.801 2249.98 149.453 Q2249.98 144.106 2248.45 138.898 Q2246.95 133.69 2243.87 128.366 Z\" fill=\"#000000\" fill-rule=\"nonzero\" fill-opacity=\"1\" /><polyline clip-path=\"url(#clip860)\" style=\"stroke:#e26f46; stroke-linecap:round; stroke-linejoin:round; stroke-width:12; stroke-opacity:1; fill:none\" stroke-dasharray=\"6, 12\" points=\"1793.81,198.898 1941.2,198.898 \"/>\n",
       "<path clip-path=\"url(#clip860)\" d=\"M1967.23 181.618 L1985.58 181.618 L1985.58 185.553 L1971.51 185.553 L1971.51 194.025 Q1972.53 193.678 1973.55 193.516 Q1974.56 193.33 1975.58 193.33 Q1981.37 193.33 1984.75 196.502 Q1988.13 199.673 1988.13 205.09 Q1988.13 210.668 1984.66 213.77 Q1981.18 216.849 1974.87 216.849 Q1972.69 216.849 1970.42 216.478 Q1968.18 216.108 1965.77 215.367 L1965.77 210.668 Q1967.85 211.803 1970.07 212.358 Q1972.3 212.914 1974.77 212.914 Q1978.78 212.914 1981.12 210.807 Q1983.45 208.701 1983.45 205.09 Q1983.45 201.479 1981.12 199.372 Q1978.78 197.266 1974.77 197.266 Q1972.9 197.266 1971.02 197.682 Q1969.17 198.099 1967.23 198.979 L1967.23 181.618 Z\" fill=\"#000000\" fill-rule=\"nonzero\" fill-opacity=\"1\" /><path clip-path=\"url(#clip860)\" d=\"M2007.34 184.696 Q2003.73 184.696 2001.9 188.261 Q2000.1 191.803 2000.1 198.932 Q2000.1 206.039 2001.9 209.604 Q2003.73 213.145 2007.34 213.145 Q2010.98 213.145 2012.78 209.604 Q2014.61 206.039 2014.61 198.932 Q2014.61 191.803 2012.78 188.261 Q2010.98 184.696 2007.34 184.696 M2007.34 180.993 Q2013.15 180.993 2016.21 185.599 Q2019.29 190.182 2019.29 198.932 Q2019.29 207.659 2016.21 212.266 Q2013.15 216.849 2007.34 216.849 Q2001.53 216.849 1998.45 212.266 Q1995.4 207.659 1995.4 198.932 Q1995.4 190.182 1998.45 185.599 Q2001.53 180.993 2007.34 180.993 Z\" fill=\"#000000\" fill-rule=\"nonzero\" fill-opacity=\"1\" /><path clip-path=\"url(#clip860)\" d=\"M2056.9 200.969 Q2054.89 200.969 2053.73 202.682 Q2052.6 204.395 2052.6 207.451 Q2052.6 210.46 2053.73 212.196 Q2054.89 213.909 2056.9 213.909 Q2058.87 213.909 2060 212.196 Q2061.16 210.46 2061.16 207.451 Q2061.16 204.418 2060 202.705 Q2058.87 200.969 2056.9 200.969 M2056.9 198.03 Q2060.56 198.03 2062.71 200.576 Q2064.86 203.122 2064.86 207.451 Q2064.86 211.779 2062.69 214.326 Q2060.54 216.849 2056.9 216.849 Q2053.2 216.849 2051.05 214.326 Q2048.89 211.779 2048.89 207.451 Q2048.89 203.099 2051.05 200.576 Q2053.22 198.03 2056.9 198.03 M2033.01 183.932 Q2031.02 183.932 2029.87 185.668 Q2028.73 187.381 2028.73 190.391 Q2028.73 193.446 2029.87 195.159 Q2031 196.872 2033.01 196.872 Q2035.03 196.872 2036.16 195.159 Q2037.32 193.446 2037.32 190.391 Q2037.32 187.405 2036.16 185.668 Q2035 183.932 2033.01 183.932 M2053.92 180.993 L2057.62 180.993 L2036 216.849 L2032.3 216.849 L2053.92 180.993 M2033.01 180.993 Q2036.67 180.993 2038.85 183.539 Q2041.02 186.062 2041.02 190.391 Q2041.02 194.766 2038.85 197.289 Q2036.69 199.812 2033.01 199.812 Q2029.33 199.812 2027.18 197.289 Q2025.05 194.742 2025.05 190.391 Q2025.05 186.085 2027.2 183.539 Q2029.36 180.993 2033.01 180.993 Z\" fill=\"#000000\" fill-rule=\"nonzero\" fill-opacity=\"1\" /><path clip-path=\"url(#clip860)\" d=\"M2110.77 211.247 L2110.77 201.965 L2103.13 201.965 L2103.13 198.122 L2115.4 198.122 L2115.4 212.96 Q2112.69 214.881 2109.42 215.877 Q2106.16 216.849 2102.46 216.849 Q2094.36 216.849 2089.77 212.127 Q2085.21 207.381 2085.21 198.932 Q2085.21 190.46 2089.77 185.738 Q2094.36 180.993 2102.46 180.993 Q2105.84 180.993 2108.87 181.826 Q2111.92 182.659 2114.49 184.28 L2114.49 189.256 Q2111.9 187.057 2108.99 185.946 Q2106.07 184.835 2102.85 184.835 Q2096.51 184.835 2093.31 188.377 Q2090.14 191.918 2090.14 198.932 Q2090.14 205.923 2093.31 209.465 Q2096.51 213.006 2102.85 213.006 Q2105.33 213.006 2107.27 212.59 Q2109.22 212.15 2110.77 211.247 Z\" fill=\"#000000\" fill-rule=\"nonzero\" fill-opacity=\"1\" /><path clip-path=\"url(#clip860)\" d=\"M2138.78 194.233 Q2138.06 193.817 2137.2 193.631 Q2136.37 193.423 2135.35 193.423 Q2131.74 193.423 2129.8 195.784 Q2127.87 198.122 2127.87 202.52 L2127.87 216.178 L2123.59 216.178 L2123.59 190.252 L2127.87 190.252 L2127.87 194.28 Q2129.22 191.918 2131.37 190.784 Q2133.52 189.627 2136.6 189.627 Q2137.04 189.627 2137.57 189.696 Q2138.11 189.743 2138.75 189.858 L2138.78 194.233 Z\" fill=\"#000000\" fill-rule=\"nonzero\" fill-opacity=\"1\" /><path clip-path=\"url(#clip860)\" d=\"M2164.38 202.15 L2164.38 204.233 L2144.8 204.233 Q2145.07 208.631 2147.43 210.946 Q2149.82 213.238 2154.05 213.238 Q2156.51 213.238 2158.8 212.636 Q2161.11 212.034 2163.38 210.83 L2163.38 214.858 Q2161.09 215.83 2158.68 216.34 Q2156.28 216.849 2153.8 216.849 Q2147.6 216.849 2143.96 213.238 Q2140.35 209.627 2140.35 203.469 Q2140.35 197.104 2143.78 193.377 Q2147.23 189.627 2153.06 189.627 Q2158.29 189.627 2161.32 193.006 Q2164.38 196.363 2164.38 202.15 M2160.12 200.9 Q2160.07 197.405 2158.15 195.321 Q2156.25 193.238 2153.11 193.238 Q2149.54 193.238 2147.39 195.252 Q2145.26 197.266 2144.93 200.923 L2160.12 200.9 Z\" fill=\"#000000\" fill-rule=\"nonzero\" fill-opacity=\"1\" /><path clip-path=\"url(#clip860)\" d=\"M2192.92 200.529 L2192.92 216.178 L2188.66 216.178 L2188.66 200.668 Q2188.66 196.988 2187.23 195.159 Q2185.79 193.33 2182.92 193.33 Q2179.47 193.33 2177.48 195.53 Q2175.49 197.729 2175.49 201.525 L2175.49 216.178 L2171.21 216.178 L2171.21 190.252 L2175.49 190.252 L2175.49 194.28 Q2177.02 191.942 2179.08 190.784 Q2181.16 189.627 2183.87 189.627 Q2188.34 189.627 2190.63 192.405 Q2192.92 195.159 2192.92 200.529 Z\" fill=\"#000000\" fill-rule=\"nonzero\" fill-opacity=\"1\" /><path clip-path=\"url(#clip860)\" d=\"M2199.56 190.252 L2219.79 190.252 L2219.79 194.141 L2203.78 212.775 L2219.79 212.775 L2219.79 216.178 L2198.98 216.178 L2198.98 212.289 L2215 193.655 L2199.56 193.655 L2199.56 190.252 Z\" fill=\"#000000\" fill-rule=\"nonzero\" fill-opacity=\"1\" /><path clip-path=\"url(#clip860)\" d=\"M2248.48 202.15 L2248.48 204.233 L2228.89 204.233 Q2229.17 208.631 2231.53 210.946 Q2233.91 213.238 2238.15 213.238 Q2240.6 213.238 2242.9 212.636 Q2245.21 212.034 2247.48 210.83 L2247.48 214.858 Q2245.19 215.83 2242.78 216.34 Q2240.37 216.849 2237.9 216.849 Q2231.69 216.849 2228.06 213.238 Q2224.45 209.627 2224.45 203.469 Q2224.45 197.104 2227.87 193.377 Q2231.32 189.627 2237.16 189.627 Q2242.39 189.627 2245.42 193.006 Q2248.48 196.363 2248.48 202.15 M2244.22 200.9 Q2244.17 197.405 2242.25 195.321 Q2240.35 193.238 2237.2 193.238 Q2233.64 193.238 2231.48 195.252 Q2229.35 197.266 2229.03 200.923 L2244.22 200.9 Z\" fill=\"#000000\" fill-rule=\"nonzero\" fill-opacity=\"1\" /></svg>\n"
      ]
     },
     "execution_count": 17,
     "metadata": {},
     "output_type": "execute_result"
    }
   ],
   "source": [
    "depth5Rates = filter(element -> endswith(element[1], \"5\"), [zip(configs, winrates)...])\n",
    "Plots.plot([element[1] for element in depth5Rates], [element[2] for element in depth5Rates], label = \"Siegrate (%)\")\n",
    "Plots.plot!([element[1] for element in depth5Rates], _ -> 50, label = \"50% Grenze\", lw=3, ls=:dot)"
   ]
  },
  {
   "cell_type": "markdown",
   "id": "f19967eb",
   "metadata": {},
   "source": [
    "Siegrate gegen Stockfish mit 1500 Elo-Punkten:"
   ]
  },
  {
   "cell_type": "code",
   "execution_count": 20,
   "id": "8653579a",
   "metadata": {},
   "outputs": [
    {
     "name": "stdout",
     "output_type": "stream",
     "text": [
      "games-1500:\n",
      "\tDict(:AI_Black => 10, :Draw => 0, :SF_Black => 9, :AI_White => 10, :SF_White => 10)\n",
      "\tWins:    51.28% (excluding draws, of which 50.0% as White, 50.0% as Black)\n",
      "\tDefeats: 48.72% (excluding draws, of which 47.37% as White, 52.63% as Black)\n",
      "\tDraws:   0.0% (all games)\n"
     ]
    },
    {
     "data": {
      "text/plain": [
       "0.5128205128205128"
      ]
     },
     "execution_count": 20,
     "metadata": {},
     "output_type": "execute_result"
    }
   ],
   "source": [
    "getWinRate(\"games-1500\")"
   ]
  },
  {
   "cell_type": "markdown",
   "id": "cd2b2c78",
   "metadata": {},
   "source": [
    "Unsere KI ist gegen Stockfish mit den Konfigurationen Skill-Level 1, Skill-Level 2 und 1500 Elo-Punkten mit einer Suchtiefe von 20 in der Lage, eine Siegrate > 50% zu erzielen. Daraus ist zu folgern, dass die Elo unserer KI über 1300 Punkten liegt.\n",
    "\n",
    "An dem Vergleich der Konfiguration Skill-Level 2 (1567 Elo) und Elo 1500 zeigt sich die Wichtigkeit einer großen Testmenge. Während die 20 gespielten Spiele bei Skill-Level 2 mit einer Siegrate von 73.68% zunächst auf eine Überlegenheit unserer KI deuten, zeigen die 39 gespielten Spiele bei 1500 Elo-Punkten ein eher ebenbürtiges Bild. Je mehr Testspiele gespielt werden, desto genauer wird sich die Siegrate dem Erwartungswert annähern.\n",
    "\n",
    "Eine genaue Abschätzung der Elo-Punkte unserer KI erfordert es, durch weitreichendes Testen eine Schwelle zu finden, welche eine konstante Siegrate (Sieg vs. Niederlage, ohne Unentschieden) von 50% aufweist. Aus Zeitgründen wurde diese Evaluierung nicht durchgeführt.\n",
    "\n",
    "Die Testergebnisse zeigen, dass die Spielstärke über den geforderten 1300 Elo-Punkten liegt."
   ]
  }
 ],
 "metadata": {
  "kernelspec": {
   "display_name": "Julia 1.8.5",
   "language": "julia",
   "name": "julia-1.8"
  },
  "language_info": {
   "file_extension": ".jl",
   "mimetype": "application/julia",
   "name": "julia",
   "version": "1.8.5"
  }
 },
 "nbformat": 4,
 "nbformat_minor": 5
}
