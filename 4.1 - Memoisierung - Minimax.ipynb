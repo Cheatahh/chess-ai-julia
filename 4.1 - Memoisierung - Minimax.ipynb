{
 "cells": [
  {
   "cell_type": "code",
   "execution_count": 9,
   "id": "e937327c",
   "metadata": {},
   "outputs": [
    {
     "data": {
      "text/html": [
       "<link href='https://fonts.googleapis.com/css?family=Alegreya+Sans:100,300,400,500,700,800,900,100italic,300italic,400italic,500italic,700italic,800italic,900italic' rel='stylesheet' type='text/css'>\r\n",
       "<link href='https://fonts.googleapis.com/css?family=Arvo:400,700,400italic' rel='stylesheet' type='text/css'>\r\n",
       "<link href='https://fonts.googleapis.com/css?family=PT+Mono' rel='stylesheet' type='text/css'>\r\n",
       "<link href='https://fonts.googleapis.com/css?family=Shadows+Into+Light' rel='stylesheet' type='text/css'>\r\n",
       "<link href='https://fonts.googleapis.com/css?family=Philosopher:400,700,400italic,700italic' rel='stylesheet' type='text/css'>\r\n",
       "\r\n",
       "<style>\r\n",
       "\r\n",
       "@font-face {\r\n",
       "    font-family: \"Computer Modern\";\r\n",
       "    src: url('https://mirrors.ctan.org/fonts/cm-unicode/fonts/otf/cmunss.otf');\r\n",
       "}\r\n",
       "\r\n",
       ".container { width: 100% }\r\n",
       "\r\n",
       "/* Formatting for header cells */\r\n",
       ".text_cell_render h1 {\r\n",
       "    font-family: 'Philosopher', sans-serif;\r\n",
       "    font-weight: 400;\r\n",
       "    font-size: 2.2em;\r\n",
       "    line-height: 100%;\r\n",
       "    color: rgb(0, 80, 120);\r\n",
       "    margin-bottom: 0.1em;\r\n",
       "    margin-top: 0.1em;\r\n",
       "    display: block;\r\n",
       "}\t\r\n",
       ".text_cell_render h2 {\r\n",
       "    font-family: 'Philosopher', serif;\r\n",
       "    font-weight: 400;\r\n",
       "    font-size: 1.9em;\r\n",
       "    line-height: 100%;\r\n",
       "    color: rgb(200,100,0);\r\n",
       "    margin-bottom: 0.1em;\r\n",
       "    margin-top: 0.1em;\r\n",
       "    display: block;\r\n",
       "}\t\r\n",
       "\r\n",
       ".text_cell_render h3 {\r\n",
       "    font-family: 'Philosopher', serif;\r\n",
       "    margin-top:12px;\r\n",
       "    margin-bottom: 3px;\r\n",
       "    font-style: italic;\r\n",
       "    color: rgb(94,127,192);\r\n",
       "}\r\n",
       "\r\n",
       ".text_cell_render h4 {\r\n",
       "    font-family: 'Philosopher', serif;\r\n",
       "}\r\n",
       "\r\n",
       ".text_cell_render h5 {\r\n",
       "    font-family: 'Alegreya Sans', sans-serif;\r\n",
       "    font-weight: 300;\r\n",
       "    font-size: 16pt;\r\n",
       "    color: grey;\r\n",
       "    font-style: italic;\r\n",
       "    margin-bottom: .1em;\r\n",
       "    margin-top: 0.1em;\r\n",
       "    display: block;\r\n",
       "}\r\n",
       "\r\n",
       ".text_cell_render h6 {\r\n",
       "    font-family: 'PT Mono', sans-serif;\r\n",
       "    font-weight: 300;\r\n",
       "    font-size: 10pt;\r\n",
       "    color: grey;\r\n",
       "    margin-bottom: 1px;\r\n",
       "    margin-top: 1px;\r\n",
       "}\r\n",
       "\r\n",
       ".text_cell_render em {\r\n",
       "    font-family: 'Philosopher', sans-serif;\r\n",
       "    color:        blue;\r\n",
       "    background-color: rgb(255,220,180);\r\n",
       "    font-size:    110%;\r\n",
       "    margin-left:   2px;\r\n",
       "    margin-right:  2px;\r\n",
       "    font-weight:   100;\r\n",
       "}\r\n",
       "\r\n",
       ".text_cell_render b {\r\n",
       "    color:            rgb(255,195,195);\r\n",
       "    background-color: rgb(0,0,0);\r\n",
       "    font-size:    110%;\r\n",
       "    margin-left:   2px;\r\n",
       "    margin-right:  2px;\r\n",
       "    font-weight:   650;\r\n",
       "}\r\n",
       "\r\n",
       ".text_cell_render tt {\r\n",
       "    font-size:    120%;\r\n",
       "    margin-left:   2px;\r\n",
       "    margin-right:  2px;\r\n",
       "    font-weight:   150;\r\n",
       "}\r\n",
       "\r\n",
       ".Codemirror {\r\n",
       "    font-family: \"PT Mono\", sans-serif;\r\n",
       "    font-size: 100%;\r\n",
       "}\r\n",
       "\r\n",
       "</style>"
      ],
      "text/plain": [
       "HTML{String}(\"<link href='https://fonts.googleapis.com/css?family=Alegreya+Sans:100,300,400,500,700,800,900,100italic,300italic,400italic,500italic,700italic,800italic,900italic' rel='stylesheet' type='text/css'>\\r\\n<link href='https://fonts.googleapis.com/css?family=Arvo:400,700,400italic' rel='stylesheet' type='text/css'>\\r\\n<link href='https://fonts.googleapis.com/css?family=PT+Mono' rel='stylesheet' type='text/css'>\\r\\n<link href='https://fonts.googleapis.com/css?family=Shadows+Into+Light' rel='stylesheet' type='text/css'>\\r\\n<link href='https://fonts.googleapis.com/css?family=Philosopher:400,700,400italic,700italic' rel='stylesheet' type='text/css'>\\r\\n\\r\\n<style>\\r\\n\\r\\n@font-face {\\r\\n    font-family: \\\"Computer Modern\\\";\\r\\n    src: url('https://mirrors.ctan.org/fonts/cm-unicode/fonts/otf/cmunss.otf');\\r\\n}\\r\\n\\r\\n.container { width: 100% }\\r\\n\\r\\n/* Formatting for header cells */\\r\\n.text_cell_render h1 {\\r\\n    font-family: 'Philosopher', sans-serif;\\r\\n    font-weight: 400;\\r\\n    font-size: 2.2em;\\r\\n    line-height: 100%;\\r\\n    color: rgb(0, 80, 120);\\r\\n    margin-bottom: 0.1em;\\r\\n    margin-top: 0.1em;\\r\\n    display: block;\\r\\n}\\t\\r\\n.text_cell_render h2 {\\r\\n    font-family: 'Philosopher', serif;\\r\\n    font-weight: 400;\\r\\n    font-size: 1.9em;\\r\\n    line-height: 100%;\\r\\n    color: rgb(200,100,0);\\r\\n    margin-bottom: 0.1em;\\r\\n    margin-top: 0.1em;\\r\\n    display: block;\\r\\n}\\t\\r\\n\\r\\n.text_cell_render h3 {\\r\\n    font-family: 'Philosopher', serif;\\r\\n    margin-top:12px;\\r\\n    margin-bottom: 3px;\\r\\n    font-style: italic;\\r\\n    color: rgb(94,127,192);\\r\\n}\\r\\n\\r\\n.text_cell_render h4 {\\r\\n    font-family: 'Philosopher', serif;\\r\\n}\\r\\n\\r\\n.text_cell_render h5 {\\r\\n    font-family: 'Alegreya Sans', sans-serif;\\r\\n    font-weight: 300;\\r\\n    font-size: 16pt;\\r\\n    color: grey;\\r\\n    font-style: italic;\\r\\n    margin-bottom: .1em;\\r\\n    margin-top: 0.1em;\\r\\n    display: block;\\r\\n}\\r\\n\\r\\n.text_cell_render h6 {\\r\\n    font-family: 'PT Mono', sans-serif;\\r\\n    font-weight: 300;\\r\\n    font-size: 10pt;\\r\\n    color: grey;\\r\\n    margin-bottom: 1px;\\r\\n    margin-top: 1px;\\r\\n}\\r\\n\\r\\n.text_cell_render em {\\r\\n    font-family: 'Philosopher', sans-serif;\\r\\n    color:        blue;\\r\\n    background-color: rgb(255,220,180);\\r\\n    font-size:    110%;\\r\\n    margin-left:   2px;\\r\\n    margin-right:  2px;\\r\\n    font-weight:   100;\\r\\n}\\r\\n\\r\\n.text_cell_render b {\\r\\n    color:            rgb(255,195,195);\\r\\n    background-color: rgb(0,0,0);\\r\\n    font-size:    110%;\\r\\n    margin-left:   2px;\\r\\n    margin-right:  2px;\\r\\n    font-weight:   650;\\r\\n}\\r\\n\\r\\n.text_cell_render tt {\\r\\n    font-size:    120%;\\r\\n    margin-left:   2px;\\r\\n    margin-right:  2px;\\r\\n    font-weight:   150;\\r\\n}\\r\\n\\r\\n.Codemirror {\\r\\n    font-family: \\\"PT Mono\\\", sans-serif;\\r\\n    font-size: 100%;\\r\\n}\\r\\n\\r\\n</style>\")"
      ]
     },
     "execution_count": 9,
     "metadata": {},
     "output_type": "execute_result"
    }
   ],
   "source": [
    "HTML(read(open(\"style.html\"), String))"
   ]
  },
  {
   "cell_type": "code",
   "execution_count": 10,
   "id": "f548ac27",
   "metadata": {},
   "outputs": [],
   "source": [
    "import Chess\n",
    "using NBInclude"
   ]
  },
  {
   "cell_type": "code",
   "execution_count": 11,
   "id": "177e8c2e",
   "metadata": {
    "scrolled": true
   },
   "outputs": [
    {
     "data": {
      "text/plain": [
       "evaluateEPCaptureScoreDelta (generic function with 1 method)"
      ]
     },
     "execution_count": 11,
     "metadata": {},
     "output_type": "execute_result"
    }
   ],
   "source": [
    "@nbinclude \"3.1 - Evaluation.ipynb\""
   ]
  },
  {
   "cell_type": "markdown",
   "id": "d9f68e5e",
   "metadata": {},
   "source": [
    "## Memoisierung - MiniMax"
   ]
  },
  {
   "cell_type": "markdown",
   "id": "5ab1dff4",
   "metadata": {},
   "source": [
    "Hier wird der MiniMax-Algorithmus in Verbindung mit Meomisierung implementiert. Die Idee ist, dass dank der Speicherung von bereits berechneten Stellungen und deren Wertigkeiten, weitere Berechnungen schneller durchgeführt werden können. Die resultierende KI kann somit in gleicher Zeit eine größere Suchtiefe erreichen und damit genauere und bessere Züge berechnen.\n",
    "\n",
    "Die Funktion `getPositionScoreMemo` berechnet den Score einer Stellung unter Verwendung der Transpositionstabelle zur Aufrufung von bekannten und Speicherung von neuen Stellungen samt Wertigkeiten.\n",
    "\n",
    "**Input**:\n",
    "+ extboard &rarr; der aktuelle Spielstand der Berechnung\n",
    "+ func &rarr; der nächste Berechnungsschritt (maxMemo / minMemo)\n",
    "+ depth &rarr; Suchtiefe (maximale Suchtiefe - aktuelle Suchtiefe)\n",
    "+ transpositions &rarr; die Transpositionstabelle\n",
    "\n",
    "**Output**:\n",
    "+ tScore &rarr; der Score des nächsten Berechnungsschritts (maximiert / minimiert)"
   ]
  },
  {
   "cell_type": "code",
   "execution_count": 12,
   "id": "8ef3d8ee",
   "metadata": {},
   "outputs": [
    {
     "data": {
      "text/plain": [
       "getPositionScoreMemo (generic function with 1 method)"
      ]
     },
     "execution_count": 12,
     "metadata": {},
     "output_type": "execute_result"
    }
   ],
   "source": [
    "function getPositionScoreMemo(\n",
    "        extboard::ExtendedBoard, func::Function, depth::Int64, \n",
    "        transpositions::Dict{UInt64, Transposition})\n",
    "    transposition = get(transpositions, extboard.zobrist.hash, nothing)\n",
    "    if transposition != nothing\n",
    "        tDepth, tScore = transposition\n",
    "        if tDepth >= depth\n",
    "            #global hits += 1\n",
    "            return tScore\n",
    "        end\n",
    "    end\n",
    "    #global misses += 1\n",
    "    tScore = func(extboard, depth - 1, transpositions)\n",
    "    transpositions[extboard.zobrist.hash] = (depth, tScore)\n",
    "    return tScore\n",
    "end"
   ]
  },
  {
   "cell_type": "markdown",
   "id": "1bd39362",
   "metadata": {},
   "source": [
    "Die Funktion `memoMax` ist die `minimaxMax` Funktion unter Verwendung der Transpositionstabelle zur Aufrufung von bekannten und Speicherung von neuen Stellungen samt Wertigkeiten.\n",
    "\n",
    "**Input**:\n",
    "+ extboard &rarr; der aktuelle Spielstand der Berechnung\n",
    "+ depth &rarr;  Suchtiefe (maximale Suchtiefe - aktuelle Suchtiefe)\n",
    "+ transpositions &rarr; die Transpositionstabelle\n",
    "\n",
    "**Output**:\n",
    "+ maxValue &rarr; der maximierte, bestmögliche Score der aktuellen Suche"
   ]
  },
  {
   "cell_type": "code",
   "execution_count": 13,
   "id": "00991fe0",
   "metadata": {},
   "outputs": [
    {
     "data": {
      "text/plain": [
       "memoMax (generic function with 1 method)"
      ]
     },
     "execution_count": 13,
     "metadata": {},
     "output_type": "execute_result"
    }
   ],
   "source": [
    "function memoMax(extboard::ExtendedBoard, depth::Int64, transpositions::Dict{UInt64, Transposition})::Int32\n",
    "    legalMoves = Chess.moves(extboard.board)\n",
    "    if length(legalMoves) == 0 || extboard.repetionRuleDraw\n",
    "        return evaluateTerminalPositionScore(extboard.board) - depth\n",
    "    elseif depth == 0\n",
    "        return extboard.score\n",
    "    end\n",
    "    maxValue = typemin(Int32)\n",
    "    for move ∈ legalMoves\n",
    "        undo = domove!(extboard, move)\n",
    "        value = getPositionScoreMemo(extboard, memoMin, depth, transpositions)\n",
    "        undomove!(extboard, undo)\n",
    "        maxValue = max(value, maxValue)\n",
    "    end\n",
    "    Chess.recycle!(legalMoves)\n",
    "    return maxValue\n",
    "end"
   ]
  },
  {
   "cell_type": "markdown",
   "id": "73f61b67",
   "metadata": {},
   "source": [
    "Die Funktion `memoMin` ist die `minimaxMin` Funktion unter Verwendung der Transpositionstabelle zur Aufrufung von bekannten und Speicherung von neuen Stellungen samt Wertigkeiten.\n",
    "\n",
    "**Input**:\n",
    "+ extboard &rarr; der aktuelle Spielstand der Berechnung\n",
    "+ depth &rarr; Suchtiefe (maximale Suchtiefe - aktuelle Suchtiefe)\n",
    "+ transpositions &rarr; die Transpositionstabelle\n",
    "\n",
    "**Output**:\n",
    "+ minValue &rarr; der minimierte, bestmögliche Score der aktuellen Suche"
   ]
  },
  {
   "cell_type": "code",
   "execution_count": 14,
   "id": "815bff6d",
   "metadata": {},
   "outputs": [
    {
     "data": {
      "text/plain": [
       "memoMin (generic function with 1 method)"
      ]
     },
     "execution_count": 14,
     "metadata": {},
     "output_type": "execute_result"
    }
   ],
   "source": [
    "function memoMin(extboard::ExtendedBoard, depth::Int64, transpositions::Dict{UInt64, Transposition})::Int32\n",
    "    legalMoves = Chess.moves(extboard.board)\n",
    "    if length(legalMoves) == 0 || extboard.repetionRuleDraw\n",
    "        return evaluateTerminalPositionScore(extboard.board) + depth\n",
    "    elseif depth == 0\n",
    "        return extboard.score\n",
    "    end\n",
    "    minValue = typemax(Int32)\n",
    "    for move ∈ legalMoves\n",
    "        undo = domove!(extboard, move)\n",
    "        value = getPositionScoreMemo(extboard, memoMax, depth, transpositions)\n",
    "        undomove!(extboard, undo)\n",
    "        minValue = min(value, minValue)\n",
    "    end\n",
    "    Chess.recycle!(legalMoves)\n",
    "    return minValue\n",
    "end"
   ]
  },
  {
   "cell_type": "markdown",
   "id": "0fc641c1",
   "metadata": {},
   "source": [
    "Die Funktion `minimaxMemo` ist die `minimax` Funktion unter Verwendung der Transpositionstabelle zur Aufrufung von bekannten und Speicherung von neuen Stellungen samt Wertigkeiten. \n",
    "\n",
    "**Input**:\n",
    "+ extboard &rarr; der aktuelle Spielstand\n",
    "+ depth &rarr; die gewünschte Suchtiefe \n",
    "\n",
    "**Output**:\n",
    "+ minmaxValue &rarr; der bestmögliche Score unter der gewünschten Suchtiefe\n",
    "+ scoredMoves[minmaxValue] &rarr; alle Züge mit dem bestmöglichen Score\n",
    "\n",
    "Sie gibt ein Array an bestmöglichen Zügen aus. Die `MemoAI` wählt anschließend zufällig einen Zug aus. "
   ]
  },
  {
   "cell_type": "code",
   "execution_count": 15,
   "id": "4cf41983",
   "metadata": {},
   "outputs": [
    {
     "data": {
      "text/plain": [
       "minimaxMemoAll (generic function with 1 method)"
      ]
     },
     "execution_count": 15,
     "metadata": {},
     "output_type": "execute_result"
    }
   ],
   "source": [
    "function minimaxMemo(extboard::ExtendedBoard, depth::Int64)::Tuple{Int32, Vector{Chess.Move}}\n",
    "    legalMoves = Chess.moves(extboard.board)\n",
    "    transpositions = Dict{UInt64, Transposition}()\n",
    "    sideIsWhite = Chess.sidetomove(extboard.board) == Chess.WHITE\n",
    "    scoredMoves = Dict{Int32, Vector{Chess.Move}}()\n",
    "    minmaxValue = sideIsWhite ? typemin(Int32) : typemax(Int32)\n",
    "    for move ∈ legalMoves\n",
    "        undo = domove!(extboard, move)\n",
    "        if sideIsWhite\n",
    "            value = memoMin(extboard, depth - 1, transpositions)\n",
    "            minmaxValue = max(value, minmaxValue)\n",
    "        else\n",
    "            value = memoMax(extboard, depth - 1, transpositions)\n",
    "            minmaxValue = min(value, minmaxValue)\n",
    "        end\n",
    "        movesWithSameScore = get(scoredMoves, value, Chess.Move[])\n",
    "        push!(movesWithSameScore, move)\n",
    "        scoredMoves[value] = movesWithSameScore\n",
    "        println(\"$(value) $(move)\")\n",
    "        undomove!(extboard, undo)\n",
    "    end\n",
    "    return minmaxValue, scoredMoves[minmaxValue]\n",
    "end"
   ]
  },
  {
   "cell_type": "markdown",
   "id": "b2d4fcd4",
   "metadata": {},
   "source": [
    "***"
   ]
  }
 ],
 "metadata": {
  "kernelspec": {
   "display_name": "Julia 1.8.5",
   "language": "julia",
   "name": "julia-1.8"
  },
  "language_info": {
   "file_extension": ".jl",
   "mimetype": "application/julia",
   "name": "julia",
   "version": "1.8.5"
  }
 },
 "nbformat": 4,
 "nbformat_minor": 5
}
