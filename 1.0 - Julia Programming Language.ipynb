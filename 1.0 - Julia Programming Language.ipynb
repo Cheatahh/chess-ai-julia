{
 "cells": [
  {
   "cell_type": "code",
   "execution_count": null,
   "id": "c00adce3",
   "metadata": {},
   "outputs": [],
   "source": [
    "HTML(read(open(\"style.html\"), String))"
   ]
  },
  {
   "attachments": {},
   "cell_type": "markdown",
   "id": "10285333",
   "metadata": {},
   "source": [
    "# Julia Programming Language\n",
    "\n",
    "Julia ist eine dynamische Allzweck-Programmiersprache, welche vor allem für wissenschaftliche Berechnungen und Big-Data-Analysen beliebt ist. Dank der Verwendung eines JIT-Compilers (Just in Time) erweist sich Julia als sehr schnell und ermöglicht es Entwicklern, prägnanten und dennoch leistungsstarken Code zu schreiben.\n",
    "\n",
    "Die Sprache wurde 2012 entwickelt, um Eigenschaften wie die Geschwindigkeit von C, die Dynamik von Ruby und die Praktikabilität von Python zu vereinen. Hierbei wurde ein besonderer Wert auf Statistik und lineare Algebra gelegt, um effizient mathematische Probleme zu lösen (wie z.B. Matlab). Julia ist somit vor allem bekannt für die Verwendung in der numerischen Analyse, Datenvisualisierung und maschinelles Lernen."
   ]
  },
  {
   "attachments": {},
   "cell_type": "markdown",
   "id": "7cb65f72",
   "metadata": {},
   "source": [
    "***"
   ]
  },
  {
   "attachments": {},
   "cell_type": "markdown",
   "id": "f0911eea",
   "metadata": {},
   "source": [
    "## Julia in Jupyter Notebooks\n",
    "\n",
    "Während es sich bei Jupyter Notebook in der Regel um interaktive Python-Notebooks handelt (IPython), gibt es einige Möglichkeiten, Julia innerhalb eines Notebooks auszuführen\n",
    "\n",
    "1. Julia Magic:\n",
    "Mithilfe des `load_ext` Befehls lässt sich die Julia-Magic über den IPython Kernel laden (benötigt das Package Julia für IPython): `%load_ext julia.magic`\n",
    "Anschließend kann mit dem Prefix `%julia` Julia-Code innerhalb einer Code-Zelle ausgeführt werden.\n",
    "\n",
    "2. Shell Aufruf:\n",
    "In einem Jupyter-Notebook lässt sich mithilfe des `!`-Prefixes ein Shell-Befehl ausführen:\n",
    "`!julia file.jl` startet somit einen Julia-Prozess, welcher die Datei `file.jl` ausführt (benötigt Julia).\n",
    "\n",
    "3. IJulia Notebook:\n",
    "Installiert man das Package `IJulia` für Julia, so lässt sich eine Instanz von Jupyter starten, welche als zusätzlichen Kernel eine interaktive Version von Julia bereitstellt. Somit lässt sich Julia ohne weiteres innerhalb einer Code-Zelle ausführen.\n",
    "Julia-REPL: \n",
    "`using IJulia; notebook()`\n",
    "\n",
    "Letztere Variante wird für dieses Notebook verwendet."
   ]
  },
  {
   "attachments": {},
   "cell_type": "markdown",
   "id": "e3ceca97",
   "metadata": {},
   "source": [
    "***"
   ]
  },
  {
   "attachments": {},
   "cell_type": "markdown",
   "id": "206e29e0",
   "metadata": {},
   "source": [
    "## Typisierung\n",
    "\n",
    "Ähnlich wie Python ist Julia dynamisch typisiert. Falls erwünscht, lassen sich statische Typen optional deklarieren."
   ]
  },
  {
   "cell_type": "code",
   "execution_count": null,
   "id": "3af16fdf",
   "metadata": {},
   "outputs": [],
   "source": [
    "x = 42\n",
    "y::Float32 = 42\n",
    "\n",
    "x + y + π # π build-in symbol"
   ]
  },
  {
   "attachments": {},
   "cell_type": "markdown",
   "id": "5d98f423",
   "metadata": {},
   "source": [
    "Ein Hintergrund für Julias Geschwindigkeit ist die Verwendung von primitiven Datentypen mit limitierter Bit-Anzahl.\n",
    "Diese umfassen:\n",
    "- Boolsche Werte: Bool (8bit Integer), definiert durch `primitive type Bool <: Integer 8 end`\n",
    "- Schriftzeichen: Char (32bit utf-32), definiert durch `primitive type Char <: AbstractChar 32 end`\n",
    "- Ganzzahlen mit 8-, 16-, 32-, 64- und 128-Bit Größe: \n",
    "    - Int8, definiert durch `primitive type Int8 <: Signed 8 end`\n",
    "    - Int16, definiert durch `primitive type Int16 <: Signed 16 end`\n",
    "    - Int32, definiert durch `primitive type Int32 <: Signed 32 end`\n",
    "    - Int64, definiert durch `primitive type Int64 <: Signed 64 end`\n",
    "    - Int128, definiert durch `primitive type Int128 <: Signed 128 end`\n",
    "    Alle Integer-Typen sind ebenfalls als unsigned-Typ verfügbar (zb. `UInt32`).\n",
    "    Der Shorthand `Int` wird hierbei auf die plattform-spezifische Pointer-Größe aufgelöst (z.B. `Int64` auf 64-Bit Systemen).\n",
    "- Fließkommazahlen mit 16-, 32- und 64-Bit Größe:\n",
    "    - Float16, definiert durch `primitive type Float16 <: AbstractFloat 16 end`\n",
    "    - Float32, definiert durch `primitive type Float32 <: AbstractFloat 32 end`\n",
    "    - Float64, definiert durch `primitive type Float64 <: AbstractFloat 64 end`"
   ]
  },
  {
   "attachments": {},
   "cell_type": "markdown",
   "id": "14f3c2dc",
   "metadata": {},
   "source": [
    "Des Weiteren lassen sich zusammengesetzte Datentypen (ähnlich wie Structs in C) definieren:"
   ]
  },
  {
   "cell_type": "code",
   "execution_count": null,
   "id": "16aaa9c6",
   "metadata": {},
   "outputs": [],
   "source": [
    "struct Foo\n",
    "    bar # dynamischer typ\n",
    "    float::Float16\n",
    "end\n",
    "\n",
    "mutable struct Foo2\n",
    "    bar # dynamischer typ\n",
    "    const float::Float16 # konstant\n",
    "end\n",
    "\n",
    "foo = Foo2(0, 2)\n",
    "foo.bar = 4\n",
    "\n",
    "foo"
   ]
  },
  {
   "attachments": {},
   "cell_type": "markdown",
   "id": "a25f9393",
   "metadata": {},
   "source": [
    "***"
   ]
  },
  {
   "attachments": {},
   "cell_type": "markdown",
   "id": "f17fd7be",
   "metadata": {},
   "source": [
    "## Multiple Dispatch\n",
    "\n",
    "Julias Funktionen können mehrere Implementationen aufweisen, welche beim Aufruf dynamisch aufgrund der Parameter-Typen ausgewählt werden. Der Programmierer kann einer Funktion eine weitere Implementation zuweisen, indem er diese erneut mit einer anderen Signatur deklariert:"
   ]
  },
  {
   "cell_type": "code",
   "execution_count": null,
   "id": "5f9f387d",
   "metadata": {},
   "outputs": [],
   "source": [
    "function dispatch(value)\n",
    "    print(\"I´ve got a value!\\n\")\n",
    "end\n",
    "\n",
    "function dispatch(value::Float16)\n",
    "    print(\"I´ve got a value of type Float16!\")\n",
    "end\n",
    "\n",
    "dispatch(42)\n",
    "dispatch(foo.float)"
   ]
  },
  {
   "attachments": {},
   "cell_type": "markdown",
   "id": "f0484c5a",
   "metadata": {},
   "source": [
    "***"
   ]
  },
  {
   "attachments": {},
   "cell_type": "markdown",
   "id": "03c765e3",
   "metadata": {},
   "source": [
    "## Ref"
   ]
  },
  {
   "attachments": {},
   "cell_type": "markdown",
   "id": "092b4579",
   "metadata": {},
   "source": [
    "Bei der Funktion `Ref` handelt es sich um das Julia-Äquivalent einer `Reference` in anderen Programmiersprachen (bsp. [References in C++](https://www.tutorialspoint.com/cplusplus/cpp_references.htm))."
   ]
  },
  {
   "cell_type": "code",
   "execution_count": null,
   "id": "4b283dba",
   "metadata": {},
   "outputs": [],
   "source": [
    "value = Ref(1)\n",
    "function someFunction(ref::Ref{Int})\n",
    "    ref[] += 41 \n",
    "end\n",
    "someFunction(value)\n",
    "value[]"
   ]
  },
  {
   "attachments": {},
   "cell_type": "markdown",
   "id": "4748e719",
   "metadata": {},
   "source": [
    "***"
   ]
  },
  {
   "attachments": {},
   "cell_type": "markdown",
   "id": "7c7ffb59",
   "metadata": {},
   "source": [
    "## Benutzer-Eingabe"
   ]
  },
  {
   "attachments": {},
   "cell_type": "markdown",
   "id": "476e4018",
   "metadata": {},
   "source": [
    "In diversen Programmen und Anwendungen wird ein Nutzer-Input benötigt. Julia verwendet hierfür `readline`(`stdin`) ."
   ]
  },
  {
   "cell_type": "code",
   "execution_count": null,
   "id": "529571b0",
   "metadata": {},
   "outputs": [],
   "source": [
    "input = readline(stdin) \n",
    "print(input)"
   ]
  },
  {
   "attachments": {},
   "cell_type": "markdown",
   "id": "2cd3fc65",
   "metadata": {},
   "source": [
    "Diese Funktion wird in späteren Notebooks verwendet, damit der menschliche Spieler seine Züge eingeben kann."
   ]
  },
  {
   "attachments": {},
   "cell_type": "markdown",
   "id": "bcca34a2",
   "metadata": {},
   "source": [
    "***"
   ]
  },
  {
   "attachments": {},
   "cell_type": "markdown",
   "id": "1ac93191",
   "metadata": {},
   "source": [
    "## Matrizen"
   ]
  },
  {
   "attachments": {},
   "cell_type": "markdown",
   "id": "a5de6a22",
   "metadata": {},
   "source": [
    "Eine Matrix in Julia wird wie folgt erstellt."
   ]
  },
  {
   "cell_type": "code",
   "execution_count": null,
   "id": "8f852620",
   "metadata": {
    "scrolled": true
   },
   "outputs": [],
   "source": [
    "A = \n",
    "[\n",
    "    [1 2]\n",
    "    [3 4]\n",
    "]"
   ]
  },
  {
   "attachments": {},
   "cell_type": "markdown",
   "id": "6d38c12f",
   "metadata": {},
   "source": [
    "Es wurde eine 2x2 Matrix erstellt. Um diese Matrix zu drehen, kann die Matrix abgetippt werden. Ein besserer Weg ist es, die Matrix zu `reversen`. Dies geschieht mit der `reverse(matrix, dim = x) function` mit `x = 1`, für eine Spiegelung an der x-Achse, oder `x = 2`, für eine Spiegelung an der y-Achse."
   ]
  },
  {
   "cell_type": "code",
   "execution_count": null,
   "id": "97a52b0d",
   "metadata": {},
   "outputs": [],
   "source": [
    "B = reverse(A, dims = 1)"
   ]
  },
  {
   "cell_type": "code",
   "execution_count": null,
   "id": "e2257914",
   "metadata": {},
   "outputs": [],
   "source": [
    "C = reverse(A, dims = 2)"
   ]
  },
  {
   "attachments": {},
   "cell_type": "markdown",
   "id": "8a5fd5ed",
   "metadata": {},
   "source": [
    "***"
   ]
  },
  {
   "attachments": {},
   "cell_type": "markdown",
   "id": "70ecbd55",
   "metadata": {},
   "source": [
    "## Macros"
   ]
  },
  {
   "attachments": {},
   "cell_type": "markdown",
   "id": "f379f681",
   "metadata": {},
   "source": [
    "`Macros` werden verwendet um bereits generierten (geschriebenen) Code in einem anderen Programm einzubinden. Dabei wird mithilfe eines `keywords` das `Macro` aufgerufen und der hinterlegte Code wird an dieser Stelle ausgeführt.\n",
    "<br>\n",
    "In diesem Notebook werden `Macros` hauptsächlich dafür verwendet mithilfe von `NBInclude` Notebooks in andere Notebooks, mit samt der programmierten Funktionen, zu importieren."
   ]
  },
  {
   "attachments": {},
   "cell_type": "markdown",
   "id": "1a650e86",
   "metadata": {},
   "source": [
    "Der allgemeine Aufbau von `Macros` sieht wie folgt aus:"
   ]
  },
  {
   "cell_type": "code",
   "execution_count": null,
   "id": "636e34a4",
   "metadata": {},
   "outputs": [],
   "source": [
    "macro hallo()\n",
    "    return:(println(\"Hallo, ich bin ein Makro!\"))\n",
    "end"
   ]
  },
  {
   "attachments": {},
   "cell_type": "markdown",
   "id": "8fd4caf6",
   "metadata": {},
   "source": [
    "Der Unterschied zwischen Makros und Funktionen ist, dass Makros zum `Metaprogramming` verwendet werden. \n",
    "`Metaprogramming` bezeichnet die Fähigkeit eines Programms, Informationen über sich selbst zu erlangen bzw. sich selbst zu modifizieren.\n",
    "Dies wird an dem Makro `silent(ex)` deutlich:"
   ]
  },
  {
   "cell_type": "code",
   "execution_count": null,
   "id": "5d7b28d6",
   "metadata": {},
   "outputs": [],
   "source": [
    "macro silent(ex)\n",
    "    return :(\n",
    "        errStream = stderr;\n",
    "        redirect_stderr(devnull);\n",
    "        $ex;\n",
    "        redirect_stderr(errStream);\n",
    "    )\n",
    "end\n",
    "\n",
    "\n",
    "# wie es programmiert ist\n",
    "using Pkg\n",
    "@silent Pkg.add(\"NBInclude\")\n",
    "\n",
    "# wie es compiled wird\n",
    "\n",
    "using Pkg\n",
    "errStream = stderr;\n",
    "redirect_stderr(devnull);\n",
    "Pkg.add(\"NBInclude\");\n",
    "redirect_stderr(errStream);"
   ]
  },
  {
   "cell_type": "code",
   "execution_count": null,
   "id": "7b58784c",
   "metadata": {},
   "outputs": [],
   "source": [
    "@hallo"
   ]
  },
  {
   "cell_type": "code",
   "execution_count": null,
   "id": "d9d152c5",
   "metadata": {},
   "outputs": [],
   "source": []
  },
  {
   "attachments": {},
   "cell_type": "markdown",
   "id": "c550ea2a",
   "metadata": {},
   "source": [
    "Wie zu sehen ist, werden `Macros` mithilfe des `keywords` `macro` beginnend definiert. Anschließend folgt der Name des `Macros`.\n",
    "<br>\n",
    "Aufgerufen wird das `Macro` durch die Verwendung von `@NameDesMacros`. In diesem Fall ist dies `@hallo`."
   ]
  },
  {
   "attachments": {},
   "cell_type": "markdown",
   "id": "d51df73e",
   "metadata": {},
   "source": [
    "Das Makro `@assert` wird in den Test-Notebooks verwendet, um eine Behauptung aufzustellen und diese zu überprüfen. Wird die Behauptung nicht erfüllt, so wird eine Fehlermeldung ausgegeben. Wird die Behauptung erfüllt, so wird direkt der nächste Test ausgeführt."
   ]
  },
  {
   "attachments": {},
   "cell_type": "markdown",
   "id": "db411d3b",
   "metadata": {},
   "source": [
    "Das Makro `@isdefined` wird verwendet, um zu überprüfen, ob eine Konstante bereits definiert ist. Ist sie es nicht, so wird die Konstante wie nachfolgend definiert. Ist sie es, so wird die Konstante nicht neudefiniert. Dies spart Ressourcen und Zeit."
   ]
  },
  {
   "attachments": {},
   "cell_type": "markdown",
   "id": "7fc417cf",
   "metadata": {},
   "source": [
    "Das Makro `base.@kwdef` wird genutzt um sowohl Standardwerte in `structs`, als auch Stichwort-basierte Konstruktoren zu verwenden."
   ]
  },
  {
   "attachments": {},
   "cell_type": "markdown",
   "id": "6a6bcbdb",
   "metadata": {},
   "source": [
    "Zusätzlich wird das Makro `@silence` verwendet. Dies wurde von uns selbst programmiert und ist in der `util.jl` zu finden.\n",
    "<br>\n",
    "\n",
    "Das Makro wurde geschrieben, da der Import von Notebooks innerhalb eines Notebooks Meldungen auf STDERR verursacht. Es handelt sich somit um ein rein ästhetisches Makro."
   ]
  },
  {
   "attachments": {},
   "cell_type": "markdown",
   "id": "f411d594",
   "metadata": {},
   "source": [
    "### NBInclude"
   ]
  },
  {
   "attachments": {},
   "cell_type": "markdown",
   "id": "1bbe5068",
   "metadata": {},
   "source": [
    "Bei `NBInclude` handelt es sich um ein Paket für die Sprache Julia. Es ermöglicht den Import von Code in Jupyter Notebooks. Die Idee ist es, die Vorteile der Notebooks mit der Modularität und Wiederverwendbarkeit von `.jl` Dateien zu kombinieren.\n",
    "<br>\n",
    "\n",
    "`NBInclude` wurde von [Steven G. Johnson](https://github.com/stevengj) [1], mithilfe von 5 weiteren `Contributors`, auf [GitHub](https://github.com/stevengj/NBInclude.jl) [2] veröffentlicht."
   ]
  },
  {
   "attachments": {},
   "cell_type": "markdown",
   "id": "e2b372d0",
   "metadata": {},
   "source": [
    "***"
   ]
  },
  {
   "attachments": {},
   "cell_type": "markdown",
   "id": "31e313c2",
   "metadata": {},
   "source": [
    "#### Literatur\n",
    "[1] `NBInclude`, [Steven G. Johnson](https://github.com/stevengj), https://github.com/stevengj, 25.05.2023\n",
    "<br>\n",
    "[2] `NBInclude`, [GitHub](https://github.com/stevengj/NBInclude.jl), https://github.com/stevengj/NBInclude.jl, 25.05.2023"
   ]
  },
  {
   "attachments": {},
   "cell_type": "markdown",
   "id": "3eb2a10d",
   "metadata": {},
   "source": [
    "***"
   ]
  }
 ],
 "metadata": {
  "kernelspec": {
   "display_name": "Julia 1.8.2",
   "language": "julia",
   "name": "julia-1.8"
  },
  "language_info": {
   "file_extension": ".jl",
   "mimetype": "application/julia",
   "name": "julia",
   "version": "1.8.2"
  }
 },
 "nbformat": 4,
 "nbformat_minor": 5
}
