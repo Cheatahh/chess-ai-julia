{
 "cells": [
  {
   "cell_type": "code",
   "execution_count": null,
   "id": "bc6d5c3d",
   "metadata": {},
   "outputs": [],
   "source": [
    "HTML(read(open(\"style.html\"), String))"
   ]
  },
  {
   "cell_type": "code",
   "execution_count": 2,
   "id": "364110fe",
   "metadata": {},
   "outputs": [],
   "source": [
    "using NBInclude"
   ]
  },
  {
   "cell_type": "code",
   "execution_count": 3,
   "id": "e15c4271",
   "metadata": {},
   "outputs": [],
   "source": [
    "@nbinclude \"Alpha-Beta-Pruning.ipynb\""
   ]
  },
  {
   "cell_type": "markdown",
   "id": "df810910",
   "metadata": {},
   "source": [
    "# ABXAI - Generation 4\n",
    "\n",
    "Die vierte Generation der Schach-KI nutzt die implementierte Alpha-Beta-Suche für die Berechnung des bestmöglichen Zuges. Ihr wird die Suchtiefe als Argument übergeben.\n",
    "\n",
    "Die Struktur `ABAllAI` wählt aus allen bestmöglichen Zügen zufällig einen Zug aus. Durch die zufällige Auswahl wird ein deterministisches Verhalten präventiert. Die KI ist jedoch langsamer als ihre Alternativ-Version (`ABOneAI`), da diese für jeden möglichen Zug eine zusätzliche Alpha-Beta-Suche durchführt. \n",
    "\n",
    "Die Struktur `ABOneAI` wählt den ersten gefundenen bestmöglichen Zug aus. Dadurch wird ein deterministisches Verhalten verursacht. Dieses beruht auf der deterministischen Reihenfolge der Zug-Generierungsliste der `Chess.jl` Bibliothek. Während die KI somit eine voraussehbare Spielweise aufweist, ist die Evaluierung des nächsten Zuges deutlich schneller, da im Gegensatz zur `ABAllAI` die Alpha-Beta-Suche nur einmal durchgeführt werden muss."
   ]
  },
  {
   "cell_type": "code",
   "execution_count": 6,
   "id": "48d9e383",
   "metadata": {},
   "outputs": [],
   "source": [
    "struct ABOneAI \n",
    "    depth::Int64\n",
    "end"
   ]
  },
  {
   "cell_type": "markdown",
   "id": "7fda19b6",
   "metadata": {},
   "source": [
    "Um dieser Anforderung gerecht zu werden, definieren wir die folgende Funktion `getNextMove`:\n",
    "<br>\n",
    "\n",
    "**Input:**\n",
    "+ ai &rarr; die ABOneAI\n",
    "+ extboard &rarr; das Spielbrett\n",
    "+ _... &rarr; ein Platzhalter, der es ermöglicht weitere Parameter mitzugeben \n",
    "\n",
    "**Output:**\n",
    "+ move &rarr; ein Zug, der erste gefundene bestmögliche Zug"
   ]
  },
  {
   "cell_type": "code",
   "execution_count": 7,
   "id": "b364be3d",
   "metadata": {},
   "outputs": [
    {
     "data": {
      "text/plain": [
       "getNextMove (generic function with 1 method)"
      ]
     },
     "execution_count": 7,
     "metadata": {},
     "output_type": "execute_result"
    }
   ],
   "source": [
    "function getNextMove(ai::ABOneAI, extboard::ExtendedBoard, _...)::Chess.Move\n",
    "    score, move = alphaBetaPruningOne(extboard, ai.depth)\n",
    "    return move\n",
    "end"
   ]
  },
  {
   "cell_type": "code",
   "execution_count": null,
   "id": "2dd87d27",
   "metadata": {},
   "outputs": [],
   "source": [
    "struct ABAllAI \n",
    "    depth::Int64\n",
    "end"
   ]
  },
  {
   "cell_type": "markdown",
   "id": "8e90be78",
   "metadata": {},
   "source": [
    "Um dieser Anforderung gerecht zu werden, definieren wir die folgende Funktion `getNextMove`:\n",
    "<br>\n",
    "\n",
    "**Input:**\n",
    "+ ai &rarr; die ABAllAI\n",
    "+ extboard &rarr; das Spielbrett\n",
    "+ _... &rarr; ein Platzhalter, der es ermöglicht weitere Parameter mitzugeben \n",
    "\n",
    "**Output:**\n",
    "+ move &rarr; ein Zug, zufällig gewählt aus allen bestmöglichen Zügen"
   ]
  },
  {
   "cell_type": "code",
   "execution_count": null,
   "id": "37535fa1",
   "metadata": {},
   "outputs": [],
   "source": [
    "function getNextMove(ai::ABAllAI, extboard::ExtendedBoard, _...)::Chess.Move\n",
    "    score, moves = alphaBetaPruningAll(extboard, ai.depth)\n",
    "    return rand(moves)\n",
    "end"
   ]
  }
 ],
 "metadata": {
  "kernelspec": {
   "display_name": "Julia 1.8.2",
   "language": "julia",
   "name": "julia-1.8"
  },
  "language_info": {
   "file_extension": ".jl",
   "mimetype": "application/julia",
   "name": "julia",
   "version": "1.8.2"
  }
 },
 "nbformat": 4,
 "nbformat_minor": 5
}
