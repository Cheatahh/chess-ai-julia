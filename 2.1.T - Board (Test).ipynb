{
 "cells": [
  {
   "cell_type": "code",
   "execution_count": 1,
   "id": "7e2f892a",
   "metadata": {},
   "outputs": [
    {
     "data": {
      "text/html": [
       "<link href='https://fonts.googleapis.com/css?family=Alegreya+Sans:100,300,400,500,700,800,900,100italic,300italic,400italic,500italic,700italic,800italic,900italic' rel='stylesheet' type='text/css'>\r\n",
       "<link href='https://fonts.googleapis.com/css?family=Arvo:400,700,400italic' rel='stylesheet' type='text/css'>\r\n",
       "<link href='https://fonts.googleapis.com/css?family=PT+Mono' rel='stylesheet' type='text/css'>\r\n",
       "<link href='https://fonts.googleapis.com/css?family=Shadows+Into+Light' rel='stylesheet' type='text/css'>\r\n",
       "<link href='https://fonts.googleapis.com/css?family=Philosopher:400,700,400italic,700italic' rel='stylesheet' type='text/css'>\r\n",
       "\r\n",
       "<style>\r\n",
       "\r\n",
       "@font-face {\r\n",
       "    font-family: \"Computer Modern\";\r\n",
       "    src: url('https://mirrors.ctan.org/fonts/cm-unicode/fonts/otf/cmunss.otf');\r\n",
       "}\r\n",
       "\r\n",
       ".container { width: 100% }\r\n",
       "\r\n",
       "/* Formatting for header cells */\r\n",
       ".text_cell_render h1 {\r\n",
       "    font-family: 'Philosopher', sans-serif;\r\n",
       "    font-weight: 400;\r\n",
       "    font-size: 2.2em;\r\n",
       "    line-height: 100%;\r\n",
       "    color: rgb(0, 80, 120);\r\n",
       "    margin-bottom: 0.1em;\r\n",
       "    margin-top: 0.1em;\r\n",
       "    display: block;\r\n",
       "}\t\r\n",
       ".text_cell_render h2 {\r\n",
       "    font-family: 'Philosopher', serif;\r\n",
       "    font-weight: 400;\r\n",
       "    font-size: 1.9em;\r\n",
       "    line-height: 100%;\r\n",
       "    color: rgb(200,100,0);\r\n",
       "    margin-bottom: 0.1em;\r\n",
       "    margin-top: 0.1em;\r\n",
       "    display: block;\r\n",
       "}\t\r\n",
       "\r\n",
       ".text_cell_render h3 {\r\n",
       "    font-family: 'Philosopher', serif;\r\n",
       "    margin-top:12px;\r\n",
       "    margin-bottom: 3px;\r\n",
       "    font-style: italic;\r\n",
       "    color: rgb(94,127,192);\r\n",
       "}\r\n",
       "\r\n",
       ".text_cell_render h4 {\r\n",
       "    font-family: 'Philosopher', serif;\r\n",
       "}\r\n",
       "\r\n",
       ".text_cell_render h5 {\r\n",
       "    font-family: 'Alegreya Sans', sans-serif;\r\n",
       "    font-weight: 300;\r\n",
       "    font-size: 16pt;\r\n",
       "    color: grey;\r\n",
       "    font-style: italic;\r\n",
       "    margin-bottom: .1em;\r\n",
       "    margin-top: 0.1em;\r\n",
       "    display: block;\r\n",
       "}\r\n",
       "\r\n",
       ".text_cell_render h6 {\r\n",
       "    font-family: 'PT Mono', sans-serif;\r\n",
       "    font-weight: 300;\r\n",
       "    font-size: 10pt;\r\n",
       "    color: grey;\r\n",
       "    margin-bottom: 1px;\r\n",
       "    margin-top: 1px;\r\n",
       "}\r\n",
       "\r\n",
       ".text_cell_render em {\r\n",
       "    font-family: 'Philosopher', sans-serif;\r\n",
       "    color:        blue;\r\n",
       "    background-color: rgb(255,220,180);\r\n",
       "    font-size:    110%;\r\n",
       "    margin-left:   2px;\r\n",
       "    margin-right:  2px;\r\n",
       "    font-weight:   100;\r\n",
       "}\r\n",
       "\r\n",
       ".text_cell_render b {\r\n",
       "    color:            rgb(255,195,195);\r\n",
       "    background-color: rgb(0,0,0);\r\n",
       "    font-size:    110%;\r\n",
       "    margin-left:   2px;\r\n",
       "    margin-right:  2px;\r\n",
       "    font-weight:   650;\r\n",
       "}\r\n",
       "\r\n",
       ".text_cell_render tt {\r\n",
       "    font-size:    120%;\r\n",
       "    margin-left:   2px;\r\n",
       "    margin-right:  2px;\r\n",
       "    font-weight:   150;\r\n",
       "}\r\n",
       "\r\n",
       ".Codemirror {\r\n",
       "    font-family: \"PT Mono\", sans-serif;\r\n",
       "    font-size: 100%;\r\n",
       "}\r\n",
       "\r\n",
       "</style>"
      ],
      "text/plain": [
       "HTML{String}(\"<link href='https://fonts.googleapis.com/css?family=Alegreya+Sans:100,300,400,500,700,800,900,100italic,300italic,400italic,500italic,700italic,800italic,900italic' rel='stylesheet' type='text/css'>\\r\\n<link href='https://fonts.googleapis.com/css?family=Arvo:400,700,400italic' rel='stylesheet' type='text/css'>\\r\\n<link href='https://fonts.googleapis.com/css?family=PT+Mono' rel='stylesheet' type='text/css'>\\r\\n<link href='https://fonts.googleapis.com/css?family=Shadows+Into+Light' rel='stylesheet' type='text/css'>\\r\\n<link href='https://fonts.googleapis.com/css?family=Philosopher:400,700,400italic,700italic' rel='stylesheet' type='text/css'>\\r\\n\\r\\n<style>\\r\\n\\r\\n@font-face {\\r\\n    font-family: \\\"Computer Modern\\\";\\r\\n    src: url('https://mirrors.ctan.org/fonts/cm-unicode/fonts/otf/cmunss.otf');\\r\\n}\\r\\n\\r\\n.container { width: 100% }\\r\\n\\r\\n/* Formatting for header cells */\\r\\n.text_cell_render h1 {\\r\\n    font-family: 'Philosopher', sans-serif;\\r\\n    font-weight: 400;\\r\\n    font-size: 2.2em;\\r\\n    line-height: 100%;\\r\\n    color: rgb(0, 80, 120);\\r\\n    margin-bottom: 0.1em;\\r\\n    margin-top: 0.1em;\\r\\n    display: block;\\r\\n}\\t\\r\\n.text_cell_render h2 {\\r\\n    font-family: 'Philosopher', serif;\\r\\n    font-weight: 400;\\r\\n    font-size: 1.9em;\\r\\n    line-height: 100%;\\r\\n    color: rgb(200,100,0);\\r\\n    margin-bottom: 0.1em;\\r\\n    margin-top: 0.1em;\\r\\n    display: block;\\r\\n}\\t\\r\\n\\r\\n.text_cell_render h3 {\\r\\n    font-family: 'Philosopher', serif;\\r\\n    margin-top:12px;\\r\\n    margin-bottom: 3px;\\r\\n    font-style: italic;\\r\\n    color: rgb(94,127,192);\\r\\n}\\r\\n\\r\\n.text_cell_render h4 {\\r\\n    font-family: 'Philosopher', serif;\\r\\n}\\r\\n\\r\\n.text_cell_render h5 {\\r\\n    font-family: 'Alegreya Sans', sans-serif;\\r\\n    font-weight: 300;\\r\\n    font-size: 16pt;\\r\\n    color: grey;\\r\\n    font-style: italic;\\r\\n    margin-bottom: .1em;\\r\\n    margin-top: 0.1em;\\r\\n    display: block;\\r\\n}\\r\\n\\r\\n.text_cell_render h6 {\\r\\n    font-family: 'PT Mono', sans-serif;\\r\\n    font-weight: 300;\\r\\n    font-size: 10pt;\\r\\n    color: grey;\\r\\n    margin-bottom: 1px;\\r\\n    margin-top: 1px;\\r\\n}\\r\\n\\r\\n.text_cell_render em {\\r\\n    font-family: 'Philosopher', sans-serif;\\r\\n    color:        blue;\\r\\n    background-color: rgb(255,220,180);\\r\\n    font-size:    110%;\\r\\n    margin-left:   2px;\\r\\n    margin-right:  2px;\\r\\n    font-weight:   100;\\r\\n}\\r\\n\\r\\n.text_cell_render b {\\r\\n    color:            rgb(255,195,195);\\r\\n    background-color: rgb(0,0,0);\\r\\n    font-size:    110%;\\r\\n    margin-left:   2px;\\r\\n    margin-right:  2px;\\r\\n    font-weight:   650;\\r\\n}\\r\\n\\r\\n.text_cell_render tt {\\r\\n    font-size:    120%;\\r\\n    margin-left:   2px;\\r\\n    margin-right:  2px;\\r\\n    font-weight:   150;\\r\\n}\\r\\n\\r\\n.Codemirror {\\r\\n    font-family: \\\"PT Mono\\\", sans-serif;\\r\\n    font-size: 100%;\\r\\n}\\r\\n\\r\\n</style>\")"
      ]
     },
     "execution_count": 1,
     "metadata": {},
     "output_type": "execute_result"
    }
   ],
   "source": [
    "HTML(read(open(\"style.html\"), String))"
   ]
  },
  {
   "cell_type": "code",
   "execution_count": null,
   "id": "1625348e",
   "metadata": {},
   "outputs": [],
   "source": [
    "include(\"silent.jl\")"
   ]
  },
  {
   "cell_type": "code",
   "execution_count": 2,
   "id": "a4c40b97",
   "metadata": {},
   "outputs": [],
   "source": [
    "using Pkg\n",
    "@silent Pkg.add(\"NBInclude\")\n",
    "using NBInclude"
   ]
  },
  {
   "cell_type": "code",
   "execution_count": 3,
   "id": "76dc47de",
   "metadata": {},
   "outputs": [
    {
     "data": {
      "text/plain": [
       "evaluateEPCaptureScoreDelta (generic function with 1 method)"
      ]
     },
     "execution_count": 3,
     "metadata": {},
     "output_type": "execute_result"
    }
   ],
   "source": [
    "@nbinclude \"2.1 - Board.ipynb\"\n",
    "@nbinclude \"3.1 - Evaluation.ipynb\""
   ]
  },
  {
   "cell_type": "markdown",
   "id": "cbdfa220",
   "metadata": {},
   "source": [
    "***"
   ]
  },
  {
   "cell_type": "markdown",
   "id": "9bc3310f",
   "metadata": {},
   "source": [
    "Der folgenden Tests validieren, dass stehts die Logik `undomove(domove(board)) = board` gilt."
   ]
  },
  {
   "cell_type": "code",
   "execution_count": 4,
   "id": "9f08a65a",
   "metadata": {},
   "outputs": [],
   "source": [
    "extboard = ExtendedBoard(Chess.startboard())\n",
    "original = deepcopy(extboard)\n",
    "\n",
    "extundo = domove!(extboard, Chess.movefromstring(\"e2e4\"))\n",
    "undomove!(extboard, extundo)\n",
    "\n",
    "Chess.undomove!(original.board, Chess.domove!(original.board, Chess.movefromstring(\"e2e4\")))\n",
    "\n",
    "# Chess.Board objects cannot be compared directly\n",
    "@assert string(extboard.board) == string(original.board)\n",
    "@assert extboard.score == original.score\n",
    "@assert extboard.endGame == original.endGame\n",
    "# Undo-Operation decrements a counter, so we have to remove entries with a counter value of 0\n",
    "filter!(entry -> entry.second != 0, extboard.repetitions)\n",
    "@assert extboard.repetitions == original.repetitions\n",
    "@assert extboard.repetitionRuleDraw == original.repetitionRuleDraw\n",
    "@assert extboard.zobrist.hash == original.zobrist.hash"
   ]
  },
  {
   "cell_type": "code",
   "execution_count": 5,
   "id": "b770efb8",
   "metadata": {},
   "outputs": [
    {
     "name": "stdout",
     "output_type": "stream",
     "text": [
      "10.0%\n",
      "20.0%\n",
      "30.0%\n",
      "40.0%\n",
      "50.0%\n",
      "60.0%\n",
      "70.0%\n",
      "80.0%\n",
      "90.0%\n",
      "100.0%\n"
     ]
    }
   ],
   "source": [
    "for x in 1:1000\n",
    "\n",
    "    extboard = ExtendedBoard(Chess.startboard())\n",
    "\n",
    "    while !Chess.isterminal(extboard.board) && !extboard.repetitionRuleDraw\n",
    "\n",
    "        original = deepcopy(extboard)\n",
    "\n",
    "        move = rand(Chess.moves(extboard.board))\n",
    "        extundo = domove!(extboard, move)\n",
    "        undomove!(extboard, extundo)\n",
    "\n",
    "        Chess.undomove!(original.board, Chess.domove!(original.board, move))\n",
    "\n",
    "        # Chess.Board objects cannot be compared directly\n",
    "        @assert string(extboard.board) == string(original.board)\n",
    "        @assert extboard.score == original.score\n",
    "        @assert extboard.endGame == original.endGame\n",
    "        # Undo-Operation decrements a counter, so we have to remove entries with a counter value of 0\n",
    "        filter!(entry -> entry.second != 0, extboard.repetitions)\n",
    "        @assert extboard.repetitions == original.repetitions\n",
    "        @assert extboard.repetitionRuleDraw == original.repetitionRuleDraw\n",
    "        @assert extboard.zobrist.hash == original.zobrist.hash\n",
    "\n",
    "        domove!(extboard, move)\n",
    "    end\n",
    "    \n",
    "    if x % 100 == 0\n",
    "        println(\"$((x / 100) * 10)%\")\n",
    "    end\n",
    "end"
   ]
  },
  {
   "cell_type": "markdown",
   "id": "3cd8dafe",
   "metadata": {},
   "source": [
    "Der folgende Test validiert, dass die inkrementellen Implementierungen der Evaluierungsfunktion, sowie des Zobrist-Hashings stehts die gleichen Werte wie ihre iterativen Versionen ergeben. Hierbei wird ein Schachspiel durchgespielt, bei welchem nach jedem Zug die erwarteten Werte mit den inkrementell errechneten Werten vergleichen werden. Insgesammt wird der Test `10000x` wiederholt, um alle möglichen Randbedingungen und Spezialfälle abzudecken."
   ]
  },
  {
   "cell_type": "code",
   "execution_count": 6,
   "id": "c80381cf",
   "metadata": {},
   "outputs": [
    {
     "name": "stdout",
     "output_type": "stream",
     "text": [
      "10.0%\n",
      "20.0%\n",
      "30.0%\n",
      "40.0%\n",
      "50.0%\n",
      "60.0%\n",
      "70.0%\n",
      "80.0%\n",
      "90.0%\n",
      "100.0%\n"
     ]
    }
   ],
   "source": [
    "for x in 1:10000\n",
    "    extboard = ExtendedBoard(Chess.startboard())\n",
    "\n",
    "    # deepcopy to get the same random hash keys\n",
    "    zobristCopy = deepcopy(extboard.zobrist)\n",
    "\n",
    "    while !Chess.isterminal(extboard.board) && !extboard.repetitionRuleDraw\n",
    "\n",
    "        expectedIsEndGame = isEndGame(extboard.board)\n",
    "        @assert extboard.endGame == expectedIsEndGame\n",
    "\n",
    "        expectedScore = evaluatePositionScore(extboard.board, \n",
    "            expectedIsEndGame ? PIECE_SQUARE_TABLES_ENDGAME : PIECE_SQUARE_TABLES_MIDGAME)\n",
    "        @assert expectedScore == extboard.score\n",
    "\n",
    "        rehash!(zobristCopy, extboard.board)\n",
    "        @assert extboard.zobrist.hash == zobristCopy.hash\n",
    "\n",
    "        move = rand(Chess.moves(extboard.board))\n",
    "        domove!(extboard, move)\n",
    "    end\n",
    "    \n",
    "    if x % 1000 == 0\n",
    "        println(\"$((x / 1000) * 10)%\")\n",
    "    end\n",
    "end"
   ]
  },
  {
   "cell_type": "markdown",
   "id": "e394da44",
   "metadata": {},
   "source": [
    "Der folgenden Tests validieren, dass das dreifache Wiederholen einer Stellung zu einem Unentschieden führt."
   ]
  },
  {
   "cell_type": "code",
   "execution_count": 7,
   "id": "0f4a1518",
   "metadata": {
    "scrolled": false
   },
   "outputs": [
    {
     "name": "stdout",
     "output_type": "stream",
     "text": [
      "Initial State\n"
     ]
    },
    {
     "data": {
      "text/html": [
       "Board:<div class=\"chessboard\"><style soped=\"true\">.dark-square {\n",
       "    fill: #c3936a;\n",
       "    stroke-width: 0;\n",
       "}\n",
       ".light-square {\n",
       "    fill: #ffd7a6;\n",
       "    stroke-width: 0;\n",
       "}\n",
       ".highlight {\n",
       "    fill: #47d18b;\n",
       "}\n",
       "@media (prefers-color-scheme: dark) {\n",
       "    .dark-square {\n",
       "        fill: #00796b;\n",
       "    }\n",
       "    .light-square {\n",
       "        fill: #3ca59b;\n",
       "    }\n",
       "    .highlight {\n",
       "        fill: #d23600;\n",
       "    }\n",
       "}\n",
       "</style><svg style=\"float: left; margin-right: 20px\" viewBox=\"0 0 8 8\" height=\"280\" width=\"280\"><g><g><rect x=\"0\" y=\"0\" class=\"light-square\" height=\"1\" width=\"1\"></rect><image x=\"0\" xlink:href=\"https://raw.githubusercontent.com/romstad/Chess.jl/master/img/br.svg\" y=\"0\" height=\"1\" width=\"1\"></image></g><g><rect x=\"0\" y=\"1\" class=\"dark-square\" height=\"1\" width=\"1\"></rect><image x=\"0\" xlink:href=\"https://raw.githubusercontent.com/romstad/Chess.jl/master/img/bp.svg\" y=\"1\" height=\"1\" width=\"1\"></image></g><g><rect x=\"0\" y=\"2\" class=\"light-square\" height=\"1\" width=\"1\"></rect><g></g></g><g><rect x=\"0\" y=\"3\" class=\"dark-square\" height=\"1\" width=\"1\"></rect><g></g></g><g><rect x=\"0\" y=\"4\" class=\"light-square\" height=\"1\" width=\"1\"></rect><g></g></g><g><rect x=\"0\" y=\"5\" class=\"dark-square\" height=\"1\" width=\"1\"></rect><g></g></g><g><rect x=\"0\" y=\"6\" class=\"light-square\" height=\"1\" width=\"1\"></rect><image x=\"0\" xlink:href=\"https://raw.githubusercontent.com/romstad/Chess.jl/master/img/wp.svg\" y=\"6\" height=\"1\" width=\"1\"></image></g><g><rect x=\"0\" y=\"7\" class=\"dark-square\" height=\"1\" width=\"1\"></rect><image x=\"0\" xlink:href=\"https://raw.githubusercontent.com/romstad/Chess.jl/master/img/wr.svg\" y=\"7\" height=\"1\" width=\"1\"></image></g><g><rect x=\"1\" y=\"0\" class=\"dark-square\" height=\"1\" width=\"1\"></rect><image x=\"1\" xlink:href=\"https://raw.githubusercontent.com/romstad/Chess.jl/master/img/bn.svg\" y=\"0\" height=\"1\" width=\"1\"></image></g><g><rect x=\"1\" y=\"1\" class=\"light-square\" height=\"1\" width=\"1\"></rect><image x=\"1\" xlink:href=\"https://raw.githubusercontent.com/romstad/Chess.jl/master/img/bp.svg\" y=\"1\" height=\"1\" width=\"1\"></image></g><g><rect x=\"1\" y=\"2\" class=\"dark-square\" height=\"1\" width=\"1\"></rect><g></g></g><g><rect x=\"1\" y=\"3\" class=\"light-square\" height=\"1\" width=\"1\"></rect><g></g></g><g><rect x=\"1\" y=\"4\" class=\"dark-square\" height=\"1\" width=\"1\"></rect><g></g></g><g><rect x=\"1\" y=\"5\" class=\"light-square\" height=\"1\" width=\"1\"></rect><g></g></g><g><rect x=\"1\" y=\"6\" class=\"dark-square\" height=\"1\" width=\"1\"></rect><image x=\"1\" xlink:href=\"https://raw.githubusercontent.com/romstad/Chess.jl/master/img/wp.svg\" y=\"6\" height=\"1\" width=\"1\"></image></g><g><rect x=\"1\" y=\"7\" class=\"light-square\" height=\"1\" width=\"1\"></rect><image x=\"1\" xlink:href=\"https://raw.githubusercontent.com/romstad/Chess.jl/master/img/wn.svg\" y=\"7\" height=\"1\" width=\"1\"></image></g><g><rect x=\"2\" y=\"0\" class=\"light-square\" height=\"1\" width=\"1\"></rect><image x=\"2\" xlink:href=\"https://raw.githubusercontent.com/romstad/Chess.jl/master/img/bb.svg\" y=\"0\" height=\"1\" width=\"1\"></image></g><g><rect x=\"2\" y=\"1\" class=\"dark-square\" height=\"1\" width=\"1\"></rect><image x=\"2\" xlink:href=\"https://raw.githubusercontent.com/romstad/Chess.jl/master/img/bp.svg\" y=\"1\" height=\"1\" width=\"1\"></image></g><g><rect x=\"2\" y=\"2\" class=\"light-square\" height=\"1\" width=\"1\"></rect><g></g></g><g><rect x=\"2\" y=\"3\" class=\"dark-square\" height=\"1\" width=\"1\"></rect><g></g></g><g><rect x=\"2\" y=\"4\" class=\"light-square\" height=\"1\" width=\"1\"></rect><g></g></g><g><rect x=\"2\" y=\"5\" class=\"dark-square\" height=\"1\" width=\"1\"></rect><image x=\"2\" xlink:href=\"https://raw.githubusercontent.com/romstad/Chess.jl/master/img/wp.svg\" y=\"5\" height=\"1\" width=\"1\"></image></g><g><rect x=\"2\" y=\"6\" class=\"light-square\" height=\"1\" width=\"1\"></rect><g></g></g><g><rect x=\"2\" y=\"7\" class=\"dark-square\" height=\"1\" width=\"1\"></rect><image x=\"2\" xlink:href=\"https://raw.githubusercontent.com/romstad/Chess.jl/master/img/wb.svg\" y=\"7\" height=\"1\" width=\"1\"></image></g><g><rect x=\"3\" y=\"0\" class=\"dark-square\" height=\"1\" width=\"1\"></rect><g></g></g><g><rect x=\"3\" y=\"1\" class=\"light-square\" height=\"1\" width=\"1\"></rect><image x=\"3\" xlink:href=\"https://raw.githubusercontent.com/romstad/Chess.jl/master/img/bp.svg\" y=\"1\" height=\"1\" width=\"1\"></image></g><g><rect x=\"3\" y=\"2\" class=\"dark-square\" height=\"1\" width=\"1\"></rect><g></g></g><g><rect x=\"3\" y=\"3\" class=\"light-square\" height=\"1\" width=\"1\"></rect><g></g></g><g><rect x=\"3\" y=\"4\" class=\"dark-square\" height=\"1\" width=\"1\"></rect><image x=\"3\" xlink:href=\"https://raw.githubusercontent.com/romstad/Chess.jl/master/img/wq.svg\" y=\"4\" height=\"1\" width=\"1\"></image></g><g><rect x=\"3\" y=\"5\" class=\"light-square\" height=\"1\" width=\"1\"></rect><g></g></g><g><rect x=\"3\" y=\"6\" class=\"dark-square\" height=\"1\" width=\"1\"></rect><g></g></g><g><rect x=\"3\" y=\"7\" class=\"light-square\" height=\"1\" width=\"1\"></rect><g></g></g><g><rect x=\"4\" y=\"0\" class=\"light-square\" height=\"1\" width=\"1\"></rect><image x=\"4\" xlink:href=\"https://raw.githubusercontent.com/romstad/Chess.jl/master/img/bk.svg\" y=\"0\" height=\"1\" width=\"1\"></image></g><g><rect x=\"4\" y=\"1\" class=\"dark-square\" height=\"1\" width=\"1\"></rect><g></g></g><g><rect x=\"4\" y=\"2\" class=\"light-square\" height=\"1\" width=\"1\"></rect><g></g></g><g><rect x=\"4\" y=\"3\" class=\"dark-square\" height=\"1\" width=\"1\"></rect><g></g></g><g><rect x=\"4\" y=\"4\" class=\"light-square\" height=\"1\" width=\"1\"></rect><image x=\"4\" xlink:href=\"https://raw.githubusercontent.com/romstad/Chess.jl/master/img/wp.svg\" y=\"4\" height=\"1\" width=\"1\"></image></g><g><rect x=\"4\" y=\"5\" class=\"dark-square\" height=\"1\" width=\"1\"></rect><g></g></g><g><rect x=\"4\" y=\"6\" class=\"light-square\" height=\"1\" width=\"1\"></rect><g></g></g><g><rect x=\"4\" y=\"7\" class=\"dark-square\" height=\"1\" width=\"1\"></rect><image x=\"4\" xlink:href=\"https://raw.githubusercontent.com/romstad/Chess.jl/master/img/wk.svg\" y=\"7\" height=\"1\" width=\"1\"></image></g><g><rect x=\"5\" y=\"0\" class=\"dark-square\" height=\"1\" width=\"1\"></rect><image x=\"5\" xlink:href=\"https://raw.githubusercontent.com/romstad/Chess.jl/master/img/bb.svg\" y=\"0\" height=\"1\" width=\"1\"></image></g><g><rect x=\"5\" y=\"1\" class=\"light-square\" height=\"1\" width=\"1\"></rect><image x=\"5\" xlink:href=\"https://raw.githubusercontent.com/romstad/Chess.jl/master/img/bp.svg\" y=\"1\" height=\"1\" width=\"1\"></image></g><g><rect x=\"5\" y=\"2\" class=\"dark-square\" height=\"1\" width=\"1\"></rect><image x=\"5\" xlink:href=\"https://raw.githubusercontent.com/romstad/Chess.jl/master/img/bq.svg\" y=\"2\" height=\"1\" width=\"1\"></image></g><g><rect x=\"5\" y=\"3\" class=\"light-square\" height=\"1\" width=\"1\"></rect><g></g></g><g><rect x=\"5\" y=\"4\" class=\"dark-square\" height=\"1\" width=\"1\"></rect><g></g></g><g><rect x=\"5\" y=\"5\" class=\"light-square\" height=\"1\" width=\"1\"></rect><g></g></g><g><rect x=\"5\" y=\"6\" class=\"dark-square\" height=\"1\" width=\"1\"></rect><image x=\"5\" xlink:href=\"https://raw.githubusercontent.com/romstad/Chess.jl/master/img/wp.svg\" y=\"6\" height=\"1\" width=\"1\"></image></g><g><rect x=\"5\" y=\"7\" class=\"light-square\" height=\"1\" width=\"1\"></rect><image x=\"5\" xlink:href=\"https://raw.githubusercontent.com/romstad/Chess.jl/master/img/wb.svg\" y=\"7\" height=\"1\" width=\"1\"></image></g><g><rect x=\"6\" y=\"0\" class=\"light-square\" height=\"1\" width=\"1\"></rect><image x=\"6\" xlink:href=\"https://raw.githubusercontent.com/romstad/Chess.jl/master/img/bn.svg\" y=\"0\" height=\"1\" width=\"1\"></image></g><g><rect x=\"6\" y=\"1\" class=\"dark-square\" height=\"1\" width=\"1\"></rect><image x=\"6\" xlink:href=\"https://raw.githubusercontent.com/romstad/Chess.jl/master/img/bp.svg\" y=\"1\" height=\"1\" width=\"1\"></image></g><g><rect x=\"6\" y=\"2\" class=\"light-square\" height=\"1\" width=\"1\"></rect><g></g></g><g><rect x=\"6\" y=\"3\" class=\"dark-square\" height=\"1\" width=\"1\"></rect><g></g></g><g><rect x=\"6\" y=\"4\" class=\"light-square\" height=\"1\" width=\"1\"></rect><g></g></g><g><rect x=\"6\" y=\"5\" class=\"dark-square\" height=\"1\" width=\"1\"></rect><g></g></g><g><rect x=\"6\" y=\"6\" class=\"light-square\" height=\"1\" width=\"1\"></rect><image x=\"6\" xlink:href=\"https://raw.githubusercontent.com/romstad/Chess.jl/master/img/wp.svg\" y=\"6\" height=\"1\" width=\"1\"></image></g><g><rect x=\"6\" y=\"7\" class=\"dark-square\" height=\"1\" width=\"1\"></rect><image x=\"6\" xlink:href=\"https://raw.githubusercontent.com/romstad/Chess.jl/master/img/wn.svg\" y=\"7\" height=\"1\" width=\"1\"></image></g><g><rect x=\"7\" y=\"0\" class=\"dark-square\" height=\"1\" width=\"1\"></rect><image x=\"7\" xlink:href=\"https://raw.githubusercontent.com/romstad/Chess.jl/master/img/br.svg\" y=\"0\" height=\"1\" width=\"1\"></image></g><g><rect x=\"7\" y=\"1\" class=\"light-square\" height=\"1\" width=\"1\"></rect><image x=\"7\" xlink:href=\"https://raw.githubusercontent.com/romstad/Chess.jl/master/img/bp.svg\" y=\"1\" height=\"1\" width=\"1\"></image></g><g><rect x=\"7\" y=\"2\" class=\"dark-square\" height=\"1\" width=\"1\"></rect><g></g></g><g><rect x=\"7\" y=\"3\" class=\"light-square\" height=\"1\" width=\"1\"></rect><g></g></g><g><rect x=\"7\" y=\"4\" class=\"dark-square\" height=\"1\" width=\"1\"></rect><g></g></g><g><rect x=\"7\" y=\"5\" class=\"light-square\" height=\"1\" width=\"1\"></rect><g></g></g><g><rect x=\"7\" y=\"6\" class=\"dark-square\" height=\"1\" width=\"1\"></rect><image x=\"7\" xlink:href=\"https://raw.githubusercontent.com/romstad/Chess.jl/master/img/wp.svg\" y=\"6\" height=\"1\" width=\"1\"></image></g><g><rect x=\"7\" y=\"7\" class=\"light-square\" height=\"1\" width=\"1\"></rect><image x=\"7\" xlink:href=\"https://raw.githubusercontent.com/romstad/Chess.jl/master/img/wr.svg\" y=\"7\" height=\"1\" width=\"1\"></image></g></g><g></g></svg><div><p>White to move</p><p>Castle rights: KQkq</p><p><a href=\"https://lichess.org/editor/rnb1kbnr/pppp1ppp/5q2/8/3QP3/2P5/PP3PPP/RNB1KBNR_w_KQkq_-\" target=\"_blank\">Open in lichess</a></p></div></div>"
      ],
      "text/plain": [
       "HTML{String}(\"Board:<div class=\\\"chessboard\\\"><style soped=\\\"true\\\">.dark-square {\\n    fill: #c3936a;\\n    stroke-width: 0;\\n}\\n.light-square {\\n    fill: #ffd7a6;\\n    stroke-width: 0;\\n}\\n.highlight {\\n    fill: #47d18b;\\n}\\n@media (prefers-color-scheme: dark) {\\n    .dark-square {\\n        fill: #00796b;\\n    }\\n    .light-square {\\n        fill: #3ca59b;\\n    }\\n    .highlight {\\n        fill: #d23600;\\n    }\\n}\\n</style><svg style=\\\"float: left; margin-right: 20px\\\" viewBox=\\\"0 0 8 8\\\" height=\\\"280\\\" width=\\\"280\\\"><g><g><rect x=\\\"0\\\" y=\\\"0\\\" class=\\\"light-square\\\" height=\\\"1\\\" width=\\\"1\\\"></rect><image x=\\\"0\\\" xlink:href=\\\"https://raw.githubusercontent.com/romstad/Chess.jl/master/img/br.svg\\\" y=\\\"0\\\" height=\\\"1\\\" width=\\\"1\\\"></image></g><g><rect x=\\\"0\\\" y=\\\"1\\\" class=\\\"dark-square\\\" height=\\\"1\\\" width=\\\"1\\\"></rect><image x=\\\"0\\\" xlink:href=\\\"https://raw.githubusercontent.com/romstad/Chess.jl/master/img/bp.svg\\\" y=\\\"1\\\" height=\\\"1\\\" width=\\\"1\\\"></image></g><g><rect x=\\\"0\\\" y=\\\"2\\\" class=\\\"light-square\\\" height=\\\"1\\\" width=\\\"1\\\"></rect><g></g></g><g><rect x=\\\"0\\\" y=\\\"3\\\" class=\\\"dark-square\\\" height=\\\"1\\\" width=\\\"1\\\"></rect><g></g></g><g><rect x=\\\"0\\\" y=\\\"4\\\" class=\\\"light-square\\\" height=\\\"1\\\" width=\\\"1\\\"></rect><g></g></g><g><rect x=\\\"0\\\" y=\\\"5\\\" class=\\\"dark-square\\\" height=\\\"1\\\" width=\\\"1\\\"></rect><g></g></g><g><rect x=\\\"0\\\" y=\\\"6\\\" class=\\\"light-square\\\" height=\\\"1\\\" width=\\\"1\\\"></rect><image x=\\\"0\\\" xlink:href=\\\"https://raw.githubusercontent.com/romstad/Chess.jl/master/img/wp.svg\\\" y=\\\"6\\\" height=\\\"1\\\" width=\\\"1\\\"></image></g><g><rect x=\\\"0\\\" y=\\\"7\\\" class=\\\"dark-square\\\" height=\\\"1\\\" width=\\\"1\\\"></rect><image x=\\\"0\\\" xlink:href=\\\"https://raw.githubusercontent.com/romstad/Chess.jl/master/img/wr.svg\\\" y=\\\"7\\\" height=\\\"1\\\" width=\\\"1\\\"></image></g><g><rect x=\\\"1\\\" y=\\\"0\\\" class=\\\"dark-square\\\" height=\\\"1\\\" width=\\\"1\\\"></rect><image x=\\\"1\\\" xlink:href=\\\"https://raw.githubusercontent.com/romstad/Chess.jl/master/img/bn.svg\\\" y=\\\"0\\\" height=\\\"1\\\" width=\\\"1\\\"></image></g><g><rect x=\\\"1\\\" y=\\\"1\\\" class=\\\"light-square\\\" height=\\\"1\\\" width=\\\"1\\\"></rect><image x=\\\"1\\\" xlink:href=\\\"https://raw.githubusercontent.com/romstad/Chess.jl/master/img/bp.svg\\\" y=\\\"1\\\" height=\\\"1\\\" width=\\\"1\\\"></image></g><g><rect x=\\\"1\\\" y=\\\"2\\\" class=\\\"dark-square\\\" height=\\\"1\\\" width=\\\"1\\\"></rect><g></g></g><g><rect x=\\\"1\\\" y=\\\"3\\\" class=\\\"light-square\\\" height=\\\"1\\\" width=\\\"1\\\"></rect><g></g></g><g><rect x=\\\"1\\\" y=\\\"4\\\" class=\\\"dark-square\\\" height=\\\"1\\\" width=\\\"1\\\"></rect><g></g></g><g><rect x=\\\"1\\\" y=\\\"5\\\" class=\\\"light-square\\\" height=\\\"1\\\" width=\\\"1\\\"></rect><g></g></g><g><rect x=\\\"1\\\" y=\\\"6\\\" class=\\\"dark-square\\\" height=\\\"1\\\" width=\\\"1\\\"></rect><image x=\\\"1\\\" xlink:href=\\\"https://raw.githubusercontent.com/romstad/Chess.jl/master/img/wp.svg\\\" y=\\\"6\\\" height=\\\"1\\\" width=\\\"1\\\"></image></g><g><rect x=\\\"1\\\" y=\\\"7\\\" class=\\\"light-square\\\" height=\\\"1\\\" width=\\\"1\\\"></rect><image x=\\\"1\\\" xlink:href=\\\"https://raw.githubusercontent.com/romstad/Chess.jl/master/img/wn.svg\\\" y=\\\"7\\\" height=\\\"1\\\" width=\\\"1\\\"></image></g><g><rect x=\\\"2\\\" y=\\\"0\\\" class=\\\"light-square\\\" height=\\\"1\\\" width=\\\"1\\\"></rect><image x=\\\"2\\\" xlink:href=\\\"https://raw.githubusercontent.com/romstad/Chess.jl/master/img/bb.svg\\\" y=\\\"0\\\" height=\\\"1\\\" width=\\\"1\\\"></image></g><g><rect x=\\\"2\\\" y=\\\"1\\\" class=\\\"dark-square\\\" height=\\\"1\\\" width=\\\"1\\\"></rect><image x=\\\"2\\\" xlink:href=\\\"https://raw.githubusercontent.com/romstad/Chess.jl/master/img/bp.svg\\\" y=\\\"1\\\" height=\\\"1\\\" width=\\\"1\\\"></image></g><g><rect x=\\\"2\\\" y=\\\"2\\\" class=\\\"light-square\\\" height=\\\"1\\\" width=\\\"1\\\"></rect><g></g></g><g><rect x=\\\"2\\\" y=\\\"3\\\" class=\\\"dark-square\\\" height=\\\"1\\\" width=\\\"1\\\"></rect><g></g></g><g><rect x=\\\"2\\\" y=\\\"4\\\" class=\\\"light-square\\\" height=\\\"1\\\" width=\\\"1\\\"></rect><g></g></g><g><rect x=\\\"2\\\" y=\\\"5\\\" class=\\\"dark-square\\\" height=\\\"1\\\" width=\\\"1\\\"></rect><image x=\\\"2\\\" xlink:href=\\\"https://raw.githubusercontent.com/romstad/Chess.jl/master/img/wp.svg\\\" y=\\\"5\\\" height=\\\"1\\\" width=\\\"1\\\"></image></g><g><rect x=\\\"2\\\" y=\\\"6\\\" class=\\\"light-square\\\" height=\\\"1\\\" width=\\\"1\\\"></rect><g></g></g><g><rect x=\\\"2\\\" y=\\\"7\\\" class=\\\"dark-square\\\" height=\\\"1\\\" width=\\\"1\\\"></rect><image x=\\\"2\\\" xlink:href=\\\"https://raw.githubusercontent.com/romstad/Chess.jl/master/img/wb.svg\\\" y=\\\"7\\\" height=\\\"1\\\" width=\\\"1\\\"></image></g><g><rect x=\\\"3\\\" y=\\\"0\\\" class=\\\"dark-square\\\" height=\\\"1\\\" width=\\\"1\\\"></rect><g></g></g><g><rect x=\\\"3\\\" y=\\\"1\\\" class=\\\"light-square\\\" height=\\\"1\\\" width=\\\"1\\\"></rect><image x=\\\"3\\\" xlink:href=\\\"https://raw.githubusercontent.com/romstad/Chess.jl/master/img/bp.svg\\\" y=\\\"1\\\" height=\\\"1\\\" width=\\\"1\\\"></image></g><g><rect x=\\\"3\\\" y=\\\"2\\\" class=\\\"dark-square\\\" height=\\\"1\\\" width=\\\"1\\\"></rect><g></g></g><g><rect x=\\\"3\\\" y=\\\"3\\\" class=\\\"light-square\\\" height=\\\"1\\\" width=\\\"1\\\"></rect><g></g></g><g><rect x=\\\"3\\\" y=\\\"4\\\" class=\\\"dark-square\\\" height=\\\"1\\\" width=\\\"1\\\"></rect><image x=\\\"3\\\" xlink:href=\\\"https://raw.githubusercontent.com/romstad/Chess.jl/master/img/wq.svg\\\" y=\\\"4\\\" height=\\\"1\\\" width=\\\"1\\\"></image></g><g><rect x=\\\"3\\\" y=\\\"5\\\" class=\\\"light-square\\\" height=\\\"1\\\" width=\\\"1\\\"></rect><g></g></g><g><rect x=\\\"3\\\" y=\\\"6\\\" class=\\\"dark-square\\\" height=\\\"1\\\" width=\\\"1\\\"></rect><g></g></g><g><rect x=\\\"3\\\" y=\\\"7\\\" class=\\\"light-square\\\" height=\\\"1\\\" width=\\\"1\\\"></rect><g></g></g><g><rect x=\\\"4\\\" y=\\\"0\\\" class=\\\"light-square\\\" height=\\\"1\\\" width=\\\"1\\\"></rect><image x=\\\"4\\\" xlink:href=\\\"https://raw.githubusercontent.com/romstad/Chess.jl/master/img/bk.svg\\\" y=\\\"0\\\" height=\\\"1\\\" width=\\\"1\\\"></image></g><g><rect x=\\\"4\\\" y=\\\"1\\\" class=\\\"dark-square\\\" height=\\\"1\\\" width=\\\"1\\\"></rect><g></g></g><g><rect x=\\\"4\\\" y=\\\"2\\\" class=\\\"light-square\\\" height=\\\"1\\\" width=\\\"1\\\"></rect><g></g></g><g><rect x=\\\"4\\\" y=\\\"3\\\" class=\\\"dark-square\\\" height=\\\"1\\\" width=\\\"1\\\"></rect><g></g></g><g><rect x=\\\"4\\\" y=\\\"4\\\" class=\\\"light-square\\\" height=\\\"1\\\" width=\\\"1\\\"></rect><image x=\\\"4\\\" xlink:href=\\\"https://raw.githubusercontent.com/romstad/Chess.jl/master/img/wp.svg\\\" y=\\\"4\\\" height=\\\"1\\\" width=\\\"1\\\"></image></g><g><rect x=\\\"4\\\" y=\\\"5\\\" class=\\\"dark-square\\\" height=\\\"1\\\" width=\\\"1\\\"></rect><g></g></g><g><rect x=\\\"4\\\" y=\\\"6\\\" class=\\\"light-square\\\" height=\\\"1\\\" width=\\\"1\\\"></rect><g></g></g><g><rect x=\\\"4\\\" y=\\\"7\\\" class=\\\"dark-square\\\" height=\\\"1\\\" width=\\\"1\\\"></rect><image x=\\\"4\\\" xlink:href=\\\"https://raw.githubusercontent.com/romstad/Chess.jl/master/img/wk.svg\\\" y=\\\"7\\\" height=\\\"1\\\" width=\\\"1\\\"></image></g><g><rect x=\\\"5\\\" y=\\\"0\\\" class=\\\"dark-square\\\" height=\\\"1\\\" width=\\\"1\\\"></rect><image x=\\\"5\\\" xlink:href=\\\"https://raw.githubusercontent.com/romstad/Chess.jl/master/img/bb.svg\\\" y=\\\"0\\\" height=\\\"1\\\" width=\\\"1\\\"></image></g><g><rect x=\\\"5\\\" y=\\\"1\\\" class=\\\"light-square\\\" height=\\\"1\\\" width=\\\"1\\\"></rect><image x=\\\"5\\\" xlink:href=\\\"https://raw.githubusercontent.com/romstad/Chess.jl/master/img/bp.svg\\\" y=\\\"1\\\" height=\\\"1\\\" width=\\\"1\\\"></image></g><g><rect x=\\\"5\\\" y=\\\"2\\\" class=\\\"dark-square\\\" height=\\\"1\\\" width=\\\"1\\\"></rect><image x=\\\"5\\\" xlink:href=\\\"https://raw.githubusercontent.com/romstad/Chess.jl/master/img/bq.svg\\\" y=\\\"2\\\" height=\\\"1\\\" width=\\\"1\\\"></image></g><g><rect x=\\\"5\\\" y=\\\"3\\\" class=\\\"light-square\\\" height=\\\"1\\\" width=\\\"1\\\"></rect><g></g></g><g><rect x=\\\"5\\\" y=\\\"4\\\" class=\\\"dark-square\\\" height=\\\"1\\\" width=\\\"1\\\"></rect><g></g></g><g><rect x=\\\"5\\\" y=\\\"5\\\" class=\\\"light-square\\\" height=\\\"1\\\" width=\\\"1\\\"></rect><g></g></g><g><rect x=\\\"5\\\" y=\\\"6\\\" class=\\\"dark-square\\\" height=\\\"1\\\" width=\\\"1\\\"></rect><image x=\\\"5\\\" xlink:href=\\\"https://raw.githubusercontent.com/romstad/Chess.jl/master/img/wp.svg\\\" y=\\\"6\\\" height=\\\"1\\\" width=\\\"1\\\"></image></g><g><rect x=\\\"5\\\" y=\\\"7\\\" class=\\\"light-square\\\" height=\\\"1\\\" width=\\\"1\\\"></rect><image x=\\\"5\\\" xlink:href=\\\"https://raw.githubusercontent.com/romstad/Chess.jl/master/img/wb.svg\\\" y=\\\"7\\\" height=\\\"1\\\" width=\\\"1\\\"></image></g><g><rect x=\\\"6\\\" y=\\\"0\\\" class=\\\"light-square\\\" height=\\\"1\\\" width=\\\"1\\\"></rect><image x=\\\"6\\\" xlink:href=\\\"https://raw.githubusercontent.com/romstad/Chess.jl/master/img/bn.svg\\\" y=\\\"0\\\" height=\\\"1\\\" width=\\\"1\\\"></image></g><g><rect x=\\\"6\\\" y=\\\"1\\\" class=\\\"dark-square\\\" height=\\\"1\\\" width=\\\"1\\\"></rect><image x=\\\"6\\\" xlink:href=\\\"https://raw.githubusercontent.com/romstad/Chess.jl/master/img/bp.svg\\\" y=\\\"1\\\" height=\\\"1\\\" width=\\\"1\\\"></image></g><g><rect x=\\\"6\\\" y=\\\"2\\\" class=\\\"light-square\\\" height=\\\"1\\\" width=\\\"1\\\"></rect><g></g></g><g><rect x=\\\"6\\\" y=\\\"3\\\" class=\\\"dark-square\\\" height=\\\"1\\\" width=\\\"1\\\"></rect><g></g></g><g><rect x=\\\"6\\\" y=\\\"4\\\" class=\\\"light-square\\\" height=\\\"1\\\" width=\\\"1\\\"></rect><g></g></g><g><rect x=\\\"6\\\" y=\\\"5\\\" class=\\\"dark-square\\\" height=\\\"1\\\" width=\\\"1\\\"></rect><g></g></g><g><rect x=\\\"6\\\" y=\\\"6\\\" class=\\\"light-square\\\" height=\\\"1\\\" width=\\\"1\\\"></rect><image x=\\\"6\\\" xlink:href=\\\"https://raw.githubusercontent.com/romstad/Chess.jl/master/img/wp.svg\\\" y=\\\"6\\\" height=\\\"1\\\" width=\\\"1\\\"></image></g><g><rect x=\\\"6\\\" y=\\\"7\\\" class=\\\"dark-square\\\" height=\\\"1\\\" width=\\\"1\\\"></rect><image x=\\\"6\\\" xlink:href=\\\"https://raw.githubusercontent.com/romstad/Chess.jl/master/img/wn.svg\\\" y=\\\"7\\\" height=\\\"1\\\" width=\\\"1\\\"></image></g><g><rect x=\\\"7\\\" y=\\\"0\\\" class=\\\"dark-square\\\" height=\\\"1\\\" width=\\\"1\\\"></rect><image x=\\\"7\\\" xlink:href=\\\"https://raw.githubusercontent.com/romstad/Chess.jl/master/img/br.svg\\\" y=\\\"0\\\" height=\\\"1\\\" width=\\\"1\\\"></image></g><g><rect x=\\\"7\\\" y=\\\"1\\\" class=\\\"light-square\\\" height=\\\"1\\\" width=\\\"1\\\"></rect><image x=\\\"7\\\" xlink:href=\\\"https://raw.githubusercontent.com/romstad/Chess.jl/master/img/bp.svg\\\" y=\\\"1\\\" height=\\\"1\\\" width=\\\"1\\\"></image></g><g><rect x=\\\"7\\\" y=\\\"2\\\" class=\\\"dark-square\\\" height=\\\"1\\\" width=\\\"1\\\"></rect><g></g></g><g><rect x=\\\"7\\\" y=\\\"3\\\" class=\\\"light-square\\\" height=\\\"1\\\" width=\\\"1\\\"></rect><g></g></g><g><rect x=\\\"7\\\" y=\\\"4\\\" class=\\\"dark-square\\\" height=\\\"1\\\" width=\\\"1\\\"></rect><g></g></g><g><rect x=\\\"7\\\" y=\\\"5\\\" class=\\\"light-square\\\" height=\\\"1\\\" width=\\\"1\\\"></rect><g></g></g><g><rect x=\\\"7\\\" y=\\\"6\\\" class=\\\"dark-square\\\" height=\\\"1\\\" width=\\\"1\\\"></rect><image x=\\\"7\\\" xlink:href=\\\"https://raw.githubusercontent.com/romstad/Chess.jl/master/img/wp.svg\\\" y=\\\"6\\\" height=\\\"1\\\" width=\\\"1\\\"></image></g><g><rect x=\\\"7\\\" y=\\\"7\\\" class=\\\"light-square\\\" height=\\\"1\\\" width=\\\"1\\\"></rect><image x=\\\"7\\\" xlink:href=\\\"https://raw.githubusercontent.com/romstad/Chess.jl/master/img/wr.svg\\\" y=\\\"7\\\" height=\\\"1\\\" width=\\\"1\\\"></image></g></g><g></g></svg><div><p>White to move</p><p>Castle rights: KQkq</p><p><a href=\\\"https://lichess.org/editor/rnb1kbnr/pppp1ppp/5q2/8/3QP3/2P5/PP3PPP/RNB1KBNR_w_KQkq_-\\\" target=\\\"_blank\\\">Open in lichess</a></p></div></div>\")"
      ]
     },
     "metadata": {},
     "output_type": "display_data"
    },
    {
     "name": "stdout",
     "output_type": "stream",
     "text": [
      "Third Repetition\n"
     ]
    },
    {
     "data": {
      "text/html": [
       "Board:<div class=\"chessboard\"><style soped=\"true\">.dark-square {\n",
       "    fill: #c3936a;\n",
       "    stroke-width: 0;\n",
       "}\n",
       ".light-square {\n",
       "    fill: #ffd7a6;\n",
       "    stroke-width: 0;\n",
       "}\n",
       ".highlight {\n",
       "    fill: #47d18b;\n",
       "}\n",
       "@media (prefers-color-scheme: dark) {\n",
       "    .dark-square {\n",
       "        fill: #00796b;\n",
       "    }\n",
       "    .light-square {\n",
       "        fill: #3ca59b;\n",
       "    }\n",
       "    .highlight {\n",
       "        fill: #d23600;\n",
       "    }\n",
       "}\n",
       "</style><svg style=\"float: left; margin-right: 20px\" viewBox=\"0 0 8 8\" height=\"280\" width=\"280\"><g><g><rect x=\"0\" y=\"0\" class=\"light-square\" height=\"1\" width=\"1\"></rect><image x=\"0\" xlink:href=\"https://raw.githubusercontent.com/romstad/Chess.jl/master/img/br.svg\" y=\"0\" height=\"1\" width=\"1\"></image></g><g><rect x=\"0\" y=\"1\" class=\"dark-square\" height=\"1\" width=\"1\"></rect><image x=\"0\" xlink:href=\"https://raw.githubusercontent.com/romstad/Chess.jl/master/img/bp.svg\" y=\"1\" height=\"1\" width=\"1\"></image></g><g><rect x=\"0\" y=\"2\" class=\"light-square\" height=\"1\" width=\"1\"></rect><g></g></g><g><rect x=\"0\" y=\"3\" class=\"dark-square\" height=\"1\" width=\"1\"></rect><g></g></g><g><rect x=\"0\" y=\"4\" class=\"light-square\" height=\"1\" width=\"1\"></rect><g></g></g><g><rect x=\"0\" y=\"5\" class=\"dark-square\" height=\"1\" width=\"1\"></rect><g></g></g><g><rect x=\"0\" y=\"6\" class=\"light-square\" height=\"1\" width=\"1\"></rect><image x=\"0\" xlink:href=\"https://raw.githubusercontent.com/romstad/Chess.jl/master/img/wp.svg\" y=\"6\" height=\"1\" width=\"1\"></image></g><g><rect x=\"0\" y=\"7\" class=\"dark-square\" height=\"1\" width=\"1\"></rect><image x=\"0\" xlink:href=\"https://raw.githubusercontent.com/romstad/Chess.jl/master/img/wr.svg\" y=\"7\" height=\"1\" width=\"1\"></image></g><g><rect x=\"1\" y=\"0\" class=\"dark-square\" height=\"1\" width=\"1\"></rect><image x=\"1\" xlink:href=\"https://raw.githubusercontent.com/romstad/Chess.jl/master/img/bn.svg\" y=\"0\" height=\"1\" width=\"1\"></image></g><g><rect x=\"1\" y=\"1\" class=\"light-square\" height=\"1\" width=\"1\"></rect><image x=\"1\" xlink:href=\"https://raw.githubusercontent.com/romstad/Chess.jl/master/img/bp.svg\" y=\"1\" height=\"1\" width=\"1\"></image></g><g><rect x=\"1\" y=\"2\" class=\"dark-square\" height=\"1\" width=\"1\"></rect><g></g></g><g><rect x=\"1\" y=\"3\" class=\"light-square\" height=\"1\" width=\"1\"></rect><g></g></g><g><rect x=\"1\" y=\"4\" class=\"dark-square\" height=\"1\" width=\"1\"></rect><g></g></g><g><rect x=\"1\" y=\"5\" class=\"light-square\" height=\"1\" width=\"1\"></rect><g></g></g><g><rect x=\"1\" y=\"6\" class=\"dark-square\" height=\"1\" width=\"1\"></rect><image x=\"1\" xlink:href=\"https://raw.githubusercontent.com/romstad/Chess.jl/master/img/wp.svg\" y=\"6\" height=\"1\" width=\"1\"></image></g><g><rect x=\"1\" y=\"7\" class=\"light-square\" height=\"1\" width=\"1\"></rect><image x=\"1\" xlink:href=\"https://raw.githubusercontent.com/romstad/Chess.jl/master/img/wn.svg\" y=\"7\" height=\"1\" width=\"1\"></image></g><g><rect x=\"2\" y=\"0\" class=\"light-square\" height=\"1\" width=\"1\"></rect><image x=\"2\" xlink:href=\"https://raw.githubusercontent.com/romstad/Chess.jl/master/img/bb.svg\" y=\"0\" height=\"1\" width=\"1\"></image></g><g><rect x=\"2\" y=\"1\" class=\"dark-square\" height=\"1\" width=\"1\"></rect><image x=\"2\" xlink:href=\"https://raw.githubusercontent.com/romstad/Chess.jl/master/img/bp.svg\" y=\"1\" height=\"1\" width=\"1\"></image></g><g><rect x=\"2\" y=\"2\" class=\"light-square\" height=\"1\" width=\"1\"></rect><g></g></g><g><rect x=\"2\" y=\"3\" class=\"dark-square\" height=\"1\" width=\"1\"></rect><g></g></g><g><rect x=\"2\" y=\"4\" class=\"light-square\" height=\"1\" width=\"1\"></rect><g></g></g><g><rect x=\"2\" y=\"5\" class=\"dark-square\" height=\"1\" width=\"1\"></rect><image x=\"2\" xlink:href=\"https://raw.githubusercontent.com/romstad/Chess.jl/master/img/wp.svg\" y=\"5\" height=\"1\" width=\"1\"></image></g><g><rect x=\"2\" y=\"6\" class=\"light-square\" height=\"1\" width=\"1\"></rect><g></g></g><g><rect x=\"2\" y=\"7\" class=\"dark-square\" height=\"1\" width=\"1\"></rect><image x=\"2\" xlink:href=\"https://raw.githubusercontent.com/romstad/Chess.jl/master/img/wb.svg\" y=\"7\" height=\"1\" width=\"1\"></image></g><g><rect x=\"3\" y=\"0\" class=\"dark-square\" height=\"1\" width=\"1\"></rect><g></g></g><g><rect x=\"3\" y=\"1\" class=\"light-square\" height=\"1\" width=\"1\"></rect><image x=\"3\" xlink:href=\"https://raw.githubusercontent.com/romstad/Chess.jl/master/img/bp.svg\" y=\"1\" height=\"1\" width=\"1\"></image></g><g><rect x=\"3\" y=\"2\" class=\"dark-square\" height=\"1\" width=\"1\"></rect><g></g></g><g><rect x=\"3\" y=\"3\" class=\"light-square\" height=\"1\" width=\"1\"></rect><g></g></g><g><rect x=\"3\" y=\"4\" class=\"dark-square\" height=\"1\" width=\"1\"></rect><image x=\"3\" xlink:href=\"https://raw.githubusercontent.com/romstad/Chess.jl/master/img/wq.svg\" y=\"4\" height=\"1\" width=\"1\"></image></g><g><rect x=\"3\" y=\"5\" class=\"light-square\" height=\"1\" width=\"1\"></rect><g></g></g><g><rect x=\"3\" y=\"6\" class=\"dark-square\" height=\"1\" width=\"1\"></rect><g></g></g><g><rect x=\"3\" y=\"7\" class=\"light-square\" height=\"1\" width=\"1\"></rect><g></g></g><g><rect x=\"4\" y=\"0\" class=\"light-square\" height=\"1\" width=\"1\"></rect><image x=\"4\" xlink:href=\"https://raw.githubusercontent.com/romstad/Chess.jl/master/img/bk.svg\" y=\"0\" height=\"1\" width=\"1\"></image></g><g><rect x=\"4\" y=\"1\" class=\"dark-square\" height=\"1\" width=\"1\"></rect><g></g></g><g><rect x=\"4\" y=\"2\" class=\"light-square\" height=\"1\" width=\"1\"></rect><g></g></g><g><rect x=\"4\" y=\"3\" class=\"dark-square\" height=\"1\" width=\"1\"></rect><g></g></g><g><rect x=\"4\" y=\"4\" class=\"light-square\" height=\"1\" width=\"1\"></rect><image x=\"4\" xlink:href=\"https://raw.githubusercontent.com/romstad/Chess.jl/master/img/wp.svg\" y=\"4\" height=\"1\" width=\"1\"></image></g><g><rect x=\"4\" y=\"5\" class=\"dark-square\" height=\"1\" width=\"1\"></rect><g></g></g><g><rect x=\"4\" y=\"6\" class=\"light-square\" height=\"1\" width=\"1\"></rect><g></g></g><g><rect x=\"4\" y=\"7\" class=\"dark-square\" height=\"1\" width=\"1\"></rect><image x=\"4\" xlink:href=\"https://raw.githubusercontent.com/romstad/Chess.jl/master/img/wk.svg\" y=\"7\" height=\"1\" width=\"1\"></image></g><g><rect x=\"5\" y=\"0\" class=\"dark-square\" height=\"1\" width=\"1\"></rect><image x=\"5\" xlink:href=\"https://raw.githubusercontent.com/romstad/Chess.jl/master/img/bb.svg\" y=\"0\" height=\"1\" width=\"1\"></image></g><g><rect x=\"5\" y=\"1\" class=\"light-square\" height=\"1\" width=\"1\"></rect><image x=\"5\" xlink:href=\"https://raw.githubusercontent.com/romstad/Chess.jl/master/img/bp.svg\" y=\"1\" height=\"1\" width=\"1\"></image></g><g><rect x=\"5\" y=\"2\" class=\"dark-square\" height=\"1\" width=\"1\"></rect><image x=\"5\" xlink:href=\"https://raw.githubusercontent.com/romstad/Chess.jl/master/img/bq.svg\" y=\"2\" height=\"1\" width=\"1\"></image></g><g><rect x=\"5\" y=\"3\" class=\"light-square\" height=\"1\" width=\"1\"></rect><g></g></g><g><rect x=\"5\" y=\"4\" class=\"dark-square\" height=\"1\" width=\"1\"></rect><g></g></g><g><rect x=\"5\" y=\"5\" class=\"light-square\" height=\"1\" width=\"1\"></rect><g></g></g><g><rect x=\"5\" y=\"6\" class=\"dark-square\" height=\"1\" width=\"1\"></rect><image x=\"5\" xlink:href=\"https://raw.githubusercontent.com/romstad/Chess.jl/master/img/wp.svg\" y=\"6\" height=\"1\" width=\"1\"></image></g><g><rect x=\"5\" y=\"7\" class=\"light-square\" height=\"1\" width=\"1\"></rect><image x=\"5\" xlink:href=\"https://raw.githubusercontent.com/romstad/Chess.jl/master/img/wb.svg\" y=\"7\" height=\"1\" width=\"1\"></image></g><g><rect x=\"6\" y=\"0\" class=\"light-square\" height=\"1\" width=\"1\"></rect><image x=\"6\" xlink:href=\"https://raw.githubusercontent.com/romstad/Chess.jl/master/img/bn.svg\" y=\"0\" height=\"1\" width=\"1\"></image></g><g><rect x=\"6\" y=\"1\" class=\"dark-square\" height=\"1\" width=\"1\"></rect><image x=\"6\" xlink:href=\"https://raw.githubusercontent.com/romstad/Chess.jl/master/img/bp.svg\" y=\"1\" height=\"1\" width=\"1\"></image></g><g><rect x=\"6\" y=\"2\" class=\"light-square\" height=\"1\" width=\"1\"></rect><g></g></g><g><rect x=\"6\" y=\"3\" class=\"dark-square\" height=\"1\" width=\"1\"></rect><g></g></g><g><rect x=\"6\" y=\"4\" class=\"light-square\" height=\"1\" width=\"1\"></rect><g></g></g><g><rect x=\"6\" y=\"5\" class=\"dark-square\" height=\"1\" width=\"1\"></rect><g></g></g><g><rect x=\"6\" y=\"6\" class=\"light-square\" height=\"1\" width=\"1\"></rect><image x=\"6\" xlink:href=\"https://raw.githubusercontent.com/romstad/Chess.jl/master/img/wp.svg\" y=\"6\" height=\"1\" width=\"1\"></image></g><g><rect x=\"6\" y=\"7\" class=\"dark-square\" height=\"1\" width=\"1\"></rect><image x=\"6\" xlink:href=\"https://raw.githubusercontent.com/romstad/Chess.jl/master/img/wn.svg\" y=\"7\" height=\"1\" width=\"1\"></image></g><g><rect x=\"7\" y=\"0\" class=\"dark-square\" height=\"1\" width=\"1\"></rect><image x=\"7\" xlink:href=\"https://raw.githubusercontent.com/romstad/Chess.jl/master/img/br.svg\" y=\"0\" height=\"1\" width=\"1\"></image></g><g><rect x=\"7\" y=\"1\" class=\"light-square\" height=\"1\" width=\"1\"></rect><image x=\"7\" xlink:href=\"https://raw.githubusercontent.com/romstad/Chess.jl/master/img/bp.svg\" y=\"1\" height=\"1\" width=\"1\"></image></g><g><rect x=\"7\" y=\"2\" class=\"dark-square\" height=\"1\" width=\"1\"></rect><g></g></g><g><rect x=\"7\" y=\"3\" class=\"light-square\" height=\"1\" width=\"1\"></rect><g></g></g><g><rect x=\"7\" y=\"4\" class=\"dark-square\" height=\"1\" width=\"1\"></rect><g></g></g><g><rect x=\"7\" y=\"5\" class=\"light-square\" height=\"1\" width=\"1\"></rect><g></g></g><g><rect x=\"7\" y=\"6\" class=\"dark-square\" height=\"1\" width=\"1\"></rect><image x=\"7\" xlink:href=\"https://raw.githubusercontent.com/romstad/Chess.jl/master/img/wp.svg\" y=\"6\" height=\"1\" width=\"1\"></image></g><g><rect x=\"7\" y=\"7\" class=\"light-square\" height=\"1\" width=\"1\"></rect><image x=\"7\" xlink:href=\"https://raw.githubusercontent.com/romstad/Chess.jl/master/img/wr.svg\" y=\"7\" height=\"1\" width=\"1\"></image></g></g><g></g></svg><div><p>White to move</p><p>Castle rights: KQkq</p><p><a href=\"https://lichess.org/editor/rnb1kbnr/pppp1ppp/5q2/8/3QP3/2P5/PP3PPP/RNB1KBNR_w_KQkq_-\" target=\"_blank\">Open in lichess</a></p></div></div>"
      ],
      "text/plain": [
       "HTML{String}(\"Board:<div class=\\\"chessboard\\\"><style soped=\\\"true\\\">.dark-square {\\n    fill: #c3936a;\\n    stroke-width: 0;\\n}\\n.light-square {\\n    fill: #ffd7a6;\\n    stroke-width: 0;\\n}\\n.highlight {\\n    fill: #47d18b;\\n}\\n@media (prefers-color-scheme: dark) {\\n    .dark-square {\\n        fill: #00796b;\\n    }\\n    .light-square {\\n        fill: #3ca59b;\\n    }\\n    .highlight {\\n        fill: #d23600;\\n    }\\n}\\n</style><svg style=\\\"float: left; margin-right: 20px\\\" viewBox=\\\"0 0 8 8\\\" height=\\\"280\\\" width=\\\"280\\\"><g><g><rect x=\\\"0\\\" y=\\\"0\\\" class=\\\"light-square\\\" height=\\\"1\\\" width=\\\"1\\\"></rect><image x=\\\"0\\\" xlink:href=\\\"https://raw.githubusercontent.com/romstad/Chess.jl/master/img/br.svg\\\" y=\\\"0\\\" height=\\\"1\\\" width=\\\"1\\\"></image></g><g><rect x=\\\"0\\\" y=\\\"1\\\" class=\\\"dark-square\\\" height=\\\"1\\\" width=\\\"1\\\"></rect><image x=\\\"0\\\" xlink:href=\\\"https://raw.githubusercontent.com/romstad/Chess.jl/master/img/bp.svg\\\" y=\\\"1\\\" height=\\\"1\\\" width=\\\"1\\\"></image></g><g><rect x=\\\"0\\\" y=\\\"2\\\" class=\\\"light-square\\\" height=\\\"1\\\" width=\\\"1\\\"></rect><g></g></g><g><rect x=\\\"0\\\" y=\\\"3\\\" class=\\\"dark-square\\\" height=\\\"1\\\" width=\\\"1\\\"></rect><g></g></g><g><rect x=\\\"0\\\" y=\\\"4\\\" class=\\\"light-square\\\" height=\\\"1\\\" width=\\\"1\\\"></rect><g></g></g><g><rect x=\\\"0\\\" y=\\\"5\\\" class=\\\"dark-square\\\" height=\\\"1\\\" width=\\\"1\\\"></rect><g></g></g><g><rect x=\\\"0\\\" y=\\\"6\\\" class=\\\"light-square\\\" height=\\\"1\\\" width=\\\"1\\\"></rect><image x=\\\"0\\\" xlink:href=\\\"https://raw.githubusercontent.com/romstad/Chess.jl/master/img/wp.svg\\\" y=\\\"6\\\" height=\\\"1\\\" width=\\\"1\\\"></image></g><g><rect x=\\\"0\\\" y=\\\"7\\\" class=\\\"dark-square\\\" height=\\\"1\\\" width=\\\"1\\\"></rect><image x=\\\"0\\\" xlink:href=\\\"https://raw.githubusercontent.com/romstad/Chess.jl/master/img/wr.svg\\\" y=\\\"7\\\" height=\\\"1\\\" width=\\\"1\\\"></image></g><g><rect x=\\\"1\\\" y=\\\"0\\\" class=\\\"dark-square\\\" height=\\\"1\\\" width=\\\"1\\\"></rect><image x=\\\"1\\\" xlink:href=\\\"https://raw.githubusercontent.com/romstad/Chess.jl/master/img/bn.svg\\\" y=\\\"0\\\" height=\\\"1\\\" width=\\\"1\\\"></image></g><g><rect x=\\\"1\\\" y=\\\"1\\\" class=\\\"light-square\\\" height=\\\"1\\\" width=\\\"1\\\"></rect><image x=\\\"1\\\" xlink:href=\\\"https://raw.githubusercontent.com/romstad/Chess.jl/master/img/bp.svg\\\" y=\\\"1\\\" height=\\\"1\\\" width=\\\"1\\\"></image></g><g><rect x=\\\"1\\\" y=\\\"2\\\" class=\\\"dark-square\\\" height=\\\"1\\\" width=\\\"1\\\"></rect><g></g></g><g><rect x=\\\"1\\\" y=\\\"3\\\" class=\\\"light-square\\\" height=\\\"1\\\" width=\\\"1\\\"></rect><g></g></g><g><rect x=\\\"1\\\" y=\\\"4\\\" class=\\\"dark-square\\\" height=\\\"1\\\" width=\\\"1\\\"></rect><g></g></g><g><rect x=\\\"1\\\" y=\\\"5\\\" class=\\\"light-square\\\" height=\\\"1\\\" width=\\\"1\\\"></rect><g></g></g><g><rect x=\\\"1\\\" y=\\\"6\\\" class=\\\"dark-square\\\" height=\\\"1\\\" width=\\\"1\\\"></rect><image x=\\\"1\\\" xlink:href=\\\"https://raw.githubusercontent.com/romstad/Chess.jl/master/img/wp.svg\\\" y=\\\"6\\\" height=\\\"1\\\" width=\\\"1\\\"></image></g><g><rect x=\\\"1\\\" y=\\\"7\\\" class=\\\"light-square\\\" height=\\\"1\\\" width=\\\"1\\\"></rect><image x=\\\"1\\\" xlink:href=\\\"https://raw.githubusercontent.com/romstad/Chess.jl/master/img/wn.svg\\\" y=\\\"7\\\" height=\\\"1\\\" width=\\\"1\\\"></image></g><g><rect x=\\\"2\\\" y=\\\"0\\\" class=\\\"light-square\\\" height=\\\"1\\\" width=\\\"1\\\"></rect><image x=\\\"2\\\" xlink:href=\\\"https://raw.githubusercontent.com/romstad/Chess.jl/master/img/bb.svg\\\" y=\\\"0\\\" height=\\\"1\\\" width=\\\"1\\\"></image></g><g><rect x=\\\"2\\\" y=\\\"1\\\" class=\\\"dark-square\\\" height=\\\"1\\\" width=\\\"1\\\"></rect><image x=\\\"2\\\" xlink:href=\\\"https://raw.githubusercontent.com/romstad/Chess.jl/master/img/bp.svg\\\" y=\\\"1\\\" height=\\\"1\\\" width=\\\"1\\\"></image></g><g><rect x=\\\"2\\\" y=\\\"2\\\" class=\\\"light-square\\\" height=\\\"1\\\" width=\\\"1\\\"></rect><g></g></g><g><rect x=\\\"2\\\" y=\\\"3\\\" class=\\\"dark-square\\\" height=\\\"1\\\" width=\\\"1\\\"></rect><g></g></g><g><rect x=\\\"2\\\" y=\\\"4\\\" class=\\\"light-square\\\" height=\\\"1\\\" width=\\\"1\\\"></rect><g></g></g><g><rect x=\\\"2\\\" y=\\\"5\\\" class=\\\"dark-square\\\" height=\\\"1\\\" width=\\\"1\\\"></rect><image x=\\\"2\\\" xlink:href=\\\"https://raw.githubusercontent.com/romstad/Chess.jl/master/img/wp.svg\\\" y=\\\"5\\\" height=\\\"1\\\" width=\\\"1\\\"></image></g><g><rect x=\\\"2\\\" y=\\\"6\\\" class=\\\"light-square\\\" height=\\\"1\\\" width=\\\"1\\\"></rect><g></g></g><g><rect x=\\\"2\\\" y=\\\"7\\\" class=\\\"dark-square\\\" height=\\\"1\\\" width=\\\"1\\\"></rect><image x=\\\"2\\\" xlink:href=\\\"https://raw.githubusercontent.com/romstad/Chess.jl/master/img/wb.svg\\\" y=\\\"7\\\" height=\\\"1\\\" width=\\\"1\\\"></image></g><g><rect x=\\\"3\\\" y=\\\"0\\\" class=\\\"dark-square\\\" height=\\\"1\\\" width=\\\"1\\\"></rect><g></g></g><g><rect x=\\\"3\\\" y=\\\"1\\\" class=\\\"light-square\\\" height=\\\"1\\\" width=\\\"1\\\"></rect><image x=\\\"3\\\" xlink:href=\\\"https://raw.githubusercontent.com/romstad/Chess.jl/master/img/bp.svg\\\" y=\\\"1\\\" height=\\\"1\\\" width=\\\"1\\\"></image></g><g><rect x=\\\"3\\\" y=\\\"2\\\" class=\\\"dark-square\\\" height=\\\"1\\\" width=\\\"1\\\"></rect><g></g></g><g><rect x=\\\"3\\\" y=\\\"3\\\" class=\\\"light-square\\\" height=\\\"1\\\" width=\\\"1\\\"></rect><g></g></g><g><rect x=\\\"3\\\" y=\\\"4\\\" class=\\\"dark-square\\\" height=\\\"1\\\" width=\\\"1\\\"></rect><image x=\\\"3\\\" xlink:href=\\\"https://raw.githubusercontent.com/romstad/Chess.jl/master/img/wq.svg\\\" y=\\\"4\\\" height=\\\"1\\\" width=\\\"1\\\"></image></g><g><rect x=\\\"3\\\" y=\\\"5\\\" class=\\\"light-square\\\" height=\\\"1\\\" width=\\\"1\\\"></rect><g></g></g><g><rect x=\\\"3\\\" y=\\\"6\\\" class=\\\"dark-square\\\" height=\\\"1\\\" width=\\\"1\\\"></rect><g></g></g><g><rect x=\\\"3\\\" y=\\\"7\\\" class=\\\"light-square\\\" height=\\\"1\\\" width=\\\"1\\\"></rect><g></g></g><g><rect x=\\\"4\\\" y=\\\"0\\\" class=\\\"light-square\\\" height=\\\"1\\\" width=\\\"1\\\"></rect><image x=\\\"4\\\" xlink:href=\\\"https://raw.githubusercontent.com/romstad/Chess.jl/master/img/bk.svg\\\" y=\\\"0\\\" height=\\\"1\\\" width=\\\"1\\\"></image></g><g><rect x=\\\"4\\\" y=\\\"1\\\" class=\\\"dark-square\\\" height=\\\"1\\\" width=\\\"1\\\"></rect><g></g></g><g><rect x=\\\"4\\\" y=\\\"2\\\" class=\\\"light-square\\\" height=\\\"1\\\" width=\\\"1\\\"></rect><g></g></g><g><rect x=\\\"4\\\" y=\\\"3\\\" class=\\\"dark-square\\\" height=\\\"1\\\" width=\\\"1\\\"></rect><g></g></g><g><rect x=\\\"4\\\" y=\\\"4\\\" class=\\\"light-square\\\" height=\\\"1\\\" width=\\\"1\\\"></rect><image x=\\\"4\\\" xlink:href=\\\"https://raw.githubusercontent.com/romstad/Chess.jl/master/img/wp.svg\\\" y=\\\"4\\\" height=\\\"1\\\" width=\\\"1\\\"></image></g><g><rect x=\\\"4\\\" y=\\\"5\\\" class=\\\"dark-square\\\" height=\\\"1\\\" width=\\\"1\\\"></rect><g></g></g><g><rect x=\\\"4\\\" y=\\\"6\\\" class=\\\"light-square\\\" height=\\\"1\\\" width=\\\"1\\\"></rect><g></g></g><g><rect x=\\\"4\\\" y=\\\"7\\\" class=\\\"dark-square\\\" height=\\\"1\\\" width=\\\"1\\\"></rect><image x=\\\"4\\\" xlink:href=\\\"https://raw.githubusercontent.com/romstad/Chess.jl/master/img/wk.svg\\\" y=\\\"7\\\" height=\\\"1\\\" width=\\\"1\\\"></image></g><g><rect x=\\\"5\\\" y=\\\"0\\\" class=\\\"dark-square\\\" height=\\\"1\\\" width=\\\"1\\\"></rect><image x=\\\"5\\\" xlink:href=\\\"https://raw.githubusercontent.com/romstad/Chess.jl/master/img/bb.svg\\\" y=\\\"0\\\" height=\\\"1\\\" width=\\\"1\\\"></image></g><g><rect x=\\\"5\\\" y=\\\"1\\\" class=\\\"light-square\\\" height=\\\"1\\\" width=\\\"1\\\"></rect><image x=\\\"5\\\" xlink:href=\\\"https://raw.githubusercontent.com/romstad/Chess.jl/master/img/bp.svg\\\" y=\\\"1\\\" height=\\\"1\\\" width=\\\"1\\\"></image></g><g><rect x=\\\"5\\\" y=\\\"2\\\" class=\\\"dark-square\\\" height=\\\"1\\\" width=\\\"1\\\"></rect><image x=\\\"5\\\" xlink:href=\\\"https://raw.githubusercontent.com/romstad/Chess.jl/master/img/bq.svg\\\" y=\\\"2\\\" height=\\\"1\\\" width=\\\"1\\\"></image></g><g><rect x=\\\"5\\\" y=\\\"3\\\" class=\\\"light-square\\\" height=\\\"1\\\" width=\\\"1\\\"></rect><g></g></g><g><rect x=\\\"5\\\" y=\\\"4\\\" class=\\\"dark-square\\\" height=\\\"1\\\" width=\\\"1\\\"></rect><g></g></g><g><rect x=\\\"5\\\" y=\\\"5\\\" class=\\\"light-square\\\" height=\\\"1\\\" width=\\\"1\\\"></rect><g></g></g><g><rect x=\\\"5\\\" y=\\\"6\\\" class=\\\"dark-square\\\" height=\\\"1\\\" width=\\\"1\\\"></rect><image x=\\\"5\\\" xlink:href=\\\"https://raw.githubusercontent.com/romstad/Chess.jl/master/img/wp.svg\\\" y=\\\"6\\\" height=\\\"1\\\" width=\\\"1\\\"></image></g><g><rect x=\\\"5\\\" y=\\\"7\\\" class=\\\"light-square\\\" height=\\\"1\\\" width=\\\"1\\\"></rect><image x=\\\"5\\\" xlink:href=\\\"https://raw.githubusercontent.com/romstad/Chess.jl/master/img/wb.svg\\\" y=\\\"7\\\" height=\\\"1\\\" width=\\\"1\\\"></image></g><g><rect x=\\\"6\\\" y=\\\"0\\\" class=\\\"light-square\\\" height=\\\"1\\\" width=\\\"1\\\"></rect><image x=\\\"6\\\" xlink:href=\\\"https://raw.githubusercontent.com/romstad/Chess.jl/master/img/bn.svg\\\" y=\\\"0\\\" height=\\\"1\\\" width=\\\"1\\\"></image></g><g><rect x=\\\"6\\\" y=\\\"1\\\" class=\\\"dark-square\\\" height=\\\"1\\\" width=\\\"1\\\"></rect><image x=\\\"6\\\" xlink:href=\\\"https://raw.githubusercontent.com/romstad/Chess.jl/master/img/bp.svg\\\" y=\\\"1\\\" height=\\\"1\\\" width=\\\"1\\\"></image></g><g><rect x=\\\"6\\\" y=\\\"2\\\" class=\\\"light-square\\\" height=\\\"1\\\" width=\\\"1\\\"></rect><g></g></g><g><rect x=\\\"6\\\" y=\\\"3\\\" class=\\\"dark-square\\\" height=\\\"1\\\" width=\\\"1\\\"></rect><g></g></g><g><rect x=\\\"6\\\" y=\\\"4\\\" class=\\\"light-square\\\" height=\\\"1\\\" width=\\\"1\\\"></rect><g></g></g><g><rect x=\\\"6\\\" y=\\\"5\\\" class=\\\"dark-square\\\" height=\\\"1\\\" width=\\\"1\\\"></rect><g></g></g><g><rect x=\\\"6\\\" y=\\\"6\\\" class=\\\"light-square\\\" height=\\\"1\\\" width=\\\"1\\\"></rect><image x=\\\"6\\\" xlink:href=\\\"https://raw.githubusercontent.com/romstad/Chess.jl/master/img/wp.svg\\\" y=\\\"6\\\" height=\\\"1\\\" width=\\\"1\\\"></image></g><g><rect x=\\\"6\\\" y=\\\"7\\\" class=\\\"dark-square\\\" height=\\\"1\\\" width=\\\"1\\\"></rect><image x=\\\"6\\\" xlink:href=\\\"https://raw.githubusercontent.com/romstad/Chess.jl/master/img/wn.svg\\\" y=\\\"7\\\" height=\\\"1\\\" width=\\\"1\\\"></image></g><g><rect x=\\\"7\\\" y=\\\"0\\\" class=\\\"dark-square\\\" height=\\\"1\\\" width=\\\"1\\\"></rect><image x=\\\"7\\\" xlink:href=\\\"https://raw.githubusercontent.com/romstad/Chess.jl/master/img/br.svg\\\" y=\\\"0\\\" height=\\\"1\\\" width=\\\"1\\\"></image></g><g><rect x=\\\"7\\\" y=\\\"1\\\" class=\\\"light-square\\\" height=\\\"1\\\" width=\\\"1\\\"></rect><image x=\\\"7\\\" xlink:href=\\\"https://raw.githubusercontent.com/romstad/Chess.jl/master/img/bp.svg\\\" y=\\\"1\\\" height=\\\"1\\\" width=\\\"1\\\"></image></g><g><rect x=\\\"7\\\" y=\\\"2\\\" class=\\\"dark-square\\\" height=\\\"1\\\" width=\\\"1\\\"></rect><g></g></g><g><rect x=\\\"7\\\" y=\\\"3\\\" class=\\\"light-square\\\" height=\\\"1\\\" width=\\\"1\\\"></rect><g></g></g><g><rect x=\\\"7\\\" y=\\\"4\\\" class=\\\"dark-square\\\" height=\\\"1\\\" width=\\\"1\\\"></rect><g></g></g><g><rect x=\\\"7\\\" y=\\\"5\\\" class=\\\"light-square\\\" height=\\\"1\\\" width=\\\"1\\\"></rect><g></g></g><g><rect x=\\\"7\\\" y=\\\"6\\\" class=\\\"dark-square\\\" height=\\\"1\\\" width=\\\"1\\\"></rect><image x=\\\"7\\\" xlink:href=\\\"https://raw.githubusercontent.com/romstad/Chess.jl/master/img/wp.svg\\\" y=\\\"6\\\" height=\\\"1\\\" width=\\\"1\\\"></image></g><g><rect x=\\\"7\\\" y=\\\"7\\\" class=\\\"light-square\\\" height=\\\"1\\\" width=\\\"1\\\"></rect><image x=\\\"7\\\" xlink:href=\\\"https://raw.githubusercontent.com/romstad/Chess.jl/master/img/wr.svg\\\" y=\\\"7\\\" height=\\\"1\\\" width=\\\"1\\\"></image></g></g><g></g></svg><div><p>White to move</p><p>Castle rights: KQkq</p><p><a href=\\\"https://lichess.org/editor/rnb1kbnr/pppp1ppp/5q2/8/3QP3/2P5/PP3PPP/RNB1KBNR_w_KQkq_-\\\" target=\\\"_blank\\\">Open in lichess</a></p></div></div>\")"
      ]
     },
     "metadata": {},
     "output_type": "display_data"
    }
   ],
   "source": [
    "board = Chess.fromfen(\"rnb1kbnr/pppp1ppp/5q2/8/3QP3/2P5/PP3PPP/RNB1KBNR w KQkq -\")\n",
    "extboard = ExtendedBoard(board)\n",
    "\n",
    "println(\"Initial State\")\n",
    "IJulia.display(HTML(IJulia.html(board)))\n",
    "\n",
    "# first visit of position -> ok\n",
    "@assert !extboard.repetitionRuleDraw \n",
    "\n",
    "# white move, black move\n",
    "domove!(extboard, Chess.movefromstring(\"d4d5\"))\n",
    "@assert !extboard.repetitionRuleDraw \n",
    "domove!(extboard, Chess.movefromstring(\"f6e6\"))\n",
    "@assert !extboard.repetitionRuleDraw\n",
    "\n",
    "# reverse both moves\n",
    "domove!(extboard, Chess.movefromstring(\"d5d4\"))\n",
    "@assert !extboard.repetitionRuleDraw\n",
    "domove!(extboard, Chess.movefromstring(\"e6f6\"))\n",
    "# second visit of position -> ok\n",
    "@assert !extboard.repetitionRuleDraw\n",
    "\n",
    "# white move, black move\n",
    "domove!(extboard, Chess.movefromstring(\"d4d5\"))\n",
    "@assert !extboard.repetitionRuleDraw\n",
    "domove!(extboard, Chess.movefromstring(\"f6e6\"))\n",
    "@assert !extboard.repetitionRuleDraw\n",
    "\n",
    "# reverse both moves\n",
    "domove!(extboard, Chess.movefromstring(\"d5d4\"))\n",
    "@assert !extboard.repetitionRuleDraw\n",
    "domove!(extboard, Chess.movefromstring(\"e6f6\"))\n",
    "# third visit of position -> draw\n",
    "@assert extboard.repetitionRuleDraw\n",
    "\n",
    "println(\"Third Repetition\")\n",
    "board"
   ]
  },
  {
   "cell_type": "markdown",
   "id": "2ba1e7ef",
   "metadata": {},
   "source": [
    "Durchführung des gleichen Tests in dem implementieren Spiel."
   ]
  },
  {
   "cell_type": "code",
   "execution_count": 8,
   "id": "40220e23",
   "metadata": {},
   "outputs": [
    {
     "data": {
      "text/plain": [
       "getNextMove (generic function with 1 method)"
      ]
     },
     "execution_count": 8,
     "metadata": {},
     "output_type": "execute_result"
    }
   ],
   "source": [
    "struct MoveBot\n",
    "    moves::Array{String}\n",
    "end\n",
    "\n",
    "function getNextMove(bot::MoveBot, extboard::ExtendedBoard)::Chess.Move\n",
    "    return Chess.movefromstring(pop!(bot.moves))\n",
    "end"
   ]
  },
  {
   "cell_type": "code",
   "execution_count": 15,
   "id": "6b16e551",
   "metadata": {},
   "outputs": [
    {
     "data": {
      "text/plain": [
       "saveGame (generic function with 1 method)"
      ]
     },
     "execution_count": 15,
     "metadata": {},
     "output_type": "execute_result"
    }
   ],
   "source": [
    "@nbinclude \"2.0 - Gameplay.ipynb\""
   ]
  },
  {
   "cell_type": "code",
   "execution_count": 17,
   "id": "733186e0",
   "metadata": {
    "scrolled": true
   },
   "outputs": [
    {
     "name": "stdout",
     "output_type": "stream",
     "text": [
      "rnb1kbnr/pppp1ppp/5q2/8/3QP3/2P5/PP3PPP/RNB1KBNR w KQkq -\n"
     ]
    },
    {
     "data": {
      "text/html": [
       "Board:<div class=\"chessboard\"><style soped=\"true\">.dark-square {\n",
       "    fill: #c3936a;\n",
       "    stroke-width: 0;\n",
       "}\n",
       ".light-square {\n",
       "    fill: #ffd7a6;\n",
       "    stroke-width: 0;\n",
       "}\n",
       ".highlight {\n",
       "    fill: #47d18b;\n",
       "}\n",
       "@media (prefers-color-scheme: dark) {\n",
       "    .dark-square {\n",
       "        fill: #00796b;\n",
       "    }\n",
       "    .light-square {\n",
       "        fill: #3ca59b;\n",
       "    }\n",
       "    .highlight {\n",
       "        fill: #d23600;\n",
       "    }\n",
       "}\n",
       "</style><svg style=\"float: left; margin-right: 20px\" viewBox=\"0 0 8 8\" height=\"280\" width=\"280\"><g><g><rect x=\"0\" y=\"0\" class=\"light-square\" height=\"1\" width=\"1\"></rect><image x=\"0\" xlink:href=\"https://raw.githubusercontent.com/romstad/Chess.jl/master/img/br.svg\" y=\"0\" height=\"1\" width=\"1\"></image></g><g><rect x=\"0\" y=\"1\" class=\"dark-square\" height=\"1\" width=\"1\"></rect><image x=\"0\" xlink:href=\"https://raw.githubusercontent.com/romstad/Chess.jl/master/img/bp.svg\" y=\"1\" height=\"1\" width=\"1\"></image></g><g><rect x=\"0\" y=\"2\" class=\"light-square\" height=\"1\" width=\"1\"></rect><g></g></g><g><rect x=\"0\" y=\"3\" class=\"dark-square\" height=\"1\" width=\"1\"></rect><g></g></g><g><rect x=\"0\" y=\"4\" class=\"light-square\" height=\"1\" width=\"1\"></rect><g></g></g><g><rect x=\"0\" y=\"5\" class=\"dark-square\" height=\"1\" width=\"1\"></rect><g></g></g><g><rect x=\"0\" y=\"6\" class=\"light-square\" height=\"1\" width=\"1\"></rect><image x=\"0\" xlink:href=\"https://raw.githubusercontent.com/romstad/Chess.jl/master/img/wp.svg\" y=\"6\" height=\"1\" width=\"1\"></image></g><g><rect x=\"0\" y=\"7\" class=\"dark-square\" height=\"1\" width=\"1\"></rect><image x=\"0\" xlink:href=\"https://raw.githubusercontent.com/romstad/Chess.jl/master/img/wr.svg\" y=\"7\" height=\"1\" width=\"1\"></image></g><g><rect x=\"1\" y=\"0\" class=\"dark-square\" height=\"1\" width=\"1\"></rect><image x=\"1\" xlink:href=\"https://raw.githubusercontent.com/romstad/Chess.jl/master/img/bn.svg\" y=\"0\" height=\"1\" width=\"1\"></image></g><g><rect x=\"1\" y=\"1\" class=\"light-square\" height=\"1\" width=\"1\"></rect><image x=\"1\" xlink:href=\"https://raw.githubusercontent.com/romstad/Chess.jl/master/img/bp.svg\" y=\"1\" height=\"1\" width=\"1\"></image></g><g><rect x=\"1\" y=\"2\" class=\"dark-square\" height=\"1\" width=\"1\"></rect><g></g></g><g><rect x=\"1\" y=\"3\" class=\"light-square\" height=\"1\" width=\"1\"></rect><g></g></g><g><rect x=\"1\" y=\"4\" class=\"dark-square\" height=\"1\" width=\"1\"></rect><g></g></g><g><rect x=\"1\" y=\"5\" class=\"light-square\" height=\"1\" width=\"1\"></rect><g></g></g><g><rect x=\"1\" y=\"6\" class=\"dark-square\" height=\"1\" width=\"1\"></rect><image x=\"1\" xlink:href=\"https://raw.githubusercontent.com/romstad/Chess.jl/master/img/wp.svg\" y=\"6\" height=\"1\" width=\"1\"></image></g><g><rect x=\"1\" y=\"7\" class=\"light-square\" height=\"1\" width=\"1\"></rect><image x=\"1\" xlink:href=\"https://raw.githubusercontent.com/romstad/Chess.jl/master/img/wn.svg\" y=\"7\" height=\"1\" width=\"1\"></image></g><g><rect x=\"2\" y=\"0\" class=\"light-square\" height=\"1\" width=\"1\"></rect><image x=\"2\" xlink:href=\"https://raw.githubusercontent.com/romstad/Chess.jl/master/img/bb.svg\" y=\"0\" height=\"1\" width=\"1\"></image></g><g><rect x=\"2\" y=\"1\" class=\"dark-square\" height=\"1\" width=\"1\"></rect><image x=\"2\" xlink:href=\"https://raw.githubusercontent.com/romstad/Chess.jl/master/img/bp.svg\" y=\"1\" height=\"1\" width=\"1\"></image></g><g><rect x=\"2\" y=\"2\" class=\"light-square\" height=\"1\" width=\"1\"></rect><g></g></g><g><rect x=\"2\" y=\"3\" class=\"dark-square\" height=\"1\" width=\"1\"></rect><g></g></g><g><rect x=\"2\" y=\"4\" class=\"light-square\" height=\"1\" width=\"1\"></rect><g></g></g><g><rect x=\"2\" y=\"5\" class=\"dark-square\" height=\"1\" width=\"1\"></rect><image x=\"2\" xlink:href=\"https://raw.githubusercontent.com/romstad/Chess.jl/master/img/wp.svg\" y=\"5\" height=\"1\" width=\"1\"></image></g><g><rect x=\"2\" y=\"6\" class=\"light-square\" height=\"1\" width=\"1\"></rect><g></g></g><g><rect x=\"2\" y=\"7\" class=\"dark-square\" height=\"1\" width=\"1\"></rect><image x=\"2\" xlink:href=\"https://raw.githubusercontent.com/romstad/Chess.jl/master/img/wb.svg\" y=\"7\" height=\"1\" width=\"1\"></image></g><g><rect x=\"3\" y=\"0\" class=\"dark-square\" height=\"1\" width=\"1\"></rect><g></g></g><g><rect x=\"3\" y=\"1\" class=\"light-square\" height=\"1\" width=\"1\"></rect><image x=\"3\" xlink:href=\"https://raw.githubusercontent.com/romstad/Chess.jl/master/img/bp.svg\" y=\"1\" height=\"1\" width=\"1\"></image></g><g><rect x=\"3\" y=\"2\" class=\"dark-square\" height=\"1\" width=\"1\"></rect><g></g></g><g><rect x=\"3\" y=\"3\" class=\"light-square\" height=\"1\" width=\"1\"></rect><g></g></g><g><rect x=\"3\" y=\"4\" class=\"dark-square\" height=\"1\" width=\"1\"></rect><image x=\"3\" xlink:href=\"https://raw.githubusercontent.com/romstad/Chess.jl/master/img/wq.svg\" y=\"4\" height=\"1\" width=\"1\"></image></g><g><rect x=\"3\" y=\"5\" class=\"light-square\" height=\"1\" width=\"1\"></rect><g></g></g><g><rect x=\"3\" y=\"6\" class=\"dark-square\" height=\"1\" width=\"1\"></rect><g></g></g><g><rect x=\"3\" y=\"7\" class=\"light-square\" height=\"1\" width=\"1\"></rect><g></g></g><g><rect x=\"4\" y=\"0\" class=\"light-square\" height=\"1\" width=\"1\"></rect><image x=\"4\" xlink:href=\"https://raw.githubusercontent.com/romstad/Chess.jl/master/img/bk.svg\" y=\"0\" height=\"1\" width=\"1\"></image></g><g><rect x=\"4\" y=\"1\" class=\"dark-square\" height=\"1\" width=\"1\"></rect><g></g></g><g><rect x=\"4\" y=\"2\" class=\"light-square\" height=\"1\" width=\"1\"></rect><g></g></g><g><rect x=\"4\" y=\"3\" class=\"dark-square\" height=\"1\" width=\"1\"></rect><g></g></g><g><rect x=\"4\" y=\"4\" class=\"light-square\" height=\"1\" width=\"1\"></rect><image x=\"4\" xlink:href=\"https://raw.githubusercontent.com/romstad/Chess.jl/master/img/wp.svg\" y=\"4\" height=\"1\" width=\"1\"></image></g><g><rect x=\"4\" y=\"5\" class=\"dark-square\" height=\"1\" width=\"1\"></rect><g></g></g><g><rect x=\"4\" y=\"6\" class=\"light-square\" height=\"1\" width=\"1\"></rect><g></g></g><g><rect x=\"4\" y=\"7\" class=\"dark-square\" height=\"1\" width=\"1\"></rect><image x=\"4\" xlink:href=\"https://raw.githubusercontent.com/romstad/Chess.jl/master/img/wk.svg\" y=\"7\" height=\"1\" width=\"1\"></image></g><g><rect x=\"5\" y=\"0\" class=\"dark-square\" height=\"1\" width=\"1\"></rect><image x=\"5\" xlink:href=\"https://raw.githubusercontent.com/romstad/Chess.jl/master/img/bb.svg\" y=\"0\" height=\"1\" width=\"1\"></image></g><g><rect x=\"5\" y=\"1\" class=\"light-square\" height=\"1\" width=\"1\"></rect><image x=\"5\" xlink:href=\"https://raw.githubusercontent.com/romstad/Chess.jl/master/img/bp.svg\" y=\"1\" height=\"1\" width=\"1\"></image></g><g><rect x=\"5\" y=\"2\" class=\"dark-square\" height=\"1\" width=\"1\"></rect><image x=\"5\" xlink:href=\"https://raw.githubusercontent.com/romstad/Chess.jl/master/img/bq.svg\" y=\"2\" height=\"1\" width=\"1\"></image></g><g><rect x=\"5\" y=\"3\" class=\"light-square\" height=\"1\" width=\"1\"></rect><g></g></g><g><rect x=\"5\" y=\"4\" class=\"dark-square\" height=\"1\" width=\"1\"></rect><g></g></g><g><rect x=\"5\" y=\"5\" class=\"light-square\" height=\"1\" width=\"1\"></rect><g></g></g><g><rect x=\"5\" y=\"6\" class=\"dark-square\" height=\"1\" width=\"1\"></rect><image x=\"5\" xlink:href=\"https://raw.githubusercontent.com/romstad/Chess.jl/master/img/wp.svg\" y=\"6\" height=\"1\" width=\"1\"></image></g><g><rect x=\"5\" y=\"7\" class=\"light-square\" height=\"1\" width=\"1\"></rect><image x=\"5\" xlink:href=\"https://raw.githubusercontent.com/romstad/Chess.jl/master/img/wb.svg\" y=\"7\" height=\"1\" width=\"1\"></image></g><g><rect x=\"6\" y=\"0\" class=\"light-square\" height=\"1\" width=\"1\"></rect><image x=\"6\" xlink:href=\"https://raw.githubusercontent.com/romstad/Chess.jl/master/img/bn.svg\" y=\"0\" height=\"1\" width=\"1\"></image></g><g><rect x=\"6\" y=\"1\" class=\"dark-square\" height=\"1\" width=\"1\"></rect><image x=\"6\" xlink:href=\"https://raw.githubusercontent.com/romstad/Chess.jl/master/img/bp.svg\" y=\"1\" height=\"1\" width=\"1\"></image></g><g><rect x=\"6\" y=\"2\" class=\"light-square\" height=\"1\" width=\"1\"></rect><g></g></g><g><rect x=\"6\" y=\"3\" class=\"dark-square\" height=\"1\" width=\"1\"></rect><g></g></g><g><rect x=\"6\" y=\"4\" class=\"light-square\" height=\"1\" width=\"1\"></rect><g></g></g><g><rect x=\"6\" y=\"5\" class=\"dark-square\" height=\"1\" width=\"1\"></rect><g></g></g><g><rect x=\"6\" y=\"6\" class=\"light-square\" height=\"1\" width=\"1\"></rect><image x=\"6\" xlink:href=\"https://raw.githubusercontent.com/romstad/Chess.jl/master/img/wp.svg\" y=\"6\" height=\"1\" width=\"1\"></image></g><g><rect x=\"6\" y=\"7\" class=\"dark-square\" height=\"1\" width=\"1\"></rect><image x=\"6\" xlink:href=\"https://raw.githubusercontent.com/romstad/Chess.jl/master/img/wn.svg\" y=\"7\" height=\"1\" width=\"1\"></image></g><g><rect x=\"7\" y=\"0\" class=\"dark-square\" height=\"1\" width=\"1\"></rect><image x=\"7\" xlink:href=\"https://raw.githubusercontent.com/romstad/Chess.jl/master/img/br.svg\" y=\"0\" height=\"1\" width=\"1\"></image></g><g><rect x=\"7\" y=\"1\" class=\"light-square\" height=\"1\" width=\"1\"></rect><image x=\"7\" xlink:href=\"https://raw.githubusercontent.com/romstad/Chess.jl/master/img/bp.svg\" y=\"1\" height=\"1\" width=\"1\"></image></g><g><rect x=\"7\" y=\"2\" class=\"dark-square\" height=\"1\" width=\"1\"></rect><g></g></g><g><rect x=\"7\" y=\"3\" class=\"light-square\" height=\"1\" width=\"1\"></rect><g></g></g><g><rect x=\"7\" y=\"4\" class=\"dark-square\" height=\"1\" width=\"1\"></rect><g></g></g><g><rect x=\"7\" y=\"5\" class=\"light-square\" height=\"1\" width=\"1\"></rect><g></g></g><g><rect x=\"7\" y=\"6\" class=\"dark-square\" height=\"1\" width=\"1\"></rect><image x=\"7\" xlink:href=\"https://raw.githubusercontent.com/romstad/Chess.jl/master/img/wp.svg\" y=\"6\" height=\"1\" width=\"1\"></image></g><g><rect x=\"7\" y=\"7\" class=\"light-square\" height=\"1\" width=\"1\"></rect><image x=\"7\" xlink:href=\"https://raw.githubusercontent.com/romstad/Chess.jl/master/img/wr.svg\" y=\"7\" height=\"1\" width=\"1\"></image></g></g><g></g></svg><div><p>White to move</p><p>Castle rights: KQkq</p><p><a href=\"https://lichess.org/editor/rnb1kbnr/pppp1ppp/5q2/8/3QP3/2P5/PP3PPP/RNB1KBNR_w_KQkq_-\" target=\"_blank\">Open in lichess</a></p></div></div>"
      ],
      "text/plain": [
       "HTML{String}(\"Board:<div class=\\\"chessboard\\\"><style soped=\\\"true\\\">.dark-square {\\n    fill: #c3936a;\\n    stroke-width: 0;\\n}\\n.light-square {\\n    fill: #ffd7a6;\\n    stroke-width: 0;\\n}\\n.highlight {\\n    fill: #47d18b;\\n}\\n@media (prefers-color-scheme: dark) {\\n    .dark-square {\\n        fill: #00796b;\\n    }\\n    .light-square {\\n        fill: #3ca59b;\\n    }\\n    .highlight {\\n        fill: #d23600;\\n    }\\n}\\n</style><svg style=\\\"float: left; margin-right: 20px\\\" viewBox=\\\"0 0 8 8\\\" height=\\\"280\\\" width=\\\"280\\\"><g><g><rect x=\\\"0\\\" y=\\\"0\\\" class=\\\"light-square\\\" height=\\\"1\\\" width=\\\"1\\\"></rect><image x=\\\"0\\\" xlink:href=\\\"https://raw.githubusercontent.com/romstad/Chess.jl/master/img/br.svg\\\" y=\\\"0\\\" height=\\\"1\\\" width=\\\"1\\\"></image></g><g><rect x=\\\"0\\\" y=\\\"1\\\" class=\\\"dark-square\\\" height=\\\"1\\\" width=\\\"1\\\"></rect><image x=\\\"0\\\" xlink:href=\\\"https://raw.githubusercontent.com/romstad/Chess.jl/master/img/bp.svg\\\" y=\\\"1\\\" height=\\\"1\\\" width=\\\"1\\\"></image></g><g><rect x=\\\"0\\\" y=\\\"2\\\" class=\\\"light-square\\\" height=\\\"1\\\" width=\\\"1\\\"></rect><g></g></g><g><rect x=\\\"0\\\" y=\\\"3\\\" class=\\\"dark-square\\\" height=\\\"1\\\" width=\\\"1\\\"></rect><g></g></g><g><rect x=\\\"0\\\" y=\\\"4\\\" class=\\\"light-square\\\" height=\\\"1\\\" width=\\\"1\\\"></rect><g></g></g><g><rect x=\\\"0\\\" y=\\\"5\\\" class=\\\"dark-square\\\" height=\\\"1\\\" width=\\\"1\\\"></rect><g></g></g><g><rect x=\\\"0\\\" y=\\\"6\\\" class=\\\"light-square\\\" height=\\\"1\\\" width=\\\"1\\\"></rect><image x=\\\"0\\\" xlink:href=\\\"https://raw.githubusercontent.com/romstad/Chess.jl/master/img/wp.svg\\\" y=\\\"6\\\" height=\\\"1\\\" width=\\\"1\\\"></image></g><g><rect x=\\\"0\\\" y=\\\"7\\\" class=\\\"dark-square\\\" height=\\\"1\\\" width=\\\"1\\\"></rect><image x=\\\"0\\\" xlink:href=\\\"https://raw.githubusercontent.com/romstad/Chess.jl/master/img/wr.svg\\\" y=\\\"7\\\" height=\\\"1\\\" width=\\\"1\\\"></image></g><g><rect x=\\\"1\\\" y=\\\"0\\\" class=\\\"dark-square\\\" height=\\\"1\\\" width=\\\"1\\\"></rect><image x=\\\"1\\\" xlink:href=\\\"https://raw.githubusercontent.com/romstad/Chess.jl/master/img/bn.svg\\\" y=\\\"0\\\" height=\\\"1\\\" width=\\\"1\\\"></image></g><g><rect x=\\\"1\\\" y=\\\"1\\\" class=\\\"light-square\\\" height=\\\"1\\\" width=\\\"1\\\"></rect><image x=\\\"1\\\" xlink:href=\\\"https://raw.githubusercontent.com/romstad/Chess.jl/master/img/bp.svg\\\" y=\\\"1\\\" height=\\\"1\\\" width=\\\"1\\\"></image></g><g><rect x=\\\"1\\\" y=\\\"2\\\" class=\\\"dark-square\\\" height=\\\"1\\\" width=\\\"1\\\"></rect><g></g></g><g><rect x=\\\"1\\\" y=\\\"3\\\" class=\\\"light-square\\\" height=\\\"1\\\" width=\\\"1\\\"></rect><g></g></g><g><rect x=\\\"1\\\" y=\\\"4\\\" class=\\\"dark-square\\\" height=\\\"1\\\" width=\\\"1\\\"></rect><g></g></g><g><rect x=\\\"1\\\" y=\\\"5\\\" class=\\\"light-square\\\" height=\\\"1\\\" width=\\\"1\\\"></rect><g></g></g><g><rect x=\\\"1\\\" y=\\\"6\\\" class=\\\"dark-square\\\" height=\\\"1\\\" width=\\\"1\\\"></rect><image x=\\\"1\\\" xlink:href=\\\"https://raw.githubusercontent.com/romstad/Chess.jl/master/img/wp.svg\\\" y=\\\"6\\\" height=\\\"1\\\" width=\\\"1\\\"></image></g><g><rect x=\\\"1\\\" y=\\\"7\\\" class=\\\"light-square\\\" height=\\\"1\\\" width=\\\"1\\\"></rect><image x=\\\"1\\\" xlink:href=\\\"https://raw.githubusercontent.com/romstad/Chess.jl/master/img/wn.svg\\\" y=\\\"7\\\" height=\\\"1\\\" width=\\\"1\\\"></image></g><g><rect x=\\\"2\\\" y=\\\"0\\\" class=\\\"light-square\\\" height=\\\"1\\\" width=\\\"1\\\"></rect><image x=\\\"2\\\" xlink:href=\\\"https://raw.githubusercontent.com/romstad/Chess.jl/master/img/bb.svg\\\" y=\\\"0\\\" height=\\\"1\\\" width=\\\"1\\\"></image></g><g><rect x=\\\"2\\\" y=\\\"1\\\" class=\\\"dark-square\\\" height=\\\"1\\\" width=\\\"1\\\"></rect><image x=\\\"2\\\" xlink:href=\\\"https://raw.githubusercontent.com/romstad/Chess.jl/master/img/bp.svg\\\" y=\\\"1\\\" height=\\\"1\\\" width=\\\"1\\\"></image></g><g><rect x=\\\"2\\\" y=\\\"2\\\" class=\\\"light-square\\\" height=\\\"1\\\" width=\\\"1\\\"></rect><g></g></g><g><rect x=\\\"2\\\" y=\\\"3\\\" class=\\\"dark-square\\\" height=\\\"1\\\" width=\\\"1\\\"></rect><g></g></g><g><rect x=\\\"2\\\" y=\\\"4\\\" class=\\\"light-square\\\" height=\\\"1\\\" width=\\\"1\\\"></rect><g></g></g><g><rect x=\\\"2\\\" y=\\\"5\\\" class=\\\"dark-square\\\" height=\\\"1\\\" width=\\\"1\\\"></rect><image x=\\\"2\\\" xlink:href=\\\"https://raw.githubusercontent.com/romstad/Chess.jl/master/img/wp.svg\\\" y=\\\"5\\\" height=\\\"1\\\" width=\\\"1\\\"></image></g><g><rect x=\\\"2\\\" y=\\\"6\\\" class=\\\"light-square\\\" height=\\\"1\\\" width=\\\"1\\\"></rect><g></g></g><g><rect x=\\\"2\\\" y=\\\"7\\\" class=\\\"dark-square\\\" height=\\\"1\\\" width=\\\"1\\\"></rect><image x=\\\"2\\\" xlink:href=\\\"https://raw.githubusercontent.com/romstad/Chess.jl/master/img/wb.svg\\\" y=\\\"7\\\" height=\\\"1\\\" width=\\\"1\\\"></image></g><g><rect x=\\\"3\\\" y=\\\"0\\\" class=\\\"dark-square\\\" height=\\\"1\\\" width=\\\"1\\\"></rect><g></g></g><g><rect x=\\\"3\\\" y=\\\"1\\\" class=\\\"light-square\\\" height=\\\"1\\\" width=\\\"1\\\"></rect><image x=\\\"3\\\" xlink:href=\\\"https://raw.githubusercontent.com/romstad/Chess.jl/master/img/bp.svg\\\" y=\\\"1\\\" height=\\\"1\\\" width=\\\"1\\\"></image></g><g><rect x=\\\"3\\\" y=\\\"2\\\" class=\\\"dark-square\\\" height=\\\"1\\\" width=\\\"1\\\"></rect><g></g></g><g><rect x=\\\"3\\\" y=\\\"3\\\" class=\\\"light-square\\\" height=\\\"1\\\" width=\\\"1\\\"></rect><g></g></g><g><rect x=\\\"3\\\" y=\\\"4\\\" class=\\\"dark-square\\\" height=\\\"1\\\" width=\\\"1\\\"></rect><image x=\\\"3\\\" xlink:href=\\\"https://raw.githubusercontent.com/romstad/Chess.jl/master/img/wq.svg\\\" y=\\\"4\\\" height=\\\"1\\\" width=\\\"1\\\"></image></g><g><rect x=\\\"3\\\" y=\\\"5\\\" class=\\\"light-square\\\" height=\\\"1\\\" width=\\\"1\\\"></rect><g></g></g><g><rect x=\\\"3\\\" y=\\\"6\\\" class=\\\"dark-square\\\" height=\\\"1\\\" width=\\\"1\\\"></rect><g></g></g><g><rect x=\\\"3\\\" y=\\\"7\\\" class=\\\"light-square\\\" height=\\\"1\\\" width=\\\"1\\\"></rect><g></g></g><g><rect x=\\\"4\\\" y=\\\"0\\\" class=\\\"light-square\\\" height=\\\"1\\\" width=\\\"1\\\"></rect><image x=\\\"4\\\" xlink:href=\\\"https://raw.githubusercontent.com/romstad/Chess.jl/master/img/bk.svg\\\" y=\\\"0\\\" height=\\\"1\\\" width=\\\"1\\\"></image></g><g><rect x=\\\"4\\\" y=\\\"1\\\" class=\\\"dark-square\\\" height=\\\"1\\\" width=\\\"1\\\"></rect><g></g></g><g><rect x=\\\"4\\\" y=\\\"2\\\" class=\\\"light-square\\\" height=\\\"1\\\" width=\\\"1\\\"></rect><g></g></g><g><rect x=\\\"4\\\" y=\\\"3\\\" class=\\\"dark-square\\\" height=\\\"1\\\" width=\\\"1\\\"></rect><g></g></g><g><rect x=\\\"4\\\" y=\\\"4\\\" class=\\\"light-square\\\" height=\\\"1\\\" width=\\\"1\\\"></rect><image x=\\\"4\\\" xlink:href=\\\"https://raw.githubusercontent.com/romstad/Chess.jl/master/img/wp.svg\\\" y=\\\"4\\\" height=\\\"1\\\" width=\\\"1\\\"></image></g><g><rect x=\\\"4\\\" y=\\\"5\\\" class=\\\"dark-square\\\" height=\\\"1\\\" width=\\\"1\\\"></rect><g></g></g><g><rect x=\\\"4\\\" y=\\\"6\\\" class=\\\"light-square\\\" height=\\\"1\\\" width=\\\"1\\\"></rect><g></g></g><g><rect x=\\\"4\\\" y=\\\"7\\\" class=\\\"dark-square\\\" height=\\\"1\\\" width=\\\"1\\\"></rect><image x=\\\"4\\\" xlink:href=\\\"https://raw.githubusercontent.com/romstad/Chess.jl/master/img/wk.svg\\\" y=\\\"7\\\" height=\\\"1\\\" width=\\\"1\\\"></image></g><g><rect x=\\\"5\\\" y=\\\"0\\\" class=\\\"dark-square\\\" height=\\\"1\\\" width=\\\"1\\\"></rect><image x=\\\"5\\\" xlink:href=\\\"https://raw.githubusercontent.com/romstad/Chess.jl/master/img/bb.svg\\\" y=\\\"0\\\" height=\\\"1\\\" width=\\\"1\\\"></image></g><g><rect x=\\\"5\\\" y=\\\"1\\\" class=\\\"light-square\\\" height=\\\"1\\\" width=\\\"1\\\"></rect><image x=\\\"5\\\" xlink:href=\\\"https://raw.githubusercontent.com/romstad/Chess.jl/master/img/bp.svg\\\" y=\\\"1\\\" height=\\\"1\\\" width=\\\"1\\\"></image></g><g><rect x=\\\"5\\\" y=\\\"2\\\" class=\\\"dark-square\\\" height=\\\"1\\\" width=\\\"1\\\"></rect><image x=\\\"5\\\" xlink:href=\\\"https://raw.githubusercontent.com/romstad/Chess.jl/master/img/bq.svg\\\" y=\\\"2\\\" height=\\\"1\\\" width=\\\"1\\\"></image></g><g><rect x=\\\"5\\\" y=\\\"3\\\" class=\\\"light-square\\\" height=\\\"1\\\" width=\\\"1\\\"></rect><g></g></g><g><rect x=\\\"5\\\" y=\\\"4\\\" class=\\\"dark-square\\\" height=\\\"1\\\" width=\\\"1\\\"></rect><g></g></g><g><rect x=\\\"5\\\" y=\\\"5\\\" class=\\\"light-square\\\" height=\\\"1\\\" width=\\\"1\\\"></rect><g></g></g><g><rect x=\\\"5\\\" y=\\\"6\\\" class=\\\"dark-square\\\" height=\\\"1\\\" width=\\\"1\\\"></rect><image x=\\\"5\\\" xlink:href=\\\"https://raw.githubusercontent.com/romstad/Chess.jl/master/img/wp.svg\\\" y=\\\"6\\\" height=\\\"1\\\" width=\\\"1\\\"></image></g><g><rect x=\\\"5\\\" y=\\\"7\\\" class=\\\"light-square\\\" height=\\\"1\\\" width=\\\"1\\\"></rect><image x=\\\"5\\\" xlink:href=\\\"https://raw.githubusercontent.com/romstad/Chess.jl/master/img/wb.svg\\\" y=\\\"7\\\" height=\\\"1\\\" width=\\\"1\\\"></image></g><g><rect x=\\\"6\\\" y=\\\"0\\\" class=\\\"light-square\\\" height=\\\"1\\\" width=\\\"1\\\"></rect><image x=\\\"6\\\" xlink:href=\\\"https://raw.githubusercontent.com/romstad/Chess.jl/master/img/bn.svg\\\" y=\\\"0\\\" height=\\\"1\\\" width=\\\"1\\\"></image></g><g><rect x=\\\"6\\\" y=\\\"1\\\" class=\\\"dark-square\\\" height=\\\"1\\\" width=\\\"1\\\"></rect><image x=\\\"6\\\" xlink:href=\\\"https://raw.githubusercontent.com/romstad/Chess.jl/master/img/bp.svg\\\" y=\\\"1\\\" height=\\\"1\\\" width=\\\"1\\\"></image></g><g><rect x=\\\"6\\\" y=\\\"2\\\" class=\\\"light-square\\\" height=\\\"1\\\" width=\\\"1\\\"></rect><g></g></g><g><rect x=\\\"6\\\" y=\\\"3\\\" class=\\\"dark-square\\\" height=\\\"1\\\" width=\\\"1\\\"></rect><g></g></g><g><rect x=\\\"6\\\" y=\\\"4\\\" class=\\\"light-square\\\" height=\\\"1\\\" width=\\\"1\\\"></rect><g></g></g><g><rect x=\\\"6\\\" y=\\\"5\\\" class=\\\"dark-square\\\" height=\\\"1\\\" width=\\\"1\\\"></rect><g></g></g><g><rect x=\\\"6\\\" y=\\\"6\\\" class=\\\"light-square\\\" height=\\\"1\\\" width=\\\"1\\\"></rect><image x=\\\"6\\\" xlink:href=\\\"https://raw.githubusercontent.com/romstad/Chess.jl/master/img/wp.svg\\\" y=\\\"6\\\" height=\\\"1\\\" width=\\\"1\\\"></image></g><g><rect x=\\\"6\\\" y=\\\"7\\\" class=\\\"dark-square\\\" height=\\\"1\\\" width=\\\"1\\\"></rect><image x=\\\"6\\\" xlink:href=\\\"https://raw.githubusercontent.com/romstad/Chess.jl/master/img/wn.svg\\\" y=\\\"7\\\" height=\\\"1\\\" width=\\\"1\\\"></image></g><g><rect x=\\\"7\\\" y=\\\"0\\\" class=\\\"dark-square\\\" height=\\\"1\\\" width=\\\"1\\\"></rect><image x=\\\"7\\\" xlink:href=\\\"https://raw.githubusercontent.com/romstad/Chess.jl/master/img/br.svg\\\" y=\\\"0\\\" height=\\\"1\\\" width=\\\"1\\\"></image></g><g><rect x=\\\"7\\\" y=\\\"1\\\" class=\\\"light-square\\\" height=\\\"1\\\" width=\\\"1\\\"></rect><image x=\\\"7\\\" xlink:href=\\\"https://raw.githubusercontent.com/romstad/Chess.jl/master/img/bp.svg\\\" y=\\\"1\\\" height=\\\"1\\\" width=\\\"1\\\"></image></g><g><rect x=\\\"7\\\" y=\\\"2\\\" class=\\\"dark-square\\\" height=\\\"1\\\" width=\\\"1\\\"></rect><g></g></g><g><rect x=\\\"7\\\" y=\\\"3\\\" class=\\\"light-square\\\" height=\\\"1\\\" width=\\\"1\\\"></rect><g></g></g><g><rect x=\\\"7\\\" y=\\\"4\\\" class=\\\"dark-square\\\" height=\\\"1\\\" width=\\\"1\\\"></rect><g></g></g><g><rect x=\\\"7\\\" y=\\\"5\\\" class=\\\"light-square\\\" height=\\\"1\\\" width=\\\"1\\\"></rect><g></g></g><g><rect x=\\\"7\\\" y=\\\"6\\\" class=\\\"dark-square\\\" height=\\\"1\\\" width=\\\"1\\\"></rect><image x=\\\"7\\\" xlink:href=\\\"https://raw.githubusercontent.com/romstad/Chess.jl/master/img/wp.svg\\\" y=\\\"6\\\" height=\\\"1\\\" width=\\\"1\\\"></image></g><g><rect x=\\\"7\\\" y=\\\"7\\\" class=\\\"light-square\\\" height=\\\"1\\\" width=\\\"1\\\"></rect><image x=\\\"7\\\" xlink:href=\\\"https://raw.githubusercontent.com/romstad/Chess.jl/master/img/wr.svg\\\" y=\\\"7\\\" height=\\\"1\\\" width=\\\"1\\\"></image></g></g><g></g></svg><div><p>White to move</p><p>Castle rights: KQkq</p><p><a href=\\\"https://lichess.org/editor/rnb1kbnr/pppp1ppp/5q2/8/3QP3/2P5/PP3PPP/RNB1KBNR_w_KQkq_-\\\" target=\\\"_blank\\\">Open in lichess</a></p></div></div>\")"
      ]
     },
     "metadata": {},
     "output_type": "display_data"
    },
    {
     "name": "stdout",
     "output_type": "stream",
     "text": [
      "Last Move: Move(e6f6)\n",
      "Saved game to games/2023-05-27T12-29-09.065.pgn\n",
      "Draw (Repetition Rule)\n"
     ]
    }
   ],
   "source": [
    "fen = \"rnb1kbnr/pppp1ppp/5q2/8/3QP3/2P5/PP3PPP/RNB1KBNR w KQkq -\"\n",
    "\n",
    "whiteBot = MoveBot(reverse([\"d4d5\", \"d5d4\", \"d4d5\", \"d5d4\"]))\n",
    "blackBot = MoveBot(reverse([\"f6e6\", \"e6f6\", \"f6e6\", \"e6f6\"]))\n",
    "        \n",
    "@assert play(white = whiteBot, black = blackBot, fen = fen) == Draw"
   ]
  },
  {
   "cell_type": "markdown",
   "id": "48064e45",
   "metadata": {},
   "source": [
    "Weitere Tests, z.B. ob die KIs ein Wiederholungs-Unentschieden erkennen, werden in den entsprechenden Notebooks durchgeführt."
   ]
  },
  {
   "cell_type": "markdown",
   "id": "2a5f04a3",
   "metadata": {},
   "source": [
    "***"
   ]
  }
 ],
 "metadata": {
  "kernelspec": {
   "display_name": "Julia 1.8.5",
   "language": "julia",
   "name": "julia-1.8"
  },
  "language_info": {
   "file_extension": ".jl",
   "mimetype": "application/julia",
   "name": "julia",
   "version": "1.8.5"
  }
 },
 "nbformat": 4,
 "nbformat_minor": 5
}
