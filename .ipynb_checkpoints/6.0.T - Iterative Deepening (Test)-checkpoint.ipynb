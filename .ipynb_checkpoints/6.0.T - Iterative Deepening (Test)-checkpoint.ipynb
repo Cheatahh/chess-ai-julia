{
 "cells": [
  {
   "cell_type": "code",
   "execution_count": 1,
   "id": "54b60f11",
   "metadata": {},
   "outputs": [
    {
     "data": {
      "text/html": [
       "<link href='https://fonts.googleapis.com/css?family=Alegreya+Sans:100,300,400,500,700,800,900,100italic,300italic,400italic,500italic,700italic,800italic,900italic' rel='stylesheet' type='text/css'>\r\n",
       "<link href='https://fonts.googleapis.com/css?family=Arvo:400,700,400italic' rel='stylesheet' type='text/css'>\r\n",
       "<link href='https://fonts.googleapis.com/css?family=PT+Mono' rel='stylesheet' type='text/css'>\r\n",
       "<link href='https://fonts.googleapis.com/css?family=Shadows+Into+Light' rel='stylesheet' type='text/css'>\r\n",
       "<link href='https://fonts.googleapis.com/css?family=Philosopher:400,700,400italic,700italic' rel='stylesheet' type='text/css'>\r\n",
       "\r\n",
       "<style>\r\n",
       "\r\n",
       "@font-face {\r\n",
       "    font-family: \"Computer Modern\";\r\n",
       "    src: url('https://mirrors.ctan.org/fonts/cm-unicode/fonts/otf/cmunss.otf');\r\n",
       "}\r\n",
       "\r\n",
       ".container { width: 100% }\r\n",
       "\r\n",
       "/* Formatting for header cells */\r\n",
       ".text_cell_render h1 {\r\n",
       "    font-family: 'Philosopher', sans-serif;\r\n",
       "    font-weight: 400;\r\n",
       "    font-size: 2.2em;\r\n",
       "    line-height: 100%;\r\n",
       "    color: rgb(0, 80, 120);\r\n",
       "    margin-bottom: 0.1em;\r\n",
       "    margin-top: 0.1em;\r\n",
       "    display: block;\r\n",
       "}\t\r\n",
       ".text_cell_render h2 {\r\n",
       "    font-family: 'Philosopher', serif;\r\n",
       "    font-weight: 400;\r\n",
       "    font-size: 1.9em;\r\n",
       "    line-height: 100%;\r\n",
       "    color: rgb(200,100,0);\r\n",
       "    margin-bottom: 0.1em;\r\n",
       "    margin-top: 0.1em;\r\n",
       "    display: block;\r\n",
       "}\t\r\n",
       "\r\n",
       ".text_cell_render h3 {\r\n",
       "    font-family: 'Philosopher', serif;\r\n",
       "    margin-top:12px;\r\n",
       "    margin-bottom: 3px;\r\n",
       "    font-style: italic;\r\n",
       "    color: rgb(94,127,192);\r\n",
       "}\r\n",
       "\r\n",
       ".text_cell_render h4 {\r\n",
       "    font-family: 'Philosopher', serif;\r\n",
       "}\r\n",
       "\r\n",
       ".text_cell_render h5 {\r\n",
       "    font-family: 'Alegreya Sans', sans-serif;\r\n",
       "    font-weight: 300;\r\n",
       "    font-size: 16pt;\r\n",
       "    color: grey;\r\n",
       "    font-style: italic;\r\n",
       "    margin-bottom: .1em;\r\n",
       "    margin-top: 0.1em;\r\n",
       "    display: block;\r\n",
       "}\r\n",
       "\r\n",
       ".text_cell_render h6 {\r\n",
       "    font-family: 'PT Mono', sans-serif;\r\n",
       "    font-weight: 300;\r\n",
       "    font-size: 10pt;\r\n",
       "    color: grey;\r\n",
       "    margin-bottom: 1px;\r\n",
       "    margin-top: 1px;\r\n",
       "}\r\n",
       "\r\n",
       ".text_cell_render em {\r\n",
       "    font-family: 'Philosopher', sans-serif;\r\n",
       "    color:        blue;\r\n",
       "    background-color: rgb(255,220,180);\r\n",
       "    font-size:    110%;\r\n",
       "    margin-left:   2px;\r\n",
       "    margin-right:  2px;\r\n",
       "    font-weight:   100;\r\n",
       "}\r\n",
       "\r\n",
       ".text_cell_render b {\r\n",
       "    color:            rgb(255,195,195);\r\n",
       "    background-color: rgb(0,0,0);\r\n",
       "    font-size:    110%;\r\n",
       "    margin-left:   2px;\r\n",
       "    margin-right:  2px;\r\n",
       "    font-weight:   650;\r\n",
       "}\r\n",
       "\r\n",
       ".text_cell_render tt {\r\n",
       "    font-size:    120%;\r\n",
       "    margin-left:   2px;\r\n",
       "    margin-right:  2px;\r\n",
       "    font-weight:   150;\r\n",
       "}\r\n",
       "\r\n",
       ".Codemirror {\r\n",
       "    font-family: \"PT Mono\", sans-serif;\r\n",
       "    font-size: 100%;\r\n",
       "}\r\n",
       "\r\n",
       "</style>"
      ],
      "text/plain": [
       "HTML{String}(\"<link href='https://fonts.googleapis.com/css?family=Alegreya+Sans:100,300,400,500,700,800,900,100italic,300italic,400italic,500italic,700italic,800italic,900italic' rel='stylesheet' type='text/css'>\\r\\n<link href='https://fonts.googleapis.com/css?family=Arvo:400,700,400italic' rel='stylesheet' type='text/css'>\\r\\n<link href='https://fonts.googleapis.com/css?family=PT+Mono' rel='stylesheet' type='text/css'>\\r\\n<link href='https://fonts.googleapis.com/css?family=Shadows+Into+Light' rel='stylesheet' type='text/css'>\\r\\n<link href='https://fonts.googleapis.com/css?family=Philosopher:400,700,400italic,700italic' rel='stylesheet' type='text/css'>\\r\\n\\r\\n<style>\\r\\n\\r\\n@font-face {\\r\\n    font-family: \\\"Computer Modern\\\";\\r\\n    src: url('https://mirrors.ctan.org/fonts/cm-unicode/fonts/otf/cmunss.otf');\\r\\n}\\r\\n\\r\\n.container { width: 100% }\\r\\n\\r\\n/* Formatting for header cells */\\r\\n.text_cell_render h1 {\\r\\n    font-family: 'Philosopher', sans-serif;\\r\\n    font-weight: 400;\\r\\n    font-size: 2.2em;\\r\\n    line-height: 100%;\\r\\n    color: rgb(0, 80, 120);\\r\\n    margin-bottom: 0.1em;\\r\\n    margin-top: 0.1em;\\r\\n    display: block;\\r\\n}\\t\\r\\n.text_cell_render h2 {\\r\\n    font-family: 'Philosopher', serif;\\r\\n    font-weight: 400;\\r\\n    font-size: 1.9em;\\r\\n    line-height: 100%;\\r\\n    color: rgb(200,100,0);\\r\\n    margin-bottom: 0.1em;\\r\\n    margin-top: 0.1em;\\r\\n    display: block;\\r\\n}\\t\\r\\n\\r\\n.text_cell_render h3 {\\r\\n    font-family: 'Philosopher', serif;\\r\\n    margin-top:12px;\\r\\n    margin-bottom: 3px;\\r\\n    font-style: italic;\\r\\n    color: rgb(94,127,192);\\r\\n}\\r\\n\\r\\n.text_cell_render h4 {\\r\\n    font-family: 'Philosopher', serif;\\r\\n}\\r\\n\\r\\n.text_cell_render h5 {\\r\\n    font-family: 'Alegreya Sans', sans-serif;\\r\\n    font-weight: 300;\\r\\n    font-size: 16pt;\\r\\n    color: grey;\\r\\n    font-style: italic;\\r\\n    margin-bottom: .1em;\\r\\n    margin-top: 0.1em;\\r\\n    display: block;\\r\\n}\\r\\n\\r\\n.text_cell_render h6 {\\r\\n    font-family: 'PT Mono', sans-serif;\\r\\n    font-weight: 300;\\r\\n    font-size: 10pt;\\r\\n    color: grey;\\r\\n    margin-bottom: 1px;\\r\\n    margin-top: 1px;\\r\\n}\\r\\n\\r\\n.text_cell_render em {\\r\\n    font-family: 'Philosopher', sans-serif;\\r\\n    color:        blue;\\r\\n    background-color: rgb(255,220,180);\\r\\n    font-size:    110%;\\r\\n    margin-left:   2px;\\r\\n    margin-right:  2px;\\r\\n    font-weight:   100;\\r\\n}\\r\\n\\r\\n.text_cell_render b {\\r\\n    color:            rgb(255,195,195);\\r\\n    background-color: rgb(0,0,0);\\r\\n    font-size:    110%;\\r\\n    margin-left:   2px;\\r\\n    margin-right:  2px;\\r\\n    font-weight:   650;\\r\\n}\\r\\n\\r\\n.text_cell_render tt {\\r\\n    font-size:    120%;\\r\\n    margin-left:   2px;\\r\\n    margin-right:  2px;\\r\\n    font-weight:   150;\\r\\n}\\r\\n\\r\\n.Codemirror {\\r\\n    font-family: \\\"PT Mono\\\", sans-serif;\\r\\n    font-size: 100%;\\r\\n}\\r\\n\\r\\n</style>\")"
      ]
     },
     "execution_count": 1,
     "metadata": {},
     "output_type": "execute_result"
    }
   ],
   "source": [
    "HTML(read(open(\"style.html\"), String))"
   ]
  },
  {
   "cell_type": "code",
   "execution_count": 1,
   "id": "7e5d7261",
   "metadata": {
    "scrolled": true
   },
   "outputs": [
    {
     "data": {
      "text/plain": [
       "@silent (macro with 1 method)"
      ]
     },
     "execution_count": 1,
     "metadata": {},
     "output_type": "execute_result"
    }
   ],
   "source": [
    "include(\"silent.jl\")"
   ]
  },
  {
   "cell_type": "code",
   "execution_count": 2,
   "id": "5ee7b20d",
   "metadata": {},
   "outputs": [],
   "source": [
    "using Pkg\n",
    "@silent Pkg.add(\"NBInclude\")\n",
    "using NBInclude"
   ]
  },
  {
   "cell_type": "code",
   "execution_count": 39,
   "id": "6edb0626",
   "metadata": {},
   "outputs": [
    {
     "data": {
      "text/plain": [
       "getNextMove (generic function with 6 methods)"
      ]
     },
     "execution_count": 39,
     "metadata": {},
     "output_type": "execute_result"
    }
   ],
   "source": [
    "@nbinclude \"2.0 - Gameplay.ipynb\"\n",
    "@nbinclude \"3.1 - Evaluation.ipynb\"\n",
    "@nbinclude \"5.1 - Alpha-Beta-Pruning AI.ipynb\"\n",
    "@nbinclude \"6.0 - Iterative Deepening.ipynb\""
   ]
  },
  {
   "cell_type": "markdown",
   "id": "605a5279",
   "metadata": {},
   "source": [
    "***"
   ]
  },
  {
   "cell_type": "markdown",
   "id": "3a043cf0",
   "metadata": {},
   "source": [
    "Bei [`Chess.com`](https://www.chess.com/) gibt es die Möglichkeit, gegen einen Computer zu spielen, welcher in der Lage ist, die Spielstärke manuell anzupassen. Dies ermöglicht es uns, die Spielstärke unserer KI grob zu bestimmen.\n",
    "\n",
    "In diesem Fall wurde der Computer auf eine Spielstärke von `1300` bzw. `1500`  eingestellt. Der Spielaufbau sieht aus wie folgt:\n",
    "+ KI:\n",
    "    + Weiß (bzw. Schwarz): Der Spieler, aka die Chess.com KI der Stärke `1300` bzw. `1500`\n",
    "    + Schwarz (bzw. Weiß): Die KI\n",
    "\n",
    "+ Chess.com:\n",
    "    + Weiß (bzw. Schwarz): die Chess.com KI der Stärke `1300` bzw. `1500`\n",
    "    + Schwarz (bzw. Weiß): der Spieler, aka die KI\n",
    "\n",
    "Die Züge der beiden KIs werden anschließend von Hand auf der Website / der Julia-KI eingegeben. Jedes Spiel wird bis zum Ende gespielt. Das Ergebnis wird mit allen Zügen in einer PGN-Datei gespeichert. \n",
    "\n",
    "Zur besseren Übersicht wurden die PGNs in diesem Notebook notiert."
   ]
  },
  {
   "cell_type": "markdown",
   "id": "5aeb4c54",
   "metadata": {},
   "source": [
    "## Test-Spiele"
   ]
  },
  {
   "cell_type": "markdown",
   "id": "fb6f3ff2",
   "metadata": {},
   "source": [
    "<table style=\"width: 100%\">\n",
    "    <tr>\n",
    "        <th style=\"width: 100px\">Gegner</th>\n",
    "        <th style=\"width: 100px\">Stärke (Gegner)</th>\n",
    "        <th style=\"width: 100px\">Spielseite (KI)</th>\n",
    "        <th style=\"width: 100px\">Zeitlimit<br>(pro Zug, KI)</th>\n",
    "        <th style=\"width: 100px\">Ergebnis (KI)</th>\n",
    "        <th>PGN</th>\n",
    "    </tr>\n",
    "    <tr>\n",
    "        <td>Chess.com</td>\n",
    "        <td>1300 (KI)</td>\n",
    "        <td>Weiß</td>\n",
    "        <td>7.0s</td>\n",
    "        <td>Sieg</td>\n",
    "        <td>1. e3 e6 2. Qf3 Qh4 3. Nc3 d5 4. Bb5+ Bd7 5. Nge2 Nc6 6. Qf4 Qd8 7. Qa4 Be7 8. e4 g5 9. exd5 exd5 10. Nxd5 Nh6 11. O-O O-O 12. Nxe7+ Qxe7 13. Nc3 Qf6 14. Qa3 Rae8 15. Nd5 Qe5 16. Qc5 b6 17. d4 bxc5 18. dxe5 Rxe5 19. Nf6+ Kg7 20. Nxd7 Re6 21. Nxf8 Kxf8 22. Bxg5 Ng8 23. Be3 Nd4 24. Bd3 h5 25. Rae1 a5 26. Bh7 Ne7 27. Bd3 Nef5 28. Bxf5 Nxf5 29. Bxc5+ Ke8 30. Rxe6+ fxe6 31. Rd1 a4 32. Rd3 e5 33. Rd5 Kf7 34. Rxe5 Kf6 35. Re4 Kg6 36. Rxa4 Nd6 37. Bxd6 cxd6 38. Rd4 Kf6 39. Rxd6+ Ke7 40. Rb6 Kf7 41. a4 Ke7 42. a5 Ke8 43. a6 Kd7 44. Rb7+ Kc6 45. c4 Kc5 46. b4+ Kxc4 47. a7 h4 48. a8=Q Kc3 49. Qd8 Kb2 50. Rc7 Kb1 51. Qd2 Ka1 52. Rc1#</td>\n",
    "    </tr>\n",
    "     <tr>\n",
    "        <td>Chess.com</td>\n",
    "        <td>1300 (KI)</td>\n",
    "        <td>Weiß</td>\n",
    "        <td>7.0s</td>\n",
    "        <td>Sieg</td>\n",
    "        <td>1. e4 Nc6 2. Qh5 Nf6 3. Qf3 e5 4. d3 Nd4 5. Qd1 Bd6 6. Qd2 Bb4 7. c3 Ba5 8. b3 Nc6 9. b4 Bb6 10. b5 Ne7 11. Nf3 d6 12. a4 Bg4 13. a5 Bc5 14. c4 h6 15. Nc3 Bxf3 16. gxf3 Bd4 17. Rg1 Kf8 18. Bh3 Kg8 19. Ra4 c6 20. Ra2 cxb5 21. cxb5 Bc5 22. Ke2 Bb4 23. a6 Qc7 24. axb7 Rb8 25. Rxa7 Bxc3 26. Qc2 Qb6 27. Qxc3 Qxa7 28. Qc4 Rxb7 29. Be3 Qa3 30. b6 Qb2+ 31. Ke1 Qb1+ 32. Ke2 Qxg1 33. Qa4 Rb8 34. Qa2 Qxh2 35. Bf1 Qh1 36. Qa7 Re8 37. Qc7 d5 38. Qxe5 dxe4 39. fxe4 Ned5 40. Qf5 g6 41. Qh3 Nc3+ 42. Ke1 Qxh3 43. Bxh3 Ncxe4 44. dxe4 Nxe4 45. f3 Ng5 46. Kf2 Nxh3+ 47. Ke2 f6 48. Kd3 f5 49. f4 g5 50. fxg5 Rh7 51. gxh6 Rd7+ 52. Ke2 f4 53. b7 Rxe3+ 54. Kf1 Rd1+ 55. Kg2 Rd2+ 56. Kh1 Re1# </td>\n",
    "    </tr>\n",
    "    <tr>\n",
    "        <td>Chess.com</td>\n",
    "        <td>1300 (KI)</td>\n",
    "        <td>Schwarz</td>\n",
    "        <td>7.0s</td>\n",
    "        <td>Sieg</td>\n",
    "        <td>1. e4 Nc6 2. Qh5 Nf6 3. Qf3 e5 4. Nh3 Nd4 5. Qd1 Nxe4 6. Bd3 Nc5 7. Be2 Qh4 8. Bg4 h5 9. Be2 Qe4 10. Rg1 Nxe2 11. Qxe2 Nd3+ 12. cxd3 Qd5 13. Nf4 Qc5 14. Kd1 h4 15. Re1 Bd6 16. Nh5 Kf8 17. Nc3 Qb4 18. Qf3 Kg8 19. Nd5 Qa4+ 20. b3 Qd4 21. h3 Qxa1 22. Re4 Qxa2 23. Rg4 Qxb3+ 24. Ke2 g6 25. Qf6 Rxh5 26. Ke1 Qxd5 27. Bb2 Qxd3 28. Bc3 Bc5 29. Bxe5 Qb1+ 30. Ke2 Bf8 31. f3 d6 32. Rg5 Qb5+ 33. Kd1 Qb3+ 34. Ke2 Qc4+ 35. d3 Qc2+ 36. Kf1 Qxd3+ 37. Kf2 Qd2+ 38. Kf1 Qd1+ 39. Kf2 dxe5 40. Qxe5 Qd2+ 41. Kf1 Rxg5 42. Qh2 Qd1+ 43. Kf2 Bc5#</td>\n",
    "    </tr>\n",
    "        <tr>\n",
    "        <td>Chess.com</td>\n",
    "        <td>1300 (KI)</td>\n",
    "        <td>Schwarz</td>\n",
    "        <td>7.0s</td>\n",
    "        <td>Sieg</td>\n",
    "        <td>1. e4 Nc6 2. Qh5 Nf6 3. Qe2 e5 4. Nc3 Nd4 5. Qd1 d6 6. Nf3 Bg4 7. Rb1 Nd7 8. a4 Nb6 9. d3 Bxf3 10. gxf3 Qf6 11. Be2 d5 12. Rf1 Bb4 13. Bd2 dxe4 14. fxe4 Qh4 15. Rh1 O-O 16. Rc1 Rad8 17. h3 Rfe8 18. Rb1 Qf6 19. h4 g6 20. Rh3 Qe6 21. Rg3 Qf6 22. h5 Nxe2 23. Qxe2 Qd6 24. Qg4 Qc6 25. hxg6 hxg6 26. Rg1 Qf6 27. Qh3 Nd7 28. Rh1 Qg7 29. Nd5 Bxd2+ 30. Kxd2 Nc5 31. b4 Ne6 32. Rbg1 Rd6 33. Qf3 Nd4 34. Qh3 g5 35. b5 c6 36. Ne3 cxb5 37. Nd5 bxa4 38. Rg2 Rc6 39. c3 Nb3+ 40. Ke3 Rd6 41. Rgh2 f5 42. Qxf5 Nd4 43. cxd4 exd4+ 44. Kd2 Rf8 45. Rh3 Rxf5 46. exf5 Rxd5 47. Rf1 Rxf5 48. Rg1 Rxf2+ 49. Kc1 Qc7+ 50. Kb1 Qc2+ 51. Ka1 Qa2# </td>\n",
    "    </tr>\n",
    "    <tr>\n",
    "        <td>Chess.com</td>\n",
    "        <td>1300 (KI)</td>\n",
    "        <td>Schwarz</td>\n",
    "        <td>7.0s</td>\n",
    "        <td>Sieg</td>\n",
    "        <td>1. e4 Nc6 2. Qh5 Nf6 3. Qh4 e5 4. Bc4 Nd4 5. Bb3 Be7 6. a4 Nd5 7. Qg3 Nf6 8. Qxg7 Rf8 9. Nc3 d5 10. Bxd5 Nxd5 11. Nxd5 Nxc2+ 12. Ke2 Nxa1 13. Qxe5 Bg4+ 14. Kf1 f6 15. Qg3 Qc8 16. d3 Bd6 17. Qh4 Qe6 18. Qxh7 Nb3 19. Bh6 O-O-O 20. Nf3 Rh8 21. Qg6 Bxf3 22. gxf3 Qh3+ 23. Qg2 Qxg2+ 24. Kxg2 Rxh6 25. f4 Nd2 26. Rd1 Rg8+ 27. Kh1 Nf3 28. Ne7+ Bxe7 29. f5 Rxh2#</td>\n",
    "    </tr>\n",
    "    <tr>\n",
    "        <td>Chess.com</td>\n",
    "        <td>1300 (KI)</td>\n",
    "        <td>Schwarz</td>\n",
    "        <td>7.0s</td>\n",
    "        <td>Sieg</td>\n",
    "        <td>1. e4 Nc6 2. Qh5 Nf6 3. Qd1 e5 4. d3 d6 5. c4 Be7 6. Qc2 O-O 7. Be3 Ng4 8. Bd2 Bh4 9. g3 Qf6 10. f3 Nxh2 11. gxh4 Nd4 12. Qa4 Nhxf3+ 13. Nxf3 Nxf3+ 14. Kd1 Nxh4 15. Kc1 Nf3 16. Qb5 Nd4 17. Qa4 Qf3 18. Rg1 Qf2 19. Rh1 Nf3 20. Ba5 c5 21. Qc2 Qxc2+ 22. Kxc2 b6 23. Bc3 Bb7 24. Be2 Nd4+ 25. Bxd4 cxd4 26. Na3 Bc6 27. Nb5 Rfd8 28. Bg4 a6 29. Nc7 Ra7 30. Nd5 h6 31. Nxb6 Rb7 32. Nd5 Rdb8 33. b3 Rf8 34. Rab1 Ra8 35. Rhd1 Re8 36. Bh5 Rf8 37. Rg1 f5 38. Rg6 fxe4 39. Re1 Rf2+ 40. Kd1 Rxa2 41. Kc1 Ra1+ 42. Kb2 Rxe1 43. Rxd6 Bxd5 44. cxd5 exd3 45. Rc6 d2 46. Kc2 Rc1+ 47. Kxd2 Rxc6 48. dxc6 Rxb3 49. c7 Rc3 50. Be2 a5 51. Bg4 Rxc7 52. Bf3 Kf7 53. Kd3 Rc3+ 54. Ke4 Re3+ 55. Kd5 Rxf3 56. Kxe5 d3 57. Ke4 Rh3 58. Kf5 d2 59. Kg4 Rc3 60. Kh5 d1=Q+ 61. Kh4 g5# *</td>\n",
    "    </tr>\n",
    "    <tr>\n",
    "        <td>Daniel Riebel (TINF20CS1)</td>\n",
    "        <td>1200 (Spieler)</td>\n",
    "        <td>Schwarz</td>\n",
    "        <td>15.0s</td>\n",
    "        <td>Niederlage</td>\n",
    "        <td>1. d4 Nc6 2. Bf4 e6 3. e3 Nf6 4. h3 Nd5 5. c3 Be7 6. Nf3 O-O 7. Bd3 Nxf4 8. exf4 Bd6 9. Bxh7+ Kxh7 10. Ng5+ Kh6 11. Qg4 f5 12. Qh4+ Kg6 13. g4 Rh8 14. Qg3 Re8 15. h4 Kf6 16. h5 g6 17. h6 Ne7 18. h7 Rh8 19. Qh4 Kg7 20. Qh6+ Kf6 21. Nd2 Bxf4 22. Nge4+ fxe4 23. Qxf4+ Kg7 24. Nxe4 Nc6 25. g5 e5 26. dxe5 Qe7 27. O-O-O Rxh7 28. Rxh7+ Kxh7 29. Qh4+ Kg8 30. Nf6+ Kf7 31. Qh7+ Ke6 32. Qxg6 Nxe5 33. Re1 Kd6 34. Ne8+ Kc5 35. b4+ Kc4 36. Qf5 d5 37. Qxe5 Qxe5 38. Rxe5 Bg4 39. g6 Bh5 40. Rxh5 Rxe8 41. g7 Rg8 42. Rh7 Kxc3 43. Kd1 Kxb4 44. Kd2 Ka3 45. f3 Kxa2 46. f4 Kb3 47. f5 c5 48. f6 Re8 49. f7 Re4 50. f8=Q Rd4+ 51. Ke3 Rg4 52. g8=Q Rxg8 53. Qxg8 b6 54. Qxd5+ Kb2 55. Qc4 a6 56. Qxa6 Kc2 57. Qxb6 c4 58. Rc7 Kc3 59. Qc6 Kb3 60. Qxc4+ Kb2 61. Qb5+ Ka2 62. Ra7# *</td>\n",
    "    </tr>\n",
    "    <tr>\n",
    "        <td>Chess.com</td>\n",
    "        <td>1500 (KI)</td>\n",
    "        <td>Schwarz</td>\n",
    "        <td>7.0s</td>\n",
    "        <td>Sieg</td>\n",
    "        <td>1. e4 Nc6 2. d4 e6 3. Nf3 Nf6 4. e5 Ne4 5. Nc3 Bb4 6. Bd2 Nxd2 7. Qxd2 O-O 8. a3 Ba5 9. b4 Nxb4 10. axb4 Bxb4 11. Ra4 Qe7 12. Bd3 h6 13. O-O d5 14. Rb1 c5 15. g3 Bd7 16. Ra2 cxd4 17. Nxd4 Rfd8 18. h4 Qf8 19. f4 Qc5 20. Rxb4 Qxb4 21. Bb5 Bxb5 22. Ndxb5 d4 23. Rxa7 dxc3 24. Qe2 Rab8 25. Kg2 Rd2 26. Kf3 Rxe2 27. Kxe2 Qxb5+ 28. Ke3 Qc5+ 29. Kf3 Qxa7 30. h5 Qa4 31. g4 Qxc2 32. Kg3 Rd8 33. g5 Rd3+ 34. Kg4 Qg2+ 35. Kh4 Rh3# *\n",
    "</td>\n",
    "    </tr>\n",
    "    <tr>\n",
    "        <td>Chess.com</td>\n",
    "        <td>1500 (KI)</td>\n",
    "        <td>Schwarz</td>\n",
    "        <td>7.0s</td>\n",
    "        <td>Sieg</td>\n",
    "        <td>1. e4 Nc6 2. d4 e6 3. Nf3 Nf6 4. e5 Ne4 5. Nc3 Bb4 6. Bd2 Bxc3 7. bxc3 O-O 8. Bd3 d5 9. O-O f6 10. Rb1 fxe5 11. dxe5 b6 12. a3 Bb7 13. h4 Qe7 14. Rb3 Nxd2 15. Qxd2 h6 16. Re1 Qc5 17. h5 Rad8 18. Nh4 a6 19. Ng6 Rf7 20. Rd1 Na5 21. Rb4 b5 22. Rg4 Qxa3 23. Rg3 d4 24. cxd4 Rxd4 25. c3 Rdd7 26. Nh4 Be4 27. Ng6 Nc4 28. Qe1 Qb3 29. Kh2 Rf5 30. Be2 Bd5 31. f4 Qc2 32. Ra1 Qe4 33. Rxa6 Rxh5+ 34. Kg1 Rf5 35. Ra1 Kh7 36. Qf2 Bc6 37. Bf3 Rxf4 38. Bxe4 Rxf2 39. Bxc6 Rdf7 40. Bxb5 Nb6 41. Bc6 Re2 42. Bf3 Re3 43. Rc1 Kg8 44. c4 Rd3 45. c5 Nd7 46. c6 Nb6 47. Rh3 Rd4 48. Bd1 Re4 49. Bf3 Rc4 50. Rd1 Kh7 51. Rg3 Rc3 52. Kh1 Nc4 53. Rg4 Ne3 54. Rdd4 Nxg4 55. Rxg4 Rc1+ 56. Kh2 Re1 57. Ra4 Kxg6 58. Ra5 Kf5 59. Bh5 g6 60. Bf3 Rxe5 61. Ra3 Rc5 62. Ra7 Ke5 63. Ra2 Kd4 64. Ra7 Rc2 65. Kg1 Rxf3 66. gxf3 Rxc6 67. Ra1 Rc2 68. Kf1 Ke3 69. Ra4 Kxf3 70. Ke1 Ke3 71. Kd1 Rh2 72. Rg4 g5 73. Rc4 Kd3 74. Kc1 Kxc4 75. Kd1 Kd3 76. Ke1 Kc2 77. Kf1 Kc1 78. Kg1 Rd2 79. Kf1 Kd1 80. Kg1 Ke1 81. Kh1 Kf2 82. Kh2 Rd3 83. Kh1 Rh3# *\n",
    "</td>\n",
    "    </tr>\n",
    "    <tr>\n",
    "        <td>Chess.com</td>\n",
    "        <td>1500 (KI)</td>\n",
    "        <td>Weiß</td>\n",
    "        <td>8.0s</td>\n",
    "        <td>Sieg</td>\n",
    "        <td>1. e3 e5 2. Nc3 Qh4 3. Nf3 Qf6 4. Bb5 c6 5. Ba4 g5 6. Ne4 Qe7 7. O-O g4 8. Ne1 d5 9. Nc3 b5 10. Bb3 Nf6 11. d4 e4 12. Bd2 Qd6 13. Ne2 a6 14. a3 Qe6 15. Bc3 Nbd7 16. Qd2 Bb7 17. Rd1 Qf5 18. Ng3 Qe6 19. Ne2 Bd6 20. Bb4 Nf8 21. Nc3 Bc7 22. Qe2 Ng6 23. Qd2 O-O-O 24. Rc1 Nd7 25. Ne2 Nh4 26. Ba5 Qd6 27. Bxc7 Qxc7 28. Qc3 f5 29. h3 Qd6 30. Qb4 Qc7 31. Qe7 Ng6 32. Qg5 Rhf8 33. hxg4 fxg4 34. Qxg4 Kb8 35. Qg5 Qd6 36. Nc3 c5 37. Bxd5 Nf6 38. Bxb7 Kxb7 39. dxc5 Qc7 40. f3 Rd2 41. fxe4 Nd7 42. Rxf8 Ndxf8 43. Nf3 Rd8 44. c6+ Ka8 45. Re1 Ne6 46. Qf6 Qxc6 47. Nd4 Qd6 48. Nxe6 Rc8 49. Nd5 Ne5 50. Nec7+ Qxc7 51. Qxa6+ Kb8 52. Nxc7 Kxc7 53. Qxb5 Nc6 54. Qf5 Rh8 55. Kf2 Rg8 56. Qf7+ Ne7 57. Qxe7+ Kb6 58. Qe6+ Kb5 59. Qxg8 h5 60. Rd1 Ka5 61. Qe6 h4 62. Qc6 h3 63. Rd5# *\n",
    "</td>\n",
    "    </tr>\n",
    "    <tr>\n",
    "        <td>Chess.com</td>\n",
    "        <td>1500 (KI)</td>\n",
    "        <td>Weiß</td>\n",
    "        <td>15.0s</td>\n",
    "        <td>Sieg</td>\n",
    "        <td>1. e3 c5 2. Nc3 d5 3. d4 c4 4. e4 e6 5. exd5 exd5 6. Qe2+ Ne7 7. Bg5 Nc6 8. Nf3 Be6 9. O-O-O h6 10. Bh4 g5 11. Nxg5 hxg5 12. Bxg5 Bh6 13. Bxh6 Rxh6 14. Qe3 Rg6 15. Kb1 Kf8 16. Be2 Rxg2 17. Bf3 Rg7 18. Qh6 Kg8 19. Rhg1 Rxg1 20. Rxg1+ Ng6 21. Rxg6+ fxg6 22. Qxg6+ Kf8 23. Qxe6 Nxd4 24. Qh6+ Ke7 25. Qh4+ Kf8 26. Qh8+ Kf7 27. Bxd5+ Ne6 28. Qh7+ Kf6 29. f4 Nxf4 30. Bxb7 Rb8 31. Nd5+ Nxd5 32. Qe4 Rxb7 33. Qh4+ Kf5 34. Qxd8 Ne3 35. Qc8+ Rd7 36. Qxd7+ Kf4 37. Qf7+ Kg4 38. Qf2 Nf5 39. Qxa7 Kh3 40. Qg1 c3 41. bxc3 Kh4 42. Kc1 Kh3 43. Kd2 Kh4 44. Qg6 Kh3 45. Ke2 Kxh2 46. Kf2 Kh3 47. Qg5 Nd6 48. Qg3# *\n",
    "</td>\n",
    "    </tr>\n",
    "    <tr>\n",
    "        <td>Chess.com</td>\n",
    "        <td>1500 (KI)</td>\n",
    "        <td>Weiß</td>\n",
    "        <td>15.0s</td>\n",
    "        <td>Sieg</td>\n",
    "        <td>1. e3 e6 2. Qf3 Nc6 3. Ne2 Ne5 4. Qe4 Nc6 5. Nbc3 Nf6 6. Qc4 d5 7. Qa4 Bd7 8. Qf4 Bd6 9. Qg5 O-O 10. Nd4 h6 11. Qh4 Re8 12. Ndb5 Be5 13. d4 Bd6 14. Nxd6 cxd6 15. Bb5 Nb4 16. Bxd7 Qxd7 17. Kd2 Rec8 18. a3 Nc6 19. Kd1 b6 20. Bd2 Qd8 21. e4 Rab8 22. exd5 exd5 23. Qf4 Rc7 24. Nb5 Re7 25. Nxd6 Qd7 26. Nf5 Re4 27. Nxh6+ gxh6 28. Qxf6 Nxd4 29. Bc3 Qa4 30. b3 Qc6 31. Bxd4 Qxf6 32. Bxf6 Rbe8 33. Bb2 R8e6 34. c4 dxc4 35. bxc4 Rxc4 36. Kd2 f5 37. Kd3 Rc5 38. Rhc1 Kf7 39. Rxc5 bxc5 40. Rc1 Ke8 41. Rxc5 Kf7 42. Rxf5+ Kg6 43. Ra5 a6 44. Ba1 Rb6 45. Bd4 Rc6 46. f4 Kh7 47. Rh5 Kg6 48. Ra5 Rd6 49. f5+ Kf7 50. Kc4 h5 51. h3 Ke7 52. Bc5 h4 53. Rxa6 Kf6 54. Rxd6+ Kxf5 55. a4 Ke4 56. a5 Kf4 57. Rb6 Kg3 58. Rg6+ Kf4 59. Rg7 Kf5 60. Kd3 Ke6 61. Kd4 Kf6 62. Rg4 Ke6 63. Ke4 Kd7 64. Rg6 Kc7 65. Kd5 Kc8 66. Kc6 Kd8 67. Rg8# *\n",
    "</td>\n",
    "    </tr>\n",
    "</table>\n",
    "\n",
    "Weitere Tests werden hier noch eingefügt..."
   ]
  },
  {
   "cell_type": "markdown",
   "id": "d8dc01d8",
   "metadata": {},
   "source": [
    "***"
   ]
  }
 ],
 "metadata": {
  "kernelspec": {
   "display_name": "Julia 1.8.5",
   "language": "julia",
   "name": "julia-1.8"
  },
  "language_info": {
   "file_extension": ".jl",
   "mimetype": "application/julia",
   "name": "julia",
   "version": "1.8.5"
  }
 },
 "nbformat": 4,
 "nbformat_minor": 5
}
