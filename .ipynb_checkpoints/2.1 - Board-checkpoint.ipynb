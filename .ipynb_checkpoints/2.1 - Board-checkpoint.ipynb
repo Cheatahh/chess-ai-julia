{
 "cells": [
  {
   "cell_type": "code",
   "execution_count": 1,
   "id": "c378ea1c",
   "metadata": {},
   "outputs": [
    {
     "data": {
      "text/html": [
       "<link href='https://fonts.googleapis.com/css?family=Alegreya+Sans:100,300,400,500,700,800,900,100italic,300italic,400italic,500italic,700italic,800italic,900italic' rel='stylesheet' type='text/css'>\r\n",
       "<link href='https://fonts.googleapis.com/css?family=Arvo:400,700,400italic' rel='stylesheet' type='text/css'>\r\n",
       "<link href='https://fonts.googleapis.com/css?family=PT+Mono' rel='stylesheet' type='text/css'>\r\n",
       "<link href='https://fonts.googleapis.com/css?family=Shadows+Into+Light' rel='stylesheet' type='text/css'>\r\n",
       "<link href='https://fonts.googleapis.com/css?family=Philosopher:400,700,400italic,700italic' rel='stylesheet' type='text/css'>\r\n",
       "\r\n",
       "<style>\r\n",
       "\r\n",
       "@font-face {\r\n",
       "    font-family: \"Computer Modern\";\r\n",
       "    src: url('https://mirrors.ctan.org/fonts/cm-unicode/fonts/otf/cmunss.otf');\r\n",
       "}\r\n",
       "\r\n",
       ".container { width: 100% }\r\n",
       "\r\n",
       "/* Formatting for header cells */\r\n",
       ".text_cell_render h1 {\r\n",
       "    font-family: 'Philosopher', sans-serif;\r\n",
       "    font-weight: 400;\r\n",
       "    font-size: 2.2em;\r\n",
       "    line-height: 100%;\r\n",
       "    color: rgb(0, 80, 120);\r\n",
       "    margin-bottom: 0.1em;\r\n",
       "    margin-top: 0.1em;\r\n",
       "    display: block;\r\n",
       "}\t\r\n",
       ".text_cell_render h2 {\r\n",
       "    font-family: 'Philosopher', serif;\r\n",
       "    font-weight: 400;\r\n",
       "    font-size: 1.9em;\r\n",
       "    line-height: 100%;\r\n",
       "    color: rgb(200,100,0);\r\n",
       "    margin-bottom: 0.1em;\r\n",
       "    margin-top: 0.1em;\r\n",
       "    display: block;\r\n",
       "}\t\r\n",
       "\r\n",
       ".text_cell_render h3 {\r\n",
       "    font-family: 'Philosopher', serif;\r\n",
       "    margin-top:12px;\r\n",
       "    margin-bottom: 3px;\r\n",
       "    font-style: italic;\r\n",
       "    color: rgb(94,127,192);\r\n",
       "}\r\n",
       "\r\n",
       ".text_cell_render h4 {\r\n",
       "    font-family: 'Philosopher', serif;\r\n",
       "}\r\n",
       "\r\n",
       ".text_cell_render h5 {\r\n",
       "    font-family: 'Alegreya Sans', sans-serif;\r\n",
       "    font-weight: 300;\r\n",
       "    font-size: 16pt;\r\n",
       "    color: grey;\r\n",
       "    font-style: italic;\r\n",
       "    margin-bottom: .1em;\r\n",
       "    margin-top: 0.1em;\r\n",
       "    display: block;\r\n",
       "}\r\n",
       "\r\n",
       ".text_cell_render h6 {\r\n",
       "    font-family: 'PT Mono', sans-serif;\r\n",
       "    font-weight: 300;\r\n",
       "    font-size: 10pt;\r\n",
       "    color: grey;\r\n",
       "    margin-bottom: 1px;\r\n",
       "    margin-top: 1px;\r\n",
       "}\r\n",
       "\r\n",
       ".text_cell_render em {\r\n",
       "    font-family: 'Philosopher', sans-serif;\r\n",
       "    color:        blue;\r\n",
       "    background-color: rgb(255,220,180);\r\n",
       "    font-size:    110%;\r\n",
       "    margin-left:   2px;\r\n",
       "    margin-right:  2px;\r\n",
       "    font-weight:   100;\r\n",
       "}\r\n",
       "\r\n",
       ".text_cell_render b {\r\n",
       "    color:            rgb(255,195,195);\r\n",
       "    background-color: rgb(0,0,0);\r\n",
       "    font-size:    110%;\r\n",
       "    margin-left:   2px;\r\n",
       "    margin-right:  2px;\r\n",
       "    font-weight:   650;\r\n",
       "}\r\n",
       "\r\n",
       ".text_cell_render tt {\r\n",
       "    font-size:    120%;\r\n",
       "    margin-left:   2px;\r\n",
       "    margin-right:  2px;\r\n",
       "    font-weight:   150;\r\n",
       "}\r\n",
       "\r\n",
       ".Codemirror {\r\n",
       "    font-family: \"PT Mono\", sans-serif;\r\n",
       "    font-size: 100%;\r\n",
       "}\r\n",
       "\r\n",
       "</style>"
      ],
      "text/plain": [
       "HTML{String}(\"<link href='https://fonts.googleapis.com/css?family=Alegreya+Sans:100,300,400,500,700,800,900,100italic,300italic,400italic,500italic,700italic,800italic,900italic' rel='stylesheet' type='text/css'>\\r\\n<link href='https://fonts.googleapis.com/css?family=Arvo:400,700,400italic' rel='stylesheet' type='text/css'>\\r\\n<link href='https://fonts.googleapis.com/css?family=PT+Mono' rel='stylesheet' type='text/css'>\\r\\n<link href='https://fonts.googleapis.com/css?family=Shadows+Into+Light' rel='stylesheet' type='text/css'>\\r\\n<link href='https://fonts.googleapis.com/css?family=Philosopher:400,700,400italic,700italic' rel='stylesheet' type='text/css'>\\r\\n\\r\\n<style>\\r\\n\\r\\n@font-face {\\r\\n    font-family: \\\"Computer Modern\\\";\\r\\n    src: url('https://mirrors.ctan.org/fonts/cm-unicode/fonts/otf/cmunss.otf');\\r\\n}\\r\\n\\r\\n.container { width: 100% }\\r\\n\\r\\n/* Formatting for header cells */\\r\\n.text_cell_render h1 {\\r\\n    font-family: 'Philosopher', sans-serif;\\r\\n    font-weight: 400;\\r\\n    font-size: 2.2em;\\r\\n    line-height: 100%;\\r\\n    color: rgb(0, 80, 120);\\r\\n    margin-bottom: 0.1em;\\r\\n    margin-top: 0.1em;\\r\\n    display: block;\\r\\n}\\t\\r\\n.text_cell_render h2 {\\r\\n    font-family: 'Philosopher', serif;\\r\\n    font-weight: 400;\\r\\n    font-size: 1.9em;\\r\\n    line-height: 100%;\\r\\n    color: rgb(200,100,0);\\r\\n    margin-bottom: 0.1em;\\r\\n    margin-top: 0.1em;\\r\\n    display: block;\\r\\n}\\t\\r\\n\\r\\n.text_cell_render h3 {\\r\\n    font-family: 'Philosopher', serif;\\r\\n    margin-top:12px;\\r\\n    margin-bottom: 3px;\\r\\n    font-style: italic;\\r\\n    color: rgb(94,127,192);\\r\\n}\\r\\n\\r\\n.text_cell_render h4 {\\r\\n    font-family: 'Philosopher', serif;\\r\\n}\\r\\n\\r\\n.text_cell_render h5 {\\r\\n    font-family: 'Alegreya Sans', sans-serif;\\r\\n    font-weight: 300;\\r\\n    font-size: 16pt;\\r\\n    color: grey;\\r\\n    font-style: italic;\\r\\n    margin-bottom: .1em;\\r\\n    margin-top: 0.1em;\\r\\n    display: block;\\r\\n}\\r\\n\\r\\n.text_cell_render h6 {\\r\\n    font-family: 'PT Mono', sans-serif;\\r\\n    font-weight: 300;\\r\\n    font-size: 10pt;\\r\\n    color: grey;\\r\\n    margin-bottom: 1px;\\r\\n    margin-top: 1px;\\r\\n}\\r\\n\\r\\n.text_cell_render em {\\r\\n    font-family: 'Philosopher', sans-serif;\\r\\n    color:        blue;\\r\\n    background-color: rgb(255,220,180);\\r\\n    font-size:    110%;\\r\\n    margin-left:   2px;\\r\\n    margin-right:  2px;\\r\\n    font-weight:   100;\\r\\n}\\r\\n\\r\\n.text_cell_render b {\\r\\n    color:            rgb(255,195,195);\\r\\n    background-color: rgb(0,0,0);\\r\\n    font-size:    110%;\\r\\n    margin-left:   2px;\\r\\n    margin-right:  2px;\\r\\n    font-weight:   650;\\r\\n}\\r\\n\\r\\n.text_cell_render tt {\\r\\n    font-size:    120%;\\r\\n    margin-left:   2px;\\r\\n    margin-right:  2px;\\r\\n    font-weight:   150;\\r\\n}\\r\\n\\r\\n.Codemirror {\\r\\n    font-family: \\\"PT Mono\\\", sans-serif;\\r\\n    font-size: 100%;\\r\\n}\\r\\n\\r\\n</style>\")"
      ]
     },
     "execution_count": 1,
     "metadata": {},
     "output_type": "execute_result"
    }
   ],
   "source": [
    "HTML(read(open(\"style.html\"), String))"
   ]
  },
  {
   "cell_type": "code",
   "execution_count": 2,
   "id": "3b548e7f",
   "metadata": {},
   "outputs": [
    {
     "data": {
      "text/plain": [
       "@silent (macro with 1 method)"
      ]
     },
     "execution_count": 2,
     "metadata": {},
     "output_type": "execute_result"
    }
   ],
   "source": [
    "include(\"silent.jl\")"
   ]
  },
  {
   "cell_type": "code",
   "execution_count": 3,
   "id": "011dcad2",
   "metadata": {},
   "outputs": [],
   "source": [
    "using Pkg\n",
    "@silent Pkg.add(\"NBInclude\")\n",
    "using NBInclude"
   ]
  },
  {
   "cell_type": "code",
   "execution_count": 4,
   "id": "d6f42f66",
   "metadata": {
    "scrolled": true
   },
   "outputs": [
    {
     "data": {
      "text/plain": [
       "toggleColor! (generic function with 1 method)"
      ]
     },
     "execution_count": 4,
     "metadata": {},
     "output_type": "execute_result"
    }
   ],
   "source": [
    "@nbinclude \"4.0 - Memoisierung - Zobrist-Hashing.ipynb\""
   ]
  },
  {
   "cell_type": "markdown",
   "id": "70055563",
   "metadata": {},
   "source": [
    "***"
   ]
  },
  {
   "cell_type": "markdown",
   "id": "38e611cd",
   "metadata": {},
   "source": [
    "# Extended Board\n",
    "\n",
    "Dieses Notebook beschreibt die Struktur `ExtendedBoard`. Sie erzeugt aus einem normalen Schachbrett, dem `Chess.Board` ein Spielbrett, welches weitere Parameter mitführt. Die Notwendigkeit des `ExtendedBoard` begründet sich unter anderem mit zusätzlichen Regeln, welche überprüft werden müssen.\n",
    "\n",
    "Im Schach gibt es die [`Threefold repetition rule`](https://www.chess.com/terms/threefold-repetition-chess) (Chess.com, 2023), die Regel der dreifachen Wiederholung. Diese besagt, dass ein Spieler das Recht auf ein Unentschieden hat, sobald sich eine Stellung dreimal im Spiel wiederholt. Dabei gilt, dass alle Figuren auf den gleichen Spielfeldern stehen. Die Wiederholungen müssen nicht direkt nacheinander geschehen. \n",
    "\n",
    "Die Überprüfung dieser Regel ist nicht in der Struktur `Chess.Board` der `Chess.jl` Bibliothek enthalten. Der [Zobrist-Hash](4.0%20-%20Memoisierung%20-%20Zobrist-Hashing.ipynb) wird genutzt, um Häufigkeiten aller Stellungen unter entsprechenden Schlüsseln zu speichern und Wiederholungen festzuhalten. Daher werden folgende Attribute zusätzlich von uns implementiert:\n",
    "\n",
    "+ score &rarr; die Bewertung des Spiels\n",
    "+ endGame &rarr; die Überprüfung der Endspiel-Kriterien\n",
    "+ repetitions &rarr; das Dictionary der wiederholten Stellungen\n",
    "+ repetitionRuleDraw &rarr; Flag zur Überprüfung der Regel der dreifachen Wiederholung\n",
    "+ prevEPSquare &rarr; das En-Passant Feld der letzten Stellung, genutzt um den Hash anzupassen\n",
    "+ zobrist &rarr; der Hash des Spielbretts\n",
    "\n",
    "Die Funktion `ExtendedBoard` ist der Konstruktor, welcher das ExtendedBoard automatisch mit allen zusätzlich definierten Attributen initialisiert. \n",
    "\n",
    "**Input**:\n",
    "+ board &rarr; das Spielbrett aus der Bibliothek `Chess.jl`\n",
    "\n",
    "**Output**:\n",
    "+ das ExtendedBoard"
   ]
  },
  {
   "cell_type": "code",
   "execution_count": 5,
   "id": "315c2df8",
   "metadata": {},
   "outputs": [],
   "source": [
    "mutable struct ExtendedBoard\n",
    "    board::Chess.Board\n",
    "    score::Int32\n",
    "    endGame::Bool\n",
    "    repetitions::Dict{UInt64, UInt8}\n",
    "    repetitionRuleDraw::Bool\n",
    "    prevEPSquare::Chess.Square\n",
    "    zobrist::ZobristHash\n",
    "    \n",
    "    function ExtendedBoard(board::Chess.Board)::ExtendedBoard\n",
    "        endGame = isEndGame(board)\n",
    "        pieceSquareTables = endGame ? PIECE_SQUARE_TABLES_ENDGAME : PIECE_SQUARE_TABLES_MIDGAME\n",
    "        score = evaluatePositionScore(board, pieceSquareTables)\n",
    "        zobrist = ZobristHash(board)\n",
    "        repetitions = Dict{UInt64, UInt8}()\n",
    "        repetitions[zobrist.hash] = 1\n",
    "        return new(board, score, endGame, repetitions, false, Chess.SQ_NONE, zobrist)\n",
    "    end\n",
    "end "
   ]
  },
  {
   "cell_type": "markdown",
   "id": "26d1d1c2",
   "metadata": {},
   "source": [
    "Die Funktion `domove!` setzt entweder den vom Spieler gewählten, oder den von der KI berechneten Zug um. Hierbei werden Änderungen des Zobrist-Hashes, bzw. des Scores inkrementell erfasst. \n",
    "\n",
    "Sollte sich das Spiel durch einen Zug in einem veränderten Modus (z.B. Endspiel) befinden, so wird dieser Modus einmalig als Grundlage für eine iterative Neuberechnung des Scores genutzt. Dieser Schritt ist notwendig, da die inkrementelle Erfassung des Scores aufgrund veränderter Piece-Square-Tables nicht mehr integer ist.\n",
    "\n",
    "**Input**:\n",
    "+ extboard &rarr; das Spielbrett\n",
    "+ move &rarr; der gewählte Zug\n",
    "\n",
    "**Output**:\n",
    "+ ExtendedUndoInfo &rarr; genutzt um den Zug mit `undomove!` rückgängig zu machen"
   ]
  },
  {
   "cell_type": "code",
   "execution_count": 6,
   "id": "eb8badf3",
   "metadata": {},
   "outputs": [
    {
     "data": {
      "text/plain": [
       "domove! (generic function with 1 method)"
      ]
     },
     "execution_count": 6,
     "metadata": {},
     "output_type": "execute_result"
    }
   ],
   "source": [
    "function domove!(extboard::ExtendedBoard, move::Chess.Move)::ExtendedUndoInfo\n",
    "    previousScore = extboard.score\n",
    "    previousHash = extboard.zobrist.hash\n",
    "    pieceSquareTables = extboard.endGame ? PIECE_SQUARE_TABLES_ENDGAME : PIECE_SQUARE_TABLES_MIDGAME\n",
    "    delta = evaluatePositionScoreDeltaIncremental(extboard, move, pieceSquareTables)\n",
    "    if Chess.sidetomove(extboard.board) == Chess.WHITE\n",
    "        extboard.score += delta\n",
    "    else\n",
    "        extboard.score -= delta\n",
    "    end\n",
    "    undo = Chess.domove!(extboard.board, move)\n",
    "    toggleEnPassant!(extboard.zobrist, extboard.prevEPSquare)\n",
    "    toggleEnPassant!(extboard.zobrist, Chess.epsquare(extboard.board))\n",
    "    extboard.prevEPSquare = Chess.epsquare(extboard.board)\n",
    "    toggleColor!(extboard.zobrist)\n",
    "    repetitions = get(extboard.repetitions, extboard.zobrist.hash, 0) + 1\n",
    "    extboard.repetitions[extboard.zobrist.hash] = repetitions\n",
    "    extboard.repetitionRuleDraw = repetitions >= 3\n",
    "    endGame = isEndGame(extboard.board)\n",
    "    pieceSquareTables = endGame ? PIECE_SQUARE_TABLES_ENDGAME : PIECE_SQUARE_TABLES_MIDGAME\n",
    "    if endGame != extboard.endGame\n",
    "        extboard.endGame = endGame\n",
    "        extboard.score = evaluatePositionScore(extboard.board, pieceSquareTables)\n",
    "    end\n",
    "    return (undo, previousScore, previousHash)\n",
    "end"
   ]
  },
  {
   "cell_type": "markdown",
   "id": "05aed997",
   "metadata": {},
   "source": [
    "Damit ein Zug zurück genommen werden kann, braucht die Funktion `undomove!` Informationen, welcher Zug zurück genommen werden soll. Diese Informationen werden in `ExtendedUndoInfo` gespeichert. Sie wird wie folgt definiert."
   ]
  },
  {
   "cell_type": "code",
   "execution_count": 7,
   "id": "f8a1a5de",
   "metadata": {},
   "outputs": [
    {
     "data": {
      "text/plain": [
       "Tuple{Chess.UndoInfo, Int32, UInt64}"
      ]
     },
     "execution_count": 7,
     "metadata": {},
     "output_type": "execute_result"
    }
   ],
   "source": [
    "if !@isdefined(ExtendedUndoInfo)\n",
    "    # alias definition\n",
    "    const ExtendedUndoInfo = Tuple{Chess.UndoInfo, Int32, UInt64}\n",
    "end"
   ]
  },
  {
   "cell_type": "markdown",
   "id": "e12b5f82",
   "metadata": {},
   "source": [
    "Die Funktion `undomove!` ermöglicht es einen Zug zurückzunehmen.\n",
    "\n",
    "**Input**:\n",
    "+ extboard &rarr; das Spielbrett der aktuellen Situation\n",
    "+ undo &rarr; der Kontext des vorhergegangen Zuges\n",
    "\n",
    "**Output**:\n",
    "+ das Spielbrett des vorherigen Zuges"
   ]
  },
  {
   "cell_type": "code",
   "execution_count": 8,
   "id": "3fc4ae06",
   "metadata": {},
   "outputs": [
    {
     "data": {
      "text/plain": [
       "undomove! (generic function with 1 method)"
      ]
     },
     "execution_count": 8,
     "metadata": {},
     "output_type": "execute_result"
    }
   ],
   "source": [
    "function undomove!(extboard::ExtendedBoard, undo::ExtendedUndoInfo)\n",
    "    extboard.repetitions[extboard.zobrist.hash] -= 1\n",
    "    Chess.undomove!(extboard.board, undo[1])\n",
    "    extboard.endGame = isEndGame(extboard.board)\n",
    "    extboard.score = undo[2]\n",
    "    extboard.zobrist.hash = undo[3]\n",
    "    extboard.repetitionRuleDraw = false\n",
    "end"
   ]
  },
  {
   "cell_type": "markdown",
   "id": "7930909f",
   "metadata": {},
   "source": [
    "***"
   ]
  }
 ],
 "metadata": {
  "kernelspec": {
   "display_name": "Julia 1.8.5",
   "language": "julia",
   "name": "julia-1.8"
  },
  "language_info": {
   "file_extension": ".jl",
   "mimetype": "application/julia",
   "name": "julia",
   "version": "1.8.5"
  }
 },
 "nbformat": 4,
 "nbformat_minor": 5
}
