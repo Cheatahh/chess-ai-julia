{
 "cells": [
  {
   "cell_type": "code",
   "execution_count": null,
   "id": "85e9d772",
   "metadata": {},
   "outputs": [],
   "source": [
    "HTML(read(open(\"style.html\"), String))"
   ]
  },
  {
   "attachments": {},
   "cell_type": "markdown",
   "id": "10df5164",
   "metadata": {},
   "source": [
    "# Summary\n",
    "\n",
    "Die Arbeit mit dem Titel `Chess AI Julia` behandelt die Erarbeitung einer künstlichen Schach-Intelligenz, geschrieben in [Julia 1.8.2](https://julialang.org/). Julia ist eine dynamische Allzweck-Programmiersprache, welche vor allem für wissenschaftliche Berechnungen und Big-Data-Analysen beliebt ist. Dank der Verwendung eines JIT-Compilers (Just in Time) erweist sich Julia als sehr schnell und ermöglicht es Entwicklern, prägnanten und dennoch leistungsstarken Code zu schreiben.\n",
    "\n",
    "Als Grundlage der Arbeit dient die Julia-Bibliothek [`Chess.jl`](https://romstad.github.io/Chess.jl/dev/), von [Tord Romstad](https://github.com/romstad) und 2 weiteren Kontributoren. Diese stellt eine Implementation von Schach zur Verfügung.\n",
    "\n",
    "Die KI selbst wird in mehreren Schritten implementiert. Zu Beginn wird sichergestellt, dass die KI Schach spielen kann und die allgemeinen Regeln versteht. Es werden nur zufällige Züge, das heißt keinerlei Strategie oder Taktik, verwendet. Die nachfolgenden Generation der KI verwenden zuerst den [`Minimax-Algorithmus`](https://en.wikipedia.org/wiki/Minimax), dann [`Zobrist-Hashing`](https://en.wikipedia.org/wiki/Zobrist_hashing) um `Memoisierung` umzusetzen, und zum Schluss eine optimierte Minimax-Version, die [`Alpha-Beta Suche`](https://en.wikipedia.org/wiki/Alpha%E2%80%93beta_pruning), zur Berechnung der bestmöglichen Züge. <br>\n",
    "Die zugrunde liegenden Wertigkeiten des Spielbretts und der Spielfiguren stammen von [Tomasz Michniewski](https://www.chessprogramming.org/Tomasz_Michniewski), einem polnischen Informatiker. Spielsituationen werden mit Hilfe der [Simple-Evaluation-Function](https://www.chessprogramming.org/Simplified_Evaluation_Function) bewertet.\n",
    "\n",
    "Um die verschiedenen KIs evaluieren zu können wird ihre Stärke bestimmt. Dies geschieht mit Hilfe der Schach-Website [Chess.com](https://www.chess.com/de/play/computer). Sie bietet die Möglichkeit gegen verschiedene Computer-Gegner zu spielen. Deren Stärke startet bei einer Wertigkeit von `400` und endet bei `2300`. <br>\n",
    "Die [`Alpha-Beta AI`](<5.1%20-%20Alpha-Beta-Pruning%20AI.ipynb>) gilt als erfolgreich implementiert, sobald sie einen Gegner der Wertigkeit `1300` zuverlässig, d.h. in 90% der Fälle, schlägt. \n",
    "\n",
    "Das Ergebnis dieser Arbeit ist, dass die Alpha-Beta KI die Anforderung erfüllt. Weiterhin gewinnt Sie Spiele gegen Gegner einer Wertigkeit von `1500` mit einer Wahrscheinlichkeit von `50%`.\n",
    "\n",
    "Zuletzt wird ein Ausblick auf zukünftige Arbeiten gegeben. Die Alpha-Beta Suche kann weiter optimiert werden, indem die [`Quiescence Search`](https://en.wikipedia.org/wiki/Quiescence_search) implementiert wird. Diese verhindert, dass die KI in einen [`Horizont-Effekt`](https://en.wikipedia.org/wiki/Horizon_effect) gerät. Damit wird verhindert, dass die KI einen Zug ausführt, der zwar kurzfristig gut aussieht, aber langfristig zu einem Nachteil führt. <br>\n",
    "\n",
    "Eine weitere Möglichkeit die KI zu verbessern, ist das sogenannte [`Move Ordering`](https://www.chessprogramming.org/Move_Ordering). Damit die Alpha-Beta Suche so effizient wie möglich ist, sollten zuerst die besten Züge berechnet werden. Dies kann erreicht werden, indem die Züge, mit Hilfe von bestimmten Techniken, bspw. [`Killer-Moves`](https://www.chessprogramming.org/Killer_Move) oder [`History-Heuristic`](https://www.chessprogramming.org/History_Heuristic),ihrer Wertigkeit nach sortiert werden. "
   ]
  },
  {
   "attachments": {},
   "cell_type": "markdown",
   "id": "ec4fcac0",
   "metadata": {},
   "source": [
    "***"
   ]
  },
  {
   "attachments": {},
   "cell_type": "markdown",
   "id": "28168f42",
   "metadata": {},
   "source": [
    "Diese Arbeit wurde in Jupyter Notebooks verfasst und auf GitHub ([`https://github.com/Cheatahh/chess-ai-julia`](https://github.com/Cheatahh/chess-ai-julia)) veröffentlicht. Es empfiehlt sich, die Arbeit in Jupyter zu lesen."
   ]
  }
 ],
 "metadata": {
  "kernelspec": {
   "display_name": "Julia 1.8.2",
   "language": "julia",
   "name": "julia-1.8"
  },
  "language_info": {
   "file_extension": ".jl",
   "mimetype": "application/julia",
   "name": "julia",
   "version": "1.8.2"
  }
 },
 "nbformat": 4,
 "nbformat_minor": 5
}
