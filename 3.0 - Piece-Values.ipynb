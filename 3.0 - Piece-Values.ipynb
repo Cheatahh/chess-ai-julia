{
 "cells": [
  {
   "cell_type": "code",
   "execution_count": 1,
   "id": "901b2c3a",
   "metadata": {},
   "outputs": [
    {
     "data": {
      "text/html": [
       "<link href='https://fonts.googleapis.com/css?family=Alegreya+Sans:100,300,400,500,700,800,900,100italic,300italic,400italic,500italic,700italic,800italic,900italic' rel='stylesheet' type='text/css'>\r\n",
       "<link href='https://fonts.googleapis.com/css?family=Arvo:400,700,400italic' rel='stylesheet' type='text/css'>\r\n",
       "<link href='https://fonts.googleapis.com/css?family=PT+Mono' rel='stylesheet' type='text/css'>\r\n",
       "<link href='https://fonts.googleapis.com/css?family=Shadows+Into+Light' rel='stylesheet' type='text/css'>\r\n",
       "<link href='https://fonts.googleapis.com/css?family=Philosopher:400,700,400italic,700italic' rel='stylesheet' type='text/css'>\r\n",
       "\r\n",
       "<style>\r\n",
       "\r\n",
       "@font-face {\r\n",
       "    font-family: \"Computer Modern\";\r\n",
       "    src: url('https://mirrors.ctan.org/fonts/cm-unicode/fonts/otf/cmunss.otf');\r\n",
       "}\r\n",
       "\r\n",
       ".container { width: 100% }\r\n",
       "\r\n",
       "/* Formatting for header cells */\r\n",
       ".text_cell_render h1 {\r\n",
       "    font-family: 'Philosopher', sans-serif;\r\n",
       "    font-weight: 400;\r\n",
       "    font-size: 2.2em;\r\n",
       "    line-height: 100%;\r\n",
       "    color: rgb(0, 80, 120);\r\n",
       "    margin-bottom: 0.1em;\r\n",
       "    margin-top: 0.1em;\r\n",
       "    display: block;\r\n",
       "}\t\r\n",
       ".text_cell_render h2 {\r\n",
       "    font-family: 'Philosopher', serif;\r\n",
       "    font-weight: 400;\r\n",
       "    font-size: 1.9em;\r\n",
       "    line-height: 100%;\r\n",
       "    color: rgb(200,100,0);\r\n",
       "    margin-bottom: 0.1em;\r\n",
       "    margin-top: 0.1em;\r\n",
       "    display: block;\r\n",
       "}\t\r\n",
       "\r\n",
       ".text_cell_render h3 {\r\n",
       "    font-family: 'Philosopher', serif;\r\n",
       "    margin-top:12px;\r\n",
       "    margin-bottom: 3px;\r\n",
       "    font-style: italic;\r\n",
       "    color: rgb(94,127,192);\r\n",
       "}\r\n",
       "\r\n",
       ".text_cell_render h4 {\r\n",
       "    font-family: 'Philosopher', serif;\r\n",
       "}\r\n",
       "\r\n",
       ".text_cell_render h5 {\r\n",
       "    font-family: 'Alegreya Sans', sans-serif;\r\n",
       "    font-weight: 300;\r\n",
       "    font-size: 16pt;\r\n",
       "    color: grey;\r\n",
       "    font-style: italic;\r\n",
       "    margin-bottom: .1em;\r\n",
       "    margin-top: 0.1em;\r\n",
       "    display: block;\r\n",
       "}\r\n",
       "\r\n",
       ".text_cell_render h6 {\r\n",
       "    font-family: 'PT Mono', sans-serif;\r\n",
       "    font-weight: 300;\r\n",
       "    font-size: 10pt;\r\n",
       "    color: grey;\r\n",
       "    margin-bottom: 1px;\r\n",
       "    margin-top: 1px;\r\n",
       "}\r\n",
       "\r\n",
       ".text_cell_render em {\r\n",
       "    font-family: 'Philosopher', sans-serif;\r\n",
       "    color:        blue;\r\n",
       "    background-color: rgb(255,220,180);\r\n",
       "    font-size:    110%;\r\n",
       "    margin-left:   2px;\r\n",
       "    margin-right:  2px;\r\n",
       "    font-weight:   100;\r\n",
       "}\r\n",
       "\r\n",
       ".text_cell_render b {\r\n",
       "    color:            rgb(255,195,195);\r\n",
       "    background-color: rgb(0,0,0);\r\n",
       "    font-size:    110%;\r\n",
       "    margin-left:   2px;\r\n",
       "    margin-right:  2px;\r\n",
       "    font-weight:   650;\r\n",
       "}\r\n",
       "\r\n",
       ".text_cell_render tt {\r\n",
       "    font-size:    120%;\r\n",
       "    margin-left:   2px;\r\n",
       "    margin-right:  2px;\r\n",
       "    font-weight:   150;\r\n",
       "}\r\n",
       "\r\n",
       ".Codemirror {\r\n",
       "    font-family: \"PT Mono\", sans-serif;\r\n",
       "    font-size: 100%;\r\n",
       "}\r\n",
       "\r\n",
       "</style>"
      ],
      "text/plain": [
       "HTML{String}(\"<link href='https://fonts.googleapis.com/css?family=Alegreya+Sans:100,300,400,500,700,800,900,100italic,300italic,400italic,500italic,700italic,800italic,900italic' rel='stylesheet' type='text/css'>\\r\\n<link href='https://fonts.googleapis.com/css?family=Arvo:400,700,400italic' rel='stylesheet' type='text/css'>\\r\\n<link href='https://fonts.googleapis.com/css?family=PT+Mono' rel='stylesheet' type='text/css'>\\r\\n<link href='https://fonts.googleapis.com/css?family=Shadows+Into+Light' rel='stylesheet' type='text/css'>\\r\\n<link href='https://fonts.googleapis.com/css?family=Philosopher:400,700,400italic,700italic' rel='stylesheet' type='text/css'>\\r\\n\\r\\n<style>\\r\\n\\r\\n@font-face {\\r\\n    font-family: \\\"Computer Modern\\\";\\r\\n    src: url('https://mirrors.ctan.org/fonts/cm-unicode/fonts/otf/cmunss.otf');\\r\\n}\\r\\n\\r\\n.container { width: 100% }\\r\\n\\r\\n/* Formatting for header cells */\\r\\n.text_cell_render h1 {\\r\\n    font-family: 'Philosopher', sans-serif;\\r\\n    font-weight: 400;\\r\\n    font-size: 2.2em;\\r\\n    line-height: 100%;\\r\\n    color: rgb(0, 80, 120);\\r\\n    margin-bottom: 0.1em;\\r\\n    margin-top: 0.1em;\\r\\n    display: block;\\r\\n}\\t\\r\\n.text_cell_render h2 {\\r\\n    font-family: 'Philosopher', serif;\\r\\n    font-weight: 400;\\r\\n    font-size: 1.9em;\\r\\n    line-height: 100%;\\r\\n    color: rgb(200,100,0);\\r\\n    margin-bottom: 0.1em;\\r\\n    margin-top: 0.1em;\\r\\n    display: block;\\r\\n}\\t\\r\\n\\r\\n.text_cell_render h3 {\\r\\n    font-family: 'Philosopher', serif;\\r\\n    margin-top:12px;\\r\\n    margin-bottom: 3px;\\r\\n    font-style: italic;\\r\\n    color: rgb(94,127,192);\\r\\n}\\r\\n\\r\\n.text_cell_render h4 {\\r\\n    font-family: 'Philosopher', serif;\\r\\n}\\r\\n\\r\\n.text_cell_render h5 {\\r\\n    font-family: 'Alegreya Sans', sans-serif;\\r\\n    font-weight: 300;\\r\\n    font-size: 16pt;\\r\\n    color: grey;\\r\\n    font-style: italic;\\r\\n    margin-bottom: .1em;\\r\\n    margin-top: 0.1em;\\r\\n    display: block;\\r\\n}\\r\\n\\r\\n.text_cell_render h6 {\\r\\n    font-family: 'PT Mono', sans-serif;\\r\\n    font-weight: 300;\\r\\n    font-size: 10pt;\\r\\n    color: grey;\\r\\n    margin-bottom: 1px;\\r\\n    margin-top: 1px;\\r\\n}\\r\\n\\r\\n.text_cell_render em {\\r\\n    font-family: 'Philosopher', sans-serif;\\r\\n    color:        blue;\\r\\n    background-color: rgb(255,220,180);\\r\\n    font-size:    110%;\\r\\n    margin-left:   2px;\\r\\n    margin-right:  2px;\\r\\n    font-weight:   100;\\r\\n}\\r\\n\\r\\n.text_cell_render b {\\r\\n    color:            rgb(255,195,195);\\r\\n    background-color: rgb(0,0,0);\\r\\n    font-size:    110%;\\r\\n    margin-left:   2px;\\r\\n    margin-right:  2px;\\r\\n    font-weight:   650;\\r\\n}\\r\\n\\r\\n.text_cell_render tt {\\r\\n    font-size:    120%;\\r\\n    margin-left:   2px;\\r\\n    margin-right:  2px;\\r\\n    font-weight:   150;\\r\\n}\\r\\n\\r\\n.Codemirror {\\r\\n    font-family: \\\"PT Mono\\\", sans-serif;\\r\\n    font-size: 100%;\\r\\n}\\r\\n\\r\\n</style>\")"
      ]
     },
     "execution_count": 1,
     "metadata": {},
     "output_type": "execute_result"
    }
   ],
   "source": [
    "HTML(read(open(\"style.html\"), String))"
   ]
  },
  {
   "cell_type": "code",
   "execution_count": 2,
   "id": "cd141748",
   "metadata": {},
   "outputs": [],
   "source": [
    "import Chess"
   ]
  },
  {
   "cell_type": "markdown",
   "id": "a7ba8db9",
   "metadata": {},
   "source": [
    "# Bewertung des Spielfeldes"
   ]
  },
  {
   "cell_type": "markdown",
   "id": "6a65a155",
   "metadata": {},
   "source": [
    "Um den aktuellen Spielstand eines Schachspiels, bzw. die Stärke zukünftiger Züge bestimmen zu können, wird zunächst die Wertigkeit jeder Spielfigur bestimmt. Diese Wertigkeiten werden anschließend von den Funktionen des Notebooks [`Evaluation`](3.1%20-%20Evaluation.ipynb) verwendet, um die berechneten Züge zu bewerten. Die verschiedenen implementierten Algorithmen nutzen diese Bewertung, um die bestmöglichen Züge wiederzugeben.\n",
    "\n",
    "Die `Piece Values` und die `Piece Square Values` stammen von [Tomasz Michniewski](https://www.chessprogramming.org/Tomasz_Michniewski) [9], einem polnischen Informatiker und wurden diesem [Chess-Wiki](https://www.chessprogramming.org/Simplified_Evaluation_Function) [10] entnommen. Sie wurden in dem polnischen Schachprogrammierung-Forum \"progszach\" zu Diskussionszwecken veröffentlicht."
   ]
  },
  {
   "cell_type": "markdown",
   "id": "8b036af0",
   "metadata": {},
   "source": [
    "## Piece Value\n",
    "\n",
    "Wir beginnen mit der Definition der Spielfigur-Werte oder auch Piece Values. Die Bewertung ist in Centi-Pawns angegeben. Ein Centi-Pawn ist eine Maßeinheit zur Berechnung des Vorteils im Schach und wird hauptsächlich von Spielern und Anwendungen im Computer-Schach zur Positionsevaluierung verwendet. Ein Centi-Pawn besitzt dabei die Wertigkeit von 1/100 eines Bauern.\n",
    "\n",
    "Der tatsächliche Wert einer Figur ist abhängig von dem Nutzen sowie der Wichtigkeit der Figur. Es werden somit folgende Wertigkeiten festgehalten:\n",
    "\n",
    "- Pawn: 100\n",
    "- Knight: 320\n",
    "- Bishop: 330\n",
    "- Rook: 500\n",
    "- Queen: 900\n",
    "- King: 0\n",
    "\n",
    "Diese Werte gelten für beide Seiten. \n",
    "\n",
    "Da der König als Figur nicht schlagbar ist, und jede Spielpartei genau einen König besitzt, ist dessen Wert zu vernachlässigen und kann theoretisch mit jeder Wertigkeit belegt werden. Um die Ausgabe und den Werte-Rahmen so simpel wie möglich zu gestalten, haben wir uns für den Wert 0 entschieden.\n",
    "\n",
    "Die Definition als Konstante wurde gewählt, damit der Zugriff auf diese Werte vom Just-in-time Compiler optimiert werden kann."
   ]
  },
  {
   "cell_type": "code",
   "execution_count": 3,
   "id": "090d5893",
   "metadata": {},
   "outputs": [
    {
     "data": {
      "text/plain": [
       "100"
      ]
     },
     "execution_count": 3,
     "metadata": {},
     "output_type": "execute_result"
    }
   ],
   "source": [
    "if !@isdefined(PIECE_VALUE_PAWN)\n",
    "    const PIECE_VALUE_PAWN::Int32 = 100\n",
    "end"
   ]
  },
  {
   "cell_type": "code",
   "execution_count": 4,
   "id": "5fb6eb3d",
   "metadata": {},
   "outputs": [
    {
     "data": {
      "text/plain": [
       "320"
      ]
     },
     "execution_count": 4,
     "metadata": {},
     "output_type": "execute_result"
    }
   ],
   "source": [
    "if !@isdefined(PIECE_VALUE_KNIGHT)\n",
    "    const PIECE_VALUE_KNIGHT::Int32 = 320\n",
    "end"
   ]
  },
  {
   "cell_type": "code",
   "execution_count": 5,
   "id": "0f5e510d",
   "metadata": {},
   "outputs": [
    {
     "data": {
      "text/plain": [
       "330"
      ]
     },
     "execution_count": 5,
     "metadata": {},
     "output_type": "execute_result"
    }
   ],
   "source": [
    "if !@isdefined(PIECE_VALUE_BISHOP)\n",
    "    const PIECE_VALUE_BISHOP::Int32 = 330\n",
    "end"
   ]
  },
  {
   "cell_type": "code",
   "execution_count": 6,
   "id": "bf332a5e",
   "metadata": {},
   "outputs": [
    {
     "data": {
      "text/plain": [
       "500"
      ]
     },
     "execution_count": 6,
     "metadata": {},
     "output_type": "execute_result"
    }
   ],
   "source": [
    "if !@isdefined(PIECE_VALUE_ROOK)\n",
    "    const PIECE_VALUE_ROOK::Int32 = 500\n",
    "end"
   ]
  },
  {
   "cell_type": "code",
   "execution_count": 7,
   "id": "bc03c122",
   "metadata": {},
   "outputs": [
    {
     "data": {
      "text/plain": [
       "900"
      ]
     },
     "execution_count": 7,
     "metadata": {},
     "output_type": "execute_result"
    }
   ],
   "source": [
    "if !@isdefined(PIECE_VALUE_QUEEN)\n",
    "    const PIECE_VALUE_QUEEN::Int32 = 900\n",
    "end"
   ]
  },
  {
   "cell_type": "code",
   "execution_count": 8,
   "id": "20ab8410",
   "metadata": {},
   "outputs": [
    {
     "data": {
      "text/plain": [
       "0"
      ]
     },
     "execution_count": 8,
     "metadata": {},
     "output_type": "execute_result"
    }
   ],
   "source": [
    "if !@isdefined(PIECE_VALUE_KING)\n",
    "    const PIECE_VALUE_KING::Int32 = 0\n",
    "end"
   ]
  },
  {
   "cell_type": "markdown",
   "id": "cae3e66b",
   "metadata": {},
   "source": [
    "Die einzelnen Konstanten werden anschließend in einem Array zusammengefasst."
   ]
  },
  {
   "cell_type": "code",
   "execution_count": 9,
   "id": "ac4243f6",
   "metadata": {},
   "outputs": [
    {
     "data": {
      "text/plain": [
       "6-element Vector{Int32}:\n",
       " 100\n",
       " 320\n",
       " 330\n",
       " 500\n",
       " 900\n",
       "   0"
      ]
     },
     "execution_count": 9,
     "metadata": {},
     "output_type": "execute_result"
    }
   ],
   "source": [
    "if !@isdefined(PIECE_VALUES)\n",
    "    const PIECE_VALUES::Array{Int32} = [\n",
    "        PIECE_VALUE_PAWN, \n",
    "        PIECE_VALUE_KNIGHT, \n",
    "        PIECE_VALUE_BISHOP,\n",
    "        PIECE_VALUE_ROOK,\n",
    "        PIECE_VALUE_QUEEN,\n",
    "        PIECE_VALUE_KING\n",
    "    ]\n",
    "end"
   ]
  },
  {
   "cell_type": "markdown",
   "id": "18d05d39",
   "metadata": {},
   "source": [
    "***"
   ]
  },
  {
   "cell_type": "markdown",
   "id": "0d2d7d17",
   "metadata": {},
   "source": [
    "## Piece Square Tables\n",
    "\n",
    "Spielfiguren besitzen je nach Position eine unterschiedliche Wertigkeit. Beispielweise ist von deutlichem Vorteil, einen Bauer in den oberen Bereich des Spielfeldes zu bewegen, um eine Promotion auf eine höherwertige Figur zu vollziehen.\n",
    "\n",
    "Um die Positionsstärke einer Figur auf einem gegebenen Spielfeld schnell und effektiv abfragen zu können, definieren wir für jeden Figurtyp eine Gewicht-Matrix ([Piece Square Table](https://www.chessprogramming.org/Simplified_Evaluation_Function)).\n",
    "<br>\n",
    "\n",
    "Um die schwarzen `Piece Square Tables` korrekt zu verwenden, müssen die weißen Werte wieder konvertiert werden. Dazu wird zuerst die Matrix an der x-Achse gespiegelt. Dies symbolisiert die Spielrichtung von Schwarz.\n",
    "<br>"
   ]
  },
  {
   "cell_type": "code",
   "execution_count": 10,
   "id": "90ab6ed4",
   "metadata": {},
   "outputs": [
    {
     "data": {
      "text/plain": [
       "Matrix{Int32}\u001B[90m (alias for \u001B[39m\u001B[90mArray{Int32, 2}\u001B[39m\u001B[90m)\u001B[39m"
      ]
     },
     "execution_count": 10,
     "metadata": {},
     "output_type": "execute_result"
    }
   ],
   "source": [
    "if !@isdefined(PieceSquareTable)\n",
    "    const PieceSquareTable = Matrix{Int32}\n",
    "end"
   ]
  },
  {
   "cell_type": "code",
   "execution_count": 11,
   "id": "da4d4bdd",
   "metadata": {},
   "outputs": [
    {
     "data": {
      "text/plain": [
       "8×8 Matrix{Int64}:\n",
       "  0   0    0    0    0    0   0   0\n",
       " 50  50   50   50   50   50  50  50\n",
       " 10  10   20   30   30   20  10  10\n",
       "  5   5   10   25   25   10   5   5\n",
       "  0   0    0   20   20    0   0   0\n",
       "  5  -5  -10    0    0  -10  -5   5\n",
       "  5  10   10  -20  -20   10  10   5\n",
       "  0   0    0    0    0    0   0   0"
      ]
     },
     "execution_count": 11,
     "metadata": {},
     "output_type": "execute_result"
    }
   ],
   "source": [
    "if !@isdefined(PIECE_SQUARE_TABLE_WP)\n",
    "    const PIECE_SQUARE_TABLE_WP::PieceSquareTable = [ \n",
    "        [0    0   0   0   0   0   0   0] \n",
    "        [50  50  50  50  50  50  50  50] \n",
    "        [10  10  20  30  30  20  10  10] \n",
    "        [5    5  10  25  25  10   5   5] \n",
    "        [0    0   0  20  20   0   0   0] \n",
    "        [5   -5 -10   0   0 -10  -5   5] \n",
    "        [5   10  10 -20 -20  10  10   5] \n",
    "        [0    0   0   0   0   0   0   0]  \n",
    "    ]\n",
    "end"
   ]
  },
  {
   "cell_type": "code",
   "execution_count": 12,
   "id": "76e61885",
   "metadata": {},
   "outputs": [
    {
     "data": {
      "text/plain": [
       "8×8 Matrix{Int32}:\n",
       "  0   0    0    0    0    0   0   0\n",
       "  5  10   10  -20  -20   10  10   5\n",
       "  5  -5  -10    0    0  -10  -5   5\n",
       "  0   0    0   20   20    0   0   0\n",
       "  5   5   10   25   25   10   5   5\n",
       " 10  10   20   30   30   20  10  10\n",
       " 50  50   50   50   50   50  50  50\n",
       "  0   0    0    0    0    0   0   0"
      ]
     },
     "execution_count": 12,
     "metadata": {},
     "output_type": "execute_result"
    }
   ],
   "source": [
    "if !@isdefined(PIECE_SQUARE_TABLE_BP)\n",
    "    const PIECE_SQUARE_TABLE_BP::PieceSquareTable = reverse(PIECE_SQUARE_TABLE_WP, \n",
    "    dims = 1)\n",
    "end"
   ]
  },
  {
   "cell_type": "code",
   "execution_count": 13,
   "id": "99458854",
   "metadata": {},
   "outputs": [
    {
     "data": {
      "text/plain": [
       "8×8 Matrix{Int64}:\n",
       " -50  -40  -30  -30  -30  -30  -40  -50\n",
       " -40  -20    0    0    0    0  -20  -40\n",
       " -30    0   10   15   15   10    0  -30\n",
       " -30    5   15   20   20   15    5  -30\n",
       " -30    0   15   20   20   15    0  -30\n",
       " -30    5   10   15   15   10    5  -30\n",
       " -40  -20    0    5    5    0  -20  -40\n",
       " -50  -40  -30  -30  -30  -30  -40  -50"
      ]
     },
     "execution_count": 13,
     "metadata": {},
     "output_type": "execute_result"
    }
   ],
   "source": [
    "if !@isdefined(PIECE_SQUARE_TABLE_WN)\n",
    "    const PIECE_SQUARE_TABLE_WN::PieceSquareTable = [\n",
    "        [-50 -40 -30 -30 -30 -30 -40 -50] \n",
    "        [-40 -20   0   0   0   0 -20 -40] \n",
    "        [-30   0  10  15  15  10   0 -30] \n",
    "        [-30   5  15  20  20  15   5 -30] \n",
    "        [-30   0  15  20  20  15   0 -30] \n",
    "        [-30   5  10  15  15  10   5 -30] \n",
    "        [-40 -20   0   5   5   0 -20 -40] \n",
    "        [-50 -40 -30 -30 -30 -30 -40 -50]    \n",
    "    ]\n",
    "end"
   ]
  },
  {
   "cell_type": "code",
   "execution_count": 14,
   "id": "6c55b3a7",
   "metadata": {},
   "outputs": [
    {
     "data": {
      "text/plain": [
       "8×8 Matrix{Int32}:\n",
       " -50  -40  -30  -30  -30  -30  -40  -50\n",
       " -40  -20    0    5    5    0  -20  -40\n",
       " -30    5   10   15   15   10    5  -30\n",
       " -30    0   15   20   20   15    0  -30\n",
       " -30    5   15   20   20   15    5  -30\n",
       " -30    0   10   15   15   10    0  -30\n",
       " -40  -20    0    0    0    0  -20  -40\n",
       " -50  -40  -30  -30  -30  -30  -40  -50"
      ]
     },
     "execution_count": 14,
     "metadata": {},
     "output_type": "execute_result"
    }
   ],
   "source": [
    "if !@isdefined(PIECE_SQUARE_TABLE_BN)\n",
    "    const PIECE_SQUARE_TABLE_BN::PieceSquareTable = reverse(PIECE_SQUARE_TABLE_WN, \n",
    "    dims = 1)\n",
    "end"
   ]
  },
  {
   "cell_type": "code",
   "execution_count": 15,
   "id": "46ab8e4e",
   "metadata": {},
   "outputs": [
    {
     "data": {
      "text/plain": [
       "8×8 Matrix{Int64}:\n",
       " -20  -10  -10  -10  -10  -10  -10  -20\n",
       " -10    0    0    0    0    0    0  -10\n",
       " -10    0    5   10   10    5    0  -10\n",
       " -10    5    5   10   10    5    5  -10\n",
       " -10    0   10   10   10   10    0  -10\n",
       " -10   10   10   10   10   10   10  -10\n",
       " -10    5    0    0    0    0    5  -10\n",
       " -20  -10  -10  -10  -10  -10  -10  -20"
      ]
     },
     "execution_count": 15,
     "metadata": {},
     "output_type": "execute_result"
    }
   ],
   "source": [
    "if !@isdefined(PIECE_SQUARE_TABLE_WB)\n",
    "    const PIECE_SQUARE_TABLE_WB::PieceSquareTable = [\n",
    "        [-20 -10 -10 -10 -10 -10 -10 -20] \n",
    "        [-10   0   0   0   0   0   0 -10] \n",
    "        [-10   0   5  10  10   5   0 -10] \n",
    "        [-10   5   5  10  10   5   5 -10] \n",
    "        [-10   0  10  10  10  10   0 -10] \n",
    "        [-10  10  10  10  10  10  10 -10] \n",
    "        [-10   5   0   0   0   0   5 -10] \n",
    "        [-20 -10 -10 -10 -10 -10 -10 -20]                                    \n",
    "    ]\n",
    "end"
   ]
  },
  {
   "cell_type": "code",
   "execution_count": 16,
   "id": "ca56469a",
   "metadata": {},
   "outputs": [
    {
     "data": {
      "text/plain": [
       "8×8 Matrix{Int32}:\n",
       " -20  -10  -10  -10  -10  -10  -10  -20\n",
       " -10    5    0    0    0    0    5  -10\n",
       " -10   10   10   10   10   10   10  -10\n",
       " -10    0   10   10   10   10    0  -10\n",
       " -10    5    5   10   10    5    5  -10\n",
       " -10    0    5   10   10    5    0  -10\n",
       " -10    0    0    0    0    0    0  -10\n",
       " -20  -10  -10  -10  -10  -10  -10  -20"
      ]
     },
     "execution_count": 16,
     "metadata": {},
     "output_type": "execute_result"
    }
   ],
   "source": [
    "if !@isdefined(PIECE_SQUARE_TABLE_BB)\n",
    "    const PIECE_SQUARE_TABLE_BB::PieceSquareTable = reverse(PIECE_SQUARE_TABLE_WB, \n",
    "    dims = 1)\n",
    "end"
   ]
  },
  {
   "cell_type": "code",
   "execution_count": 17,
   "id": "0a7c1a01",
   "metadata": {},
   "outputs": [
    {
     "data": {
      "text/plain": [
       "8×8 Matrix{Int64}:\n",
       "  0   0   0   0   0   0   0   0\n",
       "  5  10  10  10  10  10  10   5\n",
       " -5   0   0   0   0   0   0  -5\n",
       " -5   0   0   0   0   0   0  -5\n",
       " -5   0   0   0   0   0   0  -5\n",
       " -5   0   0   0   0   0   0  -5\n",
       " -5   0   0   0   0   0   0  -5\n",
       "  0   0   0   5   5   0   0   0"
      ]
     },
     "execution_count": 17,
     "metadata": {},
     "output_type": "execute_result"
    }
   ],
   "source": [
    "if !@isdefined(PIECE_SQUARE_TABLE_WR)\n",
    "    const PIECE_SQUARE_TABLE_WR::PieceSquareTable = [\n",
    "        [  0   0   0   0   0   0   0   0] \n",
    "        [  5  10  10  10  10  10  10   5] \n",
    "        [ -5   0   0   0   0   0   0  -5] \n",
    "        [ -5   0   0   0   0   0   0  -5] \n",
    "        [ -5   0   0   0   0   0   0  -5] \n",
    "        [ -5   0   0   0   0   0   0  -5] \n",
    "        [ -5   0   0   0   0   0   0  -5] \n",
    "        [  0   0   0   5   5   0   0   0]                             \n",
    "    ]\n",
    "end"
   ]
  },
  {
   "cell_type": "code",
   "execution_count": 18,
   "id": "6692f93b",
   "metadata": {},
   "outputs": [
    {
     "data": {
      "text/plain": [
       "8×8 Matrix{Int32}:\n",
       "  0   0   0   5   5   0   0   0\n",
       " -5   0   0   0   0   0   0  -5\n",
       " -5   0   0   0   0   0   0  -5\n",
       " -5   0   0   0   0   0   0  -5\n",
       " -5   0   0   0   0   0   0  -5\n",
       " -5   0   0   0   0   0   0  -5\n",
       "  5  10  10  10  10  10  10   5\n",
       "  0   0   0   0   0   0   0   0"
      ]
     },
     "execution_count": 18,
     "metadata": {},
     "output_type": "execute_result"
    }
   ],
   "source": [
    "if !@isdefined(PIECE_SQUARE_TABLE_BR)\n",
    "    const PIECE_SQUARE_TABLE_BR::PieceSquareTable = reverse(PIECE_SQUARE_TABLE_WR, \n",
    "    dims = 1)\n",
    "end"
   ]
  },
  {
   "cell_type": "code",
   "execution_count": 19,
   "id": "4fdda33c",
   "metadata": {},
   "outputs": [
    {
     "data": {
      "text/plain": [
       "8×8 Matrix{Int64}:\n",
       " -20  -10  -10  -5  -5  -10  -10  -20\n",
       " -10    0    0   0   0    0    0  -10\n",
       " -10    0    5   5   5    5    0  -10\n",
       "  -5    0    5   5   5    5    0   -5\n",
       "   0    0    5   5   5    5    0   -5\n",
       " -10    5    5   5   5    5    0  -10\n",
       " -10    0    5   0   0    0    0  -10\n",
       " -20  -10  -10  -5  -5  -10  -10  -20"
      ]
     },
     "execution_count": 19,
     "metadata": {},
     "output_type": "execute_result"
    }
   ],
   "source": [
    "if !@isdefined(PIECE_SQUARE_TABLE_WQ)\n",
    "    const PIECE_SQUARE_TABLE_WQ::PieceSquareTable = [ \n",
    "        [-20 -10 -10  -5  -5 -10 -10 -20] \n",
    "        [-10   0   0   0   0   0   0 -10] \n",
    "        [-10   0   5   5   5   5   0 -10] \n",
    "        [ -5   0   5   5   5   5   0  -5] \n",
    "        [  0   0   5   5   5   5   0  -5] \n",
    "        [-10   5   5   5   5   5   0 -10] \n",
    "        [-10   0   5   0   0   0   0 -10] \n",
    "        [-20 -10 -10  -5  -5 -10 -10 -20]                              \n",
    "    ]\n",
    "end"
   ]
  },
  {
   "cell_type": "code",
   "execution_count": 20,
   "id": "4fe41e59",
   "metadata": {},
   "outputs": [
    {
     "data": {
      "text/plain": [
       "8×8 Matrix{Int32}:\n",
       " -20  -10  -10  -5  -5  -10  -10  -20\n",
       " -10    0    5   0   0    0    0  -10\n",
       " -10    5    5   5   5    5    0  -10\n",
       "   0    0    5   5   5    5    0   -5\n",
       "  -5    0    5   5   5    5    0   -5\n",
       " -10    0    5   5   5    5    0  -10\n",
       " -10    0    0   0   0    0    0  -10\n",
       " -20  -10  -10  -5  -5  -10  -10  -20"
      ]
     },
     "execution_count": 20,
     "metadata": {},
     "output_type": "execute_result"
    }
   ],
   "source": [
    "if !@isdefined(PIECE_SQUARE_TABLE_BQ)\n",
    "    const PIECE_SQUARE_TABLE_BQ::PieceSquareTable = reverse(PIECE_SQUARE_TABLE_WQ, \n",
    "    dims = 1)\n",
    "end"
   ]
  },
  {
   "cell_type": "code",
   "execution_count": 21,
   "id": "6fd707f1",
   "metadata": {},
   "outputs": [
    {
     "data": {
      "text/plain": [
       "8×8 Matrix{Int64}:\n",
       " -30  -40  -40  -50  -50  -40  -40  -30\n",
       " -30  -40  -40  -50  -50  -40  -40  -30\n",
       " -30  -40  -40  -50  -50  -40  -40  -30\n",
       " -30  -40  -40  -50  -50  -40  -40  -30\n",
       " -20  -30  -30  -40  -40  -30  -30  -20\n",
       " -10  -20  -20  -20  -20  -20  -20  -10\n",
       "  20   20    0    0    0    0   20   20\n",
       "  20   30   10    0    0   10   30   20"
      ]
     },
     "execution_count": 21,
     "metadata": {},
     "output_type": "execute_result"
    }
   ],
   "source": [
    "if !@isdefined(PIECE_SQUARE_TABLE_WK)\n",
    "    const PIECE_SQUARE_TABLE_WK::PieceSquareTable = [\n",
    "        [-30 -40 -40 -50 -50 -40 -40 -30] \n",
    "        [-30 -40 -40 -50 -50 -40 -40 -30] \n",
    "        [-30 -40 -40 -50 -50 -40 -40 -30] \n",
    "        [-30 -40 -40 -50 -50 -40 -40 -30] \n",
    "        [-20 -30 -30 -40 -40 -30 -30 -20] \n",
    "        [-10 -20 -20 -20 -20 -20 -20 -10] \n",
    "        [ 20  20   0   0   0   0  20  20] \n",
    "        [ 20  30  10   0   0  10  30  20]\n",
    "    ]\n",
    "end"
   ]
  },
  {
   "cell_type": "code",
   "execution_count": 22,
   "id": "57e87084",
   "metadata": {},
   "outputs": [
    {
     "data": {
      "text/plain": [
       "8×8 Matrix{Int32}:\n",
       "  20   30   10    0    0   10   30   20\n",
       "  20   20    0    0    0    0   20   20\n",
       " -10  -20  -20  -20  -20  -20  -20  -10\n",
       " -20  -30  -30  -40  -40  -30  -30  -20\n",
       " -30  -40  -40  -50  -50  -40  -40  -30\n",
       " -30  -40  -40  -50  -50  -40  -40  -30\n",
       " -30  -40  -40  -50  -50  -40  -40  -30\n",
       " -30  -40  -40  -50  -50  -40  -40  -30"
      ]
     },
     "execution_count": 22,
     "metadata": {},
     "output_type": "execute_result"
    }
   ],
   "source": [
    "if !@isdefined(PIECE_SQUARE_TABLE_BK)\n",
    "    const PIECE_SQUARE_TABLE_BK::PieceSquareTable = reverse(PIECE_SQUARE_TABLE_WK, \n",
    "    dims = 1)\n",
    "end"
   ]
  },
  {
   "cell_type": "code",
   "execution_count": 23,
   "id": "e7922ee8",
   "metadata": {},
   "outputs": [
    {
     "data": {
      "text/plain": [
       "8×8 Matrix{Int64}:\n",
       " -50  -40  -30  -20  -20  -30  -40  -50\n",
       " -30  -20  -10    0    0  -10  -20  -30\n",
       " -30  -10   20   30   30   20  -10  -30\n",
       " -30  -10   30   40   40   30  -10  -30\n",
       " -30  -10   30   40   40   30  -10  -30\n",
       " -30  -10   20   30   30   20  -10  -30\n",
       " -30  -30    0    0    0    0  -30  -30\n",
       " -50  -30  -30  -30  -30  -30  -30  -50"
      ]
     },
     "execution_count": 23,
     "metadata": {},
     "output_type": "execute_result"
    }
   ],
   "source": [
    "if !@isdefined(PIECE_SQUARE_TABLE_WK_EG)\n",
    "    const PIECE_SQUARE_TABLE_WK_EG::PieceSquareTable = [\n",
    "        [-50 -40 -30 -20 -20 -30 -40 -50]\n",
    "        [-30 -20 -10   0   0 -10 -20 -30]\n",
    "        [-30 -10  20  30  30  20 -10 -30]\n",
    "        [-30 -10  30  40  40  30 -10 -30]\n",
    "        [-30 -10  30  40  40  30 -10 -30]\n",
    "        [-30 -10  20  30  30  20 -10 -30]\n",
    "        [-30 -30   0   0   0   0 -30 -30]\n",
    "        [-50 -30 -30 -30 -30 -30 -30 -50]\n",
    "    ]\n",
    "end"
   ]
  },
  {
   "cell_type": "code",
   "execution_count": 24,
   "id": "ff116608",
   "metadata": {},
   "outputs": [
    {
     "data": {
      "text/plain": [
       "8×8 Matrix{Int32}:\n",
       " -50  -30  -30  -30  -30  -30  -30  -50\n",
       " -30  -30    0    0    0    0  -30  -30\n",
       " -30  -10   20   30   30   20  -10  -30\n",
       " -30  -10   30   40   40   30  -10  -30\n",
       " -30  -10   30   40   40   30  -10  -30\n",
       " -30  -10   20   30   30   20  -10  -30\n",
       " -30  -20  -10    0    0  -10  -20  -30\n",
       " -50  -40  -30  -20  -20  -30  -40  -50"
      ]
     },
     "execution_count": 24,
     "metadata": {},
     "output_type": "execute_result"
    }
   ],
   "source": [
    "if !@isdefined(PIECE_SQUARE_TABLE_BK_EG)\n",
    "    const PIECE_SQUARE_TABLE_BK_EG::PieceSquareTable = reverse(PIECE_SQUARE_TABLE_WK_EG, \n",
    "    dims = 1)\n",
    "end"
   ]
  },
  {
   "cell_type": "markdown",
   "id": "72225153",
   "metadata": {},
   "source": [
    "Die einzelnen Konstanten werden anschließend in einem Array zusammengefasst.\n",
    "\n",
    "Es ist wichtig zu erwähnen, dass die Konstanten im Array wie folgt indexiert werden:\n",
    "<br>\n",
    "+ index  1 (= Chess.PIECE_WP.val)\n",
    "+ index  2 (= Chess.PIECE_WN.val)\n",
    "+ index  3 (= Chess.PIECE_WB.val)\n",
    "+ index  4 (= Chess.PIECE_WR.val)\n",
    "+ index  5 (= Chess.PIECE_WQ.val)\n",
    "+ index  6 (= Chess.PIECE_WK.val)\n",
    "<br>\n",
    "\n",
    "+ index  7 (invalid)\n",
    "+ index  8 (invalid)\n",
    "<br>\n",
    "\n",
    "+ index  9 (= Chess.PIECE_BP.val)\n",
    "+ index 10 (= Chess.PIECE_BN.val)\n",
    "+ index 11 (= Chess.PIECE_BB.val)\n",
    "+ index 12 (= Chess.PIECE_BR.val)\n",
    "+ index 13 (= Chess.PIECE_BQ.val)\n",
    "+ index 14 (= Chess.PIECE_BK.val)\n",
    "<br>\n",
    "\n",
    "Diese Indexe, insbesondere die `invalid` Indexe sind auf die binäre Verarbeitung seitens `Chess.jl` zurückzuführen."
   ]
  },
  {
   "cell_type": "code",
   "execution_count": 25,
   "id": "e8ea8f36",
   "metadata": {
    "scrolled": true
   },
   "outputs": [
    {
     "data": {
      "text/plain": [
       "Vector{Union{Nothing, Matrix{Int32}}}\u001B[90m (alias for \u001B[39m\u001B[90mArray{Union{Nothing, Array{Int32, 2}}, 1}\u001B[39m\u001B[90m)\u001B[39m"
      ]
     },
     "execution_count": 25,
     "metadata": {},
     "output_type": "execute_result"
    }
   ],
   "source": [
    "if !@isdefined(PieceSquareTables)\n",
    "    const PieceSquareTables = Vector{Union{Nothing, PieceSquareTable}}\n",
    "end"
   ]
  },
  {
   "cell_type": "markdown",
   "id": "9b6a3593",
   "metadata": {},
   "source": [
    "Im Schach wird zwischen der Eröffnung, dem Mittelspiel und dem Endspiel unterschieden.\n",
    "<br>\n",
    "Die Eröffnung bezeichnet den Beginn des Spiels. Es werden bekannte und wohldefinierte Züge verwendet, um wichtige Figuren in gute Positionen zu bewegen. Ein Beispiel ist die [Sizilianische Verteidigung](https://en.wikipedia.org/wiki/Sicilian_Defence), mit welcher auf eine `e2e4` Eröffnung reagiert wird.\n",
    "\n",
    "Das Mittelspiel ist erreicht, sobald die Vorbereitung der Spieler abgeschlossen ist und diese anfangen den Gegner anzugreifen und Figuren zu schlagen.\n",
    "<br>\n",
    "In dieser Ausarbeitung werden die gleichen Werte für Eröffnung und Mittelspiel verwendet. Für das Endspiel werden neue Spielfeldbewertungen verwendet. Diese wurden ebenfalls von `Tomasz Michniewski` beschrieben. Die nachfolgenden Konstanten enthalten sowohl die Werte für das Mittel- als auch das Endspiel."
   ]
  },
  {
   "cell_type": "code",
   "execution_count": 26,
   "id": "3b66692f",
   "metadata": {},
   "outputs": [
    {
     "data": {
      "text/plain": [
       "14-element Vector{Union{Nothing, Matrix{Int32}}}:\n",
       " Int32[100 100 … 100 100; 150 150 … 150 150; … ; 105 110 … 110 105; 100 100 … 100 100]\n",
       " Int32[270 280 … 280 270; 280 300 … 300 280; … ; 280 300 … 300 280; 270 280 … 280 270]\n",
       " Int32[310 320 … 320 310; 320 330 … 330 320; … ; 320 335 … 335 320; 310 320 … 320 310]\n",
       " Int32[500 500 … 500 500; 505 510 … 510 505; … ; 495 500 … 500 495; 500 500 … 500 500]\n",
       " Int32[880 890 … 890 880; 890 900 … 900 890; … ; 890 900 … 900 890; 880 890 … 890 880]\n",
       " Int32[-30 -40 … -40 -30; -30 -40 … -40 -30; … ; 20 20 … 20 20; 20 30 … 30 20]\n",
       " nothing\n",
       " nothing\n",
       " Int32[100 100 … 100 100; 105 110 … 110 105; … ; 150 150 … 150 150; 100 100 … 100 100]\n",
       " Int32[270 280 … 280 270; 280 300 … 300 280; … ; 280 300 … 300 280; 270 280 … 280 270]\n",
       " Int32[310 320 … 320 310; 320 335 … 335 320; … ; 320 330 … 330 320; 310 320 … 320 310]\n",
       " Int32[500 500 … 500 500; 495 500 … 500 495; … ; 505 510 … 510 505; 500 500 … 500 500]\n",
       " Int32[880 890 … 890 880; 890 900 … 900 890; … ; 890 900 … 900 890; 880 890 … 890 880]\n",
       " Int32[20 30 … 30 20; 20 20 … 20 20; … ; -30 -40 … -40 -30; -30 -40 … -40 -30]"
      ]
     },
     "execution_count": 26,
     "metadata": {},
     "output_type": "execute_result"
    }
   ],
   "source": [
    "if !@isdefined(PIECE_SQUARE_TABLES_MIDGAME)\n",
    "    const PIECE_SQUARE_TABLES_MIDGAME::PieceSquareTables = [\n",
    "        PIECE_SQUARE_TABLE_WP .+ PIECE_VALUE_PAWN, \n",
    "        PIECE_SQUARE_TABLE_WN .+ PIECE_VALUE_KNIGHT, \n",
    "        PIECE_SQUARE_TABLE_WB .+ PIECE_VALUE_BISHOP, \n",
    "        PIECE_SQUARE_TABLE_WR .+ PIECE_VALUE_ROOK, \n",
    "        PIECE_SQUARE_TABLE_WQ .+ PIECE_VALUE_QUEEN, \n",
    "        PIECE_SQUARE_TABLE_WK .+ PIECE_VALUE_KING, \n",
    "        \n",
    "        nothing, \n",
    "        nothing, \n",
    "        \n",
    "        PIECE_SQUARE_TABLE_BP .+ PIECE_VALUE_PAWN, \n",
    "        PIECE_SQUARE_TABLE_BN .+ PIECE_VALUE_KNIGHT, \n",
    "        PIECE_SQUARE_TABLE_BB .+ PIECE_VALUE_BISHOP, \n",
    "        PIECE_SQUARE_TABLE_BR .+ PIECE_VALUE_ROOK, \n",
    "        PIECE_SQUARE_TABLE_BQ .+ PIECE_VALUE_QUEEN, \n",
    "        PIECE_SQUARE_TABLE_BK .+ PIECE_VALUE_KING, \n",
    "    ]\n",
    "end"
   ]
  },
  {
   "cell_type": "code",
   "execution_count": 28,
   "id": "d9a43991",
   "metadata": {},
   "outputs": [
    {
     "data": {
      "text/plain": [
       "14-element Vector{Union{Nothing, Matrix{Int32}}}:\n",
       " Int32[100 100 … 100 100; 150 150 … 150 150; … ; 105 110 … 110 105; 100 100 … 100 100]\n",
       " Int32[270 280 … 280 270; 280 300 … 300 280; … ; 280 300 … 300 280; 270 280 … 280 270]\n",
       " Int32[310 320 … 320 310; 320 330 … 330 320; … ; 320 335 … 335 320; 310 320 … 320 310]\n",
       " Int32[500 500 … 500 500; 505 510 … 510 505; … ; 495 500 … 500 495; 500 500 … 500 500]\n",
       " Int32[880 890 … 890 880; 890 900 … 900 890; … ; 890 900 … 900 890; 880 890 … 890 880]\n",
       " Int32[-50 -40 … -40 -50; -30 -20 … -20 -30; … ; -30 -30 … -30 -30; -50 -30 … -30 -50]\n",
       " nothing\n",
       " nothing\n",
       " Int32[100 100 … 100 100; 105 110 … 110 105; … ; 150 150 … 150 150; 100 100 … 100 100]\n",
       " Int32[270 280 … 280 270; 280 300 … 300 280; … ; 280 300 … 300 280; 270 280 … 280 270]\n",
       " Int32[310 320 … 320 310; 320 335 … 335 320; … ; 320 330 … 330 320; 310 320 … 320 310]\n",
       " Int32[500 500 … 500 500; 495 500 … 500 495; … ; 505 510 … 510 505; 500 500 … 500 500]\n",
       " Int32[880 890 … 890 880; 890 900 … 900 890; … ; 890 900 … 900 890; 880 890 … 890 880]\n",
       " Int32[-50 -30 … -30 -50; -30 -30 … -30 -30; … ; -30 -20 … -20 -30; -50 -40 … -40 -50]"
      ]
     },
     "execution_count": 28,
     "metadata": {},
     "output_type": "execute_result"
    }
   ],
   "source": [
    "if !@isdefined(PIECE_SQUARE_TABLES_ENDGAME)\n",
    "    const PIECE_SQUARE_TABLES_ENDGAME::PieceSquareTables = [\n",
    "        PIECE_SQUARE_TABLE_WP    .+ PIECE_VALUE_PAWN, \n",
    "        PIECE_SQUARE_TABLE_WN    .+ PIECE_VALUE_KNIGHT, \n",
    "        PIECE_SQUARE_TABLE_WB    .+ PIECE_VALUE_BISHOP, \n",
    "        PIECE_SQUARE_TABLE_WR    .+ PIECE_VALUE_ROOK, \n",
    "        PIECE_SQUARE_TABLE_WQ    .+ PIECE_VALUE_QUEEN, \n",
    "        PIECE_SQUARE_TABLE_WK_EG .+ PIECE_VALUE_KING, \n",
    "        \n",
    "        nothing, \n",
    "        nothing, \n",
    "        \n",
    "        PIECE_SQUARE_TABLE_BP    .+ PIECE_VALUE_PAWN, \n",
    "        PIECE_SQUARE_TABLE_BN    .+ PIECE_VALUE_KNIGHT, \n",
    "        PIECE_SQUARE_TABLE_BB    .+ PIECE_VALUE_BISHOP, \n",
    "        PIECE_SQUARE_TABLE_BR    .+ PIECE_VALUE_ROOK, \n",
    "        PIECE_SQUARE_TABLE_BQ    .+ PIECE_VALUE_QUEEN, \n",
    "        PIECE_SQUARE_TABLE_BK_EG .+ PIECE_VALUE_KING, \n",
    "    ]\n",
    "end"
   ]
  },
  {
   "cell_type": "markdown",
   "id": "6d540e15",
   "metadata": {},
   "source": [
    "***"
   ]
  },
  {
   "cell_type": "markdown",
   "id": "62ee9e10",
   "metadata": {},
   "source": [
    "## Funktionen"
   ]
  },
  {
   "cell_type": "markdown",
   "id": "673ffe1f",
   "metadata": {},
   "source": [
    "Die Funktion `pieceValueOf` bestimmt den Wert einer Spielfigur.\n",
    "\n",
    "**Input**:\n",
    "+ piece &rarr; die zu bewertende Spielfigur\n",
    "\n",
    "**Output**:\n",
    "+ der Wert der Spielfigur"
   ]
  },
  {
   "cell_type": "code",
   "execution_count": 29,
   "id": "2eb3f616",
   "metadata": {},
   "outputs": [
    {
     "data": {
      "text/plain": [
       "pieceValueOf (generic function with 1 method)"
      ]
     },
     "execution_count": 29,
     "metadata": {},
     "output_type": "execute_result"
    }
   ],
   "source": [
    "function pieceValueOf(piece::Chess.Piece)\n",
    "    @assert Chess.ptype(piece).val ∈ Chess.PAWN.val : Chess.KING.val\n",
    "    PIECE_VALUES[Chess.ptype(piece).val]\n",
    "end"
   ]
  },
  {
   "cell_type": "markdown",
   "id": "f5d345b1",
   "metadata": {},
   "source": [
    "Die Funktion `pieceValueAtSquareOf` bestimmt den Wert einer Spielfigur in Abhängigkeit des Spielfelds auf dem sie steht und dem aktuellen Spielzustand (Mittelspiel / Endspiel).\n",
    "\n",
    "**Input**:\n",
    "+ piece &rarr; die zu bewertende Spielfigur\n",
    "+ square &rarr; das Spielfeld der Spielfigur \n",
    "+ pieceSquareTables &rarr; die aktuelle geltenden Piece Square Tables\n",
    "\n",
    "**Output**:\n",
    "+ der Wert der Spielfigur auf dem aktuellen Spielfeld"
   ]
  },
  {
   "cell_type": "code",
   "execution_count": 30,
   "id": "40d8d5fc",
   "metadata": {},
   "outputs": [
    {
     "data": {
      "text/plain": [
       "pieceValueAtSquareOf (generic function with 1 method)"
      ]
     },
     "execution_count": 30,
     "metadata": {},
     "output_type": "execute_result"
    }
   ],
   "source": [
    "function pieceValueAtSquareOf(piece::Chess.Piece, square::Chess.Square, pieceSquareTables::PieceSquareTables)\n",
    "    @assert square.val ∈ Chess.SQ_A8.val : Chess.SQ_H1.val\n",
    "    return pieceSquareTables[piece.val][Chess.rank(square).val, Chess.file(square).val]\n",
    "end"
   ]
  },
  {
   "cell_type": "markdown",
   "id": "4102a975",
   "metadata": {},
   "source": [
    "Um zu überprüfen, ob in einem `SquareSet` (64-Bit Bitset, Rückgabewert aus z.B. `Chess.queens`) nur eine Figur eingetragen ist, definieren wir die Funktion `isPowerOf2`. Diese gibt `true` zurück, wenn eine Zahl `n` eine echte Potenz von 2 ist (Nur 1 Bit ist gesetzt). Sonst wird `false` zurückgegeben.\n",
    "\n",
    "**Input**:\n",
    "+ n &rarr; eine Zahl\n",
    "\n",
    "**Output**:\n",
    "+ ob die Zahl eine Potenz von zwei ist"
   ]
  },
  {
   "cell_type": "code",
   "execution_count": 31,
   "id": "d10abbfc",
   "metadata": {},
   "outputs": [
    {
     "data": {
      "text/plain": [
       "isPowerOf2 (generic function with 1 method)"
      ]
     },
     "execution_count": 31,
     "metadata": {},
     "output_type": "execute_result"
    }
   ],
   "source": [
    "function isPowerOf2(n::UInt64)::Bool\n",
    "    return n & (n - 1) == 0 ? true : false\n",
    "end"
   ]
  },
  {
   "cell_type": "markdown",
   "id": "3ecb5c0c",
   "metadata": {},
   "source": [
    "### Feststellung des Endspiels\n",
    "Wann das Endspiel erreicht wird, ist nicht genau definiert. Dementsprechend wichtig sind die Kriterien für den Beginn des Endspiels. `Tomasz Michniewski` hat diese wie folgt definiert:\n",
    "<br>\n",
    "\n",
    "+ Beide Seiten haben die Königin verloren\n",
    "oder\n",
    "+ jede Seite, die noch eine Königin besitzt, hat maximal eine weitere niederwertige Figur\n",
    "\n",
    "Bei niederwertigen Figuren handelt es sich um Läufer und Springer.\n",
    "<br>\n",
    "Höherwertige Figuren sind Türme und die Königin.\n",
    "\n",
    "Trifft eine und / oder beide Bedingungen ein, so wird vom `Mittelspiel` in das `Endspiel`gewechselt.\n",
    "<br>\n",
    "\n",
    "Die Funktion `isEndGame` bestimmt, ob die Kriterien für das Endspiel erfüllt werden. Ist dies der Fall so wird `true` wiedergegeben, falls nicht `false`.\n",
    "\n",
    "**Input**:\n",
    "+ board &rarr; das aktuelle Spielbrett\n",
    "\n",
    "**Output**:\n",
    "+ ob das Spielbrett im Endspiel ist\n",
    "<br>\n",
    "<br>\n",
    "\n",
    "\n",
    "Die Funktion `isEndGameForSide` bestimmt, ob die Kriterien für das Endspiel einer Farbe erfüllt werden. Ist dies der Fall so wird `true` wiedergegeben, falls nicht `false`.\n",
    "\n",
    "**Input**:\n",
    "+ Kontext der isEndGame-Funktion\n",
    "+ side &rarr; Farbe für die bestimmt werden soll, ob sie sich im Endspiel befindet\n",
    "\n",
    "**Output**:\n",
    "+ ob sich die Farbe im Endspiel befindet"
   ]
  },
  {
   "cell_type": "code",
   "execution_count": 32,
   "id": "b36911ca",
   "metadata": {},
   "outputs": [
    {
     "data": {
      "text/plain": [
       "isEndGame (generic function with 1 method)"
      ]
     },
     "execution_count": 32,
     "metadata": {},
     "output_type": "execute_result"
    }
   ],
   "source": [
    "function isEndGame(board::Chess.Board)::Bool\n",
    "    \n",
    "    queens = Chess.queens(board)\n",
    "    pawnsAndRooks = Chess.pawns(board) ∪ Chess.rooks(board)\n",
    "    minorPieces = Chess.knights(board) ∪ Chess.bishops(board)\n",
    "    \n",
    "    function isEndGameForSide(side::Chess.PieceColor)::Bool\n",
    "        sidePieces = Chess.pieces(board, side)\n",
    "        if Chess.isempty(queens ∩ sidePieces)\n",
    "            return true\n",
    "        end\n",
    "        if isPowerOf2((minorPieces ∩ sidePieces).val)\n",
    "            return true\n",
    "        end\n",
    "        return Chess.isempty(pawnsAndRooks ∩ sidePieces)\n",
    "    end\n",
    "    \n",
    "    return isEndGameForSide(Chess.WHITE) & isEndGameForSide(Chess.BLACK)\n",
    "end"
   ]
  }
 ],
 "metadata": {
  "kernelspec": {
   "display_name": "Julia 1.8.5",
   "language": "julia",
   "name": "julia-1.8"
  },
  "language_info": {
   "file_extension": ".jl",
   "mimetype": "application/julia",
   "name": "julia",
   "version": "1.8.5"
  }
 },
 "nbformat": 4,
 "nbformat_minor": 5
}
