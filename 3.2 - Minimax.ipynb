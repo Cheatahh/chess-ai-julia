{
 "cells": [
  {
   "cell_type": "code",
   "execution_count": 1,
   "id": "4fb92f99",
   "metadata": {},
   "outputs": [
    {
     "data": {
      "text/html": [
       "<link href='https://fonts.googleapis.com/css?family=Alegreya+Sans:100,300,400,500,700,800,900,100italic,300italic,400italic,500italic,700italic,800italic,900italic' rel='stylesheet' type='text/css'>\r\n",
       "<link href='https://fonts.googleapis.com/css?family=Arvo:400,700,400italic' rel='stylesheet' type='text/css'>\r\n",
       "<link href='https://fonts.googleapis.com/css?family=PT+Mono' rel='stylesheet' type='text/css'>\r\n",
       "<link href='https://fonts.googleapis.com/css?family=Shadows+Into+Light' rel='stylesheet' type='text/css'>\r\n",
       "<link href='https://fonts.googleapis.com/css?family=Philosopher:400,700,400italic,700italic' rel='stylesheet' type='text/css'>\r\n",
       "\r\n",
       "<style>\r\n",
       "\r\n",
       "@font-face {\r\n",
       "    font-family: \"Computer Modern\";\r\n",
       "    src: url('https://mirrors.ctan.org/fonts/cm-unicode/fonts/otf/cmunss.otf');\r\n",
       "}\r\n",
       "\r\n",
       ".container { width: 100% }\r\n",
       "\r\n",
       "/* Formatting for header cells */\r\n",
       ".text_cell_render h1 {\r\n",
       "    font-family: 'Philosopher', sans-serif;\r\n",
       "    font-weight: 400;\r\n",
       "    font-size: 2.2em;\r\n",
       "    line-height: 100%;\r\n",
       "    color: rgb(0, 80, 120);\r\n",
       "    margin-bottom: 0.1em;\r\n",
       "    margin-top: 0.1em;\r\n",
       "    display: block;\r\n",
       "}\t\r\n",
       ".text_cell_render h2 {\r\n",
       "    font-family: 'Philosopher', serif;\r\n",
       "    font-weight: 400;\r\n",
       "    font-size: 1.9em;\r\n",
       "    line-height: 100%;\r\n",
       "    color: rgb(200,100,0);\r\n",
       "    margin-bottom: 0.1em;\r\n",
       "    margin-top: 0.1em;\r\n",
       "    display: block;\r\n",
       "}\t\r\n",
       "\r\n",
       ".text_cell_render h3 {\r\n",
       "    font-family: 'Philosopher', serif;\r\n",
       "    margin-top:12px;\r\n",
       "    margin-bottom: 3px;\r\n",
       "    font-style: italic;\r\n",
       "    color: rgb(94,127,192);\r\n",
       "}\r\n",
       "\r\n",
       ".text_cell_render h4 {\r\n",
       "    font-family: 'Philosopher', serif;\r\n",
       "}\r\n",
       "\r\n",
       ".text_cell_render h5 {\r\n",
       "    font-family: 'Alegreya Sans', sans-serif;\r\n",
       "    font-weight: 300;\r\n",
       "    font-size: 16pt;\r\n",
       "    color: grey;\r\n",
       "    font-style: italic;\r\n",
       "    margin-bottom: .1em;\r\n",
       "    margin-top: 0.1em;\r\n",
       "    display: block;\r\n",
       "}\r\n",
       "\r\n",
       ".text_cell_render h6 {\r\n",
       "    font-family: 'PT Mono', sans-serif;\r\n",
       "    font-weight: 300;\r\n",
       "    font-size: 10pt;\r\n",
       "    color: grey;\r\n",
       "    margin-bottom: 1px;\r\n",
       "    margin-top: 1px;\r\n",
       "}\r\n",
       "\r\n",
       ".text_cell_render em {\r\n",
       "    font-family: 'Philosopher', sans-serif;\r\n",
       "    color:        blue;\r\n",
       "    background-color: rgb(255,220,180);\r\n",
       "    font-size:    110%;\r\n",
       "    margin-left:   2px;\r\n",
       "    margin-right:  2px;\r\n",
       "    font-weight:   100;\r\n",
       "}\r\n",
       "\r\n",
       ".text_cell_render b {\r\n",
       "    color:            rgb(255,195,195);\r\n",
       "    background-color: rgb(0,0,0);\r\n",
       "    font-size:    110%;\r\n",
       "    margin-left:   2px;\r\n",
       "    margin-right:  2px;\r\n",
       "    font-weight:   650;\r\n",
       "}\r\n",
       "\r\n",
       ".text_cell_render tt {\r\n",
       "    font-size:    120%;\r\n",
       "    margin-left:   2px;\r\n",
       "    margin-right:  2px;\r\n",
       "    font-weight:   150;\r\n",
       "}\r\n",
       "\r\n",
       ".Codemirror {\r\n",
       "    font-family: \"PT Mono\", sans-serif;\r\n",
       "    font-size: 100%;\r\n",
       "}\r\n",
       "\r\n",
       "</style>"
      ],
      "text/plain": [
       "HTML{String}(\"<link href='https://fonts.googleapis.com/css?family=Alegreya+Sans:100,300,400,500,700,800,900,100italic,300italic,400italic,500italic,700italic,800italic,900italic' rel='stylesheet' type='text/css'>\\r\\n<link href='https://fonts.googleapis.com/css?family=Arvo:400,700,400italic' rel='stylesheet' type='text/css'>\\r\\n<link href='https://fonts.googleapis.com/css?family=PT+Mono' rel='stylesheet' type='text/css'>\\r\\n<link href='https://fonts.googleapis.com/css?family=Shadows+Into+Light' rel='stylesheet' type='text/css'>\\r\\n<link href='https://fonts.googleapis.com/css?family=Philosopher:400,700,400italic,700italic' rel='stylesheet' type='text/css'>\\r\\n\\r\\n<style>\\r\\n\\r\\n@font-face {\\r\\n    font-family: \\\"Computer Modern\\\";\\r\\n    src: url('https://mirrors.ctan.org/fonts/cm-unicode/fonts/otf/cmunss.otf');\\r\\n}\\r\\n\\r\\n.container { width: 100% }\\r\\n\\r\\n/* Formatting for header cells */\\r\\n.text_cell_render h1 {\\r\\n    font-family: 'Philosopher', sans-serif;\\r\\n    font-weight: 400;\\r\\n    font-size: 2.2em;\\r\\n    line-height: 100%;\\r\\n    color: rgb(0, 80, 120);\\r\\n    margin-bottom: 0.1em;\\r\\n    margin-top: 0.1em;\\r\\n    display: block;\\r\\n}\\t\\r\\n.text_cell_render h2 {\\r\\n    font-family: 'Philosopher', serif;\\r\\n    font-weight: 400;\\r\\n    font-size: 1.9em;\\r\\n    line-height: 100%;\\r\\n    color: rgb(200,100,0);\\r\\n    margin-bottom: 0.1em;\\r\\n    margin-top: 0.1em;\\r\\n    display: block;\\r\\n}\\t\\r\\n\\r\\n.text_cell_render h3 {\\r\\n    font-family: 'Philosopher', serif;\\r\\n    margin-top:12px;\\r\\n    margin-bottom: 3px;\\r\\n    font-style: italic;\\r\\n    color: rgb(94,127,192);\\r\\n}\\r\\n\\r\\n.text_cell_render h4 {\\r\\n    font-family: 'Philosopher', serif;\\r\\n}\\r\\n\\r\\n.text_cell_render h5 {\\r\\n    font-family: 'Alegreya Sans', sans-serif;\\r\\n    font-weight: 300;\\r\\n    font-size: 16pt;\\r\\n    color: grey;\\r\\n    font-style: italic;\\r\\n    margin-bottom: .1em;\\r\\n    margin-top: 0.1em;\\r\\n    display: block;\\r\\n}\\r\\n\\r\\n.text_cell_render h6 {\\r\\n    font-family: 'PT Mono', sans-serif;\\r\\n    font-weight: 300;\\r\\n    font-size: 10pt;\\r\\n    color: grey;\\r\\n    margin-bottom: 1px;\\r\\n    margin-top: 1px;\\r\\n}\\r\\n\\r\\n.text_cell_render em {\\r\\n    font-family: 'Philosopher', sans-serif;\\r\\n    color:        blue;\\r\\n    background-color: rgb(255,220,180);\\r\\n    font-size:    110%;\\r\\n    margin-left:   2px;\\r\\n    margin-right:  2px;\\r\\n    font-weight:   100;\\r\\n}\\r\\n\\r\\n.text_cell_render b {\\r\\n    color:            rgb(255,195,195);\\r\\n    background-color: rgb(0,0,0);\\r\\n    font-size:    110%;\\r\\n    margin-left:   2px;\\r\\n    margin-right:  2px;\\r\\n    font-weight:   650;\\r\\n}\\r\\n\\r\\n.text_cell_render tt {\\r\\n    font-size:    120%;\\r\\n    margin-left:   2px;\\r\\n    margin-right:  2px;\\r\\n    font-weight:   150;\\r\\n}\\r\\n\\r\\n.Codemirror {\\r\\n    font-family: \\\"PT Mono\\\", sans-serif;\\r\\n    font-size: 100%;\\r\\n}\\r\\n\\r\\n</style>\")"
      ]
     },
     "execution_count": 1,
     "metadata": {},
     "output_type": "execute_result"
    }
   ],
   "source": [
    "HTML(read(open(\"style.html\"), String))"
   ]
  },
  {
   "cell_type": "code",
   "execution_count": null,
   "id": "490ee160",
   "metadata": {},
   "outputs": [],
   "source": [
    "include(\"silent.jl\")"
   ]
  },
  {
   "cell_type": "code",
   "execution_count": 1,
   "id": "94c1f798",
   "metadata": {},
   "outputs": [],
   "source": [
    "using Pkg\n",
    "@silent Pkg.add(\"Chess\")\n",
    "import Chess\n",
    "@silent Pkg.add(\"NBInclude\")\n",
    "using NBInclude"
   ]
  },
  {
   "cell_type": "code",
   "execution_count": 7,
   "id": "39d272f2",
   "metadata": {
    "scrolled": true
   },
   "outputs": [
    {
     "data": {
      "text/plain": [
       "evaluateEPCaptureScoreDelta (generic function with 1 method)"
      ]
     },
     "execution_count": 7,
     "metadata": {},
     "output_type": "execute_result"
    }
   ],
   "source": [
    "@nbinclude \"3.1 - Evaluation.ipynb\""
   ]
  },
  {
   "cell_type": "markdown",
   "id": "7a975be7",
   "metadata": {},
   "source": [
    "***"
   ]
  },
  {
   "attachments": {
    "MiniMax-Suchbaum.png": {
     "image/png": "[encoded data removed]"
    }
   },
   "cell_type": "markdown",
   "id": "58f76ed7",
   "metadata": {},
   "source": [
    "# Minimax\n",
    "\n",
    "Der [Minimax Algorithmus](https://www.chessprogramming.org/Minimax) ermittelt die optimale Spielstrategie (den besten Zug) für eine gegebene Suchtiefe. \n",
    "\n",
    "Hierbei gilt: je größer die Suchtiefe, desto besser der ermittelte Zug. Bei einer Suchtiefe von unendlich ist garantiert, den besten Zug gefunden zu haben. In der Realität wird das Suchproblem mit ansteigender Suchtiefe exponentiell komplex.\n",
    "\n",
    "Um eine möglichst große Suchtiefe in absehbarer Zeit zu berechnen, gilt es, die Laufzeit der Positions-Evaluation zu minimieren.\n",
    "\n",
    "Es wurde sich hier für die Standard-Implementierung entschieden. Dabei gilt es für Spieler \"Weiß\" den Wert zu maximieren um zu gewinnen, für Spieler \"Schwarz\" den Wert zu minimieren. Ein Unentschieden wird durch den Wert `0` repräsentiert.\n",
    "\n",
    "Der MiniMax-Algorithmus wird verwendet, um den Verlust eines Worst-Case-Szenarios zu minimieren. Auf Schach bezogen, bedeutet dies, dass der Spieler \"Weiß\" den Zug wählt, dessen Antwort seitens Spieler \"Schwarz\", den größten Nutzen für Spieler \"Weiß\" hat. Der mögliche Verlust für \"Weiß\" wird also minimiert.\n",
    "\n",
    "Für die Berechnung des bestmöglichen Zuges muss eine Suchtiefe `depth` definiert werden. Diese gibt an wie viele Halbzüge in die Zukunft geschaut werden soll. Eine Suchtiefe von 3 berechnet den gewünschten Zug basierend auf dem nächsten Zug von \"Schwarz\" der Antwort von \"Weiß\" und der anschließenden Antwort von \"Schwarz\". Da pro Suchtiefe fast immer mehrere Züge möglich sind, baut sich ein großer Suchbaum auf.\n",
    "\n",
    "Es lassen sich folgenden Regeln definieren:\n",
    "+ Knoten auf gerader Tiefe (Weiß am Zug) &rarr; Bewertung des Knotens ist das **Maximum** seiner Kinder\n",
    "+ Knoten auf ungerader Tiefe (Schwarz am Zug) &rarr; Bewertung des Knotens ist das **Minimum** seiner Kinder\n",
    "\n",
    "Ein möglicher Suchbaum ist grafisch in der nächsten Abbildung dargestellt. Er zeigt beispielhaft das Verhalten des Algorithmus auf. `100` steht für einen Sieg von \"Weiß\", `-100` für den Sieg von \"Schwarz\".\n",
    "+ Tiefe 0 und 2 &rarr; \"Weiß\" ist am Zug &rarr; Bewertung des Knotens ist das **Maximum** seiner Kinder\n",
    "+ Tiefe 1 und 3 &rarr; \"Weiß\" ist am Zug &rarr; Bewertung des Knotens ist das **Minimum** seiner Kinder\n",
    "Das Ergebnis ist, dass ein Zug der Wertigkeit `4` gewählt wird.\n",
    "<br>\n",
    "\n",
    "![MiniMax-Suchbaum.png](attachment:MiniMax-Suchbaum.png)\n",
    "<br>\n",
    "\n",
    "Alternativ kann die Suche dieser Abbildung auch als Formel dargestellt werden:\n",
    "+ $ Minimax = MAX ((MIN(MAX(1), MAX(3, -4, -6)), MIN(MAX(100), MAX(2, -10)), MIN(MAX(4))) $"
   ]
  },
  {
   "cell_type": "markdown",
   "id": "4e13ee97",
   "metadata": {},
   "source": [
    "***"
   ]
  },
  {
   "cell_type": "markdown",
   "id": "6faa13d7",
   "metadata": {},
   "source": [
    "Die Funktion `minimaxMax` sucht den bestmöglichen Zug aus der Sicht von Spieler \"Weiß\" in Abhängigkeit von der Suchtiefe. Da \"Weiß\" den maximierten Wert seiner Kinder berechnet, deren Werte wiederum das Minimum (da \"Schwarz\" minimiert) ihrer Kinder sind, maximiert \"Weiß\" die Minima von \"Schwarz\" für alle möglichen Züge.\n",
    "\n",
    "Die Tiefe der Berechnung ist insofern wichtig, dass ein Zug der zu einem Matt in 2 Zügen führt, einem Zug der zu einem Matt in 5 Zügen führt, bevorzugt wird. Das Matt in 2 Zügen wird jedoch nur mit einer Suchtiefe von 4 gefunden. Es gilt: je größer die Suchtiefe, desto besser der ermittelte Zug.\n",
    "\n",
    "**Input**:\n",
    "+ extboard &rarr; der aktuelle Spielstand der Berechnung\n",
    "+ depth &rarr;  Suchtiefe (maximale Suchtiefe - aktuelle Suchtiefe)\n",
    "\n",
    "**Output**:\n",
    "+ maxValue &rarr; der maximierte, bestmögliche Score der aktuellen Suche"
   ]
  },
  {
   "cell_type": "code",
   "execution_count": 3,
   "id": "ef71ffa0",
   "metadata": {},
   "outputs": [
    {
     "data": {
      "text/plain": [
       "minimaxMax (generic function with 1 method)"
      ]
     },
     "execution_count": 3,
     "metadata": {},
     "output_type": "execute_result"
    }
   ],
   "source": [
    "function minimaxMax(extboard::ExtendedBoard, depth::Int64)::Int32\n",
    "    if extboard.repetitionRuleDraw\n",
    "        return 0\n",
    "    end\n",
    "    legalMoves = Chess.moves(extboard.board)\n",
    "    if length(legalMoves) == 0\n",
    "        return evaluateTerminalPositionScore(extboard.board)\n",
    "    elseif depth == 0\n",
    "        return extboard.score\n",
    "    end\n",
    "    maxValue = typemin(Int32)\n",
    "    for move ∈ legalMoves\n",
    "        undo = domove!(extboard, move)\n",
    "        value = minimaxMin(extboard, depth - 1)\n",
    "        undomove!(extboard, undo)\n",
    "        maxValue = max(maxValue, value)\n",
    "    end\n",
    "    Chess.recycle!(legalMoves)\n",
    "    return maxValue\n",
    "end"
   ]
  },
  {
   "cell_type": "markdown",
   "id": "b777bb82",
   "metadata": {},
   "source": [
    "Die Funktion `minimaxMin` sucht den bestmöglichen Zug aus der Sicht von Spieler \"Schwarz\" in Abhängigkeit von der Suchtiefe. Da \"Schwarz\" den minimierten Wert seiner Kinder berechnet, deren Werte wiederum das Maximum (da \"Weiß\" maximiert) ihrer Kinder sind, minimiert \"Schwarz\" die Maxima von \"Weiß\" für alle möglichen Züge.\n",
    "\n",
    "**Input**:\n",
    "+ extboard &rarr; der aktuelle Spielstand der Berechnung\n",
    "+ depth &rarr; Suchtiefe (maximale Suchtiefe - aktuelle Suchtiefe)\n",
    "\n",
    "**Output**:\n",
    "+ minValue &rarr; der minimierte, bestmögliche Score der aktuellen Suche"
   ]
  },
  {
   "cell_type": "code",
   "execution_count": 4,
   "id": "178ffe43",
   "metadata": {
    "scrolled": true
   },
   "outputs": [
    {
     "data": {
      "text/plain": [
       "minimaxMin (generic function with 1 method)"
      ]
     },
     "execution_count": 4,
     "metadata": {},
     "output_type": "execute_result"
    }
   ],
   "source": [
    "function minimaxMin(extboard::ExtendedBoard, depth::Int64)::Int32\n",
    "    if extboard.repetitionRuleDraw\n",
    "        return 0\n",
    "    end\n",
    "    legalMoves = Chess.moves(extboard.board)\n",
    "    if length(legalMoves) == 0\n",
    "        return evaluateTerminalPositionScore(extboard.board)\n",
    "    elseif depth == 0\n",
    "        return extboard.score\n",
    "    end\n",
    "    minValue = typemax(Int32)\n",
    "    for move ∈ legalMoves\n",
    "        undo = domove!(extboard, move)\n",
    "        value = minimaxMax(extboard, depth - 1)\n",
    "        undomove!(extboard, undo)\n",
    "        minValue = min(minValue, value)\n",
    "    end\n",
    "    Chess.recycle!(legalMoves)\n",
    "    return minValue\n",
    "end"
   ]
  },
  {
   "cell_type": "markdown",
   "id": "6000f75b",
   "metadata": {},
   "source": [
    "Die Funktion `minimax` berechnet mithilfe der bereits beschriebenen Funktionen `minimaxMax` und `minimaxMin` das bestmögliche Vorgehen der KI. Dabei wird ein Array an bestmöglichen Zügen ausgegeben.\n",
    "\n",
    "**Input**:\n",
    "+ extboard &rarr; der aktuelle Spielstand\n",
    "+ depth &rarr; die gewünschte Suchtiefe\n",
    "+ log &rarr; die zu verwendende Log-Funktion\n",
    "\n",
    "**Output**:\n",
    "+ minmaxValue &rarr; der bestmögliche Score unter der gewünschten Suchtiefe\n",
    "+ scoredMoves[minmaxValue] &rarr; alle Züge mit dem bestmöglichen Score"
   ]
  },
  {
   "cell_type": "code",
   "execution_count": 5,
   "id": "ded703b4",
   "metadata": {},
   "outputs": [
    {
     "data": {
      "text/plain": [
       "minimax (generic function with 1 method)"
      ]
     },
     "execution_count": 5,
     "metadata": {},
     "output_type": "execute_result"
    }
   ],
   "source": [
    "function minimax(extboard::ExtendedBoard, depth::Int64, log::Function)::Tuple{Int32, Vector{Chess.Move}}\n",
    "    legalMoves = Chess.moves(extboard.board)\n",
    "    sideIsWhite = Chess.sidetomove(extboard.board) == Chess.WHITE\n",
    "    scoredMoves = Dict{Int32, Vector{Chess.Move}}()\n",
    "    minmaxValue = sideIsWhite ? typemin(Int32) : typemax(Int32)\n",
    "    for move ∈ legalMoves\n",
    "        undo = domove!(extboard, move)\n",
    "        if sideIsWhite\n",
    "            value = minimaxMin(extboard, depth - 1)\n",
    "            minmaxValue = max(value, minmaxValue)\n",
    "        else\n",
    "            value = minimaxMax(extboard, depth - 1)\n",
    "            minmaxValue = min(value, minmaxValue)\n",
    "        end\n",
    "        movesWithSameScore = get(scoredMoves, value, Chess.Move[])\n",
    "        push!(movesWithSameScore, move)\n",
    "        scoredMoves[value] = movesWithSameScore\n",
    "        log(\"score = $(value), move = $(move)\")\n",
    "        undomove!(extboard, undo)\n",
    "    end\n",
    "    return minmaxValue, scoredMoves[minmaxValue]\n",
    "end"
   ]
  },
  {
   "cell_type": "markdown",
   "id": "21f704e6",
   "metadata": {},
   "source": [
    "***"
   ]
  }
 ],
 "metadata": {
  "kernelspec": {
   "display_name": "Julia 1.8.5",
   "language": "julia",
   "name": "julia-1.8"
  },
  "language_info": {
   "file_extension": ".jl",
   "mimetype": "application/julia",
   "name": "julia",
   "version": "1.8.5"
  }
 },
 "nbformat": 4,
 "nbformat_minor": 5
}
