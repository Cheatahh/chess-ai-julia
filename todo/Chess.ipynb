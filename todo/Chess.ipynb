{
 "cells": [
  {
   "cell_type": "code",
   "execution_count": 1,
   "id": "9306874e",
   "metadata": {},
   "outputs": [],
   "source": [
    "import Chess\n",
    "import Dates\n",
    "using NBInclude\n",
    "using BenchmarkTools"
   ]
  },
  {
   "cell_type": "code",
   "execution_count": 2,
   "id": "fe2f1c08",
   "metadata": {},
   "outputs": [
    {
     "data": {
      "text/plain": [
       "\"Dict(0 => 0, -1 => 0, 1 => 0)\""
      ]
     },
     "execution_count": 2,
     "metadata": {},
     "output_type": "execute_result"
    }
   ],
   "source": [
    "@nbinclude \"val.ipynb\""
   ]
  },
  {
   "cell_type": "code",
   "execution_count": 3,
   "id": "2717fde8",
   "metadata": {},
   "outputs": [],
   "source": [
    "@enum GameAction begin\n",
    "    Resign\n",
    "    Undo\n",
    "end"
   ]
  },
  {
   "cell_type": "code",
   "execution_count": 4,
   "id": "2c2c9294",
   "metadata": {},
   "outputs": [],
   "source": [
    "mutable struct ZobristHash\n",
    "    const pieceHashes::Array{UInt64,2}\n",
    "    const colorBlackHash::UInt64\n",
    "    const enPassantHashes::Array{UInt64}\n",
    "    const castleHashes::Array{UInt64}\n",
    "    hash::UInt64\n",
    "    \n",
    "    function ZobristHash(board::Chess.Board)\n",
    "        # assume all keys are unique for simplicity\n",
    "        this = new(\n",
    "            [rand(UInt64) for _ ∈ 1:14, __ ∈ 1:64], \n",
    "            rand(UInt64), \n",
    "            [rand(UInt64) for _ ∈ 1:64], \n",
    "            [rand(UInt64) for _ ∈ 1:4],\n",
    "            0\n",
    "        )\n",
    "        rehash!(this, board)\n",
    "        return this\n",
    "    end\n",
    "end\n",
    "\n",
    "function rehash!(zobrist::ZobristHash, board::Chess.Board)\n",
    "    zobrist.hash = 0\n",
    "    for file ∈ 1:8\n",
    "        for rank ∈ 1:8\n",
    "            square = Chess.Square(Chess.SquareFile(file), Chess.SquareRank(rank))\n",
    "            piece = Chess.pieceon(board, square)\n",
    "            if piece !== Chess.EMPTY\n",
    "                togglePiece!(zobrist, piece, square)\n",
    "            end\n",
    "        end\n",
    "    end\n",
    "    if Chess.sidetomove(board) === Chess.BLACK\n",
    "        toggleColor!(zobrist)\n",
    "    end\n",
    "    toggleEnPassant!(zobrist, Chess.epsquare(board))\n",
    "    if Chess.cancastlekingside(board, Chess.WHITE)\n",
    "        toggleCastle!(zobrist, 1)\n",
    "    end\n",
    "    if Chess.cancastlequeenside(board, Chess.WHITE)\n",
    "        toggleCastle!(zobrist, 2)\n",
    "    end\n",
    "    if Chess.cancastlekingside(board, Chess.BLACK)\n",
    "        toggleCastle!(zobrist, 3)\n",
    "    end\n",
    "    if Chess.cancastlequeenside(board, Chess.BLACK)\n",
    "        toggleCastle!(zobrist, 4)\n",
    "    end\n",
    "end\n",
    "\n",
    "function togglePiece!(zobrist::ZobristHash, piece::Chess.Piece, square::Chess.Square)\n",
    "    zobrist.hash ⊻= zobrist.pieceHashes[piece.val, square.val]\n",
    "end\n",
    "\n",
    "function toggleEnPassant!(zobrist::ZobristHash, square::Chess.Square)\n",
    "    if square === Chess.SQ_NONE\n",
    "        return\n",
    "    end\n",
    "    zobrist.hash ⊻= zobrist.enPassantHashes[square.val]\n",
    "end\n",
    "\n",
    "function toggleCastle!(zobrist::ZobristHash, index::Int)\n",
    "    zobrist.hash ⊻= zobrist.castleHashes[index]\n",
    "end\n",
    "\n",
    "function toggleColor!(zobrist::ZobristHash)\n",
    "     zobrist.hash ⊻= zobrist.colorBlackHash\n",
    "end\n",
    "\n",
    "mutable struct ExtendedBoard\n",
    "    board::Chess.Board\n",
    "    score::Int32\n",
    "    endGame::Bool\n",
    "    repetions::Dict{UInt64, UInt8}\n",
    "    repetionRuleDraw::Bool\n",
    "    zobrist::ZobristHash\n",
    "    \n",
    "    function ExtendedBoard(board::Chess.Board)::ExtendedBoard\n",
    "        endGame = isEndGame(board)\n",
    "        pieceSquareTables = endGame ? PIECE_SQUARE_TABLES_ENDGAME : PIECE_SQUARE_TABLES_MIDGAME\n",
    "        score = evaluatePositionScore(board, pieceSquareTables)\n",
    "        return new(board, score, endGame, Dict{UInt64, UInt8}(), false, ZobristHash(board))\n",
    "    end\n",
    "end "
   ]
  },
  {
   "cell_type": "code",
   "execution_count": 5,
   "id": "5f04fdb6",
   "metadata": {},
   "outputs": [
    {
     "data": {
      "text/plain": [
       "getNextMove (generic function with 1 method)"
      ]
     },
     "execution_count": 5,
     "metadata": {},
     "output_type": "execute_result"
    }
   ],
   "source": [
    "struct RandomAI end\n",
    "\n",
    "function getNextMove(_::RandomAI, extboard::ExtendedBoard, _...)::Chess.Move\n",
    "    legalMoves::Chess.MoveList = Chess.moves(extboard.board)\n",
    "    return rand(legalMoves)\n",
    "end"
   ]
  },
  {
   "cell_type": "code",
   "execution_count": 6,
   "id": "2fac93c0",
   "metadata": {},
   "outputs": [
    {
     "data": {
      "text/plain": [
       "getNextMove (generic function with 2 methods)"
      ]
     },
     "execution_count": 6,
     "metadata": {},
     "output_type": "execute_result"
    }
   ],
   "source": [
    "struct Player end\n",
    "\n",
    "function getNextMove(_::Player, extboard::ExtendedBoard, _...)::Union{Chess.Move, GameAction}\n",
    "    legalMoves::Chess.MoveList = Chess.moves(extboard.board)\n",
    "    @assert length(legalMoves) > 0\n",
    "    while true\n",
    "        enteredString = readline()\n",
    "        if enteredString == \"resign\" || enteredString == \"exit\"\n",
    "            return Resign\n",
    "        end\n",
    "        if enteredString == \"undo\"\n",
    "            return Undo\n",
    "        end\n",
    "        enteredMove = Chess.movefromstring(enteredString)\n",
    "        if enteredMove ∈ legalMoves\n",
    "            return enteredMove\n",
    "        end\n",
    "        println(\"Illegal input '$(enteredString)'\")\n",
    "        println(\"Available actions: resign | exit, undo\")\n",
    "        println(\"Available moves: $(map(move -> Chess.tostring(move), legalMoves))\")\n",
    "    end\n",
    "end"
   ]
  },
  {
   "cell_type": "code",
   "execution_count": 7,
   "id": "838780d4",
   "metadata": {},
   "outputs": [
    {
     "data": {
      "text/plain": [
       "printBoard (generic function with 1 method)"
      ]
     },
     "execution_count": 7,
     "metadata": {},
     "output_type": "execute_result"
    }
   ],
   "source": [
    "function printBoard(board::Chess.Board)\n",
    "    IJulia.clear_output()\n",
    "    println(Chess.fen(board))\n",
    "    html = HTML(IJulia.html(board))\n",
    "    IJulia.display(html)\n",
    "end"
   ]
  },
  {
   "cell_type": "code",
   "execution_count": 8,
   "id": "2f055554",
   "metadata": {},
   "outputs": [
    {
     "data": {
      "text/plain": [
       "rateGame (generic function with 1 method)"
      ]
     },
     "execution_count": 8,
     "metadata": {},
     "output_type": "execute_result"
    }
   ],
   "source": [
    "function rateGame(game::Chess.SimpleGame, drawByRepetitionRule::Bool)::Int\n",
    "    currentBoard = Chess.board(game)\n",
    "    currentSide = Chess.sidetomove(currentBoard)\n",
    "    if Chess.isterminal(currentBoard) || drawByRepetitionRule\n",
    "        if Chess.ischeckmate(currentBoard)\n",
    "            println(\"Checkmate, $(Chess.coloropp(currentSide)) wins\")\n",
    "            return currentSide == Chess.WHITE ? -1 : 1\n",
    "        elseif Chess.isstalemate(currentBoard)\n",
    "            println(\"Draw (Stalemate)\")\n",
    "        elseif Chess.ismaterialdraw(currentBoard)\n",
    "            println(\"Draw (Material Draw)\")\n",
    "        elseif Chess.isrule50draw(currentBoard)\n",
    "            println(\"Draw (50 Moves Rule)\")\n",
    "        else\n",
    "            println(\"Draw\")\n",
    "        end\n",
    "    else\n",
    "        println(\"$(currentSide) resigned, $(Chess.coloropp(currentSide)) wins\") \n",
    "    end\n",
    "    return 0\n",
    "end"
   ]
  },
  {
   "cell_type": "code",
   "execution_count": 9,
   "id": "219d61cb",
   "metadata": {},
   "outputs": [
    {
     "data": {
      "text/plain": [
       "saveGame (generic function with 1 method)"
      ]
     },
     "execution_count": 9,
     "metadata": {},
     "output_type": "execute_result"
    }
   ],
   "source": [
    "function saveGame(game::Chess.SimpleGame)\n",
    "    try\n",
    "        mkdir(\"games\")\n",
    "    catch _ end\n",
    "    try\n",
    "        pgnFile = \"games/$(replace(string(Dates.now()), \":\" => \"-\")).pgn\"\n",
    "        open(pgnFile, \"w\") do file\n",
    "            write(file, Chess.PGN.gametopgn(game))\n",
    "        end\n",
    "        println(\"Saved game to $(pgnFile)\")\n",
    "    catch _ \n",
    "        println(\"Could not save game.\")\n",
    "    end\n",
    "end"
   ]
  },
  {
   "cell_type": "code",
   "execution_count": 10,
   "id": "1d8ef5fa",
   "metadata": {},
   "outputs": [
    {
     "data": {
      "text/plain": [
       "Tuple{Chess.UndoInfo, Int32, UInt64}"
      ]
     },
     "execution_count": 10,
     "metadata": {},
     "output_type": "execute_result"
    }
   ],
   "source": [
    "if !@isdefined(ExtendedUndoInfo)\n",
    "    const ExtendedUndoInfo = Tuple{Chess.UndoInfo, Int32, UInt64}\n",
    "end"
   ]
  },
  {
   "cell_type": "code",
   "execution_count": 11,
   "id": "664736eb",
   "metadata": {},
   "outputs": [
    {
     "data": {
      "text/plain": [
       "play (generic function with 1 method)"
      ]
     },
     "execution_count": 11,
     "metadata": {},
     "output_type": "execute_result"
    }
   ],
   "source": [
    "function play(; white, black, fen::String = \"rnbqkbnr/pppppppp/8/8/8/8/PPPPPPPP/RNBQKBNR w KQkq -\")::Int\n",
    "    \n",
    "    game = Chess.SimpleGame(Chess.fromfen(fen))\n",
    "    printBoard(Chess.board(game))\n",
    "            \n",
    "    extboard = ExtendedBoard(Chess.fromfen(fen))\n",
    "    extundo = ExtendedUndoInfo[]\n",
    "    \n",
    "    while !Chess.isterminal(game)\n",
    "        answer = getNextMove(Chess.sidetomove(Chess.board(game)) === Chess.WHITE ? white : black, extboard)\n",
    "        if(answer == Resign)\n",
    "            break\n",
    "        end\n",
    "        if(answer == Undo)\n",
    "            if game.ply >= 3\n",
    "                Chess.back!(game)\n",
    "                Chess.back!(game)\n",
    "                undomove!(extboard, pop!(extundo))\n",
    "                undomove!(extboard, pop!(extundo))\n",
    "            end\n",
    "            printBoard(Chess.board(game))\n",
    "            continue\n",
    "        end\n",
    "        answer::Chess.Move\n",
    "        Chess.domove!(game, answer)\n",
    "        push!(extundo, domove!(extboard, answer))\n",
    "        printBoard(Chess.board(game))\n",
    "        println(\"Last Move: $(answer)\")\n",
    "    end\n",
    "    saveGame(game)\n",
    "    return rateGame(game, extboard.repetionRuleDraw)\n",
    "end"
   ]
  },
  {
   "cell_type": "code",
   "execution_count": 12,
   "id": "97f6c6d1",
   "metadata": {},
   "outputs": [
    {
     "data": {
      "text/plain": [
       "domove! (generic function with 1 method)"
      ]
     },
     "execution_count": 12,
     "metadata": {},
     "output_type": "execute_result"
    }
   ],
   "source": [
    "function domove!(extboard::ExtendedBoard, move::Chess.Move)::ExtendedUndoInfo\n",
    "    \n",
    "    previousScore = extboard.score\n",
    "    previousHash = extboard.zobrist.hash\n",
    "    \n",
    "    pieceSquareTables = extboard.endGame ? PIECE_SQUARE_TABLES_ENDGAME : PIECE_SQUARE_TABLES_MIDGAME\n",
    "    delta = evaluatePositionScoreDeltaIncremental(extboard, move, pieceSquareTables)\n",
    "    if Chess.sidetomove(extboard.board) == Chess.WHITE\n",
    "        extboard.score += delta\n",
    "    else\n",
    "        extboard.score -= delta\n",
    "    end\n",
    "    \n",
    "    undo = Chess.domove!(extboard.board, move)\n",
    "    #extboard.score = evaluatePositionScore(extboard.board, pieceSquareTables)\n",
    "    #rehash!(extboard.zobrist, extboard.board)\n",
    "    toggleEnPassant!(extboard.zobrist, Chess.epsquare(extboard.board))\n",
    "    toggleColor!(extboard.zobrist)\n",
    "    repetions = get(extboard.repetions, extboard.zobrist.hash, 0) + 1\n",
    "    extboard.repetions[extboard.zobrist.hash] = repetions\n",
    "    extboard.repetionRuleDraw = repetions >= 3\n",
    "    \n",
    "    endGame = isEndGame(extboard.board)\n",
    "    pieceSquareTables = endGame ? PIECE_SQUARE_TABLES_ENDGAME : PIECE_SQUARE_TABLES_MIDGAME\n",
    "    if endGame != extboard.endGame\n",
    "        extboard.endGame = endGame\n",
    "        extboard.score = evaluatePositionScore(extboard.board, pieceSquareTables)\n",
    "    end\n",
    "    \n",
    "    return (undo, previousScore, previousHash)\n",
    "end"
   ]
  },
  {
   "cell_type": "code",
   "execution_count": 13,
   "id": "bb0e8cff",
   "metadata": {},
   "outputs": [
    {
     "data": {
      "text/plain": [
       "undomove! (generic function with 1 method)"
      ]
     },
     "execution_count": 13,
     "metadata": {},
     "output_type": "execute_result"
    }
   ],
   "source": [
    "function undomove!(extboard::ExtendedBoard, undo::ExtendedUndoInfo)\n",
    "    extboard.repetions[extboard.zobrist.hash] -= 1\n",
    "    Chess.undomove!(extboard.board, undo[1])\n",
    "    extboard.endGame = isEndGame(extboard.board)\n",
    "    extboard.score = undo[2]\n",
    "    extboard.zobrist.hash = undo[3]\n",
    "    extboard.repetionRuleDraw = false\n",
    "end"
   ]
  },
  {
   "cell_type": "code",
   "execution_count": 14,
   "id": "21ac0129",
   "metadata": {},
   "outputs": [
    {
     "data": {
      "text/plain": [
       "evaluateTerminalPositionScore (generic function with 1 method)"
      ]
     },
     "execution_count": 14,
     "metadata": {},
     "output_type": "execute_result"
    }
   ],
   "source": [
    "function evaluateTerminalPositionScore(board::Chess.Board)::Int32\n",
    "    if Chess.ischeck(board) \n",
    "        return Chess.sidetomove(board) == Chess.WHITE ? -100000 : 100000\n",
    "    else\n",
    "        return 0\n",
    "    end\n",
    "end"
   ]
  },
  {
   "cell_type": "code",
   "execution_count": 15,
   "id": "42a95ef4",
   "metadata": {},
   "outputs": [
    {
     "data": {
      "text/plain": [
       "evaluatePositionScore (generic function with 1 method)"
      ]
     },
     "execution_count": 15,
     "metadata": {},
     "output_type": "execute_result"
    }
   ],
   "source": [
    "function evaluatePositionScore(board::Chess.Board, pieceSquareTables::Array{PieceSquareTable})::Int32\n",
    "    if Chess.isterminal(board)\n",
    "       return evaluateTerminalPositionScore(board) \n",
    "    end\n",
    "    score::Int32 = 0\n",
    "    for file ∈ 1:8\n",
    "        for rank ∈ 1:8\n",
    "            square = Chess.Square(Chess.SquareFile(file), Chess.SquareRank(rank))\n",
    "            piece = Chess.pieceon(board, square)\n",
    "            if piece == Chess.EMPTY\n",
    "                continue\n",
    "            end\n",
    "            value = pieceValueAtSquareOf(piece, square, pieceSquareTables)\n",
    "            score += (Chess.pcolor(piece) == Chess.WHITE ? value : -value)\n",
    "        end\n",
    "    end\n",
    "    return score\n",
    "end"
   ]
  },
  {
   "cell_type": "code",
   "execution_count": 16,
   "id": "2827d96c",
   "metadata": {},
   "outputs": [
    {
     "data": {
      "text/plain": [
       "evaluatePositionScoreDeltaIncremental (generic function with 1 method)"
      ]
     },
     "execution_count": 16,
     "metadata": {},
     "output_type": "execute_result"
    }
   ],
   "source": [
    "function evaluatePositionScoreDeltaIncremental(extboard::ExtendedBoard, nextMove::Chess.Move, pieceSquareTables::Array{PieceSquareTable})::Int32\n",
    "    \n",
    "    side = Chess.sidetomove(extboard.board)\n",
    "    \n",
    "    fromSquare = Chess.from(nextMove)\n",
    "    toSquare = Chess.to(nextMove)\n",
    "    \n",
    "    movingPiece = Chess.pieceon(extboard.board, fromSquare)\n",
    "    movingPieceType = Chess.ptype(movingPiece)\n",
    "    \n",
    "    score = -pieceValueAtSquareOf(movingPiece, fromSquare, pieceSquareTables)\n",
    "    togglePiece!(extboard.zobrist, movingPiece, fromSquare)\n",
    "    score += pieceValueAtSquareOf(movingPiece, toSquare, pieceSquareTables)\n",
    "    togglePiece!(extboard.zobrist, movingPiece, toSquare)\n",
    "    \n",
    "    if movingPieceType == Chess.KING\n",
    "        if Chess.distance(fromSquare, toSquare) == 2\n",
    "            if Chess.file(toSquare) == Chess.FILE_C\n",
    "                if side === Chess.WHITE\n",
    "                    togglePiece!(extboard.zobrist, Chess.PIECE_WR, Chess.SQ_A1)\n",
    "                    togglePiece!(extboard.zobrist, Chess.PIECE_WR, Chess.SQ_D1)\n",
    "                    toggleCastle!(extboard.zobrist, 2)\n",
    "                else\n",
    "                    togglePiece!(extboard.zobrist, Chess.PIECE_BR, Chess.SQ_A8)\n",
    "                    togglePiece!(extboard.zobrist, Chess.PIECE_BR, Chess.SQ_D8)\n",
    "                    toggleCastle!(extboard.zobrist, 4)\n",
    "                end\n",
    "                # Rook value difference queen side castle (FILE_D - FILE_A) = 5\n",
    "                return score + 5\n",
    "            else\n",
    "                if side === Chess.WHITE\n",
    "                    togglePiece!(extboard.zobrist, Chess.PIECE_WR, Chess.SQ_H1)\n",
    "                    togglePiece!(extboard.zobrist, Chess.PIECE_WR, Chess.SQ_F1)\n",
    "                    toggleCastle!(extboard.zobrist, 1)\n",
    "                else\n",
    "                    togglePiece!(extboard.zobrist, Chess.PIECE_BR, Chess.SQ_H8)\n",
    "                    togglePiece!(extboard.zobrist, Chess.PIECE_BR, Chess.SQ_F8)\n",
    "                    toggleCastle!(extboard.zobrist, 3)\n",
    "                end\n",
    "                # Rook value difference king side castle (FILE_F - FILE_H) = 0\n",
    "                return score\n",
    "            end\n",
    "        end\n",
    "    elseif movingPieceType == Chess.PAWN && Chess.epsquare(extboard.board) == toSquare\n",
    "        if side == Chess.WHITE\n",
    "            captureSquare = Chess.Square(Chess.file(toSquare), Chess.RANK_5)\n",
    "            score += pieceValueAtSquareOf(Chess.PIECE_BP, captureSquare, pieceSquareTables)\n",
    "            togglePiece!(extboard.zobrist, Chess.PIECE_BP, captureSquare)\n",
    "        else\n",
    "            captureSquare = Chess.Square(Chess.file(toSquare), Chess.RANK_4)\n",
    "            score += pieceValueAtSquareOf(Chess.PIECE_WP, captureSquare, pieceSquareTables)\n",
    "            togglePiece!(extboard.zobrist, Chess.PIECE_WP, captureSquare)\n",
    "        end\n",
    "        toggleEnPassant!(extboard.zobrist, toSquare)\n",
    "        return score\n",
    "    end\n",
    "    \n",
    "    capturedPiece = Chess.pieceon(extboard.board, toSquare)\n",
    "    \n",
    "    if capturedPiece != Chess.EMPTY\n",
    "        score += pieceValueAtSquareOf(capturedPiece, toSquare, pieceSquareTables)\n",
    "        togglePiece!(extboard.zobrist, capturedPiece, toSquare)\n",
    "    end\n",
    "    \n",
    "    if Chess.ispromotion(nextMove)\n",
    "        score -= PIECE_VALUE_PAWN\n",
    "        togglePiece!(extboard.zobrist, movingPiece, toSquare)\n",
    "        promotedPiece = Chess.Piece(side, Chess.promotion(nextMove))\n",
    "        score += pieceValueAtSquareOf(promotedPiece, toSquare, pieceSquareTables)\n",
    "        togglePiece!(extboard.zobrist, promotedPiece, toSquare)\n",
    "    end\n",
    "    \n",
    "    return score\n",
    "end"
   ]
  },
  {
   "cell_type": "code",
   "execution_count": 17,
   "id": "a962c8ed",
   "metadata": {},
   "outputs": [
    {
     "data": {
      "text/plain": [
       "Tuple{Int64, Int32, Char}"
      ]
     },
     "execution_count": 17,
     "metadata": {},
     "output_type": "execute_result"
    }
   ],
   "source": [
    "if !@isdefined(Transposition)\n",
    "    const Transposition = Tuple{Int64, Int32, Char}\n",
    "end"
   ]
  },
  {
   "cell_type": "code",
   "execution_count": 18,
   "id": "ac80d119",
   "metadata": {},
   "outputs": [
    {
     "data": {
      "text/plain": [
       "getPositionScoreAlphaBeta (generic function with 1 method)"
      ]
     },
     "execution_count": 18,
     "metadata": {},
     "output_type": "execute_result"
    }
   ],
   "source": [
    "function getPositionScoreAlphaBeta(extboard::ExtendedBoard, func::Function, depth::Int64, α::Int32, β::Int32, transpositions::Dict{UInt64, Transposition})\n",
    "    transposition = get(transpositions, extboard.zobrist.hash, nothing)\n",
    "    if transposition != nothing\n",
    "        tDepth, tScore, tFlag = transposition\n",
    "        if tDepth >= depth\n",
    "            if (tFlag == '=') || (tFlag == '≤' && tScore <= α) || (tFlag == '≥' && β <= tScore)\n",
    "                #global hits += 1\n",
    "                return tScore\n",
    "            elseif tFlag == '≤'\n",
    "                if tScore < β\n",
    "                    β = tScore\n",
    "                end\n",
    "            else\n",
    "                if tScore > α\n",
    "                    α = tScore\n",
    "                end\n",
    "            end\n",
    "        end\n",
    "    end\n",
    "    #global misses += 1\n",
    "    tScore = func(extboard, depth - 1, α, β, transpositions)\n",
    "    tFlag = tScore <= α ? '≤' : β <= tScore ? '≥' : '='\n",
    "    transpositions[extboard.zobrist.hash] = (depth, tScore, tFlag)\n",
    "    return tScore\n",
    "end"
   ]
  },
  {
   "cell_type": "code",
   "execution_count": 19,
   "id": "91054c39",
   "metadata": {},
   "outputs": [
    {
     "data": {
      "text/plain": [
       "maxAlphaBeta (generic function with 1 method)"
      ]
     },
     "execution_count": 19,
     "metadata": {},
     "output_type": "execute_result"
    }
   ],
   "source": [
    "function maxAlphaBeta(extboard::ExtendedBoard, depth::Int64, α::Int32, β::Int32, transpositions::Dict{UInt64, Transposition})::Int32\n",
    "    legalMoves = Chess.moves(extboard.board)\n",
    "    if length(legalMoves) == 0 || extboard.repetionRuleDraw\n",
    "        return evaluateTerminalPositionScore(extboard.board) - depth\n",
    "    elseif depth == 0\n",
    "        return extboard.score\n",
    "    end\n",
    "    for move ∈ legalMoves\n",
    "        undo = domove!(extboard, move)\n",
    "        score = getPositionScoreAlphaBeta(extboard, minAlphaBeta, depth, α, β, transpositions)\n",
    "        undomove!(extboard, undo)\n",
    "        if score > α\n",
    "            if score >= β\n",
    "                return score\n",
    "            end\n",
    "            α = score\n",
    "        end\n",
    "    end\n",
    "    Chess.recycle!(legalMoves)\n",
    "    return α\n",
    "end"
   ]
  },
  {
   "cell_type": "code",
   "execution_count": 20,
   "id": "d9c65ba4",
   "metadata": {},
   "outputs": [
    {
     "data": {
      "text/plain": [
       "minAlphaBeta (generic function with 1 method)"
      ]
     },
     "execution_count": 20,
     "metadata": {},
     "output_type": "execute_result"
    }
   ],
   "source": [
    "function minAlphaBeta(extboard::ExtendedBoard, depth::Int64, α::Int32, β::Int32, transpositions::Dict{UInt64, Transposition})::Int32\n",
    "    legalMoves = Chess.moves(extboard.board)\n",
    "    if length(legalMoves) == 0 || extboard.repetionRuleDraw\n",
    "        return evaluateTerminalPositionScore(extboard.board) + depth\n",
    "    elseif depth == 0\n",
    "        return extboard.score\n",
    "    end\n",
    "    for move ∈ legalMoves\n",
    "        undo = domove!(extboard, move)\n",
    "        score = getPositionScoreAlphaBeta(extboard, maxAlphaBeta, depth, α, β, transpositions)\n",
    "        undomove!(extboard, undo)\n",
    "        if score < β\n",
    "            if score <= α\n",
    "                return score\n",
    "            end\n",
    "            β = score\n",
    "        end\n",
    "    end\n",
    "    Chess.recycle!(legalMoves)\n",
    "    return β\n",
    "end"
   ]
  },
  {
   "cell_type": "code",
   "execution_count": 21,
   "id": "14195c61",
   "metadata": {},
   "outputs": [
    {
     "data": {
      "text/plain": [
       "alphaBetaPruningAll (generic function with 1 method)"
      ]
     },
     "execution_count": 21,
     "metadata": {},
     "output_type": "execute_result"
    }
   ],
   "source": [
    "function alphaBetaPruningAll(extboard::ExtendedBoard, depth::Int64)::Tuple{Int32, Vector{Chess.Move}}\n",
    "    transpositions = Dict{UInt64, Transposition}()\n",
    "    sideIsWhite = Chess.sidetomove(extboard.board) == Chess.WHITE\n",
    "    scoredMoves = Dict{Int32, Vector{Chess.Move}}()\n",
    "    pruneFunction = sideIsWhite ? maxAlphaBeta : minAlphaBeta\n",
    "    bestScore = pruneFunction(extboard, depth, typemin(Int32), typemax(Int32), transpositions)\n",
    "    pruneFunction = sideIsWhite ? minAlphaBeta : maxAlphaBeta\n",
    "    for move ∈ Chess.moves(extboard.board)\n",
    "        undo = domove!(extboard, move)\n",
    "        score = pruneFunction(extboard, depth - 1, typemin(Int32), typemax(Int32), transpositions)\n",
    "        undomove!(extboard, undo)\n",
    "        movesWithSameScore = get(scoredMoves, score, Chess.Move[])\n",
    "        push!(movesWithSameScore, move)\n",
    "        scoredMoves[score] = movesWithSameScore\n",
    "    end\n",
    "    bestScore = sideIsWhite ? typemin(Int32) : typemax(Int32)\n",
    "    for score ∈ keys(scoredMoves)\n",
    "        bestScore = (sideIsWhite ? max : min)(score, bestScore)\n",
    "    end\n",
    "    return bestScore, scoredMoves[bestScore]\n",
    "end"
   ]
  },
  {
   "cell_type": "code",
   "execution_count": 22,
   "id": "f16ec9ff",
   "metadata": {},
   "outputs": [
    {
     "data": {
      "text/plain": [
       "alphaBetaPruningOne (generic function with 1 method)"
      ]
     },
     "execution_count": 22,
     "metadata": {},
     "output_type": "execute_result"
    }
   ],
   "source": [
    "function alphaBetaPruningOne(extboard::ExtendedBoard, depth::Int64)::Tuple{Int32, Chess.Move}\n",
    "    legalMoves = Chess.moves(extboard.board)\n",
    "    transpositions = Dict{UInt64, Transposition}()\n",
    "    sideIsWhite = Chess.sidetomove(extboard.board) == Chess.WHITE\n",
    "    α = typemin(Int32)\n",
    "    β = typemax(Int32)\n",
    "    bestMove = legalMoves[1]\n",
    "    for move ∈ legalMoves\n",
    "        undo = domove!(extboard, move)\n",
    "        score = getPositionScoreAlphaBeta(extboard, sideIsWhite ? minAlphaBeta : maxAlphaBeta, depth, α, β, transpositions)\n",
    "        undomove!(extboard, undo)\n",
    "        if sideIsWhite\n",
    "            if score > α\n",
    "                bestMove = move\n",
    "                println(\"$(α) $(β) $(bestMove)\")\n",
    "                if score >= β\n",
    "                    return score\n",
    "                end\n",
    "                α = score\n",
    "            end\n",
    "        else\n",
    "            if score < β\n",
    "                bestMove = move\n",
    "                println(\"$(α) $(β) $(bestMove)\")\n",
    "                if score <= α\n",
    "                    return score\n",
    "                end\n",
    "                β = score\n",
    "            end\n",
    "        end\n",
    "    end\n",
    "    return (sideIsWhite ? α : β), bestMove\n",
    "end"
   ]
  },
  {
   "cell_type": "code",
   "execution_count": 23,
   "id": "da04c791",
   "metadata": {
    "scrolled": true
   },
   "outputs": [
    {
     "data": {
      "text/plain": [
       "getNextMove (generic function with 3 methods)"
      ]
     },
     "execution_count": 23,
     "metadata": {},
     "output_type": "execute_result"
    }
   ],
   "source": [
    "struct ABOneAI \n",
    "    depth::Int64\n",
    "end\n",
    "\n",
    "function getNextMove(ai::ABOneAI, extboard::ExtendedBoard, _...)::Chess.Move\n",
    "    score, moves = alphaBetaPruningAll(extboard, ai.depth)\n",
    "    return rand(moves)\n",
    "end"
   ]
  },
  {
   "cell_type": "code",
   "execution_count": 24,
   "id": "b38f3463",
   "metadata": {
    "scrolled": false
   },
   "outputs": [
    {
     "name": "stdout",
     "output_type": "stream",
     "text": [
      "kR6/p7/2PB3p/5B2/5P2/8/P3q2P/1K6 b - -\n"
     ]
    },
    {
     "data": {
      "text/html": [
       "Board:<div class=\"chessboard\"><style soped=\"true\">.dark-square {\n",
       "    fill: #c3936a;\n",
       "    stroke-width: 0;\n",
       "}\n",
       ".light-square {\n",
       "    fill: #ffd7a6;\n",
       "    stroke-width: 0;\n",
       "}\n",
       ".highlight {\n",
       "    fill: #47d18b;\n",
       "}\n",
       "@media (prefers-color-scheme: dark) {\n",
       "    .dark-square {\n",
       "        fill: #00796b;\n",
       "    }\n",
       "    .light-square {\n",
       "        fill: #3ca59b;\n",
       "    }\n",
       "    .highlight {\n",
       "        fill: #d23600;\n",
       "    }\n",
       "}\n",
       "</style><svg style=\"float: left; margin-right: 20px\" viewBox=\"0 0 8 8\" height=\"280\" width=\"280\"><g><g><rect x=\"0\" y=\"0\" class=\"light-square\" height=\"1\" width=\"1\"></rect><image x=\"0\" xlink:href=\"https://raw.githubusercontent.com/romstad/Chess.jl/master/img/bk.svg\" y=\"0\" height=\"1\" width=\"1\"></image></g><g><rect x=\"0\" y=\"1\" class=\"dark-square\" height=\"1\" width=\"1\"></rect><image x=\"0\" xlink:href=\"https://raw.githubusercontent.com/romstad/Chess.jl/master/img/bp.svg\" y=\"1\" height=\"1\" width=\"1\"></image></g><g><rect x=\"0\" y=\"2\" class=\"light-square\" height=\"1\" width=\"1\"></rect><g></g></g><g><rect x=\"0\" y=\"3\" class=\"dark-square\" height=\"1\" width=\"1\"></rect><g></g></g><g><rect x=\"0\" y=\"4\" class=\"light-square\" height=\"1\" width=\"1\"></rect><g></g></g><g><rect x=\"0\" y=\"5\" class=\"dark-square\" height=\"1\" width=\"1\"></rect><g></g></g><g><rect x=\"0\" y=\"6\" class=\"light-square\" height=\"1\" width=\"1\"></rect><image x=\"0\" xlink:href=\"https://raw.githubusercontent.com/romstad/Chess.jl/master/img/wp.svg\" y=\"6\" height=\"1\" width=\"1\"></image></g><g><rect x=\"0\" y=\"7\" class=\"dark-square\" height=\"1\" width=\"1\"></rect><g></g></g><g><rect x=\"1\" y=\"0\" class=\"dark-square\" height=\"1\" width=\"1\"></rect><image x=\"1\" xlink:href=\"https://raw.githubusercontent.com/romstad/Chess.jl/master/img/wr.svg\" y=\"0\" height=\"1\" width=\"1\"></image></g><g><rect x=\"1\" y=\"1\" class=\"light-square\" height=\"1\" width=\"1\"></rect><g></g></g><g><rect x=\"1\" y=\"2\" class=\"dark-square\" height=\"1\" width=\"1\"></rect><g></g></g><g><rect x=\"1\" y=\"3\" class=\"light-square\" height=\"1\" width=\"1\"></rect><g></g></g><g><rect x=\"1\" y=\"4\" class=\"dark-square\" height=\"1\" width=\"1\"></rect><g></g></g><g><rect x=\"1\" y=\"5\" class=\"light-square\" height=\"1\" width=\"1\"></rect><g></g></g><g><rect x=\"1\" y=\"6\" class=\"dark-square\" height=\"1\" width=\"1\"></rect><g></g></g><g><rect x=\"1\" y=\"7\" class=\"light-square\" height=\"1\" width=\"1\"></rect><image x=\"1\" xlink:href=\"https://raw.githubusercontent.com/romstad/Chess.jl/master/img/wk.svg\" y=\"7\" height=\"1\" width=\"1\"></image></g><g><rect x=\"2\" y=\"0\" class=\"light-square\" height=\"1\" width=\"1\"></rect><g></g></g><g><rect x=\"2\" y=\"1\" class=\"dark-square\" height=\"1\" width=\"1\"></rect><g></g></g><g><rect x=\"2\" y=\"2\" class=\"light-square\" height=\"1\" width=\"1\"></rect><image x=\"2\" xlink:href=\"https://raw.githubusercontent.com/romstad/Chess.jl/master/img/wp.svg\" y=\"2\" height=\"1\" width=\"1\"></image></g><g><rect x=\"2\" y=\"3\" class=\"dark-square\" height=\"1\" width=\"1\"></rect><g></g></g><g><rect x=\"2\" y=\"4\" class=\"light-square\" height=\"1\" width=\"1\"></rect><g></g></g><g><rect x=\"2\" y=\"5\" class=\"dark-square\" height=\"1\" width=\"1\"></rect><g></g></g><g><rect x=\"2\" y=\"6\" class=\"light-square\" height=\"1\" width=\"1\"></rect><g></g></g><g><rect x=\"2\" y=\"7\" class=\"dark-square\" height=\"1\" width=\"1\"></rect><g></g></g><g><rect x=\"3\" y=\"0\" class=\"dark-square\" height=\"1\" width=\"1\"></rect><g></g></g><g><rect x=\"3\" y=\"1\" class=\"light-square\" height=\"1\" width=\"1\"></rect><g></g></g><g><rect x=\"3\" y=\"2\" class=\"dark-square\" height=\"1\" width=\"1\"></rect><image x=\"3\" xlink:href=\"https://raw.githubusercontent.com/romstad/Chess.jl/master/img/wb.svg\" y=\"2\" height=\"1\" width=\"1\"></image></g><g><rect x=\"3\" y=\"3\" class=\"light-square\" height=\"1\" width=\"1\"></rect><g></g></g><g><rect x=\"3\" y=\"4\" class=\"dark-square\" height=\"1\" width=\"1\"></rect><g></g></g><g><rect x=\"3\" y=\"5\" class=\"light-square\" height=\"1\" width=\"1\"></rect><g></g></g><g><rect x=\"3\" y=\"6\" class=\"dark-square\" height=\"1\" width=\"1\"></rect><g></g></g><g><rect x=\"3\" y=\"7\" class=\"light-square\" height=\"1\" width=\"1\"></rect><g></g></g><g><rect x=\"4\" y=\"0\" class=\"light-square\" height=\"1\" width=\"1\"></rect><g></g></g><g><rect x=\"4\" y=\"1\" class=\"dark-square\" height=\"1\" width=\"1\"></rect><g></g></g><g><rect x=\"4\" y=\"2\" class=\"light-square\" height=\"1\" width=\"1\"></rect><g></g></g><g><rect x=\"4\" y=\"3\" class=\"dark-square\" height=\"1\" width=\"1\"></rect><g></g></g><g><rect x=\"4\" y=\"4\" class=\"light-square\" height=\"1\" width=\"1\"></rect><g></g></g><g><rect x=\"4\" y=\"5\" class=\"dark-square\" height=\"1\" width=\"1\"></rect><g></g></g><g><rect x=\"4\" y=\"6\" class=\"light-square\" height=\"1\" width=\"1\"></rect><image x=\"4\" xlink:href=\"https://raw.githubusercontent.com/romstad/Chess.jl/master/img/bq.svg\" y=\"6\" height=\"1\" width=\"1\"></image></g><g><rect x=\"4\" y=\"7\" class=\"dark-square\" height=\"1\" width=\"1\"></rect><g></g></g><g><rect x=\"5\" y=\"0\" class=\"dark-square\" height=\"1\" width=\"1\"></rect><g></g></g><g><rect x=\"5\" y=\"1\" class=\"light-square\" height=\"1\" width=\"1\"></rect><g></g></g><g><rect x=\"5\" y=\"2\" class=\"dark-square\" height=\"1\" width=\"1\"></rect><g></g></g><g><rect x=\"5\" y=\"3\" class=\"light-square\" height=\"1\" width=\"1\"></rect><image x=\"5\" xlink:href=\"https://raw.githubusercontent.com/romstad/Chess.jl/master/img/wb.svg\" y=\"3\" height=\"1\" width=\"1\"></image></g><g><rect x=\"5\" y=\"4\" class=\"dark-square\" height=\"1\" width=\"1\"></rect><image x=\"5\" xlink:href=\"https://raw.githubusercontent.com/romstad/Chess.jl/master/img/wp.svg\" y=\"4\" height=\"1\" width=\"1\"></image></g><g><rect x=\"5\" y=\"5\" class=\"light-square\" height=\"1\" width=\"1\"></rect><g></g></g><g><rect x=\"5\" y=\"6\" class=\"dark-square\" height=\"1\" width=\"1\"></rect><g></g></g><g><rect x=\"5\" y=\"7\" class=\"light-square\" height=\"1\" width=\"1\"></rect><g></g></g><g><rect x=\"6\" y=\"0\" class=\"light-square\" height=\"1\" width=\"1\"></rect><g></g></g><g><rect x=\"6\" y=\"1\" class=\"dark-square\" height=\"1\" width=\"1\"></rect><g></g></g><g><rect x=\"6\" y=\"2\" class=\"light-square\" height=\"1\" width=\"1\"></rect><g></g></g><g><rect x=\"6\" y=\"3\" class=\"dark-square\" height=\"1\" width=\"1\"></rect><g></g></g><g><rect x=\"6\" y=\"4\" class=\"light-square\" height=\"1\" width=\"1\"></rect><g></g></g><g><rect x=\"6\" y=\"5\" class=\"dark-square\" height=\"1\" width=\"1\"></rect><g></g></g><g><rect x=\"6\" y=\"6\" class=\"light-square\" height=\"1\" width=\"1\"></rect><g></g></g><g><rect x=\"6\" y=\"7\" class=\"dark-square\" height=\"1\" width=\"1\"></rect><g></g></g><g><rect x=\"7\" y=\"0\" class=\"dark-square\" height=\"1\" width=\"1\"></rect><g></g></g><g><rect x=\"7\" y=\"1\" class=\"light-square\" height=\"1\" width=\"1\"></rect><g></g></g><g><rect x=\"7\" y=\"2\" class=\"dark-square\" height=\"1\" width=\"1\"></rect><image x=\"7\" xlink:href=\"https://raw.githubusercontent.com/romstad/Chess.jl/master/img/bp.svg\" y=\"2\" height=\"1\" width=\"1\"></image></g><g><rect x=\"7\" y=\"3\" class=\"light-square\" height=\"1\" width=\"1\"></rect><g></g></g><g><rect x=\"7\" y=\"4\" class=\"dark-square\" height=\"1\" width=\"1\"></rect><g></g></g><g><rect x=\"7\" y=\"5\" class=\"light-square\" height=\"1\" width=\"1\"></rect><g></g></g><g><rect x=\"7\" y=\"6\" class=\"dark-square\" height=\"1\" width=\"1\"></rect><image x=\"7\" xlink:href=\"https://raw.githubusercontent.com/romstad/Chess.jl/master/img/wp.svg\" y=\"6\" height=\"1\" width=\"1\"></image></g><g><rect x=\"7\" y=\"7\" class=\"light-square\" height=\"1\" width=\"1\"></rect><g></g></g></g><g></g></svg><div><p>Black to move</p><p><a href=\"https://lichess.org/editor/kR6/p7/2PB3p/5B2/5P2/8/P3q2P/1K6_b_-_-\" target=\"_blank\">Open in lichess</a></p></div></div>"
      ],
      "text/plain": [
       "HTML{String}(\"Board:<div class=\\\"chessboard\\\"><style soped=\\\"true\\\">.dark-square {\\n    fill: #c3936a;\\n    stroke-width: 0;\\n}\\n.light-square {\\n    fill: #ffd7a6;\\n    stroke-width: 0;\\n}\\n.highlight {\\n    fill: #47d18b;\\n}\\n@media (prefers-color-scheme: dark) {\\n    .dark-square {\\n        fill: #00796b;\\n    }\\n    .light-square {\\n        fill: #3ca59b;\\n    }\\n    .highlight {\\n        fill: #d23600;\\n    }\\n}\\n</style><svg style=\\\"float: left; margin-right: 20px\\\" viewBox=\\\"0 0 8 8\\\" height=\\\"280\\\" width=\\\"280\\\"><g><g><rect x=\\\"0\\\" y=\\\"0\\\" class=\\\"light-square\\\" height=\\\"1\\\" width=\\\"1\\\"></rect><image x=\\\"0\\\" xlink:href=\\\"https://raw.githubusercontent.com/romstad/Chess.jl/master/img/bk.svg\\\" y=\\\"0\\\" height=\\\"1\\\" width=\\\"1\\\"></image></g><g><rect x=\\\"0\\\" y=\\\"1\\\" class=\\\"dark-square\\\" height=\\\"1\\\" width=\\\"1\\\"></rect><image x=\\\"0\\\" xlink:href=\\\"https://raw.githubusercontent.com/romstad/Chess.jl/master/img/bp.svg\\\" y=\\\"1\\\" height=\\\"1\\\" width=\\\"1\\\"></image></g><g><rect x=\\\"0\\\" y=\\\"2\\\" class=\\\"light-square\\\" height=\\\"1\\\" width=\\\"1\\\"></rect><g></g></g><g><rect x=\\\"0\\\" y=\\\"3\\\" class=\\\"dark-square\\\" height=\\\"1\\\" width=\\\"1\\\"></rect><g></g></g><g><rect x=\\\"0\\\" y=\\\"4\\\" class=\\\"light-square\\\" height=\\\"1\\\" width=\\\"1\\\"></rect><g></g></g><g><rect x=\\\"0\\\" y=\\\"5\\\" class=\\\"dark-square\\\" height=\\\"1\\\" width=\\\"1\\\"></rect><g></g></g><g><rect x=\\\"0\\\" y=\\\"6\\\" class=\\\"light-square\\\" height=\\\"1\\\" width=\\\"1\\\"></rect><image x=\\\"0\\\" xlink:href=\\\"https://raw.githubusercontent.com/romstad/Chess.jl/master/img/wp.svg\\\" y=\\\"6\\\" height=\\\"1\\\" width=\\\"1\\\"></image></g><g><rect x=\\\"0\\\" y=\\\"7\\\" class=\\\"dark-square\\\" height=\\\"1\\\" width=\\\"1\\\"></rect><g></g></g><g><rect x=\\\"1\\\" y=\\\"0\\\" class=\\\"dark-square\\\" height=\\\"1\\\" width=\\\"1\\\"></rect><image x=\\\"1\\\" xlink:href=\\\"https://raw.githubusercontent.com/romstad/Chess.jl/master/img/wr.svg\\\" y=\\\"0\\\" height=\\\"1\\\" width=\\\"1\\\"></image></g><g><rect x=\\\"1\\\" y=\\\"1\\\" class=\\\"light-square\\\" height=\\\"1\\\" width=\\\"1\\\"></rect><g></g></g><g><rect x=\\\"1\\\" y=\\\"2\\\" class=\\\"dark-square\\\" height=\\\"1\\\" width=\\\"1\\\"></rect><g></g></g><g><rect x=\\\"1\\\" y=\\\"3\\\" class=\\\"light-square\\\" height=\\\"1\\\" width=\\\"1\\\"></rect><g></g></g><g><rect x=\\\"1\\\" y=\\\"4\\\" class=\\\"dark-square\\\" height=\\\"1\\\" width=\\\"1\\\"></rect><g></g></g><g><rect x=\\\"1\\\" y=\\\"5\\\" class=\\\"light-square\\\" height=\\\"1\\\" width=\\\"1\\\"></rect><g></g></g><g><rect x=\\\"1\\\" y=\\\"6\\\" class=\\\"dark-square\\\" height=\\\"1\\\" width=\\\"1\\\"></rect><g></g></g><g><rect x=\\\"1\\\" y=\\\"7\\\" class=\\\"light-square\\\" height=\\\"1\\\" width=\\\"1\\\"></rect><image x=\\\"1\\\" xlink:href=\\\"https://raw.githubusercontent.com/romstad/Chess.jl/master/img/wk.svg\\\" y=\\\"7\\\" height=\\\"1\\\" width=\\\"1\\\"></image></g><g><rect x=\\\"2\\\" y=\\\"0\\\" class=\\\"light-square\\\" height=\\\"1\\\" width=\\\"1\\\"></rect><g></g></g><g><rect x=\\\"2\\\" y=\\\"1\\\" class=\\\"dark-square\\\" height=\\\"1\\\" width=\\\"1\\\"></rect><g></g></g><g><rect x=\\\"2\\\" y=\\\"2\\\" class=\\\"light-square\\\" height=\\\"1\\\" width=\\\"1\\\"></rect><image x=\\\"2\\\" xlink:href=\\\"https://raw.githubusercontent.com/romstad/Chess.jl/master/img/wp.svg\\\" y=\\\"2\\\" height=\\\"1\\\" width=\\\"1\\\"></image></g><g><rect x=\\\"2\\\" y=\\\"3\\\" class=\\\"dark-square\\\" height=\\\"1\\\" width=\\\"1\\\"></rect><g></g></g><g><rect x=\\\"2\\\" y=\\\"4\\\" class=\\\"light-square\\\" height=\\\"1\\\" width=\\\"1\\\"></rect><g></g></g><g><rect x=\\\"2\\\" y=\\\"5\\\" class=\\\"dark-square\\\" height=\\\"1\\\" width=\\\"1\\\"></rect><g></g></g><g><rect x=\\\"2\\\" y=\\\"6\\\" class=\\\"light-square\\\" height=\\\"1\\\" width=\\\"1\\\"></rect><g></g></g><g><rect x=\\\"2\\\" y=\\\"7\\\" class=\\\"dark-square\\\" height=\\\"1\\\" width=\\\"1\\\"></rect><g></g></g><g><rect x=\\\"3\\\" y=\\\"0\\\" class=\\\"dark-square\\\" height=\\\"1\\\" width=\\\"1\\\"></rect><g></g></g><g><rect x=\\\"3\\\" y=\\\"1\\\" class=\\\"light-square\\\" height=\\\"1\\\" width=\\\"1\\\"></rect><g></g></g><g><rect x=\\\"3\\\" y=\\\"2\\\" class=\\\"dark-square\\\" height=\\\"1\\\" width=\\\"1\\\"></rect><image x=\\\"3\\\" xlink:href=\\\"https://raw.githubusercontent.com/romstad/Chess.jl/master/img/wb.svg\\\" y=\\\"2\\\" height=\\\"1\\\" width=\\\"1\\\"></image></g><g><rect x=\\\"3\\\" y=\\\"3\\\" class=\\\"light-square\\\" height=\\\"1\\\" width=\\\"1\\\"></rect><g></g></g><g><rect x=\\\"3\\\" y=\\\"4\\\" class=\\\"dark-square\\\" height=\\\"1\\\" width=\\\"1\\\"></rect><g></g></g><g><rect x=\\\"3\\\" y=\\\"5\\\" class=\\\"light-square\\\" height=\\\"1\\\" width=\\\"1\\\"></rect><g></g></g><g><rect x=\\\"3\\\" y=\\\"6\\\" class=\\\"dark-square\\\" height=\\\"1\\\" width=\\\"1\\\"></rect><g></g></g><g><rect x=\\\"3\\\" y=\\\"7\\\" class=\\\"light-square\\\" height=\\\"1\\\" width=\\\"1\\\"></rect><g></g></g><g><rect x=\\\"4\\\" y=\\\"0\\\" class=\\\"light-square\\\" height=\\\"1\\\" width=\\\"1\\\"></rect><g></g></g><g><rect x=\\\"4\\\" y=\\\"1\\\" class=\\\"dark-square\\\" height=\\\"1\\\" width=\\\"1\\\"></rect><g></g></g><g><rect x=\\\"4\\\" y=\\\"2\\\" class=\\\"light-square\\\" height=\\\"1\\\" width=\\\"1\\\"></rect><g></g></g><g><rect x=\\\"4\\\" y=\\\"3\\\" class=\\\"dark-square\\\" height=\\\"1\\\" width=\\\"1\\\"></rect><g></g></g><g><rect x=\\\"4\\\" y=\\\"4\\\" class=\\\"light-square\\\" height=\\\"1\\\" width=\\\"1\\\"></rect><g></g></g><g><rect x=\\\"4\\\" y=\\\"5\\\" class=\\\"dark-square\\\" height=\\\"1\\\" width=\\\"1\\\"></rect><g></g></g><g><rect x=\\\"4\\\" y=\\\"6\\\" class=\\\"light-square\\\" height=\\\"1\\\" width=\\\"1\\\"></rect><image x=\\\"4\\\" xlink:href=\\\"https://raw.githubusercontent.com/romstad/Chess.jl/master/img/bq.svg\\\" y=\\\"6\\\" height=\\\"1\\\" width=\\\"1\\\"></image></g><g><rect x=\\\"4\\\" y=\\\"7\\\" class=\\\"dark-square\\\" height=\\\"1\\\" width=\\\"1\\\"></rect><g></g></g><g><rect x=\\\"5\\\" y=\\\"0\\\" class=\\\"dark-square\\\" height=\\\"1\\\" width=\\\"1\\\"></rect><g></g></g><g><rect x=\\\"5\\\" y=\\\"1\\\" class=\\\"light-square\\\" height=\\\"1\\\" width=\\\"1\\\"></rect><g></g></g><g><rect x=\\\"5\\\" y=\\\"2\\\" class=\\\"dark-square\\\" height=\\\"1\\\" width=\\\"1\\\"></rect><g></g></g><g><rect x=\\\"5\\\" y=\\\"3\\\" class=\\\"light-square\\\" height=\\\"1\\\" width=\\\"1\\\"></rect><image x=\\\"5\\\" xlink:href=\\\"https://raw.githubusercontent.com/romstad/Chess.jl/master/img/wb.svg\\\" y=\\\"3\\\" height=\\\"1\\\" width=\\\"1\\\"></image></g><g><rect x=\\\"5\\\" y=\\\"4\\\" class=\\\"dark-square\\\" height=\\\"1\\\" width=\\\"1\\\"></rect><image x=\\\"5\\\" xlink:href=\\\"https://raw.githubusercontent.com/romstad/Chess.jl/master/img/wp.svg\\\" y=\\\"4\\\" height=\\\"1\\\" width=\\\"1\\\"></image></g><g><rect x=\\\"5\\\" y=\\\"5\\\" class=\\\"light-square\\\" height=\\\"1\\\" width=\\\"1\\\"></rect><g></g></g><g><rect x=\\\"5\\\" y=\\\"6\\\" class=\\\"dark-square\\\" height=\\\"1\\\" width=\\\"1\\\"></rect><g></g></g><g><rect x=\\\"5\\\" y=\\\"7\\\" class=\\\"light-square\\\" height=\\\"1\\\" width=\\\"1\\\"></rect><g></g></g><g><rect x=\\\"6\\\" y=\\\"0\\\" class=\\\"light-square\\\" height=\\\"1\\\" width=\\\"1\\\"></rect><g></g></g><g><rect x=\\\"6\\\" y=\\\"1\\\" class=\\\"dark-square\\\" height=\\\"1\\\" width=\\\"1\\\"></rect><g></g></g><g><rect x=\\\"6\\\" y=\\\"2\\\" class=\\\"light-square\\\" height=\\\"1\\\" width=\\\"1\\\"></rect><g></g></g><g><rect x=\\\"6\\\" y=\\\"3\\\" class=\\\"dark-square\\\" height=\\\"1\\\" width=\\\"1\\\"></rect><g></g></g><g><rect x=\\\"6\\\" y=\\\"4\\\" class=\\\"light-square\\\" height=\\\"1\\\" width=\\\"1\\\"></rect><g></g></g><g><rect x=\\\"6\\\" y=\\\"5\\\" class=\\\"dark-square\\\" height=\\\"1\\\" width=\\\"1\\\"></rect><g></g></g><g><rect x=\\\"6\\\" y=\\\"6\\\" class=\\\"light-square\\\" height=\\\"1\\\" width=\\\"1\\\"></rect><g></g></g><g><rect x=\\\"6\\\" y=\\\"7\\\" class=\\\"dark-square\\\" height=\\\"1\\\" width=\\\"1\\\"></rect><g></g></g><g><rect x=\\\"7\\\" y=\\\"0\\\" class=\\\"dark-square\\\" height=\\\"1\\\" width=\\\"1\\\"></rect><g></g></g><g><rect x=\\\"7\\\" y=\\\"1\\\" class=\\\"light-square\\\" height=\\\"1\\\" width=\\\"1\\\"></rect><g></g></g><g><rect x=\\\"7\\\" y=\\\"2\\\" class=\\\"dark-square\\\" height=\\\"1\\\" width=\\\"1\\\"></rect><image x=\\\"7\\\" xlink:href=\\\"https://raw.githubusercontent.com/romstad/Chess.jl/master/img/bp.svg\\\" y=\\\"2\\\" height=\\\"1\\\" width=\\\"1\\\"></image></g><g><rect x=\\\"7\\\" y=\\\"3\\\" class=\\\"light-square\\\" height=\\\"1\\\" width=\\\"1\\\"></rect><g></g></g><g><rect x=\\\"7\\\" y=\\\"4\\\" class=\\\"dark-square\\\" height=\\\"1\\\" width=\\\"1\\\"></rect><g></g></g><g><rect x=\\\"7\\\" y=\\\"5\\\" class=\\\"light-square\\\" height=\\\"1\\\" width=\\\"1\\\"></rect><g></g></g><g><rect x=\\\"7\\\" y=\\\"6\\\" class=\\\"dark-square\\\" height=\\\"1\\\" width=\\\"1\\\"></rect><image x=\\\"7\\\" xlink:href=\\\"https://raw.githubusercontent.com/romstad/Chess.jl/master/img/wp.svg\\\" y=\\\"6\\\" height=\\\"1\\\" width=\\\"1\\\"></image></g><g><rect x=\\\"7\\\" y=\\\"7\\\" class=\\\"light-square\\\" height=\\\"1\\\" width=\\\"1\\\"></rect><g></g></g></g><g></g></svg><div><p>Black to move</p><p><a href=\\\"https://lichess.org/editor/kR6/p7/2PB3p/5B2/5P2/8/P3q2P/1K6_b_-_-\\\" target=\\\"_blank\\\">Open in lichess</a></p></div></div>\")"
      ]
     },
     "metadata": {},
     "output_type": "display_data"
    },
    {
     "name": "stdout",
     "output_type": "stream",
     "text": [
      "Last Move: Move(b3b8)\n",
      "Saved game to games/2023-05-08T12-13-09.593.pgn\n",
      "Checkmate, WHITE wins\n"
     ]
    },
    {
     "data": {
      "text/plain": [
       "Dict{Int64, Int64} with 3 entries:\n",
       "  0  => 2\n",
       "  -1 => 2\n",
       "  1  => 6"
      ]
     },
     "execution_count": 24,
     "metadata": {},
     "output_type": "execute_result"
    }
   ],
   "source": [
    "a = Dict(0 => 0, 1 => 0, -1 => 0)\n",
    "\n",
    "for _ in 1:10\n",
    "    a[play(black = ABOneAI(5), white = ABOneAI(5))] += 1\n",
    "end\n",
    "        \n",
    "a"
   ]
  },
  {
   "cell_type": "code",
   "execution_count": 25,
   "id": "5be28e34",
   "metadata": {},
   "outputs": [
    {
     "data": {
      "text/plain": [
       "29"
      ]
     },
     "execution_count": 25,
     "metadata": {},
     "output_type": "execute_result"
    }
   ],
   "source": [
    "open(\"f.txt\", \"w\") do file\n",
    "    write(file, string(a))\n",
    "end"
   ]
  }
 ],
 "metadata": {
  "kernelspec": {
   "display_name": "Julia 1.8.2",
   "language": "julia",
   "name": "julia-1.8"
  },
  "language_info": {
   "file_extension": ".jl",
   "mimetype": "application/julia",
   "name": "julia",
   "version": "1.8.2"
  }
 },
 "nbformat": 4,
 "nbformat_minor": 5
}
