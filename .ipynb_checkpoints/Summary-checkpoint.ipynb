{
 "cells": [
  {
   "cell_type": "code",
   "execution_count": null,
   "id": "85e9d772",
   "metadata": {},
   "outputs": [],
   "source": [
    "HTML(read(open(\"style.html\"), String))"
   ]
  },
  {
   "cell_type": "markdown",
   "id": "7424b167",
   "metadata": {},
   "source": [
    "***"
   ]
  },
  {
   "cell_type": "markdown",
   "id": "10df5164",
   "metadata": {},
   "source": [
    "# Summary - Abstract\n",
    "\n",
    "Die Arbeit mit dem Titel `Chess AI Julia` behandelt die Erarbeitung einer künstlichen Schach-Intelligenz, geschrieben in [Julia 1.8.5](https://julialang.org/) (Julia, 2023). Julia ist eine dynamische Allzweck-Programmiersprache, welche vor allem für wissenschaftliche Berechnungen und Big-Data-Analysen beliebt ist. Dank der Verwendung eines JIT-Compilers (Just in Time) erweist sich Julia als sehr schnell und ermöglicht es Entwicklern, prägnanten und dennoch leistungsstarken Code zu schreiben.\n",
    "\n",
    "Als Grundlage der Arbeit dient die Julia-Bibliothek [`Chess.jl`](https://romstad.github.io/Chess.jl/dev/) (Romstad, Chess.jl, 2023), von [Tord Romstad](https://github.com/romstad) (Romstad, GitHub, 2023) und 2 weiteren Kontributoren. Diese stellt eine Implementation von Schach zur Verfügung.\n",
    "\n",
    "Die KI selbst wird in mehreren Schritten implementiert. Zu Beginn wird sichergestellt, dass die KI Schach spielen kann und die allgemeinen Regeln versteht. Es werden nur zufällige Züge, das heißt keinerlei Strategie oder Taktik, verwendet. Die nachfolgenden Generation der KI verwenden zuerst den [`Minimax-Algorithmus`](https://en.wikipedia.org/wiki/Minimax) (Chess Programming WIKI Team, 2023), dann [`Zobrist-Hashing`](https://en.wikipedia.org/wiki/Zobrist_hashing) (Chess Programming WIKI Team, 2023) um `Memoisierung` umzusetzen, und zum Schluss eine optimierte Minimax-Version, die [`Alpha-Beta Suche`](https://en.wikipedia.org/wiki/Alpha%E2%80%93beta_pruning) (Great Learning Team, 2023), zur Berechnung der bestmöglichen Züge. <br>\n",
    "Die zugrunde liegenden Wertigkeiten des Spielbretts und der Spielfiguren stammen von [Tomasz Michniewski](https://www.chessprogramming.org/Tomasz_Michniewski) (Chess Programming WIKI Team, 2023), einem polnischen Informatiker. Spielsituationen werden mit Hilfe der [Simple-Evaluation-Function](https://www.chessprogramming.org/Simplified_Evaluation_Function) (Michniewski, 2023) bewertet.\n",
    "\n",
    "Ziel dieser Arbeit ist es, eine KI mit einer Spielstärke von mindestens 1300 Elo Punkten zu erstellen. Die [`Alpha-Beta AI`](<5.1%20-%20Alpha-Beta-Pruning%20AI.ipynb>) gilt als erfolgreich implementiert, sobald sie einen Gegner der Wertigkeit `1300` zuverlässig, d.h. in 90% der Fälle, schlägt.\n",
    "\n",
    "Das Ergebnis dieser Arbeit ist, dass die Alpha-Beta KI (mit Memoisierung) die Anforderung erfüllt.\n",
    "\n",
    "### Zukunft & Mögliche Verbesserungen\n",
    "\n",
    "Zuletzt wird ein Ausblick auf zukünftige Arbeiten gegeben. Die Alpha-Beta Suche kann weiter optimiert werden, indem die [`Quiescence Search`](https://www.chessprogramming.org/Quiescence_Search) (Chess Programming WIKI Team, 2023) implementiert wird. Diese verhindert, dass die KI in einen [`Horizont-Effekt`](https://www.chessprogramming.org/Horizon_Effect) (Chess Programming WIKI Team, 2023) gerät. Damit wird verhindert, dass die KI einen Zug ausführt, der zwar kurzfristig gut aussieht, aber langfristig zu einem Nachteil führt. <br>\n",
    "\n",
    "Eine weitere Möglichkeit die KI zu verbessern, ist das sogenannte [`Move Ordering`](https://www.chessprogramming.org/Move_Ordering) (Chess Programming WIKI Team, 2023). Damit die Alpha-Beta Suche so effizient wie möglich ist, sollten zuerst die besten Züge berechnet werden. Dies kann erreicht werden, indem die Züge, mit Hilfe von bestimmten Techniken, bspw. [`Killer-Moves`](https://www.chessprogramming.org/Killer_Move) (Chess Programming WIKI Team, 2023)  oder [`History-Heuristic`](https://www.chessprogramming.org/History_Heuristic) (Chess Programming WIKI Team, 2023), ihrer Wertigkeit nach sortiert werden. \n",
    "\n",
    "Um die Evaulierungsgeschwindigkeit weiter zu erhöhen, bietet es sich an die Multithreading-Kapazität moderner Mehrkern-CPUs zu nutzen. Hierbei könnte die Evaluierung aller Züge der Tiefe 1 (i.d.R. etwa 20) auf verschiedene CPU-Threads aufgeteilt werden.\n",
    "\n",
    "Die Eröffnung der KI lässt sich durch das Verwenden von Eröffnungstabellen verbessern. Hierbei werden die ersten Züge einer vorkalkulierten Tabelle entnommen, welche die besten Antworten auf eine gewisse Stellung enthält."
   ]
  },
  {
   "cell_type": "markdown",
   "id": "ec4fcac0",
   "metadata": {},
   "source": [
    "***"
   ]
  },
  {
   "cell_type": "markdown",
   "id": "28168f42",
   "metadata": {},
   "source": [
    "Diese Arbeit wurde in Jupyter Notebooks verfasst und auf GitHub ([`github.com/Cheatahh/chess-ai-julia`](https://github.com/Cheatahh/chess-ai-julia)) veröffentlicht. Es empfiehlt sich, die Arbeit in Jupyter zu lesen.\n",
    "\n",
    "Eine zukünftige Weiterführung der Schach-KI Entwicklung (C++23) wird auf [`github.com/Cheatahh/Nx7`](https://github.com/Cheatahh/Nx7) durchgeführt (nicht Teil dieser Arbeit). "
   ]
  }
 ],
 "metadata": {
  "kernelspec": {
   "display_name": "Julia 1.8.5",
   "language": "julia",
   "name": "julia-1.8"
  },
  "language_info": {
   "file_extension": ".jl",
   "mimetype": "application/julia",
   "name": "julia",
   "version": "1.8.5"
  }
 },
 "nbformat": 4,
 "nbformat_minor": 5
}
