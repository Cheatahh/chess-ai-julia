{
 "cells": [
  {
   "cell_type": "code",
   "execution_count": null,
   "id": "c14b395c",
   "metadata": {},
   "outputs": [],
   "source": [
    "HTML(read(open(\"style.html\"), String))"
   ]
  },
  {
   "cell_type": "code",
   "execution_count": 1,
   "id": "0f7da6fa",
   "metadata": {},
   "outputs": [],
   "source": [
    "using NBInclude"
   ]
  },
  {
   "cell_type": "code",
   "execution_count": null,
   "id": "c7411117",
   "metadata": {},
   "outputs": [],
   "source": [
    "@nbinclude \"Memoisierung - Zobrist-Hashing.ipynb\""
   ]
  },
  {
   "cell_type": "markdown",
   "id": "bf05a269",
   "metadata": {},
   "source": [
    "# MemoAI - Generation 3\n",
    "\n",
    "Die dritte Generation der Schach-KI nutzt den implementierten Memoisierungs-Algorithmus für die Berechnung des bestmöglichen Zuges. Ihr wird die Suchtiefe als Argument übergeben."
   ]
  },
  {
   "cell_type": "code",
   "execution_count": null,
   "id": "9836c287",
   "metadata": {},
   "outputs": [],
   "source": [
    "struct MemoAI \n",
    "    depth::Int64\n",
    "end"
   ]
  },
  {
   "cell_type": "markdown",
   "id": "7cc3e44e",
   "metadata": {},
   "source": [
    "Um dieser Anforderung gerecht zu werden, definieren wir die folgende Funktion `getNextMove`:\n",
    "<br>\n",
    "\n",
    "**Input:**\n",
    "+ ai &rarr; die MemoAI\n",
    "+ extboard &rarr; das Spielbrett\n",
    "+ _... &rarr; ein Platzhalter, der es ermöglicht weitere Parameter mitzugeben \n",
    "\n",
    "**Output:**\n",
    "+ move &rarr; ein Zug, zufällig gewählt aus allen bestmöglichen Zügen"
   ]
  },
  {
   "cell_type": "code",
   "execution_count": null,
   "id": "c7d86d31",
   "metadata": {},
   "outputs": [],
   "source": [
    "function getNextMove(ai::MemoAI, extboard::ExtendedBoard, _...)::Chess.Move\n",
    "    score, moves = minimaxMemoAll(extboard, ai.depth)\n",
    "    return rand(moves)\n",
    "end"
   ]
  }
 ],
 "metadata": {
  "kernelspec": {
   "display_name": "Julia 1.8.2",
   "language": "julia",
   "name": "julia-1.8"
  },
  "language_info": {
   "file_extension": ".jl",
   "mimetype": "application/julia",
   "name": "julia",
   "version": "1.8.2"
  }
 },
 "nbformat": 4,
 "nbformat_minor": 5
}
