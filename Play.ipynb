{
 "cells": [
  {
   "cell_type": "code",
   "execution_count": null,
   "id": "2c231e7f",
   "metadata": {},
   "outputs": [],
   "source": [
    "HTML(read(open(\"style.html\"), String))"
   ]
  },
  {
   "cell_type": "code",
   "execution_count": null,
   "id": "d1ab5253",
   "metadata": {},
   "outputs": [],
   "source": [
    "include(\"silent.jl\")"
   ]
  },
  {
   "cell_type": "code",
   "execution_count": null,
   "id": "67bc6a54",
   "metadata": {},
   "outputs": [],
   "source": [
    "using Pkg\n",
    "@silent Pkg.add(\"NBInclude\")\n",
    "using NBInclude"
   ]
  },
  {
   "cell_type": "code",
   "execution_count": null,
   "id": "ad31a4ea",
   "metadata": {},
   "outputs": [],
   "source": [
    "@nbinclude \"2.0 - Gameplay.ipynb\"\n",
    "@nbinclude \"3.1 - Evaluation.ipynb\"\n",
    "@nbinclude \"5.1 - Alpha-Beta-Pruning AI.ipynb\"\n",
    "@nbinclude \"6.0 - Iterative Deepening.ipynb\""
   ]
  },
  {
   "cell_type": "markdown",
   "id": "70d59bc2",
   "metadata": {},
   "source": [
    "***"
   ]
  },
  {
   "cell_type": "markdown",
   "id": "0738e8bf",
   "metadata": {},
   "source": [
    "# Play\n",
    "\n",
    "In diesem Notebook kann gegen die verschiedenen KI-Versionen gespielt werden.\n",
    "\n",
    "Zur Verfügung stehen:\n",
    "\n",
    "- [`RandomAI`](2.2%20-%20Random%20AI.ipynb)\n",
    "- [`MiniMaxAI`](3.3%20-%20MinimaxAI%20AI.ipynb)\n",
    "- [`MemoAI`](4.2%20-%20Memoisierung%20-%20Minimax%20AI.ipynb)\n",
    "- [`ABOneAI`](5.1%20-%20Alpha-Beta-Pruning%20AI.ipynb)\n",
    "- [`ABAllAI`](5.1%20-%20Alpha-Beta-Pruning%20AI.ipynb)\n",
    "- [`ABMemoOneAI`](5.1%20-%20Alpha-Beta-Pruning%20AI.ipynb)\n",
    "- [`ABMemoAllAI`](5.1%20-%20Alpha-Beta-Pruning%20AI.ipynb)\n",
    "- [`IterativeDeepening`](6.0%20-%20Iterative%20Deepening.ipynb)"
   ]
  },
  {
   "cell_type": "code",
   "execution_count": null,
   "id": "c40578f7",
   "metadata": {},
   "outputs": [],
   "source": [
    "play(white = Player(), black = RandomAI())"
   ]
  },
  {
   "cell_type": "code",
   "execution_count": null,
   "id": "73273e46",
   "metadata": {},
   "outputs": [],
   "source": [
    "play(white = Player(), black = MiniMaxAI(5))"
   ]
  },
  {
   "cell_type": "code",
   "execution_count": null,
   "id": "54ac8d09",
   "metadata": {},
   "outputs": [],
   "source": [
    "play(white = Player(), black = MemoAI(5))"
   ]
  },
  {
   "cell_type": "code",
   "execution_count": null,
   "id": "be6207f1",
   "metadata": {},
   "outputs": [],
   "source": [
    "play(white = Player(), black = ABOneAI(5))"
   ]
  },
  {
   "cell_type": "code",
   "execution_count": null,
   "id": "081eb8ab",
   "metadata": {},
   "outputs": [],
   "source": [
    "play(white = Player(), black = ABAllAI(5))"
   ]
  },
  {
   "cell_type": "code",
   "execution_count": null,
   "id": "31a3d706",
   "metadata": {},
   "outputs": [],
   "source": [
    "play(white = Player(), black = ABMemoOneAI(5))"
   ]
  },
  {
   "cell_type": "code",
   "execution_count": null,
   "id": "f89d16a4",
   "metadata": {},
   "outputs": [],
   "source": [
    "play(white = Player(), black = ABMemoAllAI(5))"
   ]
  },
  {
   "cell_type": "code",
   "execution_count": null,
   "id": "68d79b42",
   "metadata": {},
   "outputs": [],
   "source": [
    "# dependencies\n",
    "\n",
    "# -- AB*AI --\n",
    "# \n",
    "# \"\"\"\n",
    "#     using NBInclude\n",
    "#     @nbinclude \"3.1 - Evaluation.ipynb\"\n",
    "#     @nbinclude \"5.1 - Alpha-Beta-Pruning AI.ipynb\"\n",
    "# \"\"\"\n",
    "\n",
    "# -- MemoAI --\n",
    "# \n",
    "# \"\"\"\n",
    "#     using NBInclude\n",
    "#     @nbinclude \"3.1 - Evaluation.ipynb\"\n",
    "#     @nbinclude \"4.1 - Memoisierung - Minimax.ipynb\"\n",
    "# \"\"\"\n",
    "\n",
    "# -- MiniMaxAI --\n",
    "# \n",
    "# \"\"\"\n",
    "#     using NBInclude\n",
    "#     @nbinclude \"3.1 - Evaluation.ipynb\"\n",
    "#     @nbinclude \"3.3 - Minimax AI.ipynb\"\n",
    "# \"\"\""
   ]
  },
  {
   "cell_type": "code",
   "execution_count": null,
   "id": "f4154912",
   "metadata": {},
   "outputs": [],
   "source": [
    "play(white = Player(), black = IterativeDeepening(\n",
    "    ABMemoAllAI, # backing AI Type\n",
    "    10,          # max Depth\n",
    "    7.0,         # max Time in Seconds\n",
    "    \"\"\"          # required dependencies for backing AI Type\n",
    "        using NBInclude\n",
    "        @nbinclude \"3.1 - Evaluation.ipynb\"\n",
    "        @nbinclude \"5.1 - Alpha-Beta-Pruning AI.ipynb\"\n",
    "    \"\"\"\n",
    "))"
   ]
  },
  {
   "cell_type": "markdown",
   "id": "c55bf1f1",
   "metadata": {},
   "source": [
    "***"
   ]
  }
 ],
 "metadata": {
  "kernelspec": {
   "display_name": "Julia 1.8.5",
   "language": "julia",
   "name": "julia-1.8"
  },
  "language_info": {
   "file_extension": ".jl",
   "mimetype": "application/julia",
   "name": "julia",
   "version": "1.8.5"
  }
 },
 "nbformat": 4,
 "nbformat_minor": 5
}
