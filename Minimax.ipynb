{
 "cells": [
  {
   "cell_type": "code",
   "execution_count": 1,
   "id": "46d927f8",
   "metadata": {},
   "outputs": [],
   "source": [
    "import Chess\n",
    "using NBInclude"
   ]
  },
  {
   "cell_type": "code",
   "execution_count": 2,
   "id": "7aaea744",
   "metadata": {},
   "outputs": [
    {
     "data": {
      "text/plain": [
       "getNextMove (generic function with 4 methods)"
      ]
     },
     "execution_count": 2,
     "metadata": {},
     "output_type": "execute_result"
    }
   ],
   "source": [
    "@nbinclude \"Values.ipynb\"\n",
    "@nbinclude \"Chess.ipynb\""
   ]
  },
  {
   "cell_type": "code",
   "execution_count": 3,
   "id": "c44ad243",
   "metadata": {},
   "outputs": [
    {
     "data": {
      "text/plain": [
       "minimaxMax (generic function with 1 method)"
      ]
     },
     "execution_count": 3,
     "metadata": {},
     "output_type": "execute_result"
    }
   ],
   "source": [
    "function minimaxMax(extboard::ExtendedBoard, depth::Int64)::Int32\n",
    "    legalMoves = Chess.moves(extboard.board)\n",
    "    if length(legalMoves) == 0 || extboard.repetionRuleDraw\n",
    "        return evaluateTerminalPositionScore(extboard.board) - depth\n",
    "    elseif depth == 0\n",
    "        return extboard.score\n",
    "    end\n",
    "    maxValue = typemin(Int32)\n",
    "    for move ∈ legalMoves\n",
    "        undo = domove!(extboard, move)\n",
    "        value = minimaxMin(extboard, depth - 1)\n",
    "        undomove!(extboard, undo)\n",
    "        maxValue = max(maxValue, value)\n",
    "    end\n",
    "    Chess.recycle!(legalMoves)\n",
    "    return maxValue\n",
    "end"
   ]
  },
  {
   "cell_type": "code",
   "execution_count": 4,
   "id": "4a638a14",
   "metadata": {},
   "outputs": [
    {
     "data": {
      "text/plain": [
       "minimaxMin (generic function with 1 method)"
      ]
     },
     "execution_count": 4,
     "metadata": {},
     "output_type": "execute_result"
    }
   ],
   "source": [
    "function minimaxMin(extboard::ExtendedBoard, depth::Int64)::Int32\n",
    "    legalMoves = Chess.moves(extboard.board)\n",
    "    if length(legalMoves) == 0 || extboard.repetionRuleDraw\n",
    "        return evaluateTerminalPositionScore(extboard.board) - depth\n",
    "    elseif depth == 0\n",
    "        return extboard.score\n",
    "    end\n",
    "    minValue = typemax(Int32)\n",
    "    for move ∈ legalMoves\n",
    "        undo = domove!(extboard, move)\n",
    "        value = minimaxMax(extboard, depth - 1)\n",
    "        undomove!(extboard, undo)\n",
    "        minValue = min(minValue, value)\n",
    "    end\n",
    "    Chess.recycle!(legalMoves)\n",
    "    return minValue\n",
    "end"
   ]
  },
  {
   "cell_type": "code",
   "execution_count": 5,
   "id": "90191760",
   "metadata": {},
   "outputs": [
    {
     "data": {
      "text/plain": [
       "minimaxOne (generic function with 1 method)"
      ]
     },
     "execution_count": 5,
     "metadata": {},
     "output_type": "execute_result"
    }
   ],
   "source": [
    "function minimaxOne(extboard::ExtendedBoard, depth::Int64)::Tuple{Int32, Chess.Move}\n",
    "    legalMoves = Chess.moves(extboard.board)\n",
    "    sideIsWhite = Chess.sidetomove(extboard.board) == Chess.WHITE\n",
    "    bestMove = legalMoves[1]\n",
    "    minmaxValue = sideIsWhite ? typemin(Int32) : typemax(Int32)\n",
    "    for move ∈ legalMoves\n",
    "        undo = domove!(extboard, move)\n",
    "        if sideIsWhite\n",
    "            value = minimaxMin(extboard, depth - 1)\n",
    "            if value > minmaxValue\n",
    "                bestMove = move\n",
    "                println(\"$(value) $(bestMove)\")\n",
    "                minmaxValue = value\n",
    "            end\n",
    "        else\n",
    "            value = minimaxMax(extboard, depth - 1)\n",
    "            if value < minmaxValue\n",
    "                bestMove = move\n",
    "                println(\"$(value) $(bestMove)\")\n",
    "                minmaxValue = value\n",
    "            end\n",
    "        end\n",
    "        undomove!(extboard, undo)\n",
    "    end\n",
    "    return minmaxValue, bestMove\n",
    "end"
   ]
  },
  {
   "cell_type": "code",
   "execution_count": 6,
   "id": "c84b7337",
   "metadata": {},
   "outputs": [
    {
     "data": {
      "text/plain": [
       "minimaxAll (generic function with 1 method)"
      ]
     },
     "execution_count": 6,
     "metadata": {},
     "output_type": "execute_result"
    }
   ],
   "source": [
    "function minimaxAll(extboard::ExtendedBoard, depth::Int64)::Tuple{Int32, Vector{Chess.Move}}\n",
    "    legalMoves = Chess.moves(extboard.board)\n",
    "    sideIsWhite = Chess.sidetomove(extboard.board) == Chess.WHITE\n",
    "    scoredMoves = Dict{Int32, Vector{Chess.Move}}()\n",
    "    minmaxValue = sideIsWhite ? typemin(Int32) : typemax(Int32)\n",
    "    for move ∈ legalMoves\n",
    "        undo = domove!(extboard, move)\n",
    "        if sideIsWhite\n",
    "            value = minimaxMin(extboard, depth - 1)\n",
    "            minmaxValue = max(value, minmaxValue)\n",
    "        else\n",
    "            value = minimaxMax(extboard, depth - 1)\n",
    "            minmaxValue = min(value, minmaxValue)\n",
    "        end\n",
    "        movesWithSameScore = get(scoredMoves, value, Chess.Move[])\n",
    "        push!(movesWithSameScore, move)\n",
    "        scoredMoves[value] = movesWithSameScore\n",
    "        println(\"$(value) $(move)\")\n",
    "        undomove!(extboard, undo)\n",
    "    end\n",
    "    return minmaxValue, scoredMoves[minmaxValue]\n",
    "end"
   ]
  }
 ],
 "metadata": {
  "kernelspec": {
   "display_name": "Julia 1.8.5",
   "language": "julia",
   "name": "julia-1.8"
  },
  "language_info": {
   "file_extension": ".jl",
   "mimetype": "application/julia",
   "name": "julia",
   "version": "1.8.5"
  }
 },
 "nbformat": 4,
 "nbformat_minor": 5
}
