{
 "cells": [
  {
   "cell_type": "code",
   "execution_count": 1,
   "id": "1f0baef2",
   "metadata": {},
   "outputs": [
    {
     "data": {
      "text/html": [
       "<link href='https://fonts.googleapis.com/css?family=Alegreya+Sans:100,300,400,500,700,800,900,100italic,300italic,400italic,500italic,700italic,800italic,900italic' rel='stylesheet' type='text/css'>\r\n",
       "<link href='https://fonts.googleapis.com/css?family=Arvo:400,700,400italic' rel='stylesheet' type='text/css'>\r\n",
       "<link href='https://fonts.googleapis.com/css?family=PT+Mono' rel='stylesheet' type='text/css'>\r\n",
       "<link href='https://fonts.googleapis.com/css?family=Shadows+Into+Light' rel='stylesheet' type='text/css'>\r\n",
       "<link href='https://fonts.googleapis.com/css?family=Philosopher:400,700,400italic,700italic' rel='stylesheet' type='text/css'>\r\n",
       "\r\n",
       "<style>\r\n",
       "\r\n",
       "@font-face {\r\n",
       "    font-family: \"Computer Modern\";\r\n",
       "    src: url('https://mirrors.ctan.org/fonts/cm-unicode/fonts/otf/cmunss.otf');\r\n",
       "}\r\n",
       "\r\n",
       ".container { width: 100% }\r\n",
       "\r\n",
       "/* Formatting for header cells */\r\n",
       ".text_cell_render h1 {\r\n",
       "    font-family: 'Philosopher', sans-serif;\r\n",
       "    font-weight: 400;\r\n",
       "    font-size: 2.2em;\r\n",
       "    line-height: 100%;\r\n",
       "    color: rgb(0, 80, 120);\r\n",
       "    margin-bottom: 0.1em;\r\n",
       "    margin-top: 0.1em;\r\n",
       "    display: block;\r\n",
       "}\t\r\n",
       ".text_cell_render h2 {\r\n",
       "    font-family: 'Philosopher', serif;\r\n",
       "    font-weight: 400;\r\n",
       "    font-size: 1.9em;\r\n",
       "    line-height: 100%;\r\n",
       "    color: rgb(200,100,0);\r\n",
       "    margin-bottom: 0.1em;\r\n",
       "    margin-top: 0.1em;\r\n",
       "    display: block;\r\n",
       "}\t\r\n",
       "\r\n",
       ".text_cell_render h3 {\r\n",
       "    font-family: 'Philosopher', serif;\r\n",
       "    margin-top:12px;\r\n",
       "    margin-bottom: 3px;\r\n",
       "    font-style: italic;\r\n",
       "    color: rgb(94,127,192);\r\n",
       "}\r\n",
       "\r\n",
       ".text_cell_render h4 {\r\n",
       "    font-family: 'Philosopher', serif;\r\n",
       "}\r\n",
       "\r\n",
       ".text_cell_render h5 {\r\n",
       "    font-family: 'Alegreya Sans', sans-serif;\r\n",
       "    font-weight: 300;\r\n",
       "    font-size: 16pt;\r\n",
       "    color: grey;\r\n",
       "    font-style: italic;\r\n",
       "    margin-bottom: .1em;\r\n",
       "    margin-top: 0.1em;\r\n",
       "    display: block;\r\n",
       "}\r\n",
       "\r\n",
       ".text_cell_render h6 {\r\n",
       "    font-family: 'PT Mono', sans-serif;\r\n",
       "    font-weight: 300;\r\n",
       "    font-size: 10pt;\r\n",
       "    color: grey;\r\n",
       "    margin-bottom: 1px;\r\n",
       "    margin-top: 1px;\r\n",
       "}\r\n",
       "\r\n",
       ".text_cell_render em {\r\n",
       "    font-family: 'Philosopher', sans-serif;\r\n",
       "    color:        blue;\r\n",
       "    background-color: rgb(255,220,180);\r\n",
       "    font-size:    110%;\r\n",
       "    margin-left:   2px;\r\n",
       "    margin-right:  2px;\r\n",
       "    font-weight:   100;\r\n",
       "}\r\n",
       "\r\n",
       ".text_cell_render b {\r\n",
       "    color:            rgb(255,195,195);\r\n",
       "    background-color: rgb(0,0,0);\r\n",
       "    font-size:    110%;\r\n",
       "    margin-left:   2px;\r\n",
       "    margin-right:  2px;\r\n",
       "    font-weight:   650;\r\n",
       "}\r\n",
       "\r\n",
       ".text_cell_render tt {\r\n",
       "    font-size:    120%;\r\n",
       "    margin-left:   2px;\r\n",
       "    margin-right:  2px;\r\n",
       "    font-weight:   150;\r\n",
       "}\r\n",
       "\r\n",
       ".Codemirror {\r\n",
       "    font-family: \"PT Mono\", sans-serif;\r\n",
       "    font-size: 100%;\r\n",
       "}\r\n",
       "\r\n",
       "</style>"
      ],
      "text/plain": [
       "HTML{String}(\"<link href='https://fonts.googleapis.com/css?family=Alegreya+Sans:100,300,400,500,700,800,900,100italic,300italic,400italic,500italic,700italic,800italic,900italic' rel='stylesheet' type='text/css'>\\r\\n<link href='https://fonts.googleapis.com/css?family=Arvo:400,700,400italic' rel='stylesheet' type='text/css'>\\r\\n<link href='https://fonts.googleapis.com/css?family=PT+Mono' rel='stylesheet' type='text/css'>\\r\\n<link href='https://fonts.googleapis.com/css?family=Shadows+Into+Light' rel='stylesheet' type='text/css'>\\r\\n<link href='https://fonts.googleapis.com/css?family=Philosopher:400,700,400italic,700italic' rel='stylesheet' type='text/css'>\\r\\n\\r\\n<style>\\r\\n\\r\\n@font-face {\\r\\n    font-family: \\\"Computer Modern\\\";\\r\\n    src: url('https://mirrors.ctan.org/fonts/cm-unicode/fonts/otf/cmunss.otf');\\r\\n}\\r\\n\\r\\n.container { width: 100% }\\r\\n\\r\\n/* Formatting for header cells */\\r\\n.text_cell_render h1 {\\r\\n    font-family: 'Philosopher', sans-serif;\\r\\n    font-weight: 400;\\r\\n    font-size: 2.2em;\\r\\n    line-height: 100%;\\r\\n    color: rgb(0, 80, 120);\\r\\n    margin-bottom: 0.1em;\\r\\n    margin-top: 0.1em;\\r\\n    display: block;\\r\\n}\\t\\r\\n.text_cell_render h2 {\\r\\n    font-family: 'Philosopher', serif;\\r\\n    font-weight: 400;\\r\\n    font-size: 1.9em;\\r\\n    line-height: 100%;\\r\\n    color: rgb(200,100,0);\\r\\n    margin-bottom: 0.1em;\\r\\n    margin-top: 0.1em;\\r\\n    display: block;\\r\\n}\\t\\r\\n\\r\\n.text_cell_render h3 {\\r\\n    font-family: 'Philosopher', serif;\\r\\n    margin-top:12px;\\r\\n    margin-bottom: 3px;\\r\\n    font-style: italic;\\r\\n    color: rgb(94,127,192);\\r\\n}\\r\\n\\r\\n.text_cell_render h4 {\\r\\n    font-family: 'Philosopher', serif;\\r\\n}\\r\\n\\r\\n.text_cell_render h5 {\\r\\n    font-family: 'Alegreya Sans', sans-serif;\\r\\n    font-weight: 300;\\r\\n    font-size: 16pt;\\r\\n    color: grey;\\r\\n    font-style: italic;\\r\\n    margin-bottom: .1em;\\r\\n    margin-top: 0.1em;\\r\\n    display: block;\\r\\n}\\r\\n\\r\\n.text_cell_render h6 {\\r\\n    font-family: 'PT Mono', sans-serif;\\r\\n    font-weight: 300;\\r\\n    font-size: 10pt;\\r\\n    color: grey;\\r\\n    margin-bottom: 1px;\\r\\n    margin-top: 1px;\\r\\n}\\r\\n\\r\\n.text_cell_render em {\\r\\n    font-family: 'Philosopher', sans-serif;\\r\\n    color:        blue;\\r\\n    background-color: rgb(255,220,180);\\r\\n    font-size:    110%;\\r\\n    margin-left:   2px;\\r\\n    margin-right:  2px;\\r\\n    font-weight:   100;\\r\\n}\\r\\n\\r\\n.text_cell_render b {\\r\\n    color:            rgb(255,195,195);\\r\\n    background-color: rgb(0,0,0);\\r\\n    font-size:    110%;\\r\\n    margin-left:   2px;\\r\\n    margin-right:  2px;\\r\\n    font-weight:   650;\\r\\n}\\r\\n\\r\\n.text_cell_render tt {\\r\\n    font-size:    120%;\\r\\n    margin-left:   2px;\\r\\n    margin-right:  2px;\\r\\n    font-weight:   150;\\r\\n}\\r\\n\\r\\n.Codemirror {\\r\\n    font-family: \\\"PT Mono\\\", sans-serif;\\r\\n    font-size: 100%;\\r\\n}\\r\\n\\r\\n</style>\")"
      ]
     },
     "execution_count": 1,
     "metadata": {},
     "output_type": "execute_result"
    }
   ],
   "source": [
    "HTML(read(open(\"style.html\"), String))"
   ]
  },
  {
   "cell_type": "code",
   "execution_count": 2,
   "id": "0af9eebb",
   "metadata": {},
   "outputs": [],
   "source": [
    "import Chess\n",
    "using NBInclude"
   ]
  },
  {
   "cell_type": "code",
   "execution_count": 4,
   "id": "9157599a",
   "metadata": {},
   "outputs": [],
   "source": [
    "@nbinclude \"Board.ipynb\"\n",
    "@nbinclude \"Piece-Values.ipynb\""
   ]
  },
  {
   "cell_type": "markdown",
   "id": "ebd0cec8",
   "metadata": {},
   "source": [
    "# Evaluierungsfunktionen"
   ]
  },
  {
   "cell_type": "markdown",
   "id": "c573b232",
   "metadata": {},
   "source": [
    "## Spielende\n",
    "Die Vorbedingung ist, dass die Funktion `Chess.isterminal()` bei der Überprüfung des Spielbretts ein `true` zurück gibt. \n",
    "\n",
    "Die Funktion `evaluateTerminalPositionScore` überprüft anschließend ob ein \"Schach\" vorliegt. Bei Vorliegen, wird überprüft welche Seite am Zug ist und der jeweilge Score zurückgegeben. Ist weiß am Zug so hat Schwarz gewonnen und ein Score von `-100000` wird ausgegeben. Ist Schwarz am Zug so hat Weiß gewonnen und ein Score von `100000` wird ausgegeben.\n",
    "\n",
    "Sollte kein \"Schach\" vorliegen, so liegt ein Unentschieden vor. Der Wert `0` wird ausgegeben."
   ]
  },
  {
   "cell_type": "code",
   "execution_count": 6,
   "id": "6cd69341",
   "metadata": {},
   "outputs": [
    {
     "data": {
      "text/plain": [
       "evaluateTerminalPositionScore (generic function with 1 method)"
      ]
     },
     "execution_count": 6,
     "metadata": {},
     "output_type": "execute_result"
    }
   ],
   "source": [
    "function evaluateTerminalPositionScore(board::Chess.Board)::Int32\n",
    "    if Chess.ischeck(board) \n",
    "        return Chess.sidetomove(board) == Chess.WHITE ? -100000 : 100000\n",
    "    else\n",
    "        return 0\n",
    "    end\n",
    "end"
   ]
  },
  {
   "cell_type": "markdown",
   "id": "16d358ef",
   "metadata": {},
   "source": [
    "## Nicht-Inkrementelle Evaluierung\n",
    "Die Funktion `evaluatePositionScore` berechnet den Wert einer Stellung. Dabei wird zuerst überprüft, ob die Spielbrett sich in einer terminalen Stellung befindet. Falls dem so ist, wird die Funktion `evaluateTerminalPositionScore` aufgerufen. Falls nicht, wird über das Spielbrett iteriert und der Werte der aktuellen Stellung berechnet.\n",
    "\n",
    "\n",
    "**Input**:\n",
    "+ board &rarr; das Spielbrett\n",
    "+ pieceSquareTables &rarr; die aktuell verwendeten Piece Square Tables\n",
    "\n",
    "**Output**:\n",
    "+ score &rarr; die Wertigkeit der Stellung"
   ]
  },
  {
   "cell_type": "code",
   "execution_count": 7,
   "id": "c647702a",
   "metadata": {},
   "outputs": [
    {
     "data": {
      "text/plain": [
       "evaluatePositionScore (generic function with 1 method)"
      ]
     },
     "execution_count": 7,
     "metadata": {},
     "output_type": "execute_result"
    }
   ],
   "source": [
    "function evaluatePositionScore(board::Chess.Board, pieceSquareTables::Array{PieceSquareTable})::Int32\n",
    "    if Chess.isterminal(board)\n",
    "       return evaluateTerminalPositionScore(board) \n",
    "    end\n",
    "    score::Int32 = 0\n",
    "    for file ∈ 1:8\n",
    "        for rank ∈ 1:8\n",
    "            square = Chess.Square(Chess.SquareFile(file), Chess.SquareRank(rank))\n",
    "            piece = Chess.pieceon(board, square)\n",
    "            if piece == Chess.EMPTY\n",
    "                continue\n",
    "            end\n",
    "            value = pieceValueAtSquareOf(piece, square, pieceSquareTables)\n",
    "            score += (Chess.pcolor(piece) == Chess.WHITE ? value : -value)\n",
    "        end\n",
    "    end\n",
    "    return score\n",
    "end"
   ]
  },
  {
   "cell_type": "markdown",
   "id": "b89a59a0",
   "metadata": {},
   "source": [
    "## Inkrementelle Evaluierung\n",
    "\n",
    "Bei der Bestimmung einer Positions-Wertigkeit handelt es sich um eine zeitkritische Aktion. Da sich pro Zug maximal zwei Figuren verändern können, ist es sinnvoll, einen Score incrementell zu erfassen und zu verändern.\n",
    "\n",
    "Die Funktion `evaluatePositionScoreDeltaIncremental` berechnet den Score incrementell.\n",
    "\n",
    "**Input**:\n",
    "+ extboard &rarr; der aktuelle Spielstand der Berechnung\n",
    "+ nextMove &rarr; ein möglicher nächster Zug\n",
    "+ pieceSquareTables::Array{PieceSquareTable} &rarr; die aktuell verwendeten `Piece Square Tables`\n",
    "\n",
    "**Output**:\n",
    "+ Score &rarr; der Score nach dem durchgeführten Zug"
   ]
  },
  {
   "cell_type": "code",
   "execution_count": 1,
   "id": "247b3846",
   "metadata": {},
   "outputs": [
    {
     "ename": "LoadError",
     "evalue": "UndefVarError: Chess not defined",
     "output_type": "error",
     "traceback": [
      "UndefVarError: Chess not defined",
      "",
      "Stacktrace:",
      " [1] top-level scope",
      "   @ In[1]:1",
      " [2] eval",
      "   @ .\\boot.jl:368 [inlined]",
      " [3] include_string(mapexpr::typeof(REPL.softscope), mod::Module, code::String, filename::String)",
      "   @ Base .\\loading.jl:1428"
     ]
    }
   ],
   "source": [
    "function evaluatePositionScoreDeltaIncremental(\n",
    "        extboard::ExtendedBoard, nextMove::Chess.Move,\n",
    "        pieceSquareTables::Array{PieceSquareTable})::Int32\n",
    "    \n",
    "    side = Chess.sidetomove(extboard.board)\n",
    "    \n",
    "    fromSquare = Chess.from(nextMove)\n",
    "    toSquare = Chess.to(nextMove)\n",
    "    \n",
    "    movingPiece = Chess.pieceon(extboard.board, fromSquare)\n",
    "    movingPieceType = Chess.ptype(movingPiece)\n",
    "    \n",
    "    score = -pieceValueAtSquareOf(movingPiece, fromSquare, pieceSquareTables)\n",
    "    togglePiece!(extboard.zobrist, movingPiece, fromSquare)\n",
    "    score += pieceValueAtSquareOf(movingPiece, toSquare, pieceSquareTables)\n",
    "    togglePiece!(extboard.zobrist, movingPiece, toSquare)\n",
    "    \n",
    "    if movingPieceType == Chess.KING\n",
    "        if Chess.distance(fromSquare, toSquare) == 2\n",
    "            if Chess.file(toSquare) == Chess.FILE_C\n",
    "                if side === Chess.WHITE\n",
    "                    togglePiece!(extboard.zobrist, Chess.PIECE_WR, Chess.SQ_A1)\n",
    "                    togglePiece!(extboard.zobrist, Chess.PIECE_WR, Chess.SQ_D1)\n",
    "                    toggleCastle!(extboard.zobrist, 2)\n",
    "                else\n",
    "                    togglePiece!(extboard.zobrist, Chess.PIECE_BR, Chess.SQ_A8)\n",
    "                    togglePiece!(extboard.zobrist, Chess.PIECE_BR, Chess.SQ_D8)\n",
    "                    toggleCastle!(extboard.zobrist, 4)\n",
    "                end\n",
    "                # Rook value difference queen side castle (FILE_D - FILE_A) = 5\n",
    "                return score + 5\n",
    "            else\n",
    "                if side === Chess.WHITE\n",
    "                    togglePiece!(extboard.zobrist, Chess.PIECE_WR, Chess.SQ_H1)\n",
    "                    togglePiece!(extboard.zobrist, Chess.PIECE_WR, Chess.SQ_F1)\n",
    "                    toggleCastle!(extboard.zobrist, 1)\n",
    "                else\n",
    "                    togglePiece!(extboard.zobrist, Chess.PIECE_BR, Chess.SQ_H8)\n",
    "                    togglePiece!(extboard.zobrist, Chess.PIECE_BR, Chess.SQ_F8)\n",
    "                    toggleCastle!(extboard.zobrist, 3)\n",
    "                end\n",
    "                # Rook value difference king side castle (FILE_F - FILE_H) = 0\n",
    "                return score\n",
    "            end\n",
    "        end\n",
    "    elseif movingPieceType == Chess.PAWN && Chess.epsquare(extboard.board) == toSquare\n",
    "        if side == Chess.WHITE\n",
    "            captureSquare = Chess.Square(Chess.file(toSquare), Chess.RANK_5)\n",
    "            score += pieceValueAtSquareOf(Chess.PIECE_BP, captureSquare, pieceSquareTables)\n",
    "            togglePiece!(extboard.zobrist, Chess.PIECE_BP, captureSquare)\n",
    "        else\n",
    "            captureSquare = Chess.Square(Chess.file(toSquare), Chess.RANK_4)\n",
    "            score += pieceValueAtSquareOf(Chess.PIECE_WP, captureSquare, pieceSquareTables)\n",
    "            togglePiece!(extboard.zobrist, Chess.PIECE_WP, captureSquare)\n",
    "        end\n",
    "        toggleEnPassant!(extboard.zobrist, toSquare)\n",
    "        return score\n",
    "    end\n",
    "    \n",
    "    capturedPiece = Chess.pieceon(extboard.board, toSquare)\n",
    "    \n",
    "    if capturedPiece != Chess.EMPTY\n",
    "        score += pieceValueAtSquareOf(capturedPiece, toSquare, pieceSquareTables)\n",
    "        togglePiece!(extboard.zobrist, capturedPiece, toSquare)\n",
    "    end\n",
    "    \n",
    "    if Chess.ispromotion(nextMove)\n",
    "        score -= PIECE_VALUE_PAWN\n",
    "        togglePiece!(extboard.zobrist, movingPiece, toSquare)\n",
    "        promotedPiece = Chess.Piece(side, Chess.promotion(nextMove))\n",
    "        score += pieceValueAtSquareOf(promotedPiece, toSquare, pieceSquareTables)\n",
    "        togglePiece!(extboard.zobrist, promotedPiece, toSquare)\n",
    "    end\n",
    "    \n",
    "    return score\n",
    "end"
   ]
  }
 ],
 "metadata": {
  "kernelspec": {
   "display_name": "Julia 1.8.2",
   "language": "julia",
   "name": "julia-1.8"
  },
  "language_info": {
   "file_extension": ".jl",
   "mimetype": "application/julia",
   "name": "julia",
   "version": "1.8.2"
  }
 },
 "nbformat": 4,
 "nbformat_minor": 5
}
