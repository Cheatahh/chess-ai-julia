{
 "cells": [
  {
   "cell_type": "code",
   "execution_count": 1,
   "id": "35637e4b",
   "metadata": {},
   "outputs": [
    {
     "data": {
      "text/html": [
       "<link href='https://fonts.googleapis.com/css?family=Alegreya+Sans:100,300,400,500,700,800,900,100italic,300italic,400italic,500italic,700italic,800italic,900italic' rel='stylesheet' type='text/css'>\r\n",
       "<link href='https://fonts.googleapis.com/css?family=Arvo:400,700,400italic' rel='stylesheet' type='text/css'>\r\n",
       "<link href='https://fonts.googleapis.com/css?family=PT+Mono' rel='stylesheet' type='text/css'>\r\n",
       "<link href='https://fonts.googleapis.com/css?family=Shadows+Into+Light' rel='stylesheet' type='text/css'>\r\n",
       "<link href='https://fonts.googleapis.com/css?family=Philosopher:400,700,400italic,700italic' rel='stylesheet' type='text/css'>\r\n",
       "\r\n",
       "<style>\r\n",
       "\r\n",
       "@font-face {\r\n",
       "    font-family: \"Computer Modern\";\r\n",
       "    src: url('https://mirrors.ctan.org/fonts/cm-unicode/fonts/otf/cmunss.otf');\r\n",
       "}\r\n",
       "\r\n",
       ".container { width: 100% }\r\n",
       "\r\n",
       "/* Formatting for header cells */\r\n",
       ".text_cell_render h1 {\r\n",
       "    font-family: 'Philosopher', sans-serif;\r\n",
       "    font-weight: 400;\r\n",
       "    font-size: 2.2em;\r\n",
       "    line-height: 100%;\r\n",
       "    color: rgb(0, 80, 120);\r\n",
       "    margin-bottom: 0.1em;\r\n",
       "    margin-top: 0.1em;\r\n",
       "    display: block;\r\n",
       "}\t\r\n",
       ".text_cell_render h2 {\r\n",
       "    font-family: 'Philosopher', serif;\r\n",
       "    font-weight: 400;\r\n",
       "    font-size: 1.9em;\r\n",
       "    line-height: 100%;\r\n",
       "    color: rgb(200,100,0);\r\n",
       "    margin-bottom: 0.1em;\r\n",
       "    margin-top: 0.1em;\r\n",
       "    display: block;\r\n",
       "}\t\r\n",
       "\r\n",
       ".text_cell_render h3 {\r\n",
       "    font-family: 'Philosopher', serif;\r\n",
       "    margin-top:12px;\r\n",
       "    margin-bottom: 3px;\r\n",
       "    font-style: italic;\r\n",
       "    color: rgb(94,127,192);\r\n",
       "}\r\n",
       "\r\n",
       ".text_cell_render h4 {\r\n",
       "    font-family: 'Philosopher', serif;\r\n",
       "}\r\n",
       "\r\n",
       ".text_cell_render h5 {\r\n",
       "    font-family: 'Alegreya Sans', sans-serif;\r\n",
       "    font-weight: 300;\r\n",
       "    font-size: 16pt;\r\n",
       "    color: grey;\r\n",
       "    font-style: italic;\r\n",
       "    margin-bottom: .1em;\r\n",
       "    margin-top: 0.1em;\r\n",
       "    display: block;\r\n",
       "}\r\n",
       "\r\n",
       ".text_cell_render h6 {\r\n",
       "    font-family: 'PT Mono', sans-serif;\r\n",
       "    font-weight: 300;\r\n",
       "    font-size: 10pt;\r\n",
       "    color: grey;\r\n",
       "    margin-bottom: 1px;\r\n",
       "    margin-top: 1px;\r\n",
       "}\r\n",
       "\r\n",
       ".text_cell_render em {\r\n",
       "    font-family: 'Philosopher', sans-serif;\r\n",
       "    color:        blue;\r\n",
       "    background-color: rgb(255,220,180);\r\n",
       "    font-size:    110%;\r\n",
       "    margin-left:   2px;\r\n",
       "    margin-right:  2px;\r\n",
       "    font-weight:   100;\r\n",
       "}\r\n",
       "\r\n",
       ".text_cell_render b {\r\n",
       "    color:            rgb(255,195,195);\r\n",
       "    background-color: rgb(0,0,0);\r\n",
       "    font-size:    110%;\r\n",
       "    margin-left:   2px;\r\n",
       "    margin-right:  2px;\r\n",
       "    font-weight:   650;\r\n",
       "}\r\n",
       "\r\n",
       ".text_cell_render tt {\r\n",
       "    font-size:    120%;\r\n",
       "    margin-left:   2px;\r\n",
       "    margin-right:  2px;\r\n",
       "    font-weight:   150;\r\n",
       "}\r\n",
       "\r\n",
       ".Codemirror {\r\n",
       "    font-family: \"PT Mono\", sans-serif;\r\n",
       "    font-size: 100%;\r\n",
       "}\r\n",
       "\r\n",
       "</style>"
      ],
      "text/plain": [
       "HTML{String}(\"<link href='https://fonts.googleapis.com/css?family=Alegreya+Sans:100,300,400,500,700,800,900,100italic,300italic,400italic,500italic,700italic,800italic,900italic' rel='stylesheet' type='text/css'>\\r\\n<link href='https://fonts.googleapis.com/css?family=Arvo:400,700,400italic' rel='stylesheet' type='text/css'>\\r\\n<link href='https://fonts.googleapis.com/css?family=PT+Mono' rel='stylesheet' type='text/css'>\\r\\n<link href='https://fonts.googleapis.com/css?family=Shadows+Into+Light' rel='stylesheet' type='text/css'>\\r\\n<link href='https://fonts.googleapis.com/css?family=Philosopher:400,700,400italic,700italic' rel='stylesheet' type='text/css'>\\r\\n\\r\\n<style>\\r\\n\\r\\n@font-face {\\r\\n    font-family: \\\"Computer Modern\\\";\\r\\n    src: url('https://mirrors.ctan.org/fonts/cm-unicode/fonts/otf/cmunss.otf');\\r\\n}\\r\\n\\r\\n.container { width: 100% }\\r\\n\\r\\n/* Formatting for header cells */\\r\\n.text_cell_render h1 {\\r\\n    font-family: 'Philosopher', sans-serif;\\r\\n    font-weight: 400;\\r\\n    font-size: 2.2em;\\r\\n    line-height: 100%;\\r\\n    color: rgb(0, 80, 120);\\r\\n    margin-bottom: 0.1em;\\r\\n    margin-top: 0.1em;\\r\\n    display: block;\\r\\n}\\t\\r\\n.text_cell_render h2 {\\r\\n    font-family: 'Philosopher', serif;\\r\\n    font-weight: 400;\\r\\n    font-size: 1.9em;\\r\\n    line-height: 100%;\\r\\n    color: rgb(200,100,0);\\r\\n    margin-bottom: 0.1em;\\r\\n    margin-top: 0.1em;\\r\\n    display: block;\\r\\n}\\t\\r\\n\\r\\n.text_cell_render h3 {\\r\\n    font-family: 'Philosopher', serif;\\r\\n    margin-top:12px;\\r\\n    margin-bottom: 3px;\\r\\n    font-style: italic;\\r\\n    color: rgb(94,127,192);\\r\\n}\\r\\n\\r\\n.text_cell_render h4 {\\r\\n    font-family: 'Philosopher', serif;\\r\\n}\\r\\n\\r\\n.text_cell_render h5 {\\r\\n    font-family: 'Alegreya Sans', sans-serif;\\r\\n    font-weight: 300;\\r\\n    font-size: 16pt;\\r\\n    color: grey;\\r\\n    font-style: italic;\\r\\n    margin-bottom: .1em;\\r\\n    margin-top: 0.1em;\\r\\n    display: block;\\r\\n}\\r\\n\\r\\n.text_cell_render h6 {\\r\\n    font-family: 'PT Mono', sans-serif;\\r\\n    font-weight: 300;\\r\\n    font-size: 10pt;\\r\\n    color: grey;\\r\\n    margin-bottom: 1px;\\r\\n    margin-top: 1px;\\r\\n}\\r\\n\\r\\n.text_cell_render em {\\r\\n    font-family: 'Philosopher', sans-serif;\\r\\n    color:        blue;\\r\\n    background-color: rgb(255,220,180);\\r\\n    font-size:    110%;\\r\\n    margin-left:   2px;\\r\\n    margin-right:  2px;\\r\\n    font-weight:   100;\\r\\n}\\r\\n\\r\\n.text_cell_render b {\\r\\n    color:            rgb(255,195,195);\\r\\n    background-color: rgb(0,0,0);\\r\\n    font-size:    110%;\\r\\n    margin-left:   2px;\\r\\n    margin-right:  2px;\\r\\n    font-weight:   650;\\r\\n}\\r\\n\\r\\n.text_cell_render tt {\\r\\n    font-size:    120%;\\r\\n    margin-left:   2px;\\r\\n    margin-right:  2px;\\r\\n    font-weight:   150;\\r\\n}\\r\\n\\r\\n.Codemirror {\\r\\n    font-family: \\\"PT Mono\\\", sans-serif;\\r\\n    font-size: 100%;\\r\\n}\\r\\n\\r\\n</style>\")"
      ]
     },
     "execution_count": 1,
     "metadata": {},
     "output_type": "execute_result"
    }
   ],
   "source": [
    "HTML(read(open(\"style.html\"), String))"
   ]
  },
  {
   "cell_type": "code",
   "execution_count": null,
   "id": "2c471e65",
   "metadata": {},
   "outputs": [],
   "source": [
    "include(\"silent.jl\")"
   ]
  },
  {
   "cell_type": "code",
   "execution_count": 2,
   "id": "9907eeae",
   "metadata": {},
   "outputs": [],
   "source": [
    "using Pkg\n",
    "using Distributed\n",
    "@silent Pkg.add(\"NBInclude\")\n",
    "using NBInclude"
   ]
  },
  {
   "cell_type": "code",
   "execution_count": 3,
   "id": "117a3ff6",
   "metadata": {},
   "outputs": [
    {
     "data": {
      "text/plain": [
       "getNextMove (generic function with 4 methods)"
      ]
     },
     "execution_count": 3,
     "metadata": {},
     "output_type": "execute_result"
    }
   ],
   "source": [
    "@nbinclude \"2.1 - Board.ipynb\""
   ]
  },
  {
   "cell_type": "markdown",
   "id": "21b97f12",
   "metadata": {},
   "source": [
    "***"
   ]
  },
  {
   "cell_type": "markdown",
   "id": "65013f04",
   "metadata": {},
   "source": [
    "# Iterative Deepening"
   ]
  },
  {
   "cell_type": "markdown",
   "id": "b53864a5",
   "metadata": {},
   "source": [
    "Iterative Deepening bezeichnet eine erweitere Suchstrategie, welche iterativ die Suchtiefe erhöht.\n",
    "\n",
    "Die Stärke der implementierenden KI ist somit nicht mehr an eine fixe Suchtiefe gebunden, sondern wird vielmehr durch eine maximale Suchtiefe, sowie eine maximale Suchzeit definiert. Hierbei führt die KI die folgende Logik aus:\n",
    "\n",
    "```\n",
    "    currentDepth = 1\n",
    "    while currentDepth <= maxDepth\n",
    "        bestMove = findBestMove(currentDepth)\n",
    "        currentDepth += 2\n",
    "    end\n",
    "```\n",
    "\n",
    "Da die tatsächliche Laufzeit einer Suche mit einer bestimmten Tiefe schwer zu bestimmen ist, wird der Algorithmus während der Ausführung überwacht und ggf. bei einer Überschreitung der maximalen Zeit abgebrochen. Hierbei wird der zuletzt berechnete `bestMove` zurückgegeben.\n",
    "\n",
    "Sollte die KI beispielsweise bei der Evaluierung mit Suchtiefe 7 die maximale Suchzeit überschreiten, so wird diese Suche abgebrochen und der zuvor berechnete Zug für Suchtiefe 5 verwendet. \n",
    "\n",
    "Während das iterative Evaulieren der Suchtiefen theoretisch eine Verschwendung von Zeit markieren könnte, erweist sich die Ausführungszeit kleinerer Suchtiefen im Vergleich als vernachlässigbar.\n",
    "Aufgrund des exponentiell wachsenden Suchbaums, benötigt eine Suche mit Tiefe 5 beispielsweise nur 0.4s, während eine Suche mit Tiefe 7 bereits 5s in Anspruch nimmt.\n",
    "\n",
    "Des Weiteren wird durch das schrittweise Erhöhen garantiert, dass bei einem kommenden Matt der schnellste Pfad gewählt wird."
   ]
  },
  {
   "cell_type": "markdown",
   "id": "88696de7",
   "metadata": {},
   "source": [
    "Für den `Iterative Deepening` Prozess wird eine getrennte KI definiert, welche in Delegation einen entsprechenden Evaluierungsalgorithmus aufruft. Hierzu wird dem Attribut `aiType` der Datentyp einer KI (z.B. `ABMemoAllAI`) übergeben. Die KI nutzt diesen, um mit einer gegebenen Suchtiefe ein Objekt des Types zu erstellen. Anschließend wird die zugehörige `getNextMove` Funktion aufgerufen.\n",
    "\n",
    "Die Parameter `maxDepth` und `maxTime` bestimmen die maximale Suchtiefe, sowie die maximale Suchzeit, nach welcher die Evaluierung beendet wird.\n",
    "\n",
    "**Input**:\n",
    "+ aiType &rarr; der KI-Typ dessen Evaluierungstechnik verwendet wird\n",
    "+ maxDepth &rarr; die maximale Suchtiefe\n",
    "+ maxTime &rarr; die maximale Suchzeit\n",
    "+ dependencyLoader &rarr; Code, welcher die benötigten Funktionen lädt; Siehe [Distributed](#Distributed)\n",
    "+ log &rarr; die zu verwendende Log-Funktion"
   ]
  },
  {
   "cell_type": "code",
   "execution_count": 19,
   "id": "63e7c9e8",
   "metadata": {},
   "outputs": [],
   "source": [
    "mutable struct IterativeDeepening\n",
    "    const aiType::Type\n",
    "    const maxDepth::Int64\n",
    "    const maxTime::Float64\n",
    "    const dependencyLoader::String\n",
    "    \n",
    "    workerId::Int64\n",
    "    \n",
    "    function IterativeDeepening(aiType::Type, maxDepth::Int64, maxTime::Float64, \n",
    "            dependencyLoader::String, log::Function)\n",
    "        this = new(aiType, maxDepth, maxTime, dependencyLoader, 0)\n",
    "        setNewWorker!(this, log)\n",
    "        finalizer(function(obj)\n",
    "            @async cleanup!(obj)\n",
    "        end, this)\n",
    "        return this\n",
    "    end\n",
    "end"
   ]
  },
  {
   "cell_type": "markdown",
   "id": "f7a39598",
   "metadata": {},
   "source": [
    "## Distributed\n",
    "\n",
    "Um die KI bei einer Überschreitung der maximalen Laufzeit stoppen zu können, ist es von Nöten, die Evaulierung des besten Zuges in einen getrennten Ausführungsfaden (Thread) zu verschieben. Dieser wird anschließend unterbrochen, ohne des Haupt-Ausführungsfaden zu beenden.\n",
    "\n",
    "Während die Sprache Julia eine exzellente für Multithreading bietet, muss die Anzahl aller Threads bereits zum Start der Julia-Anwendung angegeben werden ($ `julia --threads N`, bzw. installieren eines Jupyter-Kernels mit N Threads). Diese Threads stehen anschließend als Worker-Threads bereit, welche Aufgaben zugesandt bekommen können.\n",
    "\n",
    "Das Abbrechen von Aufgaben auf den Worker-Threads gestaltet sich verhältnismäßig schwierig, daher wurde sich bei dem Implementieren von Iterative Deepening für einen funktional ähnlichen Ansatz entschieden: Multiprocessing (Julia Modul: [`Distributed`](https://docs.julialang.org/en/v1/manual/distributed-computing)).\n",
    "\n",
    "Bei Mutliprocessing werden statt Threads weitere Julia-Prozesse erzeugt, welche anschließend als Worker-Prozesse bereitstehen und über Prozess-Pipelines kommunizieren. Diese lassen sich bei Bedarf während der Laufzeit erzeugen und beenden.\n",
    "\n",
    "Das Attribut `workerId` enthält den Identifier des zugewiesenen Worker-Prozesses. Ein Wert von `0` beschreibt einen nicht vorhandenen Worker, ein Wert von `-1` einen aktuell startenden Worker. Das Starten eines Worker-Prozesses kann je nach System einige Sekunden in Anspruch nehmen.\n",
    "\n",
    "Da es sich bei den Evaluierungs-Workern um getrennte Prozesse handelt, müssen alle benötigten Funktionen dort ebenfalls eingebunden werden. Hierbei enthält das `dependencyLoader` Attribut der IterativeDeepening-KI den initial auszuführenden Code zum Einbinden aller Abhängigkeiten. Dieser wird nach dem Erstellen eines Worker-Prozesses in eine temporäre Datei geschrieben und mit `include(...)` innerhalb des Workers geladen."
   ]
  },
  {
   "cell_type": "markdown",
   "id": "697153be",
   "metadata": {},
   "source": [
    "Das Erstellen eines neuen Workers, sowie das Einbinden dessen Abhängigkeiten wird durch die Funktion `setNewWorker!` implementiert:\n",
    "\n",
    "**Input**:\n",
    "+ ai &rarr; die IterativeDeepening-KI, dessen Worker initialisert / erstellt werden soll\n",
    "+ log &rarr; die zu verwendende Log-Funktion"
   ]
  },
  {
   "cell_type": "code",
   "execution_count": 5,
   "id": "dc7434ed",
   "metadata": {},
   "outputs": [
    {
     "data": {
      "text/plain": [
       "setNewWorker! (generic function with 1 method)"
      ]
     },
     "execution_count": 5,
     "metadata": {},
     "output_type": "execute_result"
    }
   ],
   "source": [
    "function setNewWorker!(ai::IterativeDeepening, log::Function)\n",
    "    ai.workerId = -1\n",
    "    try\n",
    "        currTime = @elapsed begin\n",
    "            ai.workerId = addprocs(1)[1]\n",
    "            proc = ai.workerId\n",
    "            tempModule = \"tempModule$(string(rand(UInt16))).jl\"\n",
    "            open(tempModule, \"w\") do file\n",
    "                write(file, ai.dependencyLoader)\n",
    "            end\n",
    "            fetch(@spawnat proc include(tempModule))\n",
    "        end\n",
    "        log(\"Spawned new worker $(proc) in $(currTime) seconds\")\n",
    "        rm(tempModule)\n",
    "    catch _\n",
    "        ai.workerId = 0\n",
    "    end\n",
    "end"
   ]
  },
  {
   "cell_type": "markdown",
   "id": "4a347601",
   "metadata": {},
   "source": [
    "Da es sich bei den Worker-Prozessen um eine selbst erstellte Ressource handelt, muss diese anschließend wieder freigegeben werden (Worker-Prozess wird beendet). Hierzu wird die Funktion `cleanup!` definiert, welche automatisch im [`finalizer`](https://docs.julialang.org/en/v1/base/base/#Base.finalizer) aufgerufen wird.\n",
    "\n",
    "Die Beendigung eines Workers wird im `stderr`-Stream festgehalten, daher wird dieser temporär auf `devnull` geleitet.\n",
    "\n",
    "**Input**:\n",
    "+ ai &rarr; die IterativeDeepening-KI, dessen Worker bereinigt werden soll"
   ]
  },
  {
   "cell_type": "code",
   "execution_count": 6,
   "id": "2a70618b",
   "metadata": {},
   "outputs": [
    {
     "data": {
      "text/plain": [
       "cleanup! (generic function with 1 method)"
      ]
     },
     "execution_count": 6,
     "metadata": {},
     "output_type": "execute_result"
    }
   ],
   "source": [
    "function cleanup!(ai::IterativeDeepening)\n",
    "    while ai.workerId < 0\n",
    "        sleep(0.1)\n",
    "        # worker starting\n",
    "    end\n",
    "    if ai.workerId == 0\n",
    "        return\n",
    "    end\n",
    "    errStream = stderr\n",
    "    redirect_stderr(devnull)\n",
    "    begin \n",
    "        interrupt(ai.workerId)\n",
    "        while ai.workerId in procs()\n",
    "            sleep(0.1)\n",
    "        end\n",
    "    end\n",
    "    redirect_stderr(errStream)\n",
    "    ai.workerId = 0\n",
    "end"
   ]
  },
  {
   "cell_type": "markdown",
   "id": "f2ee86df",
   "metadata": {},
   "source": [
    "Die Funktion `getNextMove` führt den beschriebenen `Iterative Deepening` Prozess durch. Hierbei wird der aktuelle Worker nach `ai.maxTime` beendet und anschließend durch einen neuen Prozess ersetzt.\n",
    "\n",
    "**Input:**\n",
    "+ ai &rarr; die IterativeDeepening KI\n",
    "+ extboard &rarr; das Spielbrett\n",
    "+ log &rarr; die zu verwendende Log-Funktion\n",
    "+ _... &rarr; ein Platzhalter, der es ermöglicht weitere Parameter mitzugeben \n",
    "\n",
    "**Output:**\n",
    "+ move &rarr; ein Zug, bestimmt durch das Resultat aus `getNextMove`, Dispatch durch `ai.aiType`\n",
    "+ score &rarr; der Score des Zuges\n",
    "+ Information der Erreichten Tiefe"
   ]
  },
  {
   "cell_type": "code",
   "execution_count": 7,
   "id": "1be4c2d1",
   "metadata": {},
   "outputs": [
    {
     "data": {
      "text/plain": [
       "getNextMove (generic function with 5 methods)"
      ]
     },
     "execution_count": 7,
     "metadata": {},
     "output_type": "execute_result"
    }
   ],
   "source": [
    "function getNextMove(ai::IterativeDeepening, extboard::ExtendedBoard, log::Function, _...)::Tuple{Chess.Move, Int32, String}\n",
    "    if ai.workerId == 0\n",
    "        setNewWorker!(ai)\n",
    "    end\n",
    "    while ai.workerId <= 0\n",
    "        sleep(0.1)\n",
    "        # worker starting\n",
    "    end\n",
    "    log(\"Active worker found\")\n",
    "    proc = ai.workerId\n",
    "    ai.workerId = -1\n",
    "    currentDepth = 1\n",
    "    currentTime = 0.0\n",
    "    bestMove = Chess.moves(extboard.board)[1]\n",
    "    bestScore::Int32 = 0\n",
    "    @async begin # watchdog, kills worker-process after ai.maxTime seconds\n",
    "        currTime = @elapsed begin\n",
    "            sleep(ai.maxTime)\n",
    "            errStream = stderr\n",
    "            redirect_stderr(devnull)\n",
    "            begin\n",
    "                interrupt(proc)\n",
    "                while proc in procs()\n",
    "                    sleep(0.1)\n",
    "                end\n",
    "            end\n",
    "            redirect_stderr(errStream)\n",
    "        end\n",
    "        log(\"Killed worker $(proc) after $(currTime) seconds\")\n",
    "    end\n",
    "    # watchdog kills worker-process -> new one gets created\n",
    "    # this runs async in background, while the opponent thinks of a next move to do\n",
    "    @async setNewWorker!(ai)\n",
    "    # iterative deepening\n",
    "    while currentDepth <= ai.maxDepth\n",
    "        log(\"Starting with depth $(currentDepth)\")\n",
    "        try\n",
    "            aiImpl = ai.aiType(currentDepth)\n",
    "            bestMove, bestScore = fetch(@spawnat proc @time getNextMove(aiImpl, extboard, log))\n",
    "            log(\"Finished with depth $(currentDepth): $(bestMove) ($(bestScore))\")\n",
    "            if abs(bestScore) >= 100000\n",
    "                break\n",
    "            end\n",
    "        catch _ \n",
    "            log(\"Could not finish with depth $(currentDepth) in time\")\n",
    "            currentDepth -= 2\n",
    "            break \n",
    "        end\n",
    "        currentDepth += 2\n",
    "    end\n",
    "    return bestMove, bestScore, \"depth = $(currentDepth)\"\n",
    "end"
   ]
  },
  {
   "cell_type": "markdown",
   "id": "8a929852",
   "metadata": {},
   "source": [
    "***"
   ]
  }
 ],
 "metadata": {
  "kernelspec": {
   "display_name": "Julia 1.8.5",
   "language": "julia",
   "name": "julia-1.8"
  },
  "language_info": {
   "file_extension": ".jl",
   "mimetype": "application/julia",
   "name": "julia",
   "version": "1.8.5"
  }
 },
 "nbformat": 4,
 "nbformat_minor": 5
}
