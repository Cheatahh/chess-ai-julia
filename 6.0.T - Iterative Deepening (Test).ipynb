{
 "cells": [
  {
   "cell_type": "code",
   "execution_count": null,
   "id": "54b60f11",
   "metadata": {},
   "outputs": [],
   "source": [
    "HTML(read(open(\"style.html\"), String))"
   ]
  },
  {
   "cell_type": "code",
   "execution_count": 2,
   "id": "7e5d7261",
   "metadata": {
    "scrolled": true
   },
   "outputs": [
    {
     "data": {
      "text/plain": [
       "@silent (macro with 1 method)"
      ]
     },
     "execution_count": 2,
     "metadata": {},
     "output_type": "execute_result"
    }
   ],
   "source": [
    "include(\"silent.jl\")"
   ]
  },
  {
   "cell_type": "code",
   "execution_count": 3,
   "id": "5ee7b20d",
   "metadata": {},
   "outputs": [],
   "source": [
    "using Pkg\n",
    "@silent Pkg.add(\"NBInclude\")\n",
    "using NBInclude"
   ]
  },
  {
   "cell_type": "code",
   "execution_count": 11,
   "id": "6edb0626",
   "metadata": {},
   "outputs": [
    {
     "data": {
      "text/plain": [
       "getNextMove (generic function with 6 methods)"
      ]
     },
     "execution_count": 11,
     "metadata": {},
     "output_type": "execute_result"
    }
   ],
   "source": [
    "@nbinclude \"2.0 - Gameplay.ipynb\"\n",
    "@nbinclude \"3.1 - Evaluation.ipynb\"\n",
    "@nbinclude \"5.1 - Alpha-Beta-Pruning AI.ipynb\"\n",
    "@nbinclude \"6.0 - Iterative Deepening.ipynb\""
   ]
  },
  {
   "cell_type": "markdown",
   "id": "605a5279",
   "metadata": {},
   "source": [
    "***"
   ]
  },
  {
   "cell_type": "markdown",
   "id": "44e4f7dc",
   "metadata": {},
   "source": [
    "hier noch was zu tests gegen chess.com schreiben\n",
    "\n",
    "ganz viele tests gegen die 1300er und 1500er machen\n",
    "\n",
    "hier die pgns reinpacken"
   ]
  },
  {
   "cell_type": "code",
   "execution_count": 12,
   "id": "c185ce91",
   "metadata": {
    "scrolled": false
   },
   "outputs": [
    {
     "name": "stdout",
     "output_type": "stream",
     "text": [
      "r1bqk1nr/pppp1ppp/2n5/3P4/1b6/8/PPP2PPP/RNBQKBNR w KQkq -\n"
     ]
    },
    {
     "data": {
      "text/html": [
       "Board:<div class=\"chessboard\"><style soped=\"true\">.dark-square {\n",
       "    fill: #c3936a;\n",
       "    stroke-width: 0;\n",
       "}\n",
       ".light-square {\n",
       "    fill: #ffd7a6;\n",
       "    stroke-width: 0;\n",
       "}\n",
       ".highlight {\n",
       "    fill: #47d18b;\n",
       "}\n",
       "@media (prefers-color-scheme: dark) {\n",
       "    .dark-square {\n",
       "        fill: #00796b;\n",
       "    }\n",
       "    .light-square {\n",
       "        fill: #3ca59b;\n",
       "    }\n",
       "    .highlight {\n",
       "        fill: #d23600;\n",
       "    }\n",
       "}\n",
       "</style><svg style=\"float: left; margin-right: 20px\" viewBox=\"0 0 8 8\" height=\"280\" width=\"280\"><g><g><rect x=\"0\" y=\"0\" class=\"light-square\" height=\"1\" width=\"1\"></rect><image x=\"0\" xlink:href=\"https://raw.githubusercontent.com/romstad/Chess.jl/master/img/br.svg\" y=\"0\" height=\"1\" width=\"1\"></image></g><g><rect x=\"0\" y=\"1\" class=\"dark-square\" height=\"1\" width=\"1\"></rect><image x=\"0\" xlink:href=\"https://raw.githubusercontent.com/romstad/Chess.jl/master/img/bp.svg\" y=\"1\" height=\"1\" width=\"1\"></image></g><g><rect x=\"0\" y=\"2\" class=\"light-square\" height=\"1\" width=\"1\"></rect><g></g></g><g><rect x=\"0\" y=\"3\" class=\"dark-square\" height=\"1\" width=\"1\"></rect><g></g></g><g><rect x=\"0\" y=\"4\" class=\"light-square\" height=\"1\" width=\"1\"></rect><g></g></g><g><rect x=\"0\" y=\"5\" class=\"dark-square\" height=\"1\" width=\"1\"></rect><g></g></g><g><rect x=\"0\" y=\"6\" class=\"light-square\" height=\"1\" width=\"1\"></rect><image x=\"0\" xlink:href=\"https://raw.githubusercontent.com/romstad/Chess.jl/master/img/wp.svg\" y=\"6\" height=\"1\" width=\"1\"></image></g><g><rect x=\"0\" y=\"7\" class=\"dark-square\" height=\"1\" width=\"1\"></rect><image x=\"0\" xlink:href=\"https://raw.githubusercontent.com/romstad/Chess.jl/master/img/wr.svg\" y=\"7\" height=\"1\" width=\"1\"></image></g><g><rect x=\"1\" y=\"0\" class=\"dark-square\" height=\"1\" width=\"1\"></rect><g></g></g><g><rect x=\"1\" y=\"1\" class=\"light-square\" height=\"1\" width=\"1\"></rect><image x=\"1\" xlink:href=\"https://raw.githubusercontent.com/romstad/Chess.jl/master/img/bp.svg\" y=\"1\" height=\"1\" width=\"1\"></image></g><g><rect x=\"1\" y=\"2\" class=\"dark-square\" height=\"1\" width=\"1\"></rect><g></g></g><g><rect x=\"1\" y=\"3\" class=\"light-square\" height=\"1\" width=\"1\"></rect><g></g></g><g><rect x=\"1\" y=\"4\" class=\"dark-square\" height=\"1\" width=\"1\"></rect><image x=\"1\" xlink:href=\"https://raw.githubusercontent.com/romstad/Chess.jl/master/img/bb.svg\" y=\"4\" height=\"1\" width=\"1\"></image></g><g><rect x=\"1\" y=\"5\" class=\"light-square\" height=\"1\" width=\"1\"></rect><g></g></g><g><rect x=\"1\" y=\"6\" class=\"dark-square\" height=\"1\" width=\"1\"></rect><image x=\"1\" xlink:href=\"https://raw.githubusercontent.com/romstad/Chess.jl/master/img/wp.svg\" y=\"6\" height=\"1\" width=\"1\"></image></g><g><rect x=\"1\" y=\"7\" class=\"light-square\" height=\"1\" width=\"1\"></rect><image x=\"1\" xlink:href=\"https://raw.githubusercontent.com/romstad/Chess.jl/master/img/wn.svg\" y=\"7\" height=\"1\" width=\"1\"></image></g><g><rect x=\"2\" y=\"0\" class=\"light-square\" height=\"1\" width=\"1\"></rect><image x=\"2\" xlink:href=\"https://raw.githubusercontent.com/romstad/Chess.jl/master/img/bb.svg\" y=\"0\" height=\"1\" width=\"1\"></image></g><g><rect x=\"2\" y=\"1\" class=\"dark-square\" height=\"1\" width=\"1\"></rect><image x=\"2\" xlink:href=\"https://raw.githubusercontent.com/romstad/Chess.jl/master/img/bp.svg\" y=\"1\" height=\"1\" width=\"1\"></image></g><g><rect x=\"2\" y=\"2\" class=\"light-square\" height=\"1\" width=\"1\"></rect><image x=\"2\" xlink:href=\"https://raw.githubusercontent.com/romstad/Chess.jl/master/img/bn.svg\" y=\"2\" height=\"1\" width=\"1\"></image></g><g><rect x=\"2\" y=\"3\" class=\"dark-square\" height=\"1\" width=\"1\"></rect><g></g></g><g><rect x=\"2\" y=\"4\" class=\"light-square\" height=\"1\" width=\"1\"></rect><g></g></g><g><rect x=\"2\" y=\"5\" class=\"dark-square\" height=\"1\" width=\"1\"></rect><g></g></g><g><rect x=\"2\" y=\"6\" class=\"light-square\" height=\"1\" width=\"1\"></rect><image x=\"2\" xlink:href=\"https://raw.githubusercontent.com/romstad/Chess.jl/master/img/wp.svg\" y=\"6\" height=\"1\" width=\"1\"></image></g><g><rect x=\"2\" y=\"7\" class=\"dark-square\" height=\"1\" width=\"1\"></rect><image x=\"2\" xlink:href=\"https://raw.githubusercontent.com/romstad/Chess.jl/master/img/wb.svg\" y=\"7\" height=\"1\" width=\"1\"></image></g><g><rect x=\"3\" y=\"0\" class=\"dark-square\" height=\"1\" width=\"1\"></rect><image x=\"3\" xlink:href=\"https://raw.githubusercontent.com/romstad/Chess.jl/master/img/bq.svg\" y=\"0\" height=\"1\" width=\"1\"></image></g><g><rect x=\"3\" y=\"1\" class=\"light-square\" height=\"1\" width=\"1\"></rect><image x=\"3\" xlink:href=\"https://raw.githubusercontent.com/romstad/Chess.jl/master/img/bp.svg\" y=\"1\" height=\"1\" width=\"1\"></image></g><g><rect x=\"3\" y=\"2\" class=\"dark-square\" height=\"1\" width=\"1\"></rect><g></g></g><g><rect x=\"3\" y=\"3\" class=\"light-square\" height=\"1\" width=\"1\"></rect><image x=\"3\" xlink:href=\"https://raw.githubusercontent.com/romstad/Chess.jl/master/img/wp.svg\" y=\"3\" height=\"1\" width=\"1\"></image></g><g><rect x=\"3\" y=\"4\" class=\"dark-square\" height=\"1\" width=\"1\"></rect><g></g></g><g><rect x=\"3\" y=\"5\" class=\"light-square\" height=\"1\" width=\"1\"></rect><g></g></g><g><rect x=\"3\" y=\"6\" class=\"dark-square\" height=\"1\" width=\"1\"></rect><g></g></g><g><rect x=\"3\" y=\"7\" class=\"light-square\" height=\"1\" width=\"1\"></rect><image x=\"3\" xlink:href=\"https://raw.githubusercontent.com/romstad/Chess.jl/master/img/wq.svg\" y=\"7\" height=\"1\" width=\"1\"></image></g><g><rect x=\"4\" y=\"0\" class=\"light-square\" height=\"1\" width=\"1\"></rect><image x=\"4\" xlink:href=\"https://raw.githubusercontent.com/romstad/Chess.jl/master/img/bk.svg\" y=\"0\" height=\"1\" width=\"1\"></image></g><g><rect x=\"4\" y=\"1\" class=\"dark-square\" height=\"1\" width=\"1\"></rect><g></g></g><g><rect x=\"4\" y=\"2\" class=\"light-square\" height=\"1\" width=\"1\"></rect><g></g></g><g><rect x=\"4\" y=\"3\" class=\"dark-square\" height=\"1\" width=\"1\"></rect><g></g></g><g><rect x=\"4\" y=\"4\" class=\"light-square\" height=\"1\" width=\"1\"></rect><g></g></g><g><rect x=\"4\" y=\"5\" class=\"dark-square\" height=\"1\" width=\"1\"></rect><g></g></g><g><rect x=\"4\" y=\"6\" class=\"light-square\" height=\"1\" width=\"1\"></rect><g></g></g><g><rect x=\"4\" y=\"7\" class=\"dark-square\" height=\"1\" width=\"1\"></rect><image x=\"4\" xlink:href=\"https://raw.githubusercontent.com/romstad/Chess.jl/master/img/wk.svg\" y=\"7\" height=\"1\" width=\"1\"></image></g><g><rect x=\"5\" y=\"0\" class=\"dark-square\" height=\"1\" width=\"1\"></rect><g></g></g><g><rect x=\"5\" y=\"1\" class=\"light-square\" height=\"1\" width=\"1\"></rect><image x=\"5\" xlink:href=\"https://raw.githubusercontent.com/romstad/Chess.jl/master/img/bp.svg\" y=\"1\" height=\"1\" width=\"1\"></image></g><g><rect x=\"5\" y=\"2\" class=\"dark-square\" height=\"1\" width=\"1\"></rect><g></g></g><g><rect x=\"5\" y=\"3\" class=\"light-square\" height=\"1\" width=\"1\"></rect><g></g></g><g><rect x=\"5\" y=\"4\" class=\"dark-square\" height=\"1\" width=\"1\"></rect><g></g></g><g><rect x=\"5\" y=\"5\" class=\"light-square\" height=\"1\" width=\"1\"></rect><g></g></g><g><rect x=\"5\" y=\"6\" class=\"dark-square\" height=\"1\" width=\"1\"></rect><image x=\"5\" xlink:href=\"https://raw.githubusercontent.com/romstad/Chess.jl/master/img/wp.svg\" y=\"6\" height=\"1\" width=\"1\"></image></g><g><rect x=\"5\" y=\"7\" class=\"light-square\" height=\"1\" width=\"1\"></rect><image x=\"5\" xlink:href=\"https://raw.githubusercontent.com/romstad/Chess.jl/master/img/wb.svg\" y=\"7\" height=\"1\" width=\"1\"></image></g><g><rect x=\"6\" y=\"0\" class=\"light-square\" height=\"1\" width=\"1\"></rect><image x=\"6\" xlink:href=\"https://raw.githubusercontent.com/romstad/Chess.jl/master/img/bn.svg\" y=\"0\" height=\"1\" width=\"1\"></image></g><g><rect x=\"6\" y=\"1\" class=\"dark-square\" height=\"1\" width=\"1\"></rect><image x=\"6\" xlink:href=\"https://raw.githubusercontent.com/romstad/Chess.jl/master/img/bp.svg\" y=\"1\" height=\"1\" width=\"1\"></image></g><g><rect x=\"6\" y=\"2\" class=\"light-square\" height=\"1\" width=\"1\"></rect><g></g></g><g><rect x=\"6\" y=\"3\" class=\"dark-square\" height=\"1\" width=\"1\"></rect><g></g></g><g><rect x=\"6\" y=\"4\" class=\"light-square\" height=\"1\" width=\"1\"></rect><g></g></g><g><rect x=\"6\" y=\"5\" class=\"dark-square\" height=\"1\" width=\"1\"></rect><g></g></g><g><rect x=\"6\" y=\"6\" class=\"light-square\" height=\"1\" width=\"1\"></rect><image x=\"6\" xlink:href=\"https://raw.githubusercontent.com/romstad/Chess.jl/master/img/wp.svg\" y=\"6\" height=\"1\" width=\"1\"></image></g><g><rect x=\"6\" y=\"7\" class=\"dark-square\" height=\"1\" width=\"1\"></rect><image x=\"6\" xlink:href=\"https://raw.githubusercontent.com/romstad/Chess.jl/master/img/wn.svg\" y=\"7\" height=\"1\" width=\"1\"></image></g><g><rect x=\"7\" y=\"0\" class=\"dark-square\" height=\"1\" width=\"1\"></rect><image x=\"7\" xlink:href=\"https://raw.githubusercontent.com/romstad/Chess.jl/master/img/br.svg\" y=\"0\" height=\"1\" width=\"1\"></image></g><g><rect x=\"7\" y=\"1\" class=\"light-square\" height=\"1\" width=\"1\"></rect><image x=\"7\" xlink:href=\"https://raw.githubusercontent.com/romstad/Chess.jl/master/img/bp.svg\" y=\"1\" height=\"1\" width=\"1\"></image></g><g><rect x=\"7\" y=\"2\" class=\"dark-square\" height=\"1\" width=\"1\"></rect><g></g></g><g><rect x=\"7\" y=\"3\" class=\"light-square\" height=\"1\" width=\"1\"></rect><g></g></g><g><rect x=\"7\" y=\"4\" class=\"dark-square\" height=\"1\" width=\"1\"></rect><g></g></g><g><rect x=\"7\" y=\"5\" class=\"light-square\" height=\"1\" width=\"1\"></rect><g></g></g><g><rect x=\"7\" y=\"6\" class=\"dark-square\" height=\"1\" width=\"1\"></rect><image x=\"7\" xlink:href=\"https://raw.githubusercontent.com/romstad/Chess.jl/master/img/wp.svg\" y=\"6\" height=\"1\" width=\"1\"></image></g><g><rect x=\"7\" y=\"7\" class=\"light-square\" height=\"1\" width=\"1\"></rect><image x=\"7\" xlink:href=\"https://raw.githubusercontent.com/romstad/Chess.jl/master/img/wr.svg\" y=\"7\" height=\"1\" width=\"1\"></image></g></g><g></g></svg><div><p>White to move</p><p>Castle rights: KQkq</p><p><a href=\"https://lichess.org/editor/r1bqk1nr/pppp1ppp/2n5/3P4/1b6/8/PPP2PPP/RNBQKBNR_w_KQkq_-\" target=\"_blank\">Open in lichess</a></p></div></div>"
      ],
      "text/plain": [
       "HTML{String}(\"Board:<div class=\\\"chessboard\\\"><style soped=\\\"true\\\">.dark-square {\\n    fill: #c3936a;\\n    stroke-width: 0;\\n}\\n.light-square {\\n    fill: #ffd7a6;\\n    stroke-width: 0;\\n}\\n.highlight {\\n    fill: #47d18b;\\n}\\n@media (prefers-color-scheme: dark) {\\n    .dark-square {\\n        fill: #00796b;\\n    }\\n    .light-square {\\n        fill: #3ca59b;\\n    }\\n    .highlight {\\n        fill: #d23600;\\n    }\\n}\\n</style><svg style=\\\"float: left; margin-right: 20px\\\" viewBox=\\\"0 0 8 8\\\" height=\\\"280\\\" width=\\\"280\\\"><g><g><rect x=\\\"0\\\" y=\\\"0\\\" class=\\\"light-square\\\" height=\\\"1\\\" width=\\\"1\\\"></rect><image x=\\\"0\\\" xlink:href=\\\"https://raw.githubusercontent.com/romstad/Chess.jl/master/img/br.svg\\\" y=\\\"0\\\" height=\\\"1\\\" width=\\\"1\\\"></image></g><g><rect x=\\\"0\\\" y=\\\"1\\\" class=\\\"dark-square\\\" height=\\\"1\\\" width=\\\"1\\\"></rect><image x=\\\"0\\\" xlink:href=\\\"https://raw.githubusercontent.com/romstad/Chess.jl/master/img/bp.svg\\\" y=\\\"1\\\" height=\\\"1\\\" width=\\\"1\\\"></image></g><g><rect x=\\\"0\\\" y=\\\"2\\\" class=\\\"light-square\\\" height=\\\"1\\\" width=\\\"1\\\"></rect><g></g></g><g><rect x=\\\"0\\\" y=\\\"3\\\" class=\\\"dark-square\\\" height=\\\"1\\\" width=\\\"1\\\"></rect><g></g></g><g><rect x=\\\"0\\\" y=\\\"4\\\" class=\\\"light-square\\\" height=\\\"1\\\" width=\\\"1\\\"></rect><g></g></g><g><rect x=\\\"0\\\" y=\\\"5\\\" class=\\\"dark-square\\\" height=\\\"1\\\" width=\\\"1\\\"></rect><g></g></g><g><rect x=\\\"0\\\" y=\\\"6\\\" class=\\\"light-square\\\" height=\\\"1\\\" width=\\\"1\\\"></rect><image x=\\\"0\\\" xlink:href=\\\"https://raw.githubusercontent.com/romstad/Chess.jl/master/img/wp.svg\\\" y=\\\"6\\\" height=\\\"1\\\" width=\\\"1\\\"></image></g><g><rect x=\\\"0\\\" y=\\\"7\\\" class=\\\"dark-square\\\" height=\\\"1\\\" width=\\\"1\\\"></rect><image x=\\\"0\\\" xlink:href=\\\"https://raw.githubusercontent.com/romstad/Chess.jl/master/img/wr.svg\\\" y=\\\"7\\\" height=\\\"1\\\" width=\\\"1\\\"></image></g><g><rect x=\\\"1\\\" y=\\\"0\\\" class=\\\"dark-square\\\" height=\\\"1\\\" width=\\\"1\\\"></rect><g></g></g><g><rect x=\\\"1\\\" y=\\\"1\\\" class=\\\"light-square\\\" height=\\\"1\\\" width=\\\"1\\\"></rect><image x=\\\"1\\\" xlink:href=\\\"https://raw.githubusercontent.com/romstad/Chess.jl/master/img/bp.svg\\\" y=\\\"1\\\" height=\\\"1\\\" width=\\\"1\\\"></image></g><g><rect x=\\\"1\\\" y=\\\"2\\\" class=\\\"dark-square\\\" height=\\\"1\\\" width=\\\"1\\\"></rect><g></g></g><g><rect x=\\\"1\\\" y=\\\"3\\\" class=\\\"light-square\\\" height=\\\"1\\\" width=\\\"1\\\"></rect><g></g></g><g><rect x=\\\"1\\\" y=\\\"4\\\" class=\\\"dark-square\\\" height=\\\"1\\\" width=\\\"1\\\"></rect><image x=\\\"1\\\" xlink:href=\\\"https://raw.githubusercontent.com/romstad/Chess.jl/master/img/bb.svg\\\" y=\\\"4\\\" height=\\\"1\\\" width=\\\"1\\\"></image></g><g><rect x=\\\"1\\\" y=\\\"5\\\" class=\\\"light-square\\\" height=\\\"1\\\" width=\\\"1\\\"></rect><g></g></g><g><rect x=\\\"1\\\" y=\\\"6\\\" class=\\\"dark-square\\\" height=\\\"1\\\" width=\\\"1\\\"></rect><image x=\\\"1\\\" xlink:href=\\\"https://raw.githubusercontent.com/romstad/Chess.jl/master/img/wp.svg\\\" y=\\\"6\\\" height=\\\"1\\\" width=\\\"1\\\"></image></g><g><rect x=\\\"1\\\" y=\\\"7\\\" class=\\\"light-square\\\" height=\\\"1\\\" width=\\\"1\\\"></rect><image x=\\\"1\\\" xlink:href=\\\"https://raw.githubusercontent.com/romstad/Chess.jl/master/img/wn.svg\\\" y=\\\"7\\\" height=\\\"1\\\" width=\\\"1\\\"></image></g><g><rect x=\\\"2\\\" y=\\\"0\\\" class=\\\"light-square\\\" height=\\\"1\\\" width=\\\"1\\\"></rect><image x=\\\"2\\\" xlink:href=\\\"https://raw.githubusercontent.com/romstad/Chess.jl/master/img/bb.svg\\\" y=\\\"0\\\" height=\\\"1\\\" width=\\\"1\\\"></image></g><g><rect x=\\\"2\\\" y=\\\"1\\\" class=\\\"dark-square\\\" height=\\\"1\\\" width=\\\"1\\\"></rect><image x=\\\"2\\\" xlink:href=\\\"https://raw.githubusercontent.com/romstad/Chess.jl/master/img/bp.svg\\\" y=\\\"1\\\" height=\\\"1\\\" width=\\\"1\\\"></image></g><g><rect x=\\\"2\\\" y=\\\"2\\\" class=\\\"light-square\\\" height=\\\"1\\\" width=\\\"1\\\"></rect><image x=\\\"2\\\" xlink:href=\\\"https://raw.githubusercontent.com/romstad/Chess.jl/master/img/bn.svg\\\" y=\\\"2\\\" height=\\\"1\\\" width=\\\"1\\\"></image></g><g><rect x=\\\"2\\\" y=\\\"3\\\" class=\\\"dark-square\\\" height=\\\"1\\\" width=\\\"1\\\"></rect><g></g></g><g><rect x=\\\"2\\\" y=\\\"4\\\" class=\\\"light-square\\\" height=\\\"1\\\" width=\\\"1\\\"></rect><g></g></g><g><rect x=\\\"2\\\" y=\\\"5\\\" class=\\\"dark-square\\\" height=\\\"1\\\" width=\\\"1\\\"></rect><g></g></g><g><rect x=\\\"2\\\" y=\\\"6\\\" class=\\\"light-square\\\" height=\\\"1\\\" width=\\\"1\\\"></rect><image x=\\\"2\\\" xlink:href=\\\"https://raw.githubusercontent.com/romstad/Chess.jl/master/img/wp.svg\\\" y=\\\"6\\\" height=\\\"1\\\" width=\\\"1\\\"></image></g><g><rect x=\\\"2\\\" y=\\\"7\\\" class=\\\"dark-square\\\" height=\\\"1\\\" width=\\\"1\\\"></rect><image x=\\\"2\\\" xlink:href=\\\"https://raw.githubusercontent.com/romstad/Chess.jl/master/img/wb.svg\\\" y=\\\"7\\\" height=\\\"1\\\" width=\\\"1\\\"></image></g><g><rect x=\\\"3\\\" y=\\\"0\\\" class=\\\"dark-square\\\" height=\\\"1\\\" width=\\\"1\\\"></rect><image x=\\\"3\\\" xlink:href=\\\"https://raw.githubusercontent.com/romstad/Chess.jl/master/img/bq.svg\\\" y=\\\"0\\\" height=\\\"1\\\" width=\\\"1\\\"></image></g><g><rect x=\\\"3\\\" y=\\\"1\\\" class=\\\"light-square\\\" height=\\\"1\\\" width=\\\"1\\\"></rect><image x=\\\"3\\\" xlink:href=\\\"https://raw.githubusercontent.com/romstad/Chess.jl/master/img/bp.svg\\\" y=\\\"1\\\" height=\\\"1\\\" width=\\\"1\\\"></image></g><g><rect x=\\\"3\\\" y=\\\"2\\\" class=\\\"dark-square\\\" height=\\\"1\\\" width=\\\"1\\\"></rect><g></g></g><g><rect x=\\\"3\\\" y=\\\"3\\\" class=\\\"light-square\\\" height=\\\"1\\\" width=\\\"1\\\"></rect><image x=\\\"3\\\" xlink:href=\\\"https://raw.githubusercontent.com/romstad/Chess.jl/master/img/wp.svg\\\" y=\\\"3\\\" height=\\\"1\\\" width=\\\"1\\\"></image></g><g><rect x=\\\"3\\\" y=\\\"4\\\" class=\\\"dark-square\\\" height=\\\"1\\\" width=\\\"1\\\"></rect><g></g></g><g><rect x=\\\"3\\\" y=\\\"5\\\" class=\\\"light-square\\\" height=\\\"1\\\" width=\\\"1\\\"></rect><g></g></g><g><rect x=\\\"3\\\" y=\\\"6\\\" class=\\\"dark-square\\\" height=\\\"1\\\" width=\\\"1\\\"></rect><g></g></g><g><rect x=\\\"3\\\" y=\\\"7\\\" class=\\\"light-square\\\" height=\\\"1\\\" width=\\\"1\\\"></rect><image x=\\\"3\\\" xlink:href=\\\"https://raw.githubusercontent.com/romstad/Chess.jl/master/img/wq.svg\\\" y=\\\"7\\\" height=\\\"1\\\" width=\\\"1\\\"></image></g><g><rect x=\\\"4\\\" y=\\\"0\\\" class=\\\"light-square\\\" height=\\\"1\\\" width=\\\"1\\\"></rect><image x=\\\"4\\\" xlink:href=\\\"https://raw.githubusercontent.com/romstad/Chess.jl/master/img/bk.svg\\\" y=\\\"0\\\" height=\\\"1\\\" width=\\\"1\\\"></image></g><g><rect x=\\\"4\\\" y=\\\"1\\\" class=\\\"dark-square\\\" height=\\\"1\\\" width=\\\"1\\\"></rect><g></g></g><g><rect x=\\\"4\\\" y=\\\"2\\\" class=\\\"light-square\\\" height=\\\"1\\\" width=\\\"1\\\"></rect><g></g></g><g><rect x=\\\"4\\\" y=\\\"3\\\" class=\\\"dark-square\\\" height=\\\"1\\\" width=\\\"1\\\"></rect><g></g></g><g><rect x=\\\"4\\\" y=\\\"4\\\" class=\\\"light-square\\\" height=\\\"1\\\" width=\\\"1\\\"></rect><g></g></g><g><rect x=\\\"4\\\" y=\\\"5\\\" class=\\\"dark-square\\\" height=\\\"1\\\" width=\\\"1\\\"></rect><g></g></g><g><rect x=\\\"4\\\" y=\\\"6\\\" class=\\\"light-square\\\" height=\\\"1\\\" width=\\\"1\\\"></rect><g></g></g><g><rect x=\\\"4\\\" y=\\\"7\\\" class=\\\"dark-square\\\" height=\\\"1\\\" width=\\\"1\\\"></rect><image x=\\\"4\\\" xlink:href=\\\"https://raw.githubusercontent.com/romstad/Chess.jl/master/img/wk.svg\\\" y=\\\"7\\\" height=\\\"1\\\" width=\\\"1\\\"></image></g><g><rect x=\\\"5\\\" y=\\\"0\\\" class=\\\"dark-square\\\" height=\\\"1\\\" width=\\\"1\\\"></rect><g></g></g><g><rect x=\\\"5\\\" y=\\\"1\\\" class=\\\"light-square\\\" height=\\\"1\\\" width=\\\"1\\\"></rect><image x=\\\"5\\\" xlink:href=\\\"https://raw.githubusercontent.com/romstad/Chess.jl/master/img/bp.svg\\\" y=\\\"1\\\" height=\\\"1\\\" width=\\\"1\\\"></image></g><g><rect x=\\\"5\\\" y=\\\"2\\\" class=\\\"dark-square\\\" height=\\\"1\\\" width=\\\"1\\\"></rect><g></g></g><g><rect x=\\\"5\\\" y=\\\"3\\\" class=\\\"light-square\\\" height=\\\"1\\\" width=\\\"1\\\"></rect><g></g></g><g><rect x=\\\"5\\\" y=\\\"4\\\" class=\\\"dark-square\\\" height=\\\"1\\\" width=\\\"1\\\"></rect><g></g></g><g><rect x=\\\"5\\\" y=\\\"5\\\" class=\\\"light-square\\\" height=\\\"1\\\" width=\\\"1\\\"></rect><g></g></g><g><rect x=\\\"5\\\" y=\\\"6\\\" class=\\\"dark-square\\\" height=\\\"1\\\" width=\\\"1\\\"></rect><image x=\\\"5\\\" xlink:href=\\\"https://raw.githubusercontent.com/romstad/Chess.jl/master/img/wp.svg\\\" y=\\\"6\\\" height=\\\"1\\\" width=\\\"1\\\"></image></g><g><rect x=\\\"5\\\" y=\\\"7\\\" class=\\\"light-square\\\" height=\\\"1\\\" width=\\\"1\\\"></rect><image x=\\\"5\\\" xlink:href=\\\"https://raw.githubusercontent.com/romstad/Chess.jl/master/img/wb.svg\\\" y=\\\"7\\\" height=\\\"1\\\" width=\\\"1\\\"></image></g><g><rect x=\\\"6\\\" y=\\\"0\\\" class=\\\"light-square\\\" height=\\\"1\\\" width=\\\"1\\\"></rect><image x=\\\"6\\\" xlink:href=\\\"https://raw.githubusercontent.com/romstad/Chess.jl/master/img/bn.svg\\\" y=\\\"0\\\" height=\\\"1\\\" width=\\\"1\\\"></image></g><g><rect x=\\\"6\\\" y=\\\"1\\\" class=\\\"dark-square\\\" height=\\\"1\\\" width=\\\"1\\\"></rect><image x=\\\"6\\\" xlink:href=\\\"https://raw.githubusercontent.com/romstad/Chess.jl/master/img/bp.svg\\\" y=\\\"1\\\" height=\\\"1\\\" width=\\\"1\\\"></image></g><g><rect x=\\\"6\\\" y=\\\"2\\\" class=\\\"light-square\\\" height=\\\"1\\\" width=\\\"1\\\"></rect><g></g></g><g><rect x=\\\"6\\\" y=\\\"3\\\" class=\\\"dark-square\\\" height=\\\"1\\\" width=\\\"1\\\"></rect><g></g></g><g><rect x=\\\"6\\\" y=\\\"4\\\" class=\\\"light-square\\\" height=\\\"1\\\" width=\\\"1\\\"></rect><g></g></g><g><rect x=\\\"6\\\" y=\\\"5\\\" class=\\\"dark-square\\\" height=\\\"1\\\" width=\\\"1\\\"></rect><g></g></g><g><rect x=\\\"6\\\" y=\\\"6\\\" class=\\\"light-square\\\" height=\\\"1\\\" width=\\\"1\\\"></rect><image x=\\\"6\\\" xlink:href=\\\"https://raw.githubusercontent.com/romstad/Chess.jl/master/img/wp.svg\\\" y=\\\"6\\\" height=\\\"1\\\" width=\\\"1\\\"></image></g><g><rect x=\\\"6\\\" y=\\\"7\\\" class=\\\"dark-square\\\" height=\\\"1\\\" width=\\\"1\\\"></rect><image x=\\\"6\\\" xlink:href=\\\"https://raw.githubusercontent.com/romstad/Chess.jl/master/img/wn.svg\\\" y=\\\"7\\\" height=\\\"1\\\" width=\\\"1\\\"></image></g><g><rect x=\\\"7\\\" y=\\\"0\\\" class=\\\"dark-square\\\" height=\\\"1\\\" width=\\\"1\\\"></rect><image x=\\\"7\\\" xlink:href=\\\"https://raw.githubusercontent.com/romstad/Chess.jl/master/img/br.svg\\\" y=\\\"0\\\" height=\\\"1\\\" width=\\\"1\\\"></image></g><g><rect x=\\\"7\\\" y=\\\"1\\\" class=\\\"light-square\\\" height=\\\"1\\\" width=\\\"1\\\"></rect><image x=\\\"7\\\" xlink:href=\\\"https://raw.githubusercontent.com/romstad/Chess.jl/master/img/bp.svg\\\" y=\\\"1\\\" height=\\\"1\\\" width=\\\"1\\\"></image></g><g><rect x=\\\"7\\\" y=\\\"2\\\" class=\\\"dark-square\\\" height=\\\"1\\\" width=\\\"1\\\"></rect><g></g></g><g><rect x=\\\"7\\\" y=\\\"3\\\" class=\\\"light-square\\\" height=\\\"1\\\" width=\\\"1\\\"></rect><g></g></g><g><rect x=\\\"7\\\" y=\\\"4\\\" class=\\\"dark-square\\\" height=\\\"1\\\" width=\\\"1\\\"></rect><g></g></g><g><rect x=\\\"7\\\" y=\\\"5\\\" class=\\\"light-square\\\" height=\\\"1\\\" width=\\\"1\\\"></rect><g></g></g><g><rect x=\\\"7\\\" y=\\\"6\\\" class=\\\"dark-square\\\" height=\\\"1\\\" width=\\\"1\\\"></rect><image x=\\\"7\\\" xlink:href=\\\"https://raw.githubusercontent.com/romstad/Chess.jl/master/img/wp.svg\\\" y=\\\"6\\\" height=\\\"1\\\" width=\\\"1\\\"></image></g><g><rect x=\\\"7\\\" y=\\\"7\\\" class=\\\"light-square\\\" height=\\\"1\\\" width=\\\"1\\\"></rect><image x=\\\"7\\\" xlink:href=\\\"https://raw.githubusercontent.com/romstad/Chess.jl/master/img/wr.svg\\\" y=\\\"7\\\" height=\\\"1\\\" width=\\\"1\\\"></image></g></g><g></g></svg><div><p>White to move</p><p>Castle rights: KQkq</p><p><a href=\\\"https://lichess.org/editor/r1bqk1nr/pppp1ppp/2n5/3P4/1b6/8/PPP2PPP/RNBQKBNR_w_KQkq_-\\\" target=\\\"_blank\\\">Open in lichess</a></p></div></div>\")"
      ]
     },
     "metadata": {},
     "output_type": "display_data"
    },
    {
     "name": "stdout",
     "output_type": "stream",
     "text": [
      "Last Move: (Move(f8b4), -105, \"depth = 5\")\n",
      "Killed worker 14 after 7.1152188 seconds\n",
      "Spawned new worker 15 in 12.7748857 seconds\n",
      "stdin> exit\n",
      "Saved game to games/2023-05-27T18-33-31.257.pgn\n",
      "WHITE resigned, BLACK wins\n"
     ]
    },
    {
     "data": {
      "text/plain": [
       "BlackWin::GameResult = 1"
      ]
     },
     "execution_count": 12,
     "metadata": {},
     "output_type": "execute_result"
    }
   ],
   "source": [
    "play(black = IterativeDeepening(ABMemoAllAI, 10, 7.0, \"\"\"\n",
    "    using NBInclude\n",
    "    @nbinclude \"3.1 - Evaluation.ipynb\"\n",
    "    @nbinclude \"5.1 - Alpha-Beta-Pruning AI.ipynb\"\n",
    "\"\"\"), white = Player())"
   ]
  },
  {
   "cell_type": "markdown",
   "id": "d8dc01d8",
   "metadata": {},
   "source": [
    "***"
   ]
  }
 ],
 "metadata": {
  "kernelspec": {
   "display_name": "Julia 1.8.5",
   "language": "julia",
   "name": "julia-1.8"
  },
  "language_info": {
   "file_extension": ".jl",
   "mimetype": "application/julia",
   "name": "julia",
   "version": "1.8.5"
  }
 },
 "nbformat": 4,
 "nbformat_minor": 5
}
