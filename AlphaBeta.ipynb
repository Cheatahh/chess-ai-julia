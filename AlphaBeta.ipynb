{
 "cells": [
  {
   "cell_type": "code",
   "execution_count": 2,
   "id": "46d927f8",
   "metadata": {},
   "outputs": [],
   "source": [
    "import Chess\n",
    "using NBInclude"
   ]
  },
  {
   "cell_type": "code",
   "execution_count": 3,
   "id": "7aaea744",
   "metadata": {},
   "outputs": [
    {
     "data": {
      "text/plain": [
       "getNextMove (generic function with 4 methods)"
      ]
     },
     "execution_count": 3,
     "metadata": {},
     "output_type": "execute_result"
    }
   ],
   "source": [
    "@nbinclude \"Values.ipynb\"\n",
    "@nbinclude \"Chess.ipynb\""
   ]
  },
  {
   "cell_type": "code",
   "execution_count": 4,
   "id": "c44ad243",
   "metadata": {},
   "outputs": [
    {
     "data": {
      "text/plain": [
       "alphabetaMax (generic function with 1 method)"
      ]
     },
     "execution_count": 4,
     "metadata": {},
     "output_type": "execute_result"
    }
   ],
   "source": [
    "function alphabetaMax(extboard::ExtendedBoard, depth::Int64, α::Int32, β::Int32)::Int32\n",
    "    legalMoves = Chess.moves(extboard.board)\n",
    "    if length(legalMoves) == 0 || extboard.repetionRuleDraw\n",
    "        return evaluateTerminalPositionScore(extboard.board) - depth\n",
    "    elseif depth == 0\n",
    "        return extboard.score\n",
    "    end\n",
    "    for move ∈ legalMoves\n",
    "        undo = domove!(extboard, move)\n",
    "        value = alphabetaMin(extboard, depth - 1, α, β)\n",
    "        undomove!(extboard, undo)\n",
    "        if value > α\n",
    "            if value >= β\n",
    "                return value\n",
    "            end\n",
    "            α = value\n",
    "        end\n",
    "    end\n",
    "    Chess.recycle!(legalMoves)\n",
    "    return α\n",
    "end"
   ]
  },
  {
   "cell_type": "code",
   "execution_count": 11,
   "id": "4a638a14",
   "metadata": {},
   "outputs": [
    {
     "data": {
      "text/plain": [
       "alphabetaMin (generic function with 1 method)"
      ]
     },
     "execution_count": 11,
     "metadata": {},
     "output_type": "execute_result"
    }
   ],
   "source": [
    "function alphabetaMin(extboard::ExtendedBoard, depth::Int64, α::Int32, β::Int32)::Int32\n",
    "    legalMoves = Chess.moves(extboard.board)\n",
    "    if length(legalMoves) == 0 || extboard.repetionRuleDraw\n",
    "        return evaluateTerminalPositionScore(extboard.board) - depth\n",
    "    elseif depth == 0\n",
    "        return extboard.score\n",
    "    end\n",
    "    for move ∈ legalMoves\n",
    "        undo = domove!(extboard, move)\n",
    "        value = alphabetaMax(extboard, depth - 1, α, β)\n",
    "        undomove!(extboard, undo)\n",
    "        if value < β\n",
    "            if value <= α\n",
    "                return value\n",
    "            end\n",
    "            β = value\n",
    "        end\n",
    "    end\n",
    "    Chess.recycle!(legalMoves)\n",
    "    return β\n",
    "end"
   ]
  },
  {
   "cell_type": "code",
   "execution_count": 8,
   "id": "90191760",
   "metadata": {},
   "outputs": [
    {
     "data": {
      "text/plain": [
       "minimaxOne (generic function with 1 method)"
      ]
     },
     "execution_count": 8,
     "metadata": {},
     "output_type": "execute_result"
    }
   ],
   "source": [
    "function alphabetaOne(extboard::ExtendedBoard, depth::Int64)::Tuple{Int32, Chess.Move}\n",
    "    legalMoves = Chess.moves(extboard.board)\n",
    "    sideIsWhite = Chess.sidetomove(extboard.board) == Chess.WHITE\n",
    "    α = typemin(Int32)\n",
    "    β = typemax(Int32)\n",
    "    bestMove = legalMoves[1]\n",
    "    for move ∈ legalMoves\n",
    "        undo = domove!(extboard, move)\n",
    "        value = (sideIsWhite ? alphabetaMin : alphabetaMax)(extboard, depth - 1, α, β)\n",
    "        if sideIsWhite\n",
    "            if value > α\n",
    "                bestMove = move\n",
    "                println(\"$(α) $(β) $(bestMove)\")\n",
    "                if value >= β\n",
    "                    return value\n",
    "                end\n",
    "                α = value\n",
    "            end\n",
    "        else\n",
    "            if value < β\n",
    "                bestMove = move\n",
    "                println(\"$(α) $(β) $(bestMove)\")\n",
    "                if value <= α\n",
    "                    return value\n",
    "                end\n",
    "                β = value\n",
    "            end\n",
    "        end\n",
    "        undomove!(extboard, undo)\n",
    "    end\n",
    "    return (sideIsWhite ? α : β), bestMove\n",
    "end"
   ]
  },
  {
   "cell_type": "code",
   "execution_count": 13,
   "id": "f31e3481",
   "metadata": {},
   "outputs": [
    {
     "data": {
      "text/plain": [
       "alphabetaAll (generic function with 1 method)"
      ]
     },
     "execution_count": 13,
     "metadata": {},
     "output_type": "execute_result"
    }
   ],
   "source": [
    "function alphabetaAll(extboard::ExtendedBoard, depth::Int64)::Tuple{Int32, Vector{Chess.Move}}\n",
    "    sideIsWhite = Chess.sidetomove(extboard.board) == Chess.WHITE\n",
    "    scoredMoves = Dict{Int32, Vector{Chess.Move}}()\n",
    "    pruneFunction = sideIsWhite ? alphabetaMax : alphabetaMin\n",
    "    bestScore = pruneFunction(extboard, depth, typemin(Int32), typemax(Int32))\n",
    "    pruneFunction = sideIsWhite ? alphabetaMin : alphabetaMax\n",
    "    for move ∈ Chess.moves(extboard.board)\n",
    "        undo = domove!(extboard, move)\n",
    "        score = pruneFunction(extboard, depth - 1, typemin(Int32), typemax(Int32))\n",
    "        undomove!(extboard, undo)\n",
    "        movesWithSameScore = get(scoredMoves, score, Chess.Move[])\n",
    "        push!(movesWithSameScore, move)\n",
    "        scoredMoves[score] = movesWithSameScore\n",
    "    end\n",
    "    bestScore = sideIsWhite ? typemin(Int32) : typemax(Int32)\n",
    "    for score ∈ keys(scoredMoves)\n",
    "        bestScore = (sideIsWhite ? max : min)(score, bestScore)\n",
    "    end\n",
    "    return bestScore, scoredMoves[bestScore]\n",
    "end"
   ]
  },
  {
   "cell_type": "code",
   "execution_count": 15,
   "id": "19af3024",
   "metadata": {},
   "outputs": [
    {
     "name": "stdout",
     "output_type": "stream",
     "text": [
      "  0.000105 seconds (145 allocations: 87.742 KiB)\n"
     ]
    },
    {
     "data": {
      "text/plain": [
       "(50, Chess.Move[Move(b1c3), Move(g1f3)])"
      ]
     },
     "execution_count": 15,
     "metadata": {},
     "output_type": "execute_result"
    }
   ],
   "source": [
    "@time alphabetaAll(ExtendedBoard(Chess.startboard()), 1)"
   ]
  }
 ],
 "metadata": {
  "kernelspec": {
   "display_name": "Julia 1.8.5",
   "language": "julia",
   "name": "julia-1.8"
  },
  "language_info": {
   "file_extension": ".jl",
   "mimetype": "application/julia",
   "name": "julia",
   "version": "1.8.5"
  }
 },
 "nbformat": 4,
 "nbformat_minor": 5
}
